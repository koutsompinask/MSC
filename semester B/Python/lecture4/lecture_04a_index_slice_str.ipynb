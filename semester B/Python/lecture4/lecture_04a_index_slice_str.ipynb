{
 "cells": [
  {
   "cell_type": "markdown",
   "metadata": {},
   "source": [
    "# Lecture 4a: Indexing and Slicing strings.\n",
    "\n",
    "### Note: Slicing and Indexing works on **iterable** objects.\n",
    "New words: indexing, slicing.\n",
    "\n",
    "## 1. Strings.\n",
    "[Iterable](https://docs.python.org/3/glossary.html#term-iterable), [**Immutable**](https://docs.python.org/3/glossary.html#term-immutable) Ordered sequences.  \n",
    "\n",
    "> [srt: a **text sequence** type](https://docs.python.org/3/library/stdtypes.html#textseq)  \n",
    "\n",
    "> [String Methods](https://docs.python.org/3/library/stdtypes.html#string-methods)  \n",
    "\n",
    "> [string constants module](https://docs.python.org/3/library/string.html#module-string)\n",
    "\n",
    "> Indexing  \n",
    "> Slicing.  \n",
    "> Basic functions on strings, len(), replace.  \n",
    "> Basic string methods examples.  \n",
    "> Extra.\n",
    "\n",
    "Denoted with double or single quotes: \" \" or ' '.\n",
    "Immutable: can't be changed directly \"in place\".\n",
    "Iterable, Ordered sequences, can be indexed.\n",
    "\n",
    "> [srt: text sequence type](https://docs.python.org/3/library/stdtypes.html#textseq)\n",
    "\n",
    "> [String Methods](https://docs.python.org/3/library/stdtypes.html#string-methods)\n",
    "\n",
    "> [string constants module](https://docs.python.org/3/library/string.html#module-string)\n",
    "\n",
    "----"
   ]
  },
  {
   "cell_type": "markdown",
   "metadata": {
    "id": "bYRGILLcPCVH"
   },
   "source": [
    "### 1.1 String Indexing."
   ]
  },
  {
   "cell_type": "code",
   "execution_count": 11,
   "metadata": {
    "ExecuteTime": {
     "end_time": "2025-03-20T15:01:36.456540Z",
     "start_time": "2025-03-20T15:01:36.453741Z"
    },
    "colab": {
     "base_uri": "https://localhost:8080/"
    },
    "id": "3d5x_P87Hk-e",
    "outputId": "99906156-230b-492c-f300-8f61c5e4d1b7"
   },
   "outputs": [],
   "source": [
    "# assign the string \"nikos\" to the variable onoma\n",
    "onoma = \"nikos\""
   ]
  },
  {
   "cell_type": "code",
   "execution_count": 12,
   "metadata": {
    "ExecuteTime": {
     "end_time": "2025-03-20T14:30:16.165709Z",
     "start_time": "2025-03-20T14:30:16.163315Z"
    },
    "colab": {
     "base_uri": "https://localhost:8080/"
    },
    "id": "3d5x_P87Hk-e",
    "outputId": "99906156-230b-492c-f300-8f61c5e4d1b7"
   },
   "outputs": [],
   "source": [
    "# Count Number of characters with len() function\n",
    "onoma_length = len(onoma)"
   ]
  },
  {
   "cell_type": "code",
   "execution_count": 13,
   "metadata": {
    "ExecuteTime": {
     "end_time": "2025-03-20T14:30:16.237748Z",
     "start_time": "2025-03-20T14:30:16.233874Z"
    },
    "tags": []
   },
   "outputs": [
    {
     "data": {
      "text/plain": [
       "5"
      ]
     },
     "execution_count": 13,
     "metadata": {},
     "output_type": "execute_result"
    }
   ],
   "source": [
    "onoma_length"
   ]
  },
  {
   "cell_type": "code",
   "execution_count": 14,
   "metadata": {
    "ExecuteTime": {
     "end_time": "2025-03-20T14:30:16.288046Z",
     "start_time": "2025-03-20T14:30:16.284982Z"
    },
    "colab": {
     "base_uri": "https://localhost:8080/"
    },
    "id": "7gJGAFq7ipgT",
    "outputId": "71e0d30c-0e56-44e1-80ba-0112b593a021"
   },
   "outputs": [
    {
     "data": {
      "text/plain": [
       "'n'"
      ]
     },
     "execution_count": 14,
     "metadata": {},
     "output_type": "execute_result"
    }
   ],
   "source": [
    "# indexing: use the index of ordered characters\n",
    "first_letter = onoma[0] #count from 0\n",
    "first_letter"
   ]
  },
  {
   "cell_type": "code",
   "execution_count": 15,
   "metadata": {
    "ExecuteTime": {
     "end_time": "2025-03-20T14:30:16.340028Z",
     "start_time": "2025-03-20T14:30:16.336881Z"
    }
   },
   "outputs": [
    {
     "data": {
      "text/plain": [
       "'k'"
      ]
     },
     "execution_count": 15,
     "metadata": {},
     "output_type": "execute_result"
    }
   ],
   "source": [
    "# indexing: use the index of ordered characters\n",
    "third_letter = onoma[2] #count from 0\n",
    "third_letter"
   ]
  },
  {
   "cell_type": "code",
   "execution_count": 16,
   "metadata": {
    "ExecuteTime": {
     "end_time": "2025-03-20T14:30:16.392338Z",
     "start_time": "2025-03-20T14:30:16.388615Z"
    },
    "colab": {
     "base_uri": "https://localhost:8080/"
    },
    "id": "6WoSqGuWi0Sy",
    "outputId": "d7d7e166-85a9-4aed-cb1f-41fb2def587a"
   },
   "outputs": [
    {
     "data": {
      "text/plain": [
       "'k'"
      ]
     },
     "execution_count": 16,
     "metadata": {},
     "output_type": "execute_result"
    }
   ],
   "source": [
    "# indexing counts backwards too\n",
    "third_from_end = onoma[-3]\n",
    "third_from_end "
   ]
  },
  {
   "cell_type": "code",
   "execution_count": 17,
   "metadata": {
    "ExecuteTime": {
     "end_time": "2025-03-20T14:30:16.444293Z",
     "start_time": "2025-03-20T14:30:16.440415Z"
    },
    "colab": {
     "base_uri": "https://localhost:8080/"
    },
    "id": "6WoSqGuWi0Sy",
    "outputId": "d7d7e166-85a9-4aed-cb1f-41fb2def587a"
   },
   "outputs": [
    {
     "data": {
      "text/plain": [
       "'s'"
      ]
     },
     "execution_count": 17,
     "metadata": {},
     "output_type": "execute_result"
    }
   ],
   "source": [
    "last_letter = onoma[-1] #reverse count from -1\n",
    "\n",
    "last_letter"
   ]
  },
  {
   "cell_type": "markdown",
   "metadata": {
    "id": "-Lz4Z6jrHhw_"
   },
   "source": [
    "### 1.2 String Slicing."
   ]
  },
  {
   "cell_type": "code",
   "execution_count": 18,
   "metadata": {
    "ExecuteTime": {
     "end_time": "2025-03-20T14:30:16.498834Z",
     "start_time": "2025-03-20T14:30:16.495067Z"
    },
    "colab": {
     "base_uri": "https://localhost:8080/"
    },
    "id": "ivjc1J8jI2En",
    "outputId": "ef48c4a2-d8cf-4681-ac20-1cb30b6785c8"
   },
   "outputs": [
    {
     "data": {
      "text/plain": [
       "'nik'"
      ]
     },
     "execution_count": 18,
     "metadata": {},
     "output_type": "execute_result"
    }
   ],
   "source": [
    "onoma = 'nikos'\n",
    "\n",
    "# Slicing parts of strings\n",
    "# start index can be omitted if start from 0\n",
    "\n",
    "first_three = onoma[0:3]  # first_three = onoma[:3] works to\n",
    "first_three\n"
   ]
  },
  {
   "cell_type": "code",
   "execution_count": 19,
   "metadata": {
    "ExecuteTime": {
     "end_time": "2025-03-20T14:30:16.551937Z",
     "start_time": "2025-03-20T14:30:16.548234Z"
    }
   },
   "outputs": [
    {
     "data": {
      "text/plain": [
       "'nik'"
      ]
     },
     "execution_count": 19,
     "metadata": {},
     "output_type": "execute_result"
    }
   ],
   "source": [
    "first_three = onoma[:3]  # the first index is not necessary. It is 0 by default.\n",
    "first_three"
   ]
  },
  {
   "cell_type": "markdown",
   "metadata": {
    "colab": {
     "base_uri": "https://localhost:8080/"
    },
    "id": "MB42tfg1i5zL",
    "outputId": "fea8f9de-dbb6-4fae-9c81-58fa1ce2498f"
   },
   "source": [
    "#### NOTE: Slicing DOES NOT include the last index (Not inclusive operation)."
   ]
  },
  {
   "cell_type": "code",
   "execution_count": 20,
   "metadata": {
    "ExecuteTime": {
     "end_time": "2025-03-20T14:30:16.608999Z",
     "start_time": "2025-03-20T14:30:16.605335Z"
    },
    "colab": {
     "base_uri": "https://localhost:8080/"
    },
    "id": "MB42tfg1i5zL",
    "outputId": "fea8f9de-dbb6-4fae-9c81-58fa1ce2498f"
   },
   "outputs": [
    {
     "data": {
      "text/plain": [
       "'ik'"
      ]
     },
     "execution_count": 20,
     "metadata": {},
     "output_type": "execute_result"
    }
   ],
   "source": [
    "onoma_2nd_and_3rd = onoma[1:3] #letters index 0, 1, 2\n",
    "# onoma_2nd_and_3rd = onoma[-7:-5] #same as above\n",
    "\n",
    "onoma_2nd_and_3rd\n",
    "\n",
    "#print('type of a slice = string:')\n",
    "#print(type(onoma_2nd_and_3rd), '\\n')"
   ]
  },
  {
   "cell_type": "code",
   "execution_count": 21,
   "metadata": {
    "ExecuteTime": {
     "end_time": "2025-03-20T14:30:16.660628Z",
     "start_time": "2025-03-20T14:30:16.656899Z"
    },
    "colab": {
     "base_uri": "https://localhost:8080/"
    },
    "id": "WklOYb2Fi_G6",
    "outputId": "6705f5c3-8798-426e-9601-774d34ea130b"
   },
   "outputs": [
    {
     "data": {
      "text/plain": [
       "'os'"
      ]
     },
     "execution_count": 21,
     "metadata": {},
     "output_type": "execute_result"
    }
   ],
   "source": [
    "# slice from character -2 to the end\n",
    "last_two = onoma[-2:] # or onoma[-2:len(onoma)]\n",
    "\n",
    "last_two"
   ]
  },
  {
   "cell_type": "code",
   "execution_count": 22,
   "metadata": {
    "ExecuteTime": {
     "end_time": "2025-03-20T14:30:16.730504Z",
     "start_time": "2025-03-20T14:30:16.726798Z"
    },
    "colab": {
     "base_uri": "https://localhost:8080/"
    },
    "id": "ZMl69pHxnPdJ",
    "outputId": "9e8991ba-1cb0-4b66-d53e-c94ab55bf672"
   },
   "outputs": [
    {
     "data": {
      "text/plain": [
       "'nok'"
      ]
     },
     "execution_count": 22,
     "metadata": {},
     "output_type": "execute_result"
    }
   ],
   "source": [
    "# Slice with steps by 3\n",
    "onoma = 'nikolakis'\n",
    "\n",
    "odd_letters = onoma[: :3]  # Start from 0, go to the end, step by 3.\n",
    "\n",
    "odd_letters"
   ]
  },
  {
   "cell_type": "code",
   "execution_count": 23,
   "metadata": {
    "ExecuteTime": {
     "end_time": "2025-03-20T14:30:16.783223Z",
     "start_time": "2025-03-20T14:30:16.780341Z"
    }
   },
   "outputs": [
    {
     "data": {
      "text/plain": [
       "9"
      ]
     },
     "execution_count": 23,
     "metadata": {},
     "output_type": "execute_result"
    }
   ],
   "source": [
    "len(onoma)"
   ]
  },
  {
   "cell_type": "code",
   "execution_count": 24,
   "metadata": {
    "ExecuteTime": {
     "end_time": "2025-03-20T14:30:16.834150Z",
     "start_time": "2025-03-20T14:30:16.831736Z"
    },
    "id": "4ZNvjQKQkaIy"
   },
   "outputs": [],
   "source": [
    "## Uncomment to see the IndexError 'out of range' message\n",
    "## IndexError: string index out of range\n",
    "# onoma[9]\n",
    "\n",
    "# onoma[-9]\n",
    "## Indexing always < len(string)"
   ]
  },
  {
   "cell_type": "code",
   "execution_count": 25,
   "metadata": {
    "ExecuteTime": {
     "end_time": "2025-03-20T14:30:16.885105Z",
     "start_time": "2025-03-20T14:30:16.880749Z"
    },
    "colab": {
     "base_uri": "https://localhost:8080/"
    },
    "id": "zwxLlAQbkvx6",
    "outputId": "4d800e71-18f1-4fb4-cd91-48bec0012d39"
   },
   "outputs": [
    {
     "data": {
      "text/plain": [
       "'il'"
      ]
     },
     "execution_count": 25,
     "metadata": {},
     "output_type": "execute_result"
    }
   ],
   "source": [
    "# using indices to concatenate --> new string\n",
    "second_and_fifth = onoma[1] + onoma[4]  # Note the indexes. Second letter and fifth letter.\n",
    "\n",
    "second_and_fifth"
   ]
  },
  {
   "cell_type": "code",
   "execution_count": 26,
   "metadata": {
    "ExecuteTime": {
     "end_time": "2025-03-20T14:30:16.936182Z",
     "start_time": "2025-03-20T14:30:16.933313Z"
    },
    "colab": {
     "base_uri": "https://localhost:8080/"
    },
    "id": "R8L1QAvzkywi",
    "outputId": "0973af49-93e9-4a13-8127-4b2d28fdb87f"
   },
   "outputs": [
    {
     "name": "stdout",
     "output_type": "stream",
     "text": [
      "To get digits convert numbers to strings. 3rd digit of 4194 is 9\n"
     ]
    }
   ],
   "source": [
    "# Integers or floats cannot be sliced, first convert to strings\n",
    "int_number = 4194\n",
    "int_number_3rd_digit = str(int_number)[2]\n",
    "\n",
    "print(f'To get digits convert numbers to strings. \\\n",
    "3rd digit of {int_number} is {int_number_3rd_digit}')"
   ]
  },
  {
   "cell_type": "code",
   "execution_count": 27,
   "metadata": {
    "ExecuteTime": {
     "end_time": "2025-03-20T14:30:16.991171Z",
     "start_time": "2025-03-20T14:30:16.988182Z"
    },
    "colab": {
     "base_uri": "https://localhost:8080/"
    },
    "id": "6x2E88IFk1rh",
    "outputId": "9c1b66b0-32ce-4253-89f9-b58e803f685a"
   },
   "outputs": [
    {
     "name": "stdout",
     "output_type": "stream",
     "text": [
      "Uncomment line below, and run 4194[2] to see the \"TypeError\" message\n"
     ]
    }
   ],
   "source": [
    "print('Uncomment line below, and run 4194[2] to see the \"TypeError\" message')\n",
    "## TypeError  int' object is not subscriptable\n",
    "# int_number[2]"
   ]
  },
  {
   "cell_type": "markdown",
   "metadata": {
    "id": "bzeK9b51Izce"
   },
   "source": [
    "### 1.3 String Functions and methods. Operations on objects means a lot more than math.\n",
    "> Functions on strings: len(), int(\"4\").   \n",
    "> Basic string [methods](https://docs.python.org/3/library/stdtypes.html#string-methods).  \n",
    "> String Methods syntax uses string name and dot.    \n",
    "\n",
    "replace('x', 'y') # replace x with y.  \n",
    "count('x') # count occurences of x in string.   \n",
    "find('x') # find position index of the 1st occurence of x.  \n",
    "partition() # split once.   \n",
    "rpartition() # split once from end.  \n",
    "split() # split using defined delimiter.  \n",
    "rsplit() # split from end.  \n",
    "strip() # Strip characters from left & right end of string.  \n",
    "capitalize() # 1st character to uppercase, all others to lowercase.  \n",
    "lower() # all to lowercase.  \n",
    "upper() # all to uppercase.  \n",
    "title() # capitalise the first letter of each word.  \n",
    "swapcase() # Guess what it does. Please do try this at home.\n",
    "\n",
    "#### Today, at this point we write a surprise test to evaluate how boring I have been so far.\n",
    "Don't worry, it is not graded for you. It is an evaluation of me."
   ]
  },
  {
   "cell_type": "code",
   "execution_count": 28,
   "metadata": {
    "ExecuteTime": {
     "end_time": "2025-03-20T14:30:17.044706Z",
     "start_time": "2025-03-20T14:30:17.040999Z"
    },
    "id": "tg5CziTj7hne"
   },
   "outputs": [],
   "source": [
    "what_students_want = \"test please\""
   ]
  },
  {
   "cell_type": "code",
   "execution_count": 29,
   "metadata": {
    "ExecuteTime": {
     "end_time": "2025-03-20T14:30:17.095425Z",
     "start_time": "2025-03-20T14:30:17.091932Z"
    },
    "tags": []
   },
   "outputs": [
    {
     "data": {
      "text/plain": [
       "'test please'"
      ]
     },
     "execution_count": 29,
     "metadata": {},
     "output_type": "execute_result"
    }
   ],
   "source": [
    "what_students_want"
   ]
  },
  {
   "cell_type": "code",
   "execution_count": 30,
   "metadata": {
    "ExecuteTime": {
     "end_time": "2025-03-20T14:30:17.145743Z",
     "start_time": "2025-03-20T14:30:17.143685Z"
    }
   },
   "outputs": [],
   "source": [
    "## ipynb syntax to get help for a method\n",
    "# str.replace?"
   ]
  },
  {
   "cell_type": "code",
   "execution_count": 31,
   "metadata": {
    "ExecuteTime": {
     "end_time": "2025-03-20T14:30:17.195779Z",
     "start_time": "2025-03-20T14:30:17.192625Z"
    },
    "colab": {
     "base_uri": "https://localhost:8080/",
     "height": 36
    },
    "id": "26i7L07wKOgW",
    "outputId": "a0f4dba3-afa1-42e5-b6cc-c979820a8495"
   },
   "outputs": [
    {
     "data": {
      "text/plain": [
       "'No tesNo t please'"
      ]
     },
     "execution_count": 31,
     "metadata": {},
     "output_type": "execute_result"
    }
   ],
   "source": [
    "# replace all occurences by default, as many times some text exists.\n",
    "what_students_want.replace(\"t\", \"No t\")"
   ]
  },
  {
   "cell_type": "code",
   "execution_count": 32,
   "metadata": {
    "ExecuteTime": {
     "end_time": "2025-03-20T14:30:17.248684Z",
     "start_time": "2025-03-20T14:30:17.244988Z"
    },
    "colab": {
     "base_uri": "https://localhost:8080/",
     "height": 36
    },
    "id": "KucqHOUEKMdW",
    "outputId": "be05785f-96fc-4b45-e45c-a84d1ddb86bc"
   },
   "outputs": [
    {
     "data": {
      "text/plain": [
       "'No test please'"
      ]
     },
     "execution_count": 32,
     "metadata": {},
     "output_type": "execute_result"
    }
   ],
   "source": [
    "# use string as arguments\n",
    "what_students_want.replace(\"t\", \"No t\", 1)  # does not work Inplace without assignment"
   ]
  },
  {
   "cell_type": "markdown",
   "metadata": {},
   "source": [
    "#### Note: To replace or not to replace? No Assignment => Frequent error!"
   ]
  },
  {
   "cell_type": "code",
   "execution_count": 33,
   "metadata": {
    "ExecuteTime": {
     "end_time": "2025-03-20T14:30:17.301188Z",
     "start_time": "2025-03-20T14:30:17.297622Z"
    },
    "colab": {
     "base_uri": "https://localhost:8080/",
     "height": 36
    },
    "id": "VH3Xub4IKRj-",
    "outputId": "480bb1e5-a208-4b29-fa85-c5e7aa6cf9f0"
   },
   "outputs": [
    {
     "data": {
      "text/plain": [
       "'test please'"
      ]
     },
     "execution_count": 33,
     "metadata": {},
     "output_type": "execute_result"
    }
   ],
   "source": [
    "what_students_want"
   ]
  },
  {
   "cell_type": "code",
   "execution_count": 34,
   "metadata": {
    "ExecuteTime": {
     "end_time": "2025-03-20T14:30:17.352812Z",
     "start_time": "2025-03-20T14:30:17.349Z"
    }
   },
   "outputs": [
    {
     "data": {
      "text/plain": [
       "11"
      ]
     },
     "execution_count": 34,
     "metadata": {},
     "output_type": "execute_result"
    }
   ],
   "source": [
    "len(what_students_want)"
   ]
  },
  {
   "cell_type": "code",
   "execution_count": 35,
   "metadata": {
    "ExecuteTime": {
     "end_time": "2025-03-20T14:30:17.405737Z",
     "start_time": "2025-03-20T14:30:17.402839Z"
    },
    "colab": {
     "base_uri": "https://localhost:8080/",
     "height": 36
    },
    "id": "XyR-TuoEKsvO",
    "outputId": "0cf5938f-7b3a-453b-ccc5-6d6492baedf0"
   },
   "outputs": [],
   "source": [
    "# this is an assignment\n",
    "what_students_want = what_students_want.replace(\"t\", \"No t\", 1)"
   ]
  },
  {
   "cell_type": "code",
   "execution_count": 36,
   "metadata": {
    "ExecuteTime": {
     "end_time": "2025-03-20T14:30:17.459185Z",
     "start_time": "2025-03-20T14:30:17.455649Z"
    },
    "colab": {
     "base_uri": "https://localhost:8080/",
     "height": 36
    },
    "id": "XyR-TuoEKsvO",
    "outputId": "0cf5938f-7b3a-453b-ccc5-6d6492baedf0"
   },
   "outputs": [
    {
     "data": {
      "text/plain": [
       "'No test please'"
      ]
     },
     "execution_count": 36,
     "metadata": {},
     "output_type": "execute_result"
    }
   ],
   "source": [
    "what_students_want"
   ]
  },
  {
   "cell_type": "code",
   "execution_count": 37,
   "metadata": {
    "ExecuteTime": {
     "end_time": "2025-03-20T15:05:07.326387Z",
     "start_time": "2025-03-20T15:05:07.321017Z"
    }
   },
   "outputs": [
    {
     "data": {
      "text/plain": [
       "'No ttttestttt please'"
      ]
     },
     "execution_count": 37,
     "metadata": {},
     "output_type": "execute_result"
    }
   ],
   "source": [
    "# This is just a view of what the method does on the object value\n",
    "# replace t with four t's for the first 2 occurences\n",
    "what_students_want.replace(\"t\", \"tttt\", 2)"
   ]
  },
  {
   "cell_type": "code",
   "execution_count": 38,
   "metadata": {
    "ExecuteTime": {
     "end_time": "2025-03-20T15:02:53.375008Z",
     "start_time": "2025-03-20T15:02:53.369972Z"
    },
    "tags": []
   },
   "outputs": [
    {
     "data": {
      "text/plain": [
       "'No test please'"
      ]
     },
     "execution_count": 38,
     "metadata": {},
     "output_type": "execute_result"
    }
   ],
   "source": [
    "# This is just a view of what the method does on the object value\n",
    "what_students_want"
   ]
  },
  {
   "cell_type": "code",
   "execution_count": 39,
   "metadata": {
    "ExecuteTime": {
     "end_time": "2025-03-20T14:30:17.617241Z",
     "start_time": "2025-03-20T14:30:17.613644Z"
    }
   },
   "outputs": [
    {
     "data": {
      "text/plain": [
       "14"
      ]
     },
     "execution_count": 39,
     "metadata": {},
     "output_type": "execute_result"
    }
   ],
   "source": [
    "len(what_students_want)"
   ]
  },
  {
   "cell_type": "code",
   "execution_count": 40,
   "metadata": {
    "ExecuteTime": {
     "end_time": "2025-03-20T15:05:53.947917Z",
     "start_time": "2025-03-20T15:05:53.942909Z"
    },
    "tags": []
   },
   "outputs": [
    {
     "data": {
      "text/plain": [
       "'No resr please'"
      ]
     },
     "execution_count": 40,
     "metadata": {},
     "output_type": "execute_result"
    }
   ],
   "source": [
    "# replace all occurences by default, as many times as the character exists in the string.\n",
    "what_students_want.replace(\"t\", \"r\")"
   ]
  },
  {
   "cell_type": "code",
   "execution_count": 41,
   "metadata": {
    "ExecuteTime": {
     "end_time": "2025-03-20T14:30:17.725356Z",
     "start_time": "2025-03-20T14:30:17.721533Z"
    },
    "tags": []
   },
   "outputs": [
    {
     "data": {
      "text/plain": [
       "'No rest please'"
      ]
     },
     "execution_count": 41,
     "metadata": {},
     "output_type": "execute_result"
    }
   ],
   "source": [
    "# replace only a specific number of occurences.\n",
    "what_students_want.replace(\"t\", \"r\", 1)"
   ]
  },
  {
   "cell_type": "code",
   "execution_count": 42,
   "metadata": {
    "ExecuteTime": {
     "end_time": "2025-03-20T15:06:15.211100Z",
     "start_time": "2025-03-20T15:06:15.206214Z"
    }
   },
   "outputs": [
    {
     "data": {
      "text/plain": [
       "'No rest please'"
      ]
     },
     "execution_count": 42,
     "metadata": {},
     "output_type": "execute_result"
    }
   ],
   "source": [
    "what_students_want = what_students_want.replace(\"t\", \"r\", 1)\n",
    "what_students_want"
   ]
  }
 ],
 "metadata": {
  "colab": {
   "collapsed_sections": [],
   "name": "lecture_c.ipynb",
   "provenance": []
  },
  "kernelspec": {
   "display_name": ".venv",
   "language": "python",
   "name": "python3"
  },
  "language_info": {
   "codemirror_mode": {
    "name": "ipython",
    "version": 3
   },
   "file_extension": ".py",
   "mimetype": "text/x-python",
   "name": "python",
   "nbconvert_exporter": "python",
   "pygments_lexer": "ipython3",
   "version": "3.12.9"
  }
 },
 "nbformat": 4,
 "nbformat_minor": 4
}
