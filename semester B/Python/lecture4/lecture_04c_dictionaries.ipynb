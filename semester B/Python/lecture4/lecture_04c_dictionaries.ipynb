{
 "cells": [
  {
   "cell_type": "markdown",
   "id": "colored-anthropology",
   "metadata": {},
   "source": [
    "# Lecture 04b: Dictionaries.\n",
    "\n",
    "\n",
    "Used for storing unordered key-value pairs. **Mutable** data container.   \n",
    "Usage:  \n",
    "When a unique \"name\" (eg index or ID) has to be **associated** with some constant, or changing \"values\".\n",
    "\n",
    "> [Dicts are a built-in \"Mapping\" data type.](https://docs.python.org/3/tutorial/datastructures.html#dictionaries)  \n",
    "> Create dictionary, dict() constructor and other syntax.    \n",
    "> [Dictionary methods](https://docs.python.org/3/library/stdtypes.html#typesmapping)  \n",
    "\n",
    "Denoted with ```{ }```. These characters are called \"braces\".  \n",
    "Iterable, Mutable.  \n",
    "```{key: value}``` pairs. Standard syntax uses `:` to separate a key from its values.   \n",
    "\n",
    "\n",
    "Dictionaries are like a data table without numeric index.  \n",
    "A basic example of indexing by a \"name\" which is called \"key\".\n",
    "\n",
    "Unordered does not mean random order.  \n",
    "> Keys and values are listed in an arbitrary order which is non-random. Order **varies across Python vesions**.   \n",
    "Order depends on the dictionary’s history of insertions and deletions.  \n",
    "\n",
    "**Mind the data type of keys and of valeus**.   \n",
    "Keys require immutable data types. Such as str, int, float.    \n",
    "Keys are unique, the same key cannot appear twice in a dictionary.\n",
    "\n",
    "## 1. Create a dictionary. Various ways, flexibility for different available data."
   ]
  },
  {
   "cell_type": "code",
   "execution_count": 1,
   "id": "revised-damage",
   "metadata": {
    "ExecuteTime": {
     "end_time": "2025-03-20T16:05:25.654519Z",
     "start_time": "2025-03-20T16:05:25.651548Z"
    }
   },
   "outputs": [],
   "source": [
    "# help(dict)"
   ]
  },
  {
   "cell_type": "code",
   "execution_count": 2,
   "id": "latest-prayer",
   "metadata": {
    "ExecuteTime": {
     "end_time": "2025-03-20T16:05:25.699953Z",
     "start_time": "2025-03-20T16:05:25.697999Z"
    }
   },
   "outputs": [],
   "source": [
    "# dict?"
   ]
  },
  {
   "cell_type": "code",
   "execution_count": 3,
   "id": "compound-township",
   "metadata": {
    "ExecuteTime": {
     "end_time": "2025-03-20T16:05:25.776081Z",
     "start_time": "2025-03-20T16:05:25.772676Z"
    }
   },
   "outputs": [
    {
     "data": {
      "text/plain": [
       "{}"
      ]
     },
     "execution_count": 3,
     "metadata": {},
     "output_type": "execute_result"
    }
   ],
   "source": [
    "empty_dict = {}\n",
    "\n",
    "empty_dict"
   ]
  },
  {
   "cell_type": "code",
   "execution_count": 4,
   "id": "political-duration",
   "metadata": {
    "ExecuteTime": {
     "end_time": "2025-03-20T16:05:25.828843Z",
     "start_time": "2025-03-20T16:05:25.824809Z"
    }
   },
   "outputs": [
    {
     "data": {
      "text/plain": [
       "dict"
      ]
     },
     "execution_count": 4,
     "metadata": {},
     "output_type": "execute_result"
    }
   ],
   "source": [
    "type(empty_dict)"
   ]
  },
  {
   "cell_type": "code",
   "execution_count": 5,
   "id": "56bf0b41-d5c4-47a8-96a4-6ff95b0ff916",
   "metadata": {
    "ExecuteTime": {
     "end_time": "2025-03-20T16:05:25.879401Z",
     "start_time": "2025-03-20T16:05:25.876815Z"
    },
    "tags": []
   },
   "outputs": [],
   "source": [
    "dictionary_example = {'one': 1, 'two': 2, 'three': 3}"
   ]
  },
  {
   "cell_type": "markdown",
   "id": "ded01aa5-f8b4-4f05-b590-691f60c1b5ff",
   "metadata": {},
   "source": [
    "#### When the keys are simple strings, it is sometimes easier to specify pairs using keyword arguments in the dict function.  "
   ]
  },
  {
   "cell_type": "code",
   "execution_count": 6,
   "id": "major-cliff",
   "metadata": {
    "ExecuteTime": {
     "end_time": "2025-03-20T16:05:25.937391Z",
     "start_time": "2025-03-20T16:05:25.932595Z"
    }
   },
   "outputs": [
    {
     "data": {
      "text/plain": [
       "{'one': 1, 'two': 2, 'three': 3}"
      ]
     },
     "execution_count": 6,
     "metadata": {},
     "output_type": "execute_result"
    }
   ],
   "source": [
    "# keys are interpreted as strings. Can you understand why?  \n",
    "dict_a = dict(one=1, two=2, three=3)  # dict() and assign key=value.\n",
    "dict_a"
   ]
  },
  {
   "cell_type": "code",
   "execution_count": 7,
   "id": "introductory-moral",
   "metadata": {
    "ExecuteTime": {
     "end_time": "2025-03-20T16:05:25.993740Z",
     "start_time": "2025-03-20T16:05:25.991046Z"
    }
   },
   "outputs": [
    {
     "data": {
      "text/plain": [
       "{1: 1, 2: 2, 3: 3}"
      ]
     },
     "execution_count": 7,
     "metadata": {},
     "output_type": "execute_result"
    }
   ],
   "source": [
    "# numbers may be used as keys, altough\n",
    "dict_with_number_keys = {1: 1, 2: 2, 3: 3}\n",
    "dict_with_number_keys"
   ]
  },
  {
   "cell_type": "code",
   "execution_count": 8,
   "id": "modern-international",
   "metadata": {
    "ExecuteTime": {
     "end_time": "2025-03-20T16:05:26.038198Z",
     "start_time": "2025-03-20T16:05:26.035933Z"
    }
   },
   "outputs": [],
   "source": [
    "\n",
    "# dict_a = dict('one'=1, 'two'=2, 'three'=3)  # Show this does not work.\n",
    "\n",
    "# The reason is: Cannot assign a \"value\" to be equal to another \"value\".\n",
    "# \"one\" is a string value and 1 is a integer value.\n",
    "# \"one\" = 1  "
   ]
  },
  {
   "cell_type": "code",
   "execution_count": 9,
   "id": "1f291d18-2a7a-4c62-8a93-1422a2c2844c",
   "metadata": {
    "ExecuteTime": {
     "end_time": "2025-03-20T16:05:26.084402Z",
     "start_time": "2025-03-20T16:05:26.082439Z"
    }
   },
   "outputs": [],
   "source": [
    "# Show this does not work.\n",
    "# \"one\" = 1"
   ]
  },
  {
   "cell_type": "code",
   "execution_count": 10,
   "id": "economic-beauty",
   "metadata": {
    "ExecuteTime": {
     "end_time": "2025-03-20T16:05:26.131629Z",
     "start_time": "2025-03-20T16:05:26.129543Z"
    }
   },
   "outputs": [],
   "source": [
    "# similarly, this does not work either, inside a dict.\n",
    "#dict_with_number_keys_using_assignment = {1 = 1, 2 = 2, 3 = 3}"
   ]
  },
  {
   "cell_type": "markdown",
   "id": "f5bc6d1c-efc1-4b33-8383-2b9c77f49859",
   "metadata": {},
   "source": [
    "### Alternative syntax to create a dict."
   ]
  },
  {
   "cell_type": "code",
   "execution_count": 11,
   "id": "joint-valentine",
   "metadata": {
    "ExecuteTime": {
     "end_time": "2025-03-20T16:05:26.185714Z",
     "start_time": "2025-03-20T16:05:26.181616Z"
    }
   },
   "outputs": [
    {
     "data": {
      "text/plain": [
       "True"
      ]
     },
     "execution_count": 11,
     "metadata": {},
     "output_type": "execute_result"
    }
   ],
   "source": [
    "dict_b = {'one': 1, 'two': 2, 'three': 3}  # dict literal notation.\n",
    "\n",
    "dict_c = dict(zip(['one', 'two', 'three'], [1, 2, 3]))  # dict(), zip() functions. Combine two lists. help(zip) for more.\n",
    "\n",
    "dict_d = dict([('two', 2), ('one', 1), ('three', 3)])  # dict() and list of pairs.\n",
    "\n",
    "dict_e = dict({'three': 3, 'one': 1, 'two': 2})  # dict() and pairs.\n",
    "\n",
    "dict_f = dict({'one': 1, 'three': 3}, two=2)  # combinations\n",
    "\n",
    "\n",
    "dict_a == dict_b == dict_c == dict_d == dict_e == dict_f"
   ]
  },
  {
   "cell_type": "markdown",
   "id": "37666a95-2461-48e0-a4bc-da955488d7f0",
   "metadata": {},
   "source": [
    "### Dictionary comprehension.  \n",
    "Meaning of comprehension: make new sequencess where each element is the result of some operations applied to each member of another sequence or iterable, or to create a subsequence of those elements that satisfy a certain condition.  \n",
    "Efficient method for:  \n",
    "* creating a dict from an iterable, or  \n",
    "* transforming one dictionary into another"
   ]
  },
  {
   "cell_type": "code",
   "execution_count": 12,
   "id": "accredited-smoke",
   "metadata": {
    "ExecuteTime": {
     "end_time": "2025-03-20T16:05:26.238920Z",
     "start_time": "2025-03-20T16:05:26.234349Z"
    }
   },
   "outputs": [
    {
     "data": {
      "text/plain": [
       "{2: 4, 4: 6, 6: 8, 100: 102}"
      ]
     },
     "execution_count": 12,
     "metadata": {},
     "output_type": "execute_result"
    }
   ],
   "source": [
    "# function on all items of a tuple.\n",
    "squares_dict = {x: x+2 for x in (2, 4, 6, 100)}\n",
    "squares_dict"
   ]
  },
  {
   "cell_type": "code",
   "execution_count": 13,
   "id": "united-naples",
   "metadata": {
    "ExecuteTime": {
     "end_time": "2025-03-20T16:05:26.292372Z",
     "start_time": "2025-03-20T16:05:26.288077Z"
    }
   },
   "outputs": [
    {
     "data": {
      "text/plain": [
       "{'jack': [4098, 4], 'jill': [4139, 8], 'jane': [4333, 3]}"
      ]
     },
     "execution_count": 13,
     "metadata": {},
     "output_type": "execute_result"
    }
   ],
   "source": [
    "# Values may be a lists. E.g tel_numbers_dict_numbers_dictnubmer and office number\n",
    "dict_with_lists = {'jack': [4098, 4], 'jill': [4139, 8], 'jane': [4333, 3]}\n",
    "dict_with_lists"
   ]
  },
  {
   "cell_type": "markdown",
   "id": "ec6babcc-abc0-4568-abc4-7da7afb17db6",
   "metadata": {},
   "source": [
    "#### Mind the formatting style below"
   ]
  },
  {
   "cell_type": "code",
   "execution_count": 14,
   "id": "19014638-2f46-4e5a-9dcb-a11455d109af",
   "metadata": {
    "ExecuteTime": {
     "end_time": "2025-03-20T16:05:26.347445Z",
     "start_time": "2025-03-20T16:05:26.342951Z"
    },
    "tags": []
   },
   "outputs": [
    {
     "data": {
      "text/plain": [
       "{'jack': {'tel_numbers_dict_num': 4098, 'office_num': 4},\n",
       " 'jill': {'tel_numbers_dict_num': 4139, 'office_num': 8},\n",
       " 'jane': {'tel_numbers_dict_num': 4333, 'office_num': 3}}"
      ]
     },
     "execution_count": 14,
     "metadata": {},
     "output_type": "execute_result"
    }
   ],
   "source": [
    "dict_with_lists_and_dict = {\n",
    "    'jack': {\"tel_numbers_dict_num\": 4098, \"office_num\": 4},\n",
    "    'jill': {\"tel_numbers_dict_num\": 4139, \"office_num\": 8},\n",
    "    'jane': {\"tel_numbers_dict_num\": 4333, \"office_num\": 3},\n",
    "}\n",
    "\n",
    "dict_with_lists_and_dict"
   ]
  },
  {
   "cell_type": "markdown",
   "id": "confused-projector",
   "metadata": {},
   "source": [
    "## 2. Access, inspect dictionary: items, keys, values."
   ]
  },
  {
   "cell_type": "code",
   "execution_count": 15,
   "id": "subsequent-guest",
   "metadata": {
    "ExecuteTime": {
     "end_time": "2025-03-20T16:05:26.403837Z",
     "start_time": "2025-03-20T16:05:26.400605Z"
    }
   },
   "outputs": [
    {
     "data": {
      "text/plain": [
       "{'jack': 4098, 'jill': 4139, 'jane': 1234}"
      ]
     },
     "execution_count": 15,
     "metadata": {},
     "output_type": "execute_result"
    }
   ],
   "source": [
    "# Create a dictionary with phone numbers.\n",
    "tel_numbers_dict= {'jack': 4098, 'jill': 4139, 'jane': 1234}\n",
    "tel_numbers_dict"
   ]
  },
  {
   "cell_type": "code",
   "execution_count": 16,
   "id": "smaller-opposition",
   "metadata": {
    "ExecuteTime": {
     "end_time": "2025-03-20T16:05:26.469563Z",
     "start_time": "2025-03-20T16:05:26.466552Z"
    }
   },
   "outputs": [
    {
     "data": {
      "text/plain": [
       "dict_items([('jack', 4098), ('jill', 4139), ('jane', 1234)])"
      ]
     },
     "execution_count": 16,
     "metadata": {},
     "output_type": "execute_result"
    }
   ],
   "source": [
    "# Inspect {key:value} pairs, called items, use items() method.\n",
    "tel_numbers_dict.items()"
   ]
  },
  {
   "cell_type": "code",
   "execution_count": 17,
   "id": "editorial-partner",
   "metadata": {
    "ExecuteTime": {
     "end_time": "2025-03-20T16:05:26.519550Z",
     "start_time": "2025-03-20T16:05:26.516880Z"
    }
   },
   "outputs": [
    {
     "name": "stdout",
     "output_type": "stream",
     "text": [
      "Help on built-in function items:\n",
      "\n",
      "items(...) method of builtins.dict instance\n",
      "    D.items() -> a set-like object providing a view on D's items\n",
      "\n"
     ]
    }
   ],
   "source": [
    "help(tel_numbers_dict.items)"
   ]
  },
  {
   "cell_type": "code",
   "execution_count": 18,
   "id": "spiritual-hamburg",
   "metadata": {
    "ExecuteTime": {
     "end_time": "2025-03-20T16:05:26.575926Z",
     "start_time": "2025-03-20T16:05:26.573404Z"
    }
   },
   "outputs": [
    {
     "data": {
      "text/plain": [
       "dict_keys(['jack', 'jill', 'jane'])"
      ]
     },
     "execution_count": 18,
     "metadata": {},
     "output_type": "execute_result"
    }
   ],
   "source": [
    "# keys() to inspect the keys\n",
    "tel_numbers_dict.keys()"
   ]
  },
  {
   "cell_type": "code",
   "execution_count": 19,
   "id": "metropolitan-reggae",
   "metadata": {
    "ExecuteTime": {
     "end_time": "2025-03-20T16:05:26.625915Z",
     "start_time": "2025-03-20T16:05:26.623199Z"
    }
   },
   "outputs": [
    {
     "data": {
      "text/plain": [
       "dict_values([4098, 4139, 1234])"
      ]
     },
     "execution_count": 19,
     "metadata": {},
     "output_type": "execute_result"
    }
   ],
   "source": [
    "tel_numbers_dict.values()"
   ]
  },
  {
   "cell_type": "markdown",
   "id": "d00bf2ff-747b-451f-ac9f-9432be34cde3",
   "metadata": {},
   "source": [
    "## 3. Indexing a Dict by key"
   ]
  },
  {
   "cell_type": "code",
   "execution_count": 20,
   "id": "prostate-finnish",
   "metadata": {
    "ExecuteTime": {
     "end_time": "2025-03-20T16:05:26.679435Z",
     "start_time": "2025-03-20T16:05:26.675745Z"
    }
   },
   "outputs": [
    {
     "data": {
      "text/plain": [
       "4098"
      ]
     },
     "execution_count": 20,
     "metadata": {},
     "output_type": "execute_result"
    }
   ],
   "source": [
    "# Return the value of key.\n",
    "tel_numbers_dict.get('jack')"
   ]
  },
  {
   "cell_type": "code",
   "execution_count": 21,
   "id": "b527d2e1-8fbc-475b-95f8-fc75050c3505",
   "metadata": {
    "ExecuteTime": {
     "end_time": "2025-03-20T16:05:26.733989Z",
     "start_time": "2025-03-20T16:05:26.730726Z"
    }
   },
   "outputs": [
    {
     "data": {
      "text/plain": [
       "4098"
      ]
     },
     "execution_count": 21,
     "metadata": {},
     "output_type": "execute_result"
    }
   ],
   "source": [
    "# Return the value of key. Different syntax, same result.\n",
    "tel_numbers_dict['jack']"
   ]
  },
  {
   "cell_type": "code",
   "execution_count": 22,
   "id": "unauthorized-praise",
   "metadata": {
    "ExecuteTime": {
     "end_time": "2025-03-20T16:05:26.786877Z",
     "start_time": "2025-03-20T16:05:26.783414Z"
    }
   },
   "outputs": [
    {
     "data": {
      "text/plain": [
       "True"
      ]
     },
     "execution_count": 22,
     "metadata": {},
     "output_type": "execute_result"
    }
   ],
   "source": [
    "# Same result.\n",
    "tel_numbers_dict.get('jack') == tel_numbers_dict['jack']"
   ]
  },
  {
   "cell_type": "code",
   "execution_count": 23,
   "id": "incomplete-reliance",
   "metadata": {
    "ExecuteTime": {
     "end_time": "2025-03-20T16:05:26.830348Z",
     "start_time": "2025-03-20T16:05:26.827868Z"
    }
   },
   "outputs": [],
   "source": [
    "# tel_numbers_dict['james']  # key error"
   ]
  },
  {
   "cell_type": "markdown",
   "id": "19356857-d913-43e4-a9aa-6a4025fde809",
   "metadata": {},
   "source": [
    "### Get key from a value. Note: values may not be unique.\n",
    "Notice that in this [question](https://stackoverflow.com/questions/8023306/get-key-by-value-in-dictionary), the reply with the most votes is WRONG and the accepted answer (second in votes) is incomplete)."
   ]
  },
  {
   "cell_type": "code",
   "execution_count": 24,
   "id": "85886165-1fe4-48eb-9aad-9bfb7b6c30e0",
   "metadata": {
    "ExecuteTime": {
     "end_time": "2025-03-20T16:05:26.876658Z",
     "start_time": "2025-03-20T16:05:26.873875Z"
    }
   },
   "outputs": [],
   "source": [
    "mydict = {'george': 16, 'amber': 19, 'jim': 16}"
   ]
  },
  {
   "cell_type": "code",
   "execution_count": 25,
   "id": "e7573c5d-7f32-4849-a30a-4c287fe514a7",
   "metadata": {
    "ExecuteTime": {
     "end_time": "2025-03-20T16:05:26.929217Z",
     "start_time": "2025-03-20T16:05:26.925919Z"
    }
   },
   "outputs": [
    {
     "name": "stdout",
     "output_type": "stream",
     "text": [
      "george\n"
     ]
    }
   ],
   "source": [
    "# Returns only first instance.\n",
    "print(list(mydict.keys())[list(mydict.values()).index(16)])"
   ]
  },
  {
   "cell_type": "code",
   "execution_count": 26,
   "id": "cd6ee9a2-2f33-438f-95fc-a524c01ae973",
   "metadata": {
    "ExecuteTime": {
     "end_time": "2025-03-20T16:05:26.983678Z",
     "start_time": "2025-03-20T16:05:26.980157Z"
    }
   },
   "outputs": [
    {
     "name": "stdout",
     "output_type": "stream",
     "text": [
      "george\n",
      "jim\n"
     ]
    }
   ],
   "source": [
    "# Return all instances.\n",
    "search_age = 16\n",
    "\n",
    "for name, age in mydict.items():\n",
    "    if age == search_age:\n",
    "        print(name)"
   ]
  },
  {
   "cell_type": "code",
   "execution_count": 27,
   "id": "d4ae8ad8-802c-4e4f-8f5d-b674b12ab55a",
   "metadata": {
    "ExecuteTime": {
     "end_time": "2025-03-20T16:05:27.040664Z",
     "start_time": "2025-03-20T16:05:27.036398Z"
    }
   },
   "outputs": [
    {
     "data": {
      "text/plain": [
       "['george', 'jim']"
      ]
     },
     "execution_count": 27,
     "metadata": {},
     "output_type": "execute_result"
    }
   ],
   "source": [
    "# My recommended way to return all instances in a list.\n",
    "[name for name, age in mydict.items() if age == search_age]"
   ]
  },
  {
   "cell_type": "code",
   "execution_count": 28,
   "id": "c164f9ce-b61a-4e47-9865-28c2a4170d72",
   "metadata": {
    "ExecuteTime": {
     "end_time": "2025-03-20T16:05:27.112083Z",
     "start_time": "2025-03-20T16:05:27.108693Z"
    }
   },
   "outputs": [
    {
     "data": {
      "text/plain": [
       "['george', 'jim']"
      ]
     },
     "execution_count": 28,
     "metadata": {},
     "output_type": "execute_result"
    }
   ],
   "source": [
    "# This is the same as above but with different names.\n",
    "# This works ok, python 3+. Called list comprehension.\n",
    "[k for k, v in mydict.items() if v == search_age]  # k is for key and v for value"
   ]
  },
  {
   "cell_type": "code",
   "execution_count": 29,
   "id": "3471a57d-dd01-4ba6-96b2-278b4bff6fd7",
   "metadata": {
    "ExecuteTime": {
     "end_time": "2025-03-20T16:05:27.166800Z",
     "start_time": "2025-03-20T16:05:27.163631Z"
    }
   },
   "outputs": [
    {
     "data": {
      "text/plain": [
       "{16: 'jim', 19: 'amber'}"
      ]
     },
     "execution_count": 29,
     "metadata": {},
     "output_type": "execute_result"
    }
   ],
   "source": [
    "# Reverses the dictionaty key value pairs. Keys become values.\n",
    "# If values are not unique, this loses the 2d time a value appears because keys should be unique.\n",
    "reversed_mydict = dict((v,k) for k,v in mydict.items())\n",
    "reversed_mydict"
   ]
  },
  {
   "cell_type": "code",
   "execution_count": 30,
   "id": "becc261d-b23f-4614-bcf8-c6343ec88ad7",
   "metadata": {
    "ExecuteTime": {
     "end_time": "2025-03-20T16:05:27.246777Z",
     "start_time": "2025-03-20T16:05:27.244183Z"
    }
   },
   "outputs": [
    {
     "data": {
      "text/plain": [
       "'jim'"
      ]
     },
     "execution_count": 30,
     "metadata": {},
     "output_type": "execute_result"
    }
   ],
   "source": [
    "reversed_mydict[16]"
   ]
  },
  {
   "cell_type": "code",
   "execution_count": 31,
   "id": "9976d0ba-fc83-4597-92cf-de7b792b2e89",
   "metadata": {
    "ExecuteTime": {
     "end_time": "2025-03-20T16:05:27.301436Z",
     "start_time": "2025-03-20T16:05:27.298162Z"
    }
   },
   "outputs": [
    {
     "data": {
      "text/plain": [
       "['george', 'jim']"
      ]
     },
     "execution_count": 31,
     "metadata": {},
     "output_type": "execute_result"
    }
   ],
   "source": [
    "# Alternative, more explicit (verbose) syntax of list comprehension.\n",
    "search_age = 16\n",
    "name = [k for k in mydict.keys() if mydict[k] == search_age]; name"
   ]
  },
  {
   "cell_type": "markdown",
   "id": "standing-election",
   "metadata": {},
   "source": [
    "### Modify a dictionary. clear, add, remove, update.   \n",
    "[Extensive recommended answer.](https://stackoverflow.com/a/8381589)"
   ]
  },
  {
   "cell_type": "code",
   "execution_count": 32,
   "id": "regulation-reggae",
   "metadata": {
    "ExecuteTime": {
     "end_time": "2025-03-20T16:05:27.358924Z",
     "start_time": "2025-03-20T16:05:27.354972Z"
    }
   },
   "outputs": [
    {
     "data": {
      "text/plain": [
       "{}"
      ]
     },
     "execution_count": 32,
     "metadata": {},
     "output_type": "execute_result"
    }
   ],
   "source": [
    "# Remove all items.\n",
    "tel_numbers_dict.clear()\n",
    "tel_numbers_dict"
   ]
  },
  {
   "cell_type": "code",
   "execution_count": 33,
   "id": "greatest-merit",
   "metadata": {
    "ExecuteTime": {
     "end_time": "2025-03-20T16:05:27.410390Z",
     "start_time": "2025-03-20T16:05:27.407834Z"
    }
   },
   "outputs": [],
   "source": [
    "tel_numbers_dict= {'jack': 4098, 'jill': 4139, 'jane': 1234}"
   ]
  },
  {
   "cell_type": "code",
   "execution_count": 34,
   "id": "sized-bulgaria",
   "metadata": {
    "ExecuteTime": {
     "end_time": "2025-03-20T16:05:27.464277Z",
     "start_time": "2025-03-20T16:05:27.460824Z"
    }
   },
   "outputs": [
    {
     "data": {
      "text/plain": [
       "{'jack': 4098, 'jill': 4139, 'jane': 1234, 'guido': 4127}"
      ]
     },
     "execution_count": 34,
     "metadata": {},
     "output_type": "execute_result"
    }
   ],
   "source": [
    "# add a new item at the end. Works \"in place\" => without new assigment.\n",
    "tel_numbers_dict['guido'] = 4127\n",
    "tel_numbers_dict"
   ]
  },
  {
   "cell_type": "code",
   "execution_count": 35,
   "id": "clean-detection",
   "metadata": {
    "ExecuteTime": {
     "end_time": "2025-03-20T16:05:27.516649Z",
     "start_time": "2025-03-20T16:05:27.513895Z"
    }
   },
   "outputs": [
    {
     "data": {
      "text/plain": [
       "{'jack': 4098, 'jane': 1234, 'guido': 4127}"
      ]
     },
     "execution_count": 35,
     "metadata": {},
     "output_type": "execute_result"
    }
   ],
   "source": [
    "# remove an item. Works \"in place\" => without new assigment\n",
    "del tel_numbers_dict['jill']\n",
    "tel_numbers_dict"
   ]
  },
  {
   "cell_type": "code",
   "execution_count": 36,
   "id": "welsh-respondent",
   "metadata": {
    "ExecuteTime": {
     "end_time": "2025-03-20T16:05:27.569558Z",
     "start_time": "2025-03-20T16:05:27.566441Z"
    }
   },
   "outputs": [
    {
     "data": {
      "text/plain": [
       "4127"
      ]
     },
     "execution_count": 36,
     "metadata": {},
     "output_type": "execute_result"
    }
   ],
   "source": [
    "# Remove key and return its value.\n",
    "guido_tel_numbers_dict_number = tel_numbers_dict.pop('guido')\n",
    "guido_tel_numbers_dict_number"
   ]
  },
  {
   "cell_type": "code",
   "execution_count": 37,
   "id": "07a4f54b-cba3-4aca-a40a-d336e337e0d8",
   "metadata": {
    "ExecuteTime": {
     "end_time": "2025-03-20T16:05:27.623093Z",
     "start_time": "2025-03-20T16:05:27.620028Z"
    }
   },
   "outputs": [],
   "source": [
    "jack_tel_numbers_dict_number = tel_numbers_dict.pop('jack')"
   ]
  },
  {
   "cell_type": "code",
   "execution_count": 38,
   "id": "91236324-fe74-45a8-ac42-2531b9ea64b3",
   "metadata": {
    "ExecuteTime": {
     "end_time": "2025-03-20T16:05:27.678156Z",
     "start_time": "2025-03-20T16:05:27.675131Z"
    }
   },
   "outputs": [
    {
     "data": {
      "text/plain": [
       "4098"
      ]
     },
     "execution_count": 38,
     "metadata": {},
     "output_type": "execute_result"
    }
   ],
   "source": [
    "jack_tel_numbers_dict_number"
   ]
  },
  {
   "cell_type": "code",
   "execution_count": 39,
   "id": "b1420b43-17ea-47ce-ba36-111a0a192174",
   "metadata": {
    "ExecuteTime": {
     "end_time": "2025-03-20T16:05:27.725052Z",
     "start_time": "2025-03-20T16:05:27.722268Z"
    }
   },
   "outputs": [
    {
     "data": {
      "text/plain": [
       "{'jane': 1234}"
      ]
     },
     "execution_count": 39,
     "metadata": {},
     "output_type": "execute_result"
    }
   ],
   "source": [
    "tel_numbers_dict"
   ]
  },
  {
   "cell_type": "code",
   "execution_count": 40,
   "id": "centered-classification",
   "metadata": {
    "ExecuteTime": {
     "end_time": "2025-03-20T16:05:27.777106Z",
     "start_time": "2025-03-20T16:05:27.774948Z"
    }
   },
   "outputs": [],
   "source": [
    "tel_numbers_dict['toni'] = guido_tel_numbers_dict_number"
   ]
  },
  {
   "cell_type": "code",
   "execution_count": 41,
   "id": "august-driver",
   "metadata": {
    "ExecuteTime": {
     "end_time": "2025-03-20T16:05:27.830373Z",
     "start_time": "2025-03-20T16:05:27.827244Z"
    }
   },
   "outputs": [
    {
     "data": {
      "text/plain": [
       "{'jane': 1234, 'toni': 4127}"
      ]
     },
     "execution_count": 41,
     "metadata": {},
     "output_type": "execute_result"
    }
   ],
   "source": [
    "tel_numbers_dict"
   ]
  },
  {
   "cell_type": "code",
   "execution_count": 42,
   "id": "imported-arthur",
   "metadata": {
    "ExecuteTime": {
     "end_time": "2025-03-20T16:05:27.883538Z",
     "start_time": "2025-03-20T16:05:27.880579Z"
    }
   },
   "outputs": [
    {
     "data": {
      "text/plain": [
       "{'jane': 1000, 'toni': 4127}"
      ]
     },
     "execution_count": 42,
     "metadata": {},
     "output_type": "execute_result"
    }
   ],
   "source": [
    "# modify a value\n",
    "tel_numbers_dict['jane'] = 1000\n",
    "tel_numbers_dict"
   ]
  },
  {
   "cell_type": "code",
   "execution_count": 43,
   "id": "sized-witness",
   "metadata": {
    "ExecuteTime": {
     "end_time": "2025-03-20T16:05:27.940461Z",
     "start_time": "2025-03-20T16:05:27.937168Z"
    }
   },
   "outputs": [
    {
     "data": {
      "text/plain": [
       "{'jane': 1000, 'toni': 4127, 'jim': 2000, 'ann': 3001}"
      ]
     },
     "execution_count": 43,
     "metadata": {},
     "output_type": "execute_result"
    }
   ],
   "source": [
    "# Add new items at once\n",
    "tel_numbers_dict.update(jim=2000, ann=3001)\n",
    "tel_numbers_dict"
   ]
  },
  {
   "cell_type": "code",
   "execution_count": 44,
   "id": "hybrid-value",
   "metadata": {
    "ExecuteTime": {
     "end_time": "2025-03-20T16:05:27.992407Z",
     "start_time": "2025-03-20T16:05:27.988893Z"
    }
   },
   "outputs": [
    {
     "data": {
      "text/plain": [
       "{'jane': 1000, 'toni': 4127, 'jim': 2000, 'ann': 3009, 'jack': 4000}"
      ]
     },
     "execution_count": 44,
     "metadata": {},
     "output_type": "execute_result"
    }
   ],
   "source": [
    "# Modify items' values\n",
    "tel_numbers_dict.update(jack=4000, ann=3009)\n",
    "tel_numbers_dict"
   ]
  },
  {
   "cell_type": "code",
   "execution_count": 45,
   "id": "electrical-burton",
   "metadata": {
    "ExecuteTime": {
     "end_time": "2025-03-20T16:05:28.048191Z",
     "start_time": "2025-03-20T16:05:28.044837Z"
    }
   },
   "outputs": [
    {
     "data": {
      "text/plain": [
       "{'jane': 1000,\n",
       " 'toni': 4127,\n",
       " 'jim': 2000,\n",
       " 'ann': 3009,\n",
       " 'jack': 4000,\n",
       " 'jameson': None}"
      ]
     },
     "execution_count": 45,
     "metadata": {},
     "output_type": "execute_result"
    }
   ],
   "source": [
    "# insert new key without default value.\n",
    "tel_numbers_dict.setdefault(\"jameson\")\n",
    "tel_numbers_dict"
   ]
  },
  {
   "cell_type": "code",
   "execution_count": 46,
   "id": "amino-finder",
   "metadata": {
    "ExecuteTime": {
     "end_time": "2025-03-20T16:05:28.125499Z",
     "start_time": "2025-03-20T16:05:28.122011Z"
    }
   },
   "outputs": [
    {
     "data": {
      "text/plain": [
       "{'jane': 1000,\n",
       " 'toni': 4127,\n",
       " 'jim': 2000,\n",
       " 'ann': 3009,\n",
       " 'jack': 4000,\n",
       " 'jameson': None,\n",
       " 'dan': 1111}"
      ]
     },
     "execution_count": 46,
     "metadata": {},
     "output_type": "execute_result"
    }
   ],
   "source": [
    "# insert new key with default value, if no value exised\n",
    "tel_numbers_dict.setdefault(\"dan\", 1111) \n",
    "tel_numbers_dict"
   ]
  },
  {
   "cell_type": "code",
   "execution_count": 47,
   "id": "divine-flash",
   "metadata": {
    "ExecuteTime": {
     "end_time": "2025-03-20T16:05:28.175894Z",
     "start_time": "2025-03-20T16:05:28.171962Z"
    }
   },
   "outputs": [
    {
     "data": {
      "text/plain": [
       "{'jane': 1000,\n",
       " 'toni': 4127,\n",
       " 'jim': 2000,\n",
       " 'ann': 3009,\n",
       " 'jack': 4000,\n",
       " 'jameson': None,\n",
       " 'dan': 1111}"
      ]
     },
     "execution_count": 47,
     "metadata": {},
     "output_type": "execute_result"
    }
   ],
   "source": [
    "# if value exists this is not the way to change it.\n",
    "tel_numbers_dict.setdefault(\"dan\", 3333) \n",
    "tel_numbers_dict"
   ]
  },
  {
   "cell_type": "markdown",
   "id": "neither-dependence",
   "metadata": {},
   "source": [
    "### Miscelanous functions and operations on dictionaries"
   ]
  },
  {
   "cell_type": "code",
   "execution_count": 48,
   "id": "brazilian-violin",
   "metadata": {
    "ExecuteTime": {
     "end_time": "2025-03-20T16:05:28.227511Z",
     "start_time": "2025-03-20T16:05:28.224375Z"
    }
   },
   "outputs": [
    {
     "data": {
      "text/plain": [
       "7"
      ]
     },
     "execution_count": 48,
     "metadata": {},
     "output_type": "execute_result"
    }
   ],
   "source": [
    "len(tel_numbers_dict)  # N of items (N of pairs)"
   ]
  },
  {
   "cell_type": "code",
   "execution_count": 49,
   "id": "ceramic-sydney",
   "metadata": {
    "ExecuteTime": {
     "end_time": "2025-03-20T16:05:28.279600Z",
     "start_time": "2025-03-20T16:05:28.276375Z"
    }
   },
   "outputs": [
    {
     "data": {
      "text/plain": [
       "['jane', 'toni', 'jim', 'ann', 'jack', 'jameson', 'dan']"
      ]
     },
     "execution_count": 49,
     "metadata": {},
     "output_type": "execute_result"
    }
   ],
   "source": [
    "list(tel_numbers_dict)  # convert keys to list"
   ]
  },
  {
   "cell_type": "code",
   "execution_count": 50,
   "id": "mathematical-haiti",
   "metadata": {
    "ExecuteTime": {
     "end_time": "2025-03-20T16:05:28.336499Z",
     "start_time": "2025-03-20T16:05:28.332916Z"
    }
   },
   "outputs": [
    {
     "data": {
      "text/plain": [
       "['ann', 'dan', 'jack', 'jameson', 'jane', 'jim', 'toni']"
      ]
     },
     "execution_count": 50,
     "metadata": {},
     "output_type": "execute_result"
    }
   ],
   "source": [
    "sorted(tel_numbers_dict)  # convert keys to sorted list"
   ]
  },
  {
   "cell_type": "code",
   "execution_count": 51,
   "id": "existing-usage",
   "metadata": {
    "ExecuteTime": {
     "end_time": "2025-03-20T16:05:28.388176Z",
     "start_time": "2025-03-20T16:05:28.384807Z"
    }
   },
   "outputs": [
    {
     "data": {
      "text/plain": [
       "False"
      ]
     },
     "execution_count": 51,
     "metadata": {},
     "output_type": "execute_result"
    }
   ],
   "source": [
    "'thanasis' in tel_numbers_dict"
   ]
  },
  {
   "cell_type": "code",
   "execution_count": 52,
   "id": "considered-faculty",
   "metadata": {
    "ExecuteTime": {
     "end_time": "2025-03-20T16:05:28.440152Z",
     "start_time": "2025-03-20T16:05:28.436774Z"
    }
   },
   "outputs": [
    {
     "data": {
      "text/plain": [
       "True"
      ]
     },
     "execution_count": 52,
     "metadata": {},
     "output_type": "execute_result"
    }
   ],
   "source": [
    "\"ann\" in tel_numbers_dict"
   ]
  },
  {
   "cell_type": "code",
   "execution_count": 53,
   "id": "golden-truck",
   "metadata": {
    "ExecuteTime": {
     "end_time": "2025-03-20T16:05:28.492181Z",
     "start_time": "2025-03-20T16:05:28.488838Z"
    }
   },
   "outputs": [
    {
     "data": {
      "text/plain": [
       "False"
      ]
     },
     "execution_count": 53,
     "metadata": {},
     "output_type": "execute_result"
    }
   ],
   "source": [
    "'jack' not in tel_numbers_dict"
   ]
  },
  {
   "cell_type": "markdown",
   "id": "improving-ending",
   "metadata": {},
   "source": [
    "## 4. Iterate over a Dictionary: Getting ready for next lecture!\n",
    "In the next lecture we will see how to use loops."
   ]
  },
  {
   "cell_type": "code",
   "execution_count": 54,
   "id": "accredited-practice",
   "metadata": {
    "ExecuteTime": {
     "end_time": "2025-03-20T16:05:28.543920Z",
     "start_time": "2025-03-20T16:05:28.541120Z"
    }
   },
   "outputs": [
    {
     "name": "stdout",
     "output_type": "stream",
     "text": [
      "jane\n",
      "toni\n",
      "jim\n",
      "ann\n",
      "jack\n",
      "jameson\n",
      "dan\n"
     ]
    }
   ],
   "source": [
    "for employee in tel_numbers_dict:\n",
    "    print(employee)"
   ]
  },
  {
   "cell_type": "code",
   "execution_count": 55,
   "id": "psychological-chess",
   "metadata": {
    "ExecuteTime": {
     "end_time": "2025-03-20T16:05:28.595673Z",
     "start_time": "2025-03-20T16:05:28.592886Z"
    }
   },
   "outputs": [
    {
     "name": "stdout",
     "output_type": "stream",
     "text": [
      "jane\n",
      "toni\n",
      "jim\n",
      "ann\n",
      "jack\n",
      "jameson\n",
      "dan\n"
     ]
    }
   ],
   "source": [
    "for name in tel_numbers_dict.keys():\n",
    "    print(name)"
   ]
  },
  {
   "cell_type": "code",
   "execution_count": 56,
   "id": "northern-chart",
   "metadata": {
    "ExecuteTime": {
     "end_time": "2025-03-20T16:05:28.648221Z",
     "start_time": "2025-03-20T16:05:28.645285Z"
    }
   },
   "outputs": [
    {
     "name": "stdout",
     "output_type": "stream",
     "text": [
      "1000\n",
      "4127\n",
      "2000\n",
      "3009\n",
      "4000\n",
      "None\n",
      "1111\n"
     ]
    }
   ],
   "source": [
    "for i in tel_numbers_dict.values():\n",
    "    print(i)"
   ]
  },
  {
   "cell_type": "code",
   "execution_count": 57,
   "id": "occupational-letters",
   "metadata": {
    "ExecuteTime": {
     "end_time": "2025-03-20T16:05:28.699322Z",
     "start_time": "2025-03-20T16:05:28.696807Z"
    }
   },
   "outputs": [
    {
     "name": "stdout",
     "output_type": "stream",
     "text": [
      "jane 1000\n",
      "toni 4127\n",
      "jim 2000\n",
      "ann 3009\n",
      "jack 4000\n",
      "jameson None\n",
      "dan 1111\n"
     ]
    }
   ],
   "source": [
    "for key, value in tel_numbers_dict.items():\n",
    "    print(key, value)  #, sep=\" tel_numbers_dict. number \")"
   ]
  },
  {
   "cell_type": "code",
   "execution_count": 58,
   "id": "sunrise-subdivision",
   "metadata": {
    "ExecuteTime": {
     "end_time": "2025-03-20T16:05:28.753140Z",
     "start_time": "2025-03-20T16:05:28.749918Z"
    }
   },
   "outputs": [
    {
     "name": "stdout",
     "output_type": "stream",
     "text": [
      "ann 3009\n",
      "dan 1111\n",
      "jack 4000\n",
      "jameson None\n",
      "jane 1000\n",
      "jim 2000\n",
      "toni 4127\n"
     ]
    }
   ],
   "source": [
    "for key, value in sorted(tel_numbers_dict.items()):\n",
    "    print(key, value)"
   ]
  },
  {
   "cell_type": "code",
   "execution_count": 59,
   "id": "front-conclusion",
   "metadata": {
    "ExecuteTime": {
     "end_time": "2025-03-20T16:05:28.804862Z",
     "start_time": "2025-03-20T16:05:28.800797Z"
    }
   },
   "outputs": [
    {
     "data": {
      "text/plain": [
       "{'jack': [4098, 4097], 'jill': [4139, 4138], 'jane': [1234, 1233]}"
      ]
     },
     "execution_count": 59,
     "metadata": {},
     "output_type": "execute_result"
    }
   ],
   "source": [
    "dict_with_lists = tel_numbers_dict_numbers_dict= {'jack': [4098, 4097], 'jill': [4139, 4138], 'jane': [1234, 1233]}\n",
    "dict_with_lists"
   ]
  },
  {
   "cell_type": "code",
   "execution_count": 60,
   "id": "preceding-england",
   "metadata": {
    "ExecuteTime": {
     "end_time": "2025-03-20T16:05:28.856311Z",
     "start_time": "2025-03-20T16:05:28.853017Z"
    }
   },
   "outputs": [
    {
     "name": "stdout",
     "output_type": "stream",
     "text": [
      "jack 4098\n",
      "jill 4139\n",
      "jane 1234\n"
     ]
    }
   ],
   "source": [
    "for key, value in dict_with_lists.items():\n",
    "    print(key, value[0])"
   ]
  },
  {
   "cell_type": "code",
   "execution_count": 61,
   "id": "moral-canada",
   "metadata": {
    "ExecuteTime": {
     "end_time": "2025-03-20T16:05:28.961903Z",
     "start_time": "2025-03-20T16:05:28.959021Z"
    }
   },
   "outputs": [
    {
     "name": "stdout",
     "output_type": "stream",
     "text": [
      "jack 4097\n",
      "jill 4138\n",
      "jane 1233\n"
     ]
    }
   ],
   "source": [
    "for key, value in dict_with_lists.items():\n",
    "    print(key, value[1])"
   ]
  },
  {
   "cell_type": "markdown",
   "id": "nasty-being",
   "metadata": {},
   "source": [
    "## 5. Dictionarios Extra Reading (advanced):  \n",
    "[subclasses](https://docs.python.org/3/library/collections.html)\n",
    "\n",
    "Subclasses in Python are defined in a way that inherit properties of the parent classes but have some modified attributes.  \n",
    "[OrderedDict](https://docs.python.org/3/library/collections.html#collections.OrderedDict) is an example of Dictionary that also has an index. It returns an instance of a dictionary subclass that has its own methods specialized for rearranging dictionary order."
   ]
  },
  {
   "cell_type": "code",
   "execution_count": 62,
   "id": "incorporated-penguin",
   "metadata": {
    "ExecuteTime": {
     "end_time": "2025-03-20T16:05:29.025924Z",
     "start_time": "2025-03-20T16:05:29.023150Z"
    }
   },
   "outputs": [],
   "source": [
    "from collections import OrderedDict"
   ]
  },
  {
   "cell_type": "markdown",
   "id": "heated-announcement",
   "metadata": {},
   "source": [
    "#### Example of iterating over a dict and getting and index for items  \n",
    "using the built-in [enumerate() function: ](https://docs.python.org/3/library/functions.html#enumerate)\n",
    "This creates a new object called enumerate which works liked an explicitly indexed list."
   ]
  },
  {
   "cell_type": "code",
   "execution_count": 63,
   "id": "martial-response",
   "metadata": {
    "ExecuteTime": {
     "end_time": "2025-03-20T16:05:29.075185Z",
     "start_time": "2025-03-20T16:05:29.071480Z"
    }
   },
   "outputs": [
    {
     "name": "stdout",
     "output_type": "stream",
     "text": [
      "0 a 1\n",
      "1 b 2\n",
      "2 c 3\n",
      "3 d 4\n"
     ]
    }
   ],
   "source": [
    "classic_dict_without_index = {\"a\": 1, \"b\": 2, \"c\": 3, \"d\": 4}\n",
    "\n",
    "for index,  (key, value) in enumerate(classic_dict_without_index.items()):\n",
    "    print(index, key, value)"
   ]
  },
  {
   "cell_type": "code",
   "execution_count": 64,
   "id": "foster-championship",
   "metadata": {
    "ExecuteTime": {
     "end_time": "2025-03-20T16:05:29.129112Z",
     "start_time": "2025-03-20T16:05:29.125143Z"
    }
   },
   "outputs": [
    {
     "data": {
      "text/plain": [
       "enumerate"
      ]
     },
     "execution_count": 64,
     "metadata": {},
     "output_type": "execute_result"
    }
   ],
   "source": [
    "type(enumerate(classic_dict_without_index))"
   ]
  },
  {
   "cell_type": "code",
   "execution_count": 65,
   "id": "norman-citation",
   "metadata": {
    "ExecuteTime": {
     "end_time": "2025-03-20T16:05:29.213665Z",
     "start_time": "2025-03-20T16:05:29.175674Z"
    }
   },
   "outputs": [],
   "source": [
    "enumerate?"
   ]
  },
  {
   "cell_type": "code",
   "execution_count": 66,
   "id": "tutorial-porter",
   "metadata": {
    "ExecuteTime": {
     "end_time": "2025-03-20T16:05:29.330072Z",
     "start_time": "2025-03-20T16:05:29.327552Z"
    }
   },
   "outputs": [],
   "source": [
    "# show that slicing a dictionary does not work\n",
    "#classic_dict_without_index.values()[:2]"
   ]
  },
  {
   "cell_type": "code",
   "execution_count": 67,
   "id": "liquid-warrior",
   "metadata": {
    "ExecuteTime": {
     "end_time": "2025-03-20T16:05:29.383006Z",
     "start_time": "2025-03-20T16:05:29.380135Z"
    }
   },
   "outputs": [
    {
     "data": {
      "text/plain": [
       "['b', 'c']"
      ]
     },
     "execution_count": 67,
     "metadata": {},
     "output_type": "execute_result"
    }
   ],
   "source": [
    "# convert to a list to get a slice of the values or keys\n",
    "list(classic_dict_without_index.keys())[1:3]"
   ]
  },
  {
   "cell_type": "code",
   "execution_count": 68,
   "id": "arranged-sequence",
   "metadata": {
    "ExecuteTime": {
     "end_time": "2025-03-20T16:05:29.435463Z",
     "start_time": "2025-03-20T16:05:29.432443Z"
    }
   },
   "outputs": [
    {
     "data": {
      "text/plain": [
       "[2, 3]"
      ]
     },
     "execution_count": 68,
     "metadata": {},
     "output_type": "execute_result"
    }
   ],
   "source": [
    "list(classic_dict_without_index.values())[1:3]"
   ]
  },
  {
   "cell_type": "code",
   "execution_count": 69,
   "id": "capable-capability",
   "metadata": {
    "ExecuteTime": {
     "end_time": "2025-03-20T16:05:29.485253Z",
     "start_time": "2025-03-20T16:05:29.482153Z"
    }
   },
   "outputs": [
    {
     "data": {
      "text/plain": [
       "[('b', 2), ('c', 3)]"
      ]
     },
     "execution_count": 69,
     "metadata": {},
     "output_type": "execute_result"
    }
   ],
   "source": [
    "list(classic_dict_without_index.items())[1:3]"
   ]
  },
  {
   "cell_type": "markdown",
   "id": "inappropriate-collar",
   "metadata": {},
   "source": [
    "#### Example of slicing an `OrderedDict`\n",
    "using the [built-in itertools module](https://docs.python.org/3/library/itertools.html)"
   ]
  },
  {
   "cell_type": "code",
   "execution_count": 70,
   "id": "incoming-bankruptcy",
   "metadata": {
    "ExecuteTime": {
     "end_time": "2025-03-20T16:05:29.532495Z",
     "start_time": "2025-03-20T16:05:29.530303Z"
    }
   },
   "outputs": [],
   "source": [
    "from itertools import islice"
   ]
  },
  {
   "cell_type": "code",
   "execution_count": 71,
   "id": "skilled-devon",
   "metadata": {
    "ExecuteTime": {
     "end_time": "2025-03-20T16:05:29.581508Z",
     "start_time": "2025-03-20T16:05:29.577576Z"
    }
   },
   "outputs": [
    {
     "data": {
      "text/plain": [
       "OrderedDict([('a', 1), ('b', 2), ('c', 3), ('d', 4)])"
      ]
     },
     "execution_count": 71,
     "metadata": {},
     "output_type": "execute_result"
    }
   ],
   "source": [
    "# mind the parentheses. A function is used along the dict notation to create an OrderedDict.\n",
    "ordered_dict = OrderedDict({\"a\": 1, \"b\": 2, \"c\": 3, \"d\": 4})\n",
    "ordered_dict\n",
    "# and the output looks like a list doesn;t it?"
   ]
  },
  {
   "cell_type": "code",
   "execution_count": 72,
   "id": "professional-diary",
   "metadata": {
    "ExecuteTime": {
     "end_time": "2025-03-20T16:05:29.631152Z",
     "start_time": "2025-03-20T16:05:29.627340Z"
    }
   },
   "outputs": [
    {
     "data": {
      "text/plain": [
       "OrderedDict([('b', 2), ('c', 3)])"
      ]
     },
     "execution_count": 72,
     "metadata": {},
     "output_type": "execute_result"
    }
   ],
   "source": [
    "sliced_part = islice(ordered_dict.items(), 1, 3)\n",
    "\n",
    "OrderedDict(sliced_part)"
   ]
  },
  {
   "cell_type": "code",
   "execution_count": 73,
   "id": "bizarre-communications",
   "metadata": {
    "ExecuteTime": {
     "end_time": "2025-03-20T16:05:29.684807Z",
     "start_time": "2025-03-20T16:05:29.680397Z"
    },
    "tags": []
   },
   "outputs": [
    {
     "data": {
      "text/plain": [
       "[('b', 2), ('c', 3)]"
      ]
     },
     "execution_count": 73,
     "metadata": {},
     "output_type": "execute_result"
    }
   ],
   "source": [
    "# Of course, converting to a list is simpler.\n",
    "list(ordered_dict.items())[1:3]"
   ]
  },
  {
   "cell_type": "code",
   "execution_count": null,
   "id": "25d99fb0-8fe1-41c7-b739-9db63e429350",
   "metadata": {
    "ExecuteTime": {
     "end_time": "2025-03-20T16:05:29.731597Z",
     "start_time": "2025-03-20T16:05:29.729881Z"
    }
   },
   "outputs": [],
   "source": []
  }
 ],
 "metadata": {
  "kernelspec": {
   "display_name": "Python 3 (ipykernel)",
   "language": "python",
   "name": "python3"
  },
  "language_info": {
   "codemirror_mode": {
    "name": "ipython",
    "version": 3
   },
   "file_extension": ".py",
   "mimetype": "text/x-python",
   "name": "python",
   "nbconvert_exporter": "python",
   "pygments_lexer": "ipython3",
   "version": "3.12.9"
  }
 },
 "nbformat": 4,
 "nbformat_minor": 5
}
