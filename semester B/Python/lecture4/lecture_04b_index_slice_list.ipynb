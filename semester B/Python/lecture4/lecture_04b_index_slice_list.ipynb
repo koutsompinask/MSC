{
 "cells": [
  {
   "cell_type": "markdown",
   "metadata": {},
   "source": [
    "# Lecture 4b: Indexing, Slicing, Data structures: list, tuple, sets.\n",
    "\n",
    "### Note: Slicing and Indexing works on **iterable** objects.\n",
    "New words: indexing, slicing, lists, tuples. sets.\n",
    "\n",
    "\n",
    "1. Lists. A data 'container'.\n",
    "Iterable **Mutable** sequences, typically used to store collections of **homogeneous** items  \n",
    "New word: Data containers.\n",
    "\n",
    "> [built-in data type](https://docs.python.org/3/library/stdtypes.html#typesseq-list)   \n",
    ">  [sequence data-type](https://docs.python.org/3/library/stdtypes.html#typesseq)  \n",
    "> list(): [Built-in function](https://docs.python.org/3/library/functions.html#func-list)  \n",
    "\n",
    " \n",
    "> Operations: [common for all sequence types](https://docs.python.org/3/library/stdtypes.html#typesseq-common) and [for mutable sequence types](https://docs.python.org/3/library/stdtypes.html#mutable-sequence-types).\n",
    "> Indexing.  \n",
    "> Slicing.  \n",
    "> Basic functions on lists: len(), [sorted()](https://docs.python.org/3/howto/sorting.html#sortinghowto).  \n",
    "> [List methods](https://docs.python.org/3/tutorial/datastructures.html) examples.  \n",
    "  \n",
    "\n",
    "2. Tuples. Data container.\n",
    "**Immutable** sequences, typically used to store collections of **heterogeneous** data.\n",
    "\n",
    ">[built-in data type](https://docs.python.org/3/library/stdtypes.html#tuple)  \n",
    "> tuple() [built-in function](https://docs.python.org/3/library/functions.html#func-tuple)  \n",
    "> Indexing.  \n",
    "> Slicing.  \n",
    "> Basic functions on Tuples [common for all sequence types](https://docs.python.org/3/library/stdtypes.html#typesseq-common).  \n",
    "\n",
    "\n",
    "3. Sets. Data container.\n",
    ">[built-in data type](https://docs.python.org/3/library/stdtypes.html#set-types-set-frozenset)  \n",
    "----\n"
   ]
  },
  {
   "cell_type": "markdown",
   "metadata": {
    "id": "gkGtYDQW5ENN"
   },
   "source": [
    "## 1. Lists.\n",
    "Denoted with square brackets: [ ]  \n",
    "Iterable **Mutable** sequences, typically used to store collections of **homogeneous** items.\n",
    "\n",
    "List **items** are separated by commas.  \n",
    "May containt mixed data types (integes, strings, lists, objects, ...).  \n",
    "Not recommended for mixed data types.  \n",
    "Ordered and indexex => allow for duplicates and item access.  \n",
    "Mutable.  \n",
    "Lists can be multiplied, added. The result is a list.\n",
    " \n",
    "> [built-in data types](https://docs.python.org/3/library/stdtypes.html#typesseq-list)   \n",
    ">  [sequence data-type](https://docs.python.org/3/library/stdtypes.html#typesseq)  \n",
    "> list(): [Built-in function](https://docs.python.org/3/library/functions.html#func-list)  \n",
    "\n",
    " \n",
    "> operations: [common for all sequence types](https://docs.python.org/3/library/stdtypes.html#typesseq-common) and [for mutable sequence types](https://docs.python.org/3/library/stdtypes.html#mutable-sequence-types).  \n"
   ]
  },
  {
   "cell_type": "code",
   "execution_count": 1,
   "metadata": {
    "ExecuteTime": {
     "end_time": "2025-03-20T16:05:22.640389Z",
     "start_time": "2025-03-20T16:05:22.637074Z"
    }
   },
   "outputs": [],
   "source": [
    "a = []  # Intialize and empty list and assign name 'a' to it."
   ]
  },
  {
   "cell_type": "code",
   "execution_count": 2,
   "metadata": {
    "ExecuteTime": {
     "end_time": "2025-03-20T16:05:22.696553Z",
     "start_time": "2025-03-20T16:05:22.691061Z"
    }
   },
   "outputs": [
    {
     "data": {
      "text/plain": [
       "list"
      ]
     },
     "execution_count": 2,
     "metadata": {},
     "output_type": "execute_result"
    }
   ],
   "source": [
    "type(a)"
   ]
  },
  {
   "cell_type": "code",
   "execution_count": 3,
   "metadata": {
    "ExecuteTime": {
     "end_time": "2025-03-20T16:05:22.777610Z",
     "start_time": "2025-03-20T16:05:22.775820Z"
    },
    "colab": {
     "base_uri": "https://localhost:8080/"
    },
    "id": "jcbUkoqmIJM-",
    "outputId": "63ace6f5-0f4d-4e12-b266-332b755f7dbc"
   },
   "outputs": [],
   "source": [
    "## Notated with square brackets, items separated by comma\n",
    "strings_list = ['nikos', 'has a', 'lovely', 'cat']"
   ]
  },
  {
   "cell_type": "code",
   "execution_count": 4,
   "metadata": {
    "ExecuteTime": {
     "end_time": "2025-03-20T16:05:22.834876Z",
     "start_time": "2025-03-20T16:05:22.832066Z"
    }
   },
   "outputs": [
    {
     "data": {
      "text/plain": [
       "list"
      ]
     },
     "execution_count": 4,
     "metadata": {},
     "output_type": "execute_result"
    }
   ],
   "source": [
    "type(strings_list)"
   ]
  },
  {
   "cell_type": "code",
   "execution_count": 5,
   "metadata": {
    "ExecuteTime": {
     "end_time": "2025-03-20T16:05:22.891604Z",
     "start_time": "2025-03-20T16:05:22.888262Z"
    },
    "colab": {
     "base_uri": "https://localhost:8080/"
    },
    "id": "jcbUkoqmIJM-",
    "outputId": "63ace6f5-0f4d-4e12-b266-332b755f7dbc"
   },
   "outputs": [
    {
     "data": {
      "text/plain": [
       "['nikos', 'has a', 'lovely', 'cat']"
      ]
     },
     "execution_count": 5,
     "metadata": {},
     "output_type": "execute_result"
    }
   ],
   "source": [
    "strings_list  # Can you see a list of strings?"
   ]
  },
  {
   "cell_type": "code",
   "execution_count": 6,
   "metadata": {
    "ExecuteTime": {
     "end_time": "2025-03-20T16:05:22.946965Z",
     "start_time": "2025-03-20T16:05:22.943914Z"
    },
    "colab": {
     "base_uri": "https://localhost:8080/"
    },
    "id": "jcbUkoqmIJM-",
    "outputId": "63ace6f5-0f4d-4e12-b266-332b755f7dbc"
   },
   "outputs": [
    {
     "name": "stdout",
     "output_type": "stream",
     "text": [
      "<class 'list'> \n",
      "\n"
     ]
    }
   ],
   "source": [
    "print(type(strings_list), '\\n')  # type = list"
   ]
  },
  {
   "cell_type": "markdown",
   "metadata": {},
   "source": [
    "#### Note: Lists may contain mixed data types. NOT RECOMMENDED.\n",
    "\n",
    "Better use lists for **homogeneous** items!"
   ]
  },
  {
   "cell_type": "code",
   "execution_count": 7,
   "metadata": {
    "ExecuteTime": {
     "end_time": "2025-03-20T16:05:23.007072Z",
     "start_time": "2025-03-20T16:05:23.003665Z"
    },
    "colab": {
     "base_uri": "https://localhost:8080/"
    },
    "id": "kAnFyZ7alnI6",
    "outputId": "bc02197a-96c1-441a-9b7e-41d0dd31cc1f"
   },
   "outputs": [
    {
     "name": "stdout",
     "output_type": "stream",
     "text": [
      "['nikos has', 3, 'cats but Schrödinger has two pieces of', 0.5, 'cats'] \n",
      "\n",
      "Lists are NOT recommended for Mixed data types!\n"
     ]
    }
   ],
   "source": [
    "# A mixed list\n",
    "mixed_list = ['nikos has', 3, 'cats but Schrödinger has two pieces of', 0.5, 'cats']\n",
    "\n",
    "print(mixed_list, '\\n')\n",
    "\n",
    "print(\"Lists are NOT recommended for Mixed data types!\")"
   ]
  },
  {
   "cell_type": "code",
   "execution_count": 8,
   "metadata": {
    "ExecuteTime": {
     "end_time": "2025-03-20T16:05:23.064558Z",
     "start_time": "2025-03-20T16:05:23.060308Z"
    },
    "colab": {
     "base_uri": "https://localhost:8080/"
    },
    "id": "o8qQh0wzmNyS",
    "outputId": "f55deb29-c940-46ed-cb99-8c6f8020965d"
   },
   "outputs": [
    {
     "data": {
      "text/plain": [
       "['nikos', 'has', 3, 'cats', ['nikos', 'has a', 'lovely', 'cat']]"
      ]
     },
     "execution_count": 8,
     "metadata": {},
     "output_type": "execute_result"
    }
   ],
   "source": [
    "# List may contain other lists as an item. See Note above.\n",
    "list_with_list = ['nikos', 'has', 3, 'cats', strings_list]\n",
    "\n",
    "list_with_list"
   ]
  },
  {
   "cell_type": "code",
   "execution_count": 9,
   "metadata": {
    "ExecuteTime": {
     "end_time": "2025-03-20T16:05:23.119376Z",
     "start_time": "2025-03-20T16:05:23.116218Z"
    },
    "colab": {
     "base_uri": "https://localhost:8080/"
    },
    "id": "2ZKgLpR-mSN6",
    "outputId": "2b5561bd-cc87-46db-abe6-d26865428b7c"
   },
   "outputs": [
    {
     "name": "stdout",
     "output_type": "stream",
     "text": [
      "length = 5 \n",
      "\n"
     ]
    }
   ],
   "source": [
    "# len(list) to get the number of items\n",
    "lenght_list_of_list = len(list_with_list)\n",
    "\n",
    "print('length =', lenght_list_of_list, '\\n')"
   ]
  },
  {
   "cell_type": "code",
   "execution_count": 10,
   "metadata": {
    "ExecuteTime": {
     "end_time": "2025-03-20T16:05:23.172628Z",
     "start_time": "2025-03-20T16:05:23.170035Z"
    }
   },
   "outputs": [
    {
     "data": {
      "text/plain": [
       "['nikos', 'has a', 'lovely', 'cat']"
      ]
     },
     "execution_count": 10,
     "metadata": {},
     "output_type": "execute_result"
    }
   ],
   "source": [
    "strings_list"
   ]
  },
  {
   "cell_type": "markdown",
   "metadata": {},
   "source": [
    "#### Ask Copilot the following prompt:\n",
    "> Our teacher recommends not to use lists for heterogenous items. But he also recommends validating his recommendations and searching more and questioning everything. You are an expert in teaching Python. Is 'not to use lists for heterogenous items' a solid recommendation? And what should I use for heterogenous itmes instead?"
   ]
  },
  {
   "cell_type": "markdown",
   "metadata": {},
   "source": [
    "### 1.1 List Indexing."
   ]
  },
  {
   "cell_type": "code",
   "execution_count": 11,
   "metadata": {
    "ExecuteTime": {
     "end_time": "2025-03-20T16:05:23.289424Z",
     "start_time": "2025-03-20T16:05:23.285717Z"
    },
    "colab": {
     "base_uri": "https://localhost:8080/"
    },
    "id": "Mx-JHe42mUEh",
    "outputId": "8d2fb506-6905-431f-d588-d56cd03280f2"
   },
   "outputs": [
    {
     "data": {
      "text/plain": [
       "'nikos'"
      ]
     },
     "execution_count": 11,
     "metadata": {},
     "output_type": "execute_result"
    }
   ],
   "source": [
    "# List items are ordered, indexed, retain their  type\n",
    "first_item = strings_list[0]  #! index from zero\n",
    "first_item"
   ]
  },
  {
   "cell_type": "code",
   "execution_count": 12,
   "metadata": {
    "ExecuteTime": {
     "end_time": "2025-03-20T16:05:23.375015Z",
     "start_time": "2025-03-20T16:05:23.371845Z"
    }
   },
   "outputs": [
    {
     "data": {
      "text/plain": [
       "'k'"
      ]
     },
     "execution_count": 12,
     "metadata": {},
     "output_type": "execute_result"
    }
   ],
   "source": [
    "strings_list[0][2]"
   ]
  },
  {
   "cell_type": "code",
   "execution_count": 13,
   "metadata": {
    "ExecuteTime": {
     "end_time": "2025-03-20T16:05:23.429810Z",
     "start_time": "2025-03-20T16:05:23.427694Z"
    },
    "colab": {
     "base_uri": "https://localhost:8080/"
    },
    "id": "bGq9wslkmZyZ",
    "outputId": "7d2d0d98-2168-4204-f8d8-3b0e7982b213"
   },
   "outputs": [
    {
     "name": "stdout",
     "output_type": "stream",
     "text": [
      "3rd letter of 1st item: k \n",
      "\n"
     ]
    }
   ],
   "source": [
    "## Since strings are ordered sequences as well:\n",
    "third_letter_first_item = strings_list[0][2]\n",
    "\n",
    "print(f'3rd letter of 1st item: {third_letter_first_item} \\n')"
   ]
  },
  {
   "cell_type": "code",
   "execution_count": 14,
   "metadata": {
    "ExecuteTime": {
     "end_time": "2025-03-20T16:05:23.486453Z",
     "start_time": "2025-03-20T16:05:23.483127Z"
    },
    "colab": {
     "base_uri": "https://localhost:8080/"
    },
    "id": "Q2LVawtXmebK",
    "outputId": "61455307-5da8-4073-bf53-54df01881beb"
   },
   "outputs": [
    {
     "data": {
      "text/plain": [
       "['nikos',\n",
       " 'has a',\n",
       " 'lovely',\n",
       " 'cat',\n",
       " 'nikos',\n",
       " 'has a',\n",
       " 'lovely',\n",
       " 'cat',\n",
       " 'nikos',\n",
       " 'has a',\n",
       " 'lovely',\n",
       " 'cat']"
      ]
     },
     "execution_count": 14,
     "metadata": {},
     "output_type": "execute_result"
    }
   ],
   "source": [
    "# Lists can be multiplied, added, result is a new list\n",
    "strings_list*3"
   ]
  },
  {
   "cell_type": "code",
   "execution_count": 15,
   "metadata": {
    "ExecuteTime": {
     "end_time": "2025-03-20T16:05:23.541414Z",
     "start_time": "2025-03-20T16:05:23.538437Z"
    },
    "colab": {
     "base_uri": "https://localhost:8080/"
    },
    "id": "mbteuT7kmhGB",
    "outputId": "ce709dcb-8554-4220-ee62-99fe778ce77c"
   },
   "outputs": [
    {
     "name": "stdout",
     "output_type": "stream",
     "text": [
      "['nikos', 'has a', 'lovely', 'cat', 'and wants', 2, 'dogs']\n"
     ]
    }
   ],
   "source": [
    "# When adding lists, items from both lists are ordered\n",
    "added_list = strings_list + ['and wants', 2, 'dogs']\n",
    "\n",
    "print(added_list)"
   ]
  },
  {
   "cell_type": "markdown",
   "metadata": {
    "id": "OkZ5sE5QIGP2"
   },
   "source": [
    "\n",
    "### 1.2. List Slicing."
   ]
  },
  {
   "cell_type": "code",
   "execution_count": 16,
   "metadata": {
    "ExecuteTime": {
     "end_time": "2025-03-20T16:05:23.593090Z",
     "start_time": "2025-03-20T16:05:23.590666Z"
    }
   },
   "outputs": [
    {
     "data": {
      "text/plain": [
       "['nikos', 'has a', 'lovely', 'cat']"
      ]
     },
     "execution_count": 16,
     "metadata": {},
     "output_type": "execute_result"
    }
   ],
   "source": [
    "strings_list"
   ]
  },
  {
   "cell_type": "code",
   "execution_count": 17,
   "metadata": {
    "ExecuteTime": {
     "end_time": "2025-03-20T16:05:23.651265Z",
     "start_time": "2025-03-20T16:05:23.647434Z"
    },
    "colab": {
     "base_uri": "https://localhost:8080/"
    },
    "id": "NUNRfM-jLL5f",
    "outputId": "852b2741-bf30-4b68-c0f8-e3d8bdf93877"
   },
   "outputs": [
    {
     "name": "stdout",
     "output_type": "stream",
     "text": [
      "New value of 1st item):\n",
      " ['john', 'has a', 'lovely', 'cat']\n",
      "\n"
     ]
    }
   ],
   "source": [
    "# Lists are mutable\n",
    "# Make a copy to mutate it if you need to keep the  original list\n",
    "to_mutate_list = strings_list.copy()\n",
    "\n",
    "to_mutate_list[0] = 'john'  # assing new value to first item\n",
    "\n",
    "print(f'New value of 1st item):\\n {to_mutate_list}\\n')"
   ]
  },
  {
   "cell_type": "code",
   "execution_count": 18,
   "metadata": {
    "ExecuteTime": {
     "end_time": "2025-03-20T16:05:23.701847Z",
     "start_time": "2025-03-20T16:05:23.699064Z"
    },
    "colab": {
     "base_uri": "https://localhost:8080/"
    },
    "id": "UuRsQmX0mkTS",
    "outputId": "b3fda196-1ec6-4106-80a0-5227ca546ec0"
   },
   "outputs": [
    {
     "name": "stdout",
     "output_type": "stream",
     "text": [
      "All items can change:\n",
      " ['v', 'i', 'r', 'u', 's', 'lovely', 'cat']\n",
      "\n"
     ]
    }
   ],
   "source": [
    "# Mutate list using slicing\n",
    "to_mutate_list[0:2] = 'virus' # assing a letter to each item place, ! letters > items\n",
    "\n",
    "print(f'All items can change:\\n {to_mutate_list}\\n')"
   ]
  },
  {
   "cell_type": "markdown",
   "metadata": {},
   "source": [
    "#### Note: Only with practice you may identify which operations mutate a list.\n",
    "List concatenation does not work **in-place**."
   ]
  },
  {
   "cell_type": "code",
   "execution_count": 19,
   "metadata": {
    "ExecuteTime": {
     "end_time": "2025-03-20T16:05:23.756622Z",
     "start_time": "2025-03-20T16:05:23.751786Z"
    }
   },
   "outputs": [
    {
     "data": {
      "text/plain": [
       "['nikos', 'has a', 'lovely', 'cat', 'and wants', 2, 'dogs', 'help']"
      ]
     },
     "execution_count": 19,
     "metadata": {},
     "output_type": "execute_result"
    }
   ],
   "source": [
    "added_list + [\"help\"]  # not in place, just another view of operation resulta"
   ]
  },
  {
   "cell_type": "code",
   "execution_count": 20,
   "metadata": {
    "ExecuteTime": {
     "end_time": "2025-03-20T16:05:23.819310Z",
     "start_time": "2025-03-20T16:05:23.815869Z"
    }
   },
   "outputs": [
    {
     "data": {
      "text/plain": [
       "['nikos', 'has a', 'lovely', 'cat', 'and wants', 2, 'dogs']"
      ]
     },
     "execution_count": 20,
     "metadata": {},
     "output_type": "execute_result"
    }
   ],
   "source": [
    "added_list"
   ]
  },
  {
   "cell_type": "code",
   "execution_count": 21,
   "metadata": {
    "ExecuteTime": {
     "end_time": "2025-03-20T16:05:23.863408Z",
     "start_time": "2025-03-20T16:05:23.861165Z"
    }
   },
   "outputs": [],
   "source": [
    "## TypeError: can only concatenate list (not \"str\") to list\n",
    "\n",
    "## CONCATENATE is a word you should know in programming\n",
    "\n",
    "# added_list + \"help\""
   ]
  },
  {
   "cell_type": "markdown",
   "metadata": {},
   "source": [
    "#### NOTE: Slicing DOES NOT include the last index (Not inclusive operation)."
   ]
  },
  {
   "cell_type": "markdown",
   "metadata": {
    "id": "ySZ1s3MkLLFu"
   },
   "source": [
    "### 1.3 List functions and methods.\n",
    "> Basic functions on lists: len(), [sorted()](https://docs.python.org/3/howto/sorting.html#sortinghowto).  \n",
    "> [List methods](https://docs.python.org/3/tutorial/datastructures.html) examples.   \n",
    "> Mind the different syntax of object methods.  "
   ]
  },
  {
   "cell_type": "code",
   "execution_count": 22,
   "metadata": {
    "ExecuteTime": {
     "end_time": "2025-03-20T16:05:23.920248Z",
     "start_time": "2025-03-20T16:05:23.917287Z"
    }
   },
   "outputs": [],
   "source": [
    "strings_list = ['nikos', 'has a', 'lovely', 'cat']"
   ]
  },
  {
   "cell_type": "markdown",
   "metadata": {},
   "source": [
    "### Note: append works in place!\n",
    "**In place** means that the operation modifies the object itself without reassignment to the same name, without creating a new object. The object retains its identity (i.e., its memory address does not change).\n",
    "This is called **mutating** the object."
   ]
  },
  {
   "cell_type": "markdown",
   "metadata": {},
   "source": [
    "### 1.4 Operations that modify a list \"in-place\".\n",
    "Accurately speaking: operations that **\"Mutate\"** a list)"
   ]
  },
  {
   "cell_type": "code",
   "execution_count": 23,
   "metadata": {
    "ExecuteTime": {
     "end_time": "2025-03-20T16:05:23.965519Z",
     "start_time": "2025-03-20T16:05:23.962826Z"
    }
   },
   "outputs": [],
   "source": [
    "# Initialize a list\n",
    "my_list = [1, 2, 3]"
   ]
  },
  {
   "cell_type": "code",
   "execution_count": 24,
   "metadata": {
    "ExecuteTime": {
     "end_time": "2025-03-20T16:05:24.013751Z",
     "start_time": "2025-03-20T16:05:24.010662Z"
    }
   },
   "outputs": [
    {
     "name": "stdout",
     "output_type": "stream",
     "text": [
      "[1, 2, 3, 4]\n"
     ]
    }
   ],
   "source": [
    "# Append an element (in-place)\n",
    "my_list.append(4)\n",
    "print(my_list)  # Output: [1, 2, 3, 4]"
   ]
  },
  {
   "cell_type": "code",
   "execution_count": 25,
   "metadata": {
    "ExecuteTime": {
     "end_time": "2025-03-20T16:05:24.063675Z",
     "start_time": "2025-03-20T16:05:24.060507Z"
    }
   },
   "outputs": [
    {
     "name": "stdout",
     "output_type": "stream",
     "text": [
      "[1, 2, 3, 4, 5, 6]\n"
     ]
    }
   ],
   "source": [
    "# Extend the list with another list (in-place)\n",
    "my_list.extend([5, 6])\n",
    "print(my_list)  # Output: [1, 2, 3, 4, 5, 6]"
   ]
  },
  {
   "cell_type": "code",
   "execution_count": 26,
   "metadata": {
    "ExecuteTime": {
     "end_time": "2025-03-20T16:05:24.115511Z",
     "start_time": "2025-03-20T16:05:24.112415Z"
    }
   },
   "outputs": [
    {
     "name": "stdout",
     "output_type": "stream",
     "text": [
      "[1, 2, 3, 4, 5, 6]\n"
     ]
    }
   ],
   "source": [
    "# Sort the list (in-place)\n",
    "my_list.sort()\n",
    "print(my_list)  # Output: [1, 2, 3, 4, 5, 6]"
   ]
  },
  {
   "cell_type": "code",
   "execution_count": 27,
   "metadata": {
    "ExecuteTime": {
     "end_time": "2025-03-20T16:05:24.172689Z",
     "start_time": "2025-03-20T16:05:24.169619Z"
    }
   },
   "outputs": [
    {
     "name": "stdout",
     "output_type": "stream",
     "text": [
      "[6, 5, 4, 3, 2, 1]\n"
     ]
    }
   ],
   "source": [
    "# Reverse the list (in-place)\n",
    "my_list.reverse()\n",
    "print(my_list)  # Output: [6, 5, 4, 3, 2, 1]"
   ]
  },
  {
   "cell_type": "code",
   "execution_count": 28,
   "metadata": {
    "ExecuteTime": {
     "end_time": "2025-03-20T16:05:24.223982Z",
     "start_time": "2025-03-20T16:05:24.221483Z"
    }
   },
   "outputs": [
    {
     "name": "stdout",
     "output_type": "stream",
     "text": [
      "[6, 5, 3, 2, 1]\n"
     ]
    }
   ],
   "source": [
    "# Remove an element by value (in-place)\n",
    "my_list.remove(4)\n",
    "print(my_list)  # Output: [6, 5, 3, 2, 1]"
   ]
  },
  {
   "cell_type": "code",
   "execution_count": 29,
   "metadata": {
    "ExecuteTime": {
     "end_time": "2025-03-20T16:05:24.285441Z",
     "start_time": "2025-03-20T16:05:24.282661Z"
    }
   },
   "outputs": [
    {
     "name": "stdout",
     "output_type": "stream",
     "text": [
      "[6, 5, 2, 1]\n"
     ]
    }
   ],
   "source": [
    "# Pop an element by index (in-place)\n",
    "my_list.pop(2)\n",
    "print(my_list)  # Output: [6, 5, 2, 1]\n"
   ]
  },
  {
   "cell_type": "code",
   "execution_count": 30,
   "metadata": {
    "ExecuteTime": {
     "end_time": "2025-03-20T16:05:24.339864Z",
     "start_time": "2025-03-20T16:05:24.336859Z"
    }
   },
   "outputs": [
    {
     "name": "stdout",
     "output_type": "stream",
     "text": [
      "[]\n"
     ]
    }
   ],
   "source": [
    "# Clear all elements from the list (in-place)\n",
    "my_list.clear()\n",
    "print(my_list)  # Output: []"
   ]
  },
  {
   "cell_type": "markdown",
   "metadata": {},
   "source": [
    "#### Methods to split an object as alist and join a list as a string"
   ]
  },
  {
   "cell_type": "code",
   "execution_count": 31,
   "metadata": {
    "ExecuteTime": {
     "end_time": "2025-03-20T16:05:24.393572Z",
     "start_time": "2025-03-20T16:05:24.390223Z"
    },
    "colab": {
     "base_uri": "https://localhost:8080/"
    },
    "id": "tasfA6kEm0Cy",
    "outputId": "06e9798c-cb1b-4fae-dc01-511012b06f8d"
   },
   "outputs": [
    {
     "data": {
      "text/plain": [
       "['T',\n",
       " 'h',\n",
       " 'i',\n",
       " 's',\n",
       " ' ',\n",
       " 'i',\n",
       " 's',\n",
       " ' ',\n",
       " 'p',\n",
       " 'y',\n",
       " 't',\n",
       " 'h',\n",
       " 'o',\n",
       " 'n',\n",
       " 'i',\n",
       " 'c']"
      ]
     },
     "execution_count": 31,
     "metadata": {},
     "output_type": "execute_result"
    }
   ],
   "source": [
    "# Convert characters of string to list\n",
    "string_example = \"This is pythonic\"\n",
    "list_of_characters = list(string_example) # converts every charachter to list item\n",
    "list_of_characters"
   ]
  },
  {
   "cell_type": "code",
   "execution_count": 32,
   "metadata": {
    "ExecuteTime": {
     "end_time": "2025-03-20T16:05:24.450701Z",
     "start_time": "2025-03-20T16:05:24.447034Z"
    },
    "colab": {
     "base_uri": "https://localhost:8080/"
    },
    "id": "DsmmOjRL6iiY",
    "outputId": "720b192f-f655-4328-fb65-b27934f432c0"
   },
   "outputs": [
    {
     "name": "stdout",
     "output_type": "stream",
     "text": [
      "Convert characters to list:\n",
      "  This is pythonic\n",
      "  ['T', 'h', 'i', 's', ' ', 'i', 's', ' ', 'p', 'y', 't', 'h', 'o', 'n', 'i', 'c']\n"
     ]
    }
   ],
   "source": [
    "print('Convert characters to list:')\n",
    "print(' ', string_example)\n",
    "print(' ', list_of_characters)"
   ]
  },
  {
   "cell_type": "code",
   "execution_count": 33,
   "metadata": {
    "ExecuteTime": {
     "end_time": "2025-03-20T16:05:24.503633Z",
     "start_time": "2025-03-20T16:05:24.500545Z"
    },
    "colab": {
     "base_uri": "https://localhost:8080/"
    },
    "id": "Gjq_FHNi6UTn",
    "outputId": "8f1691f2-7b15-4262-b609-0109608e9a34"
   },
   "outputs": [
    {
     "name": "stdout",
     "output_type": "stream",
     "text": [
      "\n",
      "Join items of list:\n"
     ]
    }
   ],
   "source": [
    "print('\\nJoin items of list:')\n",
    "\n",
    "# Join items of a list\n",
    "joined_items_list = ''.join(list_of_characters) #join and use blank space as separator"
   ]
  },
  {
   "cell_type": "code",
   "execution_count": 34,
   "metadata": {
    "ExecuteTime": {
     "end_time": "2025-03-20T16:05:24.558557Z",
     "start_time": "2025-03-20T16:05:24.555338Z"
    }
   },
   "outputs": [
    {
     "data": {
      "text/plain": [
       "'This is pythonic'"
      ]
     },
     "execution_count": 34,
     "metadata": {},
     "output_type": "execute_result"
    }
   ],
   "source": [
    "joined_items_list"
   ]
  },
  {
   "cell_type": "code",
   "execution_count": 35,
   "metadata": {
    "ExecuteTime": {
     "end_time": "2025-03-20T16:05:24.607193Z",
     "start_time": "2025-03-20T16:05:24.604676Z"
    }
   },
   "outputs": [],
   "source": [
    "#joined_items_list = '?'.join(list_of_characters) #join and use blank space as separator\n",
    "#print(' ', joined_items_list)"
   ]
  },
  {
   "cell_type": "code",
   "execution_count": 36,
   "metadata": {
    "ExecuteTime": {
     "end_time": "2025-03-20T16:05:24.665579Z",
     "start_time": "2025-03-20T16:05:24.663347Z"
    },
    "id": "I_euO8jO6SPA"
   },
   "outputs": [],
   "source": [
    "# List methods overview\n",
    "# print('\\nTo get help for method:\\n help(function.method)\\n')\n",
    "# help(list)\n",
    "# help(list.append)"
   ]
  },
  {
   "cell_type": "markdown",
   "metadata": {},
   "source": [
    "#### Note: From python [FAQ on list and mutability](https://docs.python.org/3/faq/programming.html#why-did-changing-list-y-also-change-list-x)"
   ]
  },
  {
   "cell_type": "markdown",
   "metadata": {
    "id": "UX5Xs-yV5JjV"
   },
   "source": [
    "## 2. Tuples.\n",
    "Denoted with ( )  \n",
    "Iterable **Immutable** sequences, *typically* used to store collections of **heterogeneous** [data](https://docs.python.org/3/tutorial/datastructures.html#tuples-and-sequences).\n",
    "\n",
    ">[built-in data types](https://docs.python.org/3/library/stdtypes.html#tuple)  \n",
    "> tuple() [built-in function](https://docs.python.org/3/library/functions.html#func-tuple)  \n",
    "> Indexing.  \n",
    "> Slicing.  \n",
    "> Basic functions on Tuples [common for all sequence types](https://docs.python.org/3/library/stdtypes.html#typesseq-common).   \n",
    "\n",
    "\n"
   ]
  },
  {
   "cell_type": "code",
   "execution_count": 37,
   "metadata": {
    "ExecuteTime": {
     "end_time": "2025-03-20T16:05:24.719738Z",
     "start_time": "2025-03-20T16:05:24.716728Z"
    }
   },
   "outputs": [],
   "source": [
    "name_of_teacher_that_talks_too_fast = \"Thanasis\""
   ]
  },
  {
   "cell_type": "markdown",
   "metadata": {},
   "source": [
    "The tuple below contains a string, an integer, a list and a variable."
   ]
  },
  {
   "cell_type": "code",
   "execution_count": 38,
   "metadata": {
    "ExecuteTime": {
     "end_time": "2025-03-20T16:05:24.760592Z",
     "start_time": "2025-03-20T16:05:24.758379Z"
    },
    "id": "os7SQ4OO62Qj"
   },
   "outputs": [],
   "source": [
    "a_boring_tuple = (\"hi\", 3, [\"an item of a list\", \"another item in that list\"], name_of_teacher_that_talks_too_fast)"
   ]
  },
  {
   "cell_type": "code",
   "execution_count": 39,
   "metadata": {
    "ExecuteTime": {
     "end_time": "2025-03-20T16:05:24.815090Z",
     "start_time": "2025-03-20T16:05:24.812232Z"
    }
   },
   "outputs": [
    {
     "data": {
      "text/plain": [
       "tuple"
      ]
     },
     "execution_count": 39,
     "metadata": {},
     "output_type": "execute_result"
    }
   ],
   "source": [
    "type(a_boring_tuple)"
   ]
  },
  {
   "cell_type": "code",
   "execution_count": 40,
   "metadata": {
    "ExecuteTime": {
     "end_time": "2025-03-20T16:05:24.875398Z",
     "start_time": "2025-03-20T16:05:24.872248Z"
    },
    "tags": []
   },
   "outputs": [
    {
     "data": {
      "text/plain": [
       "('hi', 3, ['an item of a list', 'another item in that list'], 'Thanasis')"
      ]
     },
     "execution_count": 40,
     "metadata": {},
     "output_type": "execute_result"
    }
   ],
   "source": [
    "a_boring_tuple"
   ]
  },
  {
   "cell_type": "markdown",
   "metadata": {},
   "source": [
    "### 2.1 Indexing a tuple"
   ]
  },
  {
   "cell_type": "code",
   "execution_count": 41,
   "metadata": {
    "ExecuteTime": {
     "end_time": "2025-03-20T16:05:24.934649Z",
     "start_time": "2025-03-20T16:05:24.931786Z"
    }
   },
   "outputs": [
    {
     "data": {
      "text/plain": [
       "3"
      ]
     },
     "execution_count": 41,
     "metadata": {},
     "output_type": "execute_result"
    }
   ],
   "source": [
    "# The second item of a borin tuple:\n",
    "a_boring_tuple[1]"
   ]
  },
  {
   "cell_type": "markdown",
   "metadata": {},
   "source": [
    "## 2.2 Slicing a tuple"
   ]
  },
  {
   "cell_type": "code",
   "execution_count": 42,
   "metadata": {
    "ExecuteTime": {
     "end_time": "2025-03-20T16:05:24.991592Z",
     "start_time": "2025-03-20T16:05:24.988490Z"
    }
   },
   "outputs": [
    {
     "data": {
      "text/plain": [
       "(3, ['an item of a list', 'another item in that list'], 'Thanasis')"
      ]
     },
     "execution_count": 42,
     "metadata": {},
     "output_type": "execute_result"
    }
   ],
   "source": [
    "# The second, third and fourth item of that very very boring tuple.\n",
    "a_boring_tuple[1:4]"
   ]
  },
  {
   "cell_type": "markdown",
   "metadata": {},
   "source": [
    "Function outputs are oftenly returned as a tuple.  \n",
    "Example with divmod function."
   ]
  },
  {
   "cell_type": "code",
   "execution_count": 43,
   "metadata": {
    "ExecuteTime": {
     "end_time": "2025-03-20T16:05:25.045216Z",
     "start_time": "2025-03-20T16:05:25.042786Z"
    }
   },
   "outputs": [],
   "source": [
    "result_and_remainder_of_integer_division = divmod(9, 6)  # (9 divided by 6) = 1 . The remainder = 3"
   ]
  },
  {
   "cell_type": "code",
   "execution_count": 44,
   "metadata": {
    "ExecuteTime": {
     "end_time": "2025-03-20T16:05:25.095201Z",
     "start_time": "2025-03-20T16:05:25.091935Z"
    },
    "tags": []
   },
   "outputs": [
    {
     "data": {
      "text/plain": [
       "(1, 3)"
      ]
     },
     "execution_count": 44,
     "metadata": {},
     "output_type": "execute_result"
    }
   ],
   "source": [
    "result_and_remainder_of_integer_division"
   ]
  },
  {
   "cell_type": "code",
   "execution_count": 45,
   "metadata": {
    "ExecuteTime": {
     "end_time": "2025-03-20T16:05:25.150487Z",
     "start_time": "2025-03-20T16:05:25.146996Z"
    },
    "tags": []
   },
   "outputs": [
    {
     "data": {
      "text/plain": [
       "tuple"
      ]
     },
     "execution_count": 45,
     "metadata": {},
     "output_type": "execute_result"
    }
   ],
   "source": [
    "type(result_and_remainder_of_integer_division)"
   ]
  },
  {
   "cell_type": "markdown",
   "metadata": {},
   "source": [
    "## 3. Sets.\n",
    "For those weird people like 'you know who' that always want extra reading.\n",
    "\n",
    ">[built-in data type](https://docs.python.org/3/library/stdtypes.html#set-types-set-frozenset)     \n",
    "Unordered collection of distinct hashable objects.  \n",
    "\n",
    "Common uses include:   \n",
    "* membership testing,\n",
    "* removing duplicates from a sequence,\n",
    "* computing mathematical operations such as:\n",
    "    * intersection,\n",
    "    * union,\n",
    "    * difference,\n",
    "    * symmetric difference.   "
   ]
  },
  {
   "cell_type": "markdown",
   "metadata": {},
   "source": [
    "Go out for a walk!"
   ]
  },
  {
   "cell_type": "code",
   "execution_count": null,
   "metadata": {
    "ExecuteTime": {
     "end_time": "2025-03-20T16:05:25.201205Z",
     "start_time": "2025-03-20T16:05:25.199156Z"
    }
   },
   "outputs": [],
   "source": []
  }
 ],
 "metadata": {
  "colab": {
   "collapsed_sections": [],
   "name": "lecture_c.ipynb",
   "provenance": []
  },
  "kernelspec": {
   "display_name": "Python 3 (ipykernel)",
   "language": "python",
   "name": "python3"
  },
  "language_info": {
   "codemirror_mode": {
    "name": "ipython",
    "version": 3
   },
   "file_extension": ".py",
   "mimetype": "text/x-python",
   "name": "python",
   "nbconvert_exporter": "python",
   "pygments_lexer": "ipython3",
   "version": "3.12.9"
  }
 },
 "nbformat": 4,
 "nbformat_minor": 4
}
