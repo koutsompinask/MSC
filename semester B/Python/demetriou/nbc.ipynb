{
 "cells": [
  {
   "cell_type": "code",
   "execution_count": 34,
   "id": "5aafa0f8",
   "metadata": {},
   "outputs": [],
   "source": [
    "# Importing necessary libraries...\n",
    "import collections \n",
    "import numpy as np\n",
    "from math import sqrt, exp\n",
    "def pre_prob(y):\n",
    "    y_dict = collections.Counter(y)\n",
    "    pre_probab = np.ones(2)\n",
    "    for i in range(0, 2):\n",
    "        pre_probab[i] = y_dict[i]/y.shape[0]\n",
    "    return pre_probab\n"
   ]
  },
  {
   "cell_type": "code",
   "execution_count": 3,
   "id": "71f9554a",
   "metadata": {},
   "outputs": [],
   "source": [
    "def mean_var(X, y):\n",
    "    n_features = X.shape[1]\n",
    "    m = np.ones((2, n_features))\n",
    "    v = np.ones((2, n_features))\n",
    "    n_0 = np.bincount(y)[np.nonzero(np.bincount(y))[0]][0]\n",
    "    x0 = np.ones((n_0, n_features))\n",
    "    x1 = np.ones((X.shape[0] - n_0, n_features))\n",
    "    \n",
    "    k = 0\n",
    "    for i in range(0, X.shape[0]):\n",
    "        if y[i] == 0:\n",
    "            x0[k] = X[i]\n",
    "            k = k + 1\n",
    "    k = 0\n",
    "    for i in range(0, X.shape[0]):\n",
    "        if y[i] == 1:\n",
    "            x1[k] = X[i]\n",
    "            k = k + 1\n",
    "    for j in range(0, n_features):\n",
    "        m[0][j] = np.mean(x0.T[j])\n",
    "        v[0][j] = np.var(x0.T[j])*(n_0/(n_0 - 1))\n",
    "        m[1][j] = np.mean(x1.T[j])\n",
    "        v[1][j] = np.var(x1.T[j])*((X.shape[0]-n_0)/((X.shape[0]\n",
    "                                                      - n_0) - 1))\n",
    "    return m, v # mean and variance \n",
    "\n"
   ]
  },
  {
   "cell_type": "code",
   "execution_count": 4,
   "id": "2880f863",
   "metadata": {},
   "outputs": [],
   "source": [
    "def prob_feature_class(m, v, x):\n",
    "    n_features = m.shape[1]\n",
    "    pfc = np.ones(2)\n",
    "    for i in range(0, 2):\n",
    "        product = 1\n",
    "        for j in range(0, n_features):\n",
    "            product = product * (1/sqrt(2*3.14*v[i][j])) * exp(-0.5\n",
    "                                 * pow((x[j] - m[i][j]),2)/v[i][j])\n",
    "        pfc[i] = product\n",
    "    return pfc\n"
   ]
  },
  {
   "cell_type": "code",
   "execution_count": 5,
   "id": "aed68443",
   "metadata": {},
   "outputs": [],
   "source": [
    "def GNB(X, y, x):\n",
    "    m, v = mean_var(X, y)\n",
    "    pfc = prob_feature_class(m, v, x)\n",
    "    pre_probab = pre_prob(y)\n",
    "    pcf = np.ones(2)\n",
    "    total_prob = 0\n",
    "    for i in range(0, 2):\n",
    "        total_prob = total_prob + (pfc[i] * pre_probab[i])\n",
    "    for i in range(0, 2):\n",
    "        pcf[i] = (pfc[i] * pre_probab[i])/total_prob\n",
    "    prediction = int(pcf.argmax())\n",
    "    return m, v, pre_probab, pfc, pcf, prediction\n"
   ]
  },
  {
   "cell_type": "code",
   "execution_count": 32,
   "id": "387459b0",
   "metadata": {},
   "outputs": [
    {
     "data": {
      "text/html": [
       "<div>\n",
       "<style scoped>\n",
       "    .dataframe tbody tr th:only-of-type {\n",
       "        vertical-align: middle;\n",
       "    }\n",
       "\n",
       "    .dataframe tbody tr th {\n",
       "        vertical-align: top;\n",
       "    }\n",
       "\n",
       "    .dataframe thead th {\n",
       "        text-align: right;\n",
       "    }\n",
       "</style>\n",
       "<table border=\"1\" class=\"dataframe\">\n",
       "  <thead>\n",
       "    <tr style=\"text-align: right;\">\n",
       "      <th></th>\n",
       "      <th>h</th>\n",
       "      <th>w</th>\n",
       "      <th>f</th>\n",
       "      <th>C</th>\n",
       "    </tr>\n",
       "  </thead>\n",
       "  <tbody>\n",
       "    <tr>\n",
       "      <th>0</th>\n",
       "      <td>6.00</td>\n",
       "      <td>180</td>\n",
       "      <td>12</td>\n",
       "      <td>m</td>\n",
       "    </tr>\n",
       "    <tr>\n",
       "      <th>1</th>\n",
       "      <td>5.92</td>\n",
       "      <td>190</td>\n",
       "      <td>11</td>\n",
       "      <td>m</td>\n",
       "    </tr>\n",
       "    <tr>\n",
       "      <th>2</th>\n",
       "      <td>5.58</td>\n",
       "      <td>170</td>\n",
       "      <td>12</td>\n",
       "      <td>m</td>\n",
       "    </tr>\n",
       "    <tr>\n",
       "      <th>3</th>\n",
       "      <td>5.92</td>\n",
       "      <td>165</td>\n",
       "      <td>10</td>\n",
       "      <td>m</td>\n",
       "    </tr>\n",
       "    <tr>\n",
       "      <th>4</th>\n",
       "      <td>5.00</td>\n",
       "      <td>100</td>\n",
       "      <td>6</td>\n",
       "      <td>f</td>\n",
       "    </tr>\n",
       "    <tr>\n",
       "      <th>5</th>\n",
       "      <td>5.50</td>\n",
       "      <td>150</td>\n",
       "      <td>8</td>\n",
       "      <td>f</td>\n",
       "    </tr>\n",
       "    <tr>\n",
       "      <th>6</th>\n",
       "      <td>5.42</td>\n",
       "      <td>130</td>\n",
       "      <td>7</td>\n",
       "      <td>f</td>\n",
       "    </tr>\n",
       "    <tr>\n",
       "      <th>7</th>\n",
       "      <td>5.75</td>\n",
       "      <td>150</td>\n",
       "      <td>9</td>\n",
       "      <td>f</td>\n",
       "    </tr>\n",
       "  </tbody>\n",
       "</table>\n",
       "</div>"
      ],
      "text/plain": [
       "      h    w   f  C\n",
       "0  6.00  180  12  m\n",
       "1  5.92  190  11  m\n",
       "2  5.58  170  12  m\n",
       "3  5.92  165  10  m\n",
       "4  5.00  100   6  f\n",
       "5  5.50  150   8  f\n",
       "6  5.42  130   7  f\n",
       "7  5.75  150   9  f"
      ]
     },
     "execution_count": 32,
     "metadata": {},
     "output_type": "execute_result"
    }
   ],
   "source": [
    "import pandas as pd\n",
    "import numpy as np\n",
    "data = pd.read_csv('data-male-female.csv', delimiter = ';')\n",
    "data.head(8)\n"
   ]
  },
  {
   "cell_type": "code",
   "execution_count": 28,
   "id": "f62b77ac",
   "metadata": {},
   "outputs": [],
   "source": [
    "# converting from pandas to numpy ...\n",
    "X_train = np.array(data.iloc[:,[0,1,2]])\n",
    "y_train = np.array(data['C'])\n",
    "x = np.array([6, 130, 8]) # test instance used in Wikipedia\n"
   ]
  },
  {
   "cell_type": "code",
   "execution_count": 29,
   "id": "e351b0bc",
   "metadata": {},
   "outputs": [],
   "source": [
    "# executing the Gaussian Naive Bayes for the test instance...\n",
    "# Ensure y_train is of integer type (0 for 'f', 1 for 'm')\n",
    "y_train = np.array([0 if c == 'f' else 1 for c in data['C']], dtype=int)"
   ]
  },
  {
   "cell_type": "code",
   "execution_count": 35,
   "id": "0a4e23a6",
   "metadata": {},
   "outputs": [
    {
     "name": "stdout",
     "output_type": "stream",
     "text": [
      "[[  5.4175 132.5      7.5   ]\n",
      " [  5.855  176.25    11.25  ]]\n",
      "[[9.72250000e-02 5.58333333e+02 1.66666667e+00]\n",
      " [3.50333333e-02 1.22916667e+02 9.16666667e-01]]\n",
      "[0.5 0.5]\n",
      "[1.07640027e-03 1.24035746e-08]\n",
      "[9.99988477e-01 1.15230663e-05]\n",
      "0\n"
     ]
    }
   ],
   "source": [
    "m, v, pre_probab, pfc, pcf, prediction = GNB(X_train, y_train, x)\n",
    "print(m) # Output given below...(mean for 2 classes of all features)\n",
    "print(v) # Output given below..(variance for 2 classes of features)\n",
    "print(pre_probab) # Output given below.........(prior probabilities)\n",
    "print(pfc) # Output given below............(posterior probabilities)\n",
    "print(pcf) # Conditional Probability of the classes given test-data\n",
    "print(prediction) # Output given below............(final prediction)"
   ]
  }
 ],
 "metadata": {
  "kernelspec": {
   "display_name": ".venv-assignment",
   "language": "python",
   "name": "python3"
  },
  "language_info": {
   "codemirror_mode": {
    "name": "ipython",
    "version": 3
   },
   "file_extension": ".py",
   "mimetype": "text/x-python",
   "name": "python",
   "nbconvert_exporter": "python",
   "pygments_lexer": "ipython3",
   "version": "3.12.9"
  }
 },
 "nbformat": 4,
 "nbformat_minor": 5
}
