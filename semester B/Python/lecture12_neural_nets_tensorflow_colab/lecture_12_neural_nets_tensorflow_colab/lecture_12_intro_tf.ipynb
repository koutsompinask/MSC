{
 "cells": [
  {
   "cell_type": "markdown",
   "id": "7d3e3d96-3162-4881-af84-1815cc9aac6b",
   "metadata": {},
   "source": [
    "# lecture 12. TF"
   ]
  },
  {
   "cell_type": "code",
   "execution_count": 2,
   "id": "e9d38672-5a73-4606-8f12-24227dd14097",
   "metadata": {
    "ExecuteTime": {
     "end_time": "2024-05-31T13:19:29.536008Z",
     "start_time": "2024-05-31T13:19:29.482702Z"
    }
   },
   "outputs": [
    {
     "name": "stderr",
     "output_type": "stream",
     "text": [
      "/tmp/ipykernel_21140/7591248.py:14: DeprecationWarning: `import kerastuner` is deprecated, please use `import keras_tuner`.\n",
      "  from kerastuner.tuners import RandomSearch\n"
     ]
    }
   ],
   "source": [
    "\n",
    "\n",
    "import numpy as np \n",
    "import pandas as pd \n",
    "import matplotlib.pyplot as plt\n",
    "import seaborn as sns\n",
    "import numpy as np # linear algebra\n",
    "import pandas as pd # data processing, CSV file I/O (e.g. pd.read_csv)\n",
    "from sklearn.preprocessing import MinMaxScaler\n",
    "from sklearn.preprocessing import LabelEncoder\n",
    "import matplotlib.pyplot as plt\n",
    "import seaborn as sns\n",
    "\n",
    "from keras.models import Sequential\n",
    "from keras.layers import Dense,Dropout\n",
    "from kerastuner.tuners import RandomSearch\n",
    "from kerastuner.engine.hyperparameters import HyperParameters\n",
    "\n",
    "import os\n",
    "import warnings\n",
    "\n",
    "from tensorflow import keras\n",
    "from tensorflow.keras import layers\n",
    "from kerastuner.tuners import RandomSearch\n",
    "warnings.filterwarnings('ignore')\n",
    "\n"
   ]
  },
  {
   "cell_type": "code",
   "execution_count": 3,
   "id": "63614bc7-3533-4724-974f-1e4aa51c5268",
   "metadata": {
    "ExecuteTime": {
     "end_time": "2024-05-31T13:19:30.229525Z",
     "start_time": "2024-05-31T13:19:29.812205Z"
    }
   },
   "outputs": [
    {
     "name": "stdout",
     "output_type": "stream",
     "text": [
      "Shape of train data is: (7352, 563)\n",
      "Shape of test data is: (2947, 563)\n"
     ]
    }
   ],
   "source": [
    "train_data = pd.read_csv('har_train.csv')\n",
    "test_data = pd.read_csv('har_test.csv')\n",
    "\n",
    "print(f'Shape of train data is: {train_data.shape}\\nShape of test data is: {test_data.shape}')"
   ]
  },
  {
   "cell_type": "code",
   "execution_count": 4,
   "id": "7c53bc04-634e-4684-a07c-b86e87ba5b12",
   "metadata": {
    "ExecuteTime": {
     "end_time": "2024-05-31T13:19:30.241634Z",
     "start_time": "2024-05-31T13:19:30.230411Z"
    }
   },
   "outputs": [
    {
     "data": {
      "text/plain": [
       "((7352, 561), (7352, 1))"
      ]
     },
     "execution_count": 4,
     "metadata": {},
     "output_type": "execute_result"
    }
   ],
   "source": [
    "\n",
    "\n",
    "x_train, y_train = train_data.iloc[:, :-2], train_data.iloc[:, -1:]\n",
    "x_test, y_test = test_data.iloc[:, :-2], test_data.iloc[:, -1:]\n",
    "x_train.shape, y_train.shape\n",
    "\n"
   ]
  },
  {
   "cell_type": "code",
   "execution_count": 5,
   "id": "e751c2cc-0d29-4078-a3bc-65a0bb9d1aed",
   "metadata": {
    "ExecuteTime": {
     "end_time": "2024-05-31T13:19:30.247018Z",
     "start_time": "2024-05-31T13:19:30.242223Z"
    }
   },
   "outputs": [
    {
     "data": {
      "text/plain": [
       "((2947, 561), (2947, 1))"
      ]
     },
     "execution_count": 5,
     "metadata": {},
     "output_type": "execute_result"
    }
   ],
   "source": [
    "x_test, y_test = test_data.iloc[:, :-2], test_data.iloc[:, -1:]\n",
    "x_test.shape, y_test.shape"
   ]
  },
  {
   "cell_type": "code",
   "execution_count": 6,
   "id": "abb67a3a-2d85-4b0c-8759-dbb5d11a3376",
   "metadata": {
    "ExecuteTime": {
     "end_time": "2024-05-31T13:19:30.402850Z",
     "start_time": "2024-05-31T13:19:30.397981Z"
    }
   },
   "outputs": [],
   "source": [
    "\n",
    "\n",
    "le = LabelEncoder()\n",
    "y_train = le.fit_transform(y_train)\n",
    "y_test = le.fit_transform(y_test)\n",
    "\n"
   ]
  },
  {
   "cell_type": "code",
   "execution_count": 7,
   "id": "1c71c047-7ae8-4bfb-b69e-b0f640d9f874",
   "metadata": {
    "ExecuteTime": {
     "end_time": "2024-05-31T13:19:30.856119Z",
     "start_time": "2024-05-31T13:19:30.853448Z"
    }
   },
   "outputs": [
    {
     "data": {
      "text/plain": [
       "((2947, 561), (2947,), (7352, 561), (7352,))"
      ]
     },
     "execution_count": 7,
     "metadata": {},
     "output_type": "execute_result"
    }
   ],
   "source": [
    "\n",
    "\n",
    "x_test.shape, y_test.shape, x_train.shape, y_train.shape\n",
    "\n"
   ]
  },
  {
   "cell_type": "code",
   "execution_count": 8,
   "id": "ad9f0198-856f-41c9-ba96-925f9a01babe",
   "metadata": {
    "ExecuteTime": {
     "end_time": "2024-05-31T13:19:31.078529Z",
     "start_time": "2024-05-31T13:19:31.047185Z"
    }
   },
   "outputs": [],
   "source": [
    "scaling_data = MinMaxScaler()\n",
    "x_train = scaling_data.fit_transform(x_train)\n",
    "x_test = scaling_data.transform(x_test)"
   ]
  },
  {
   "cell_type": "code",
   "execution_count": 9,
   "id": "b43d268e-069b-4c40-8edb-8a1990d4a2ed",
   "metadata": {
    "ExecuteTime": {
     "end_time": "2024-05-31T13:19:31.237214Z",
     "start_time": "2024-05-31T13:19:31.233831Z"
    }
   },
   "outputs": [],
   "source": [
    "model = Sequential()"
   ]
  },
  {
   "cell_type": "code",
   "execution_count": 10,
   "id": "5356f991-fb08-4ee6-a90d-9a8b760e52af",
   "metadata": {
    "ExecuteTime": {
     "end_time": "2024-05-31T13:19:31.540431Z",
     "start_time": "2024-05-31T13:19:31.429458Z"
    }
   },
   "outputs": [
    {
     "name": "stderr",
     "output_type": "stream",
     "text": [
      "2024-05-31 16:19:31.510480: I external/local_xla/xla/stream_executor/cuda/cuda_executor.cc:998] successful NUMA node read from SysFS had negative value (-1), but there must be at least one NUMA node, so returning NUMA node zero. See more at https://github.com/torvalds/linux/blob/v6.0/Documentation/ABI/testing/sysfs-bus-pci#L344-L355\n",
      "2024-05-31 16:19:31.511122: W tensorflow/core/common_runtime/gpu/gpu_device.cc:2251] Cannot dlopen some GPU libraries. Please make sure the missing libraries mentioned above are installed properly if you would like to use GPU. Follow the guide at https://www.tensorflow.org/install/gpu for how to download and setup the required libraries for your platform.\n",
      "Skipping registering GPU devices...\n"
     ]
    }
   ],
   "source": [
    "model.add(Dense(units=64,kernel_initializer='normal',activation='sigmoid',input_dim=x_train.shape[1]))"
   ]
  },
  {
   "cell_type": "code",
   "execution_count": 11,
   "id": "8133f847-a713-4a60-b12b-6bbe3569553b",
   "metadata": {
    "ExecuteTime": {
     "end_time": "2024-05-31T13:19:31.633827Z",
     "start_time": "2024-05-31T13:19:31.628154Z"
    }
   },
   "outputs": [],
   "source": [
    "model.add(Dropout(0.2))"
   ]
  },
  {
   "cell_type": "code",
   "execution_count": 12,
   "id": "fa17ec13-9e1f-44e0-a887-c1cfbb1923ce",
   "metadata": {
    "ExecuteTime": {
     "end_time": "2024-05-31T13:19:31.849383Z",
     "start_time": "2024-05-31T13:19:31.837843Z"
    }
   },
   "outputs": [],
   "source": [
    "model.add(Dense(units=6,kernel_initializer='normal',activation='softmax'))"
   ]
  },
  {
   "cell_type": "code",
   "execution_count": 13,
   "id": "60e6edb6-e75a-4a7e-9779-5215de67f293",
   "metadata": {
    "ExecuteTime": {
     "end_time": "2024-05-31T13:19:32.059528Z",
     "start_time": "2024-05-31T13:19:32.046845Z"
    }
   },
   "outputs": [],
   "source": [
    "model.compile(optimizer='adam',loss='sparse_categorical_crossentropy',metrics=['accuracy'])"
   ]
  },
  {
   "cell_type": "code",
   "execution_count": 14,
   "id": "89965e36-5c7c-4966-a80f-0acd88b2a2f1",
   "metadata": {
    "ExecuteTime": {
     "end_time": "2024-05-31T13:19:34.016254Z",
     "start_time": "2024-05-31T13:19:32.505011Z"
    }
   },
   "outputs": [
    {
     "name": "stdout",
     "output_type": "stream",
     "text": [
      "Epoch 1/10\n",
      "\u001b[1m115/115\u001b[0m \u001b[32m━━━━━━━━━━━━━━━━━━━━\u001b[0m\u001b[37m\u001b[0m \u001b[1m1s\u001b[0m 2ms/step - accuracy: 0.4059 - loss: 1.4951 - val_accuracy: 0.7767 - val_loss: 1.0221\n",
      "Epoch 2/10\n",
      "\u001b[1m115/115\u001b[0m \u001b[32m━━━━━━━━━━━━━━━━━━━━\u001b[0m\u001b[37m\u001b[0m \u001b[1m0s\u001b[0m 738us/step - accuracy: 0.6959 - loss: 0.9422 - val_accuracy: 0.8558 - val_loss: 0.7142\n",
      "Epoch 3/10\n",
      "\u001b[1m115/115\u001b[0m \u001b[32m━━━━━━━━━━━━━━━━━━━━\u001b[0m\u001b[37m\u001b[0m \u001b[1m0s\u001b[0m 824us/step - accuracy: 0.8072 - loss: 0.6489 - val_accuracy: 0.8721 - val_loss: 0.5226\n",
      "Epoch 4/10\n",
      "\u001b[1m115/115\u001b[0m \u001b[32m━━━━━━━━━━━━━━━━━━━━\u001b[0m\u001b[37m\u001b[0m \u001b[1m0s\u001b[0m 756us/step - accuracy: 0.8471 - loss: 0.4868 - val_accuracy: 0.8819 - val_loss: 0.4198\n",
      "Epoch 5/10\n",
      "\u001b[1m115/115\u001b[0m \u001b[32m━━━━━━━━━━━━━━━━━━━━\u001b[0m\u001b[37m\u001b[0m \u001b[1m0s\u001b[0m 741us/step - accuracy: 0.8755 - loss: 0.3988 - val_accuracy: 0.8982 - val_loss: 0.3550\n",
      "Epoch 6/10\n",
      "\u001b[1m115/115\u001b[0m \u001b[32m━━━━━━━━━━━━━━━━━━━━\u001b[0m\u001b[37m\u001b[0m \u001b[1m0s\u001b[0m 778us/step - accuracy: 0.9000 - loss: 0.3326 - val_accuracy: 0.8989 - val_loss: 0.3132\n",
      "Epoch 7/10\n",
      "\u001b[1m115/115\u001b[0m \u001b[32m━━━━━━━━━━━━━━━━━━━━\u001b[0m\u001b[37m\u001b[0m \u001b[1m0s\u001b[0m 903us/step - accuracy: 0.9037 - loss: 0.2940 - val_accuracy: 0.9131 - val_loss: 0.2770\n",
      "Epoch 8/10\n",
      "\u001b[1m115/115\u001b[0m \u001b[32m━━━━━━━━━━━━━━━━━━━━\u001b[0m\u001b[37m\u001b[0m \u001b[1m0s\u001b[0m 765us/step - accuracy: 0.9070 - loss: 0.2641 - val_accuracy: 0.9172 - val_loss: 0.2537\n",
      "Epoch 9/10\n",
      "\u001b[1m115/115\u001b[0m \u001b[32m━━━━━━━━━━━━━━━━━━━━\u001b[0m\u001b[37m\u001b[0m \u001b[1m0s\u001b[0m 740us/step - accuracy: 0.9212 - loss: 0.2326 - val_accuracy: 0.9223 - val_loss: 0.2301\n",
      "Epoch 10/10\n",
      "\u001b[1m115/115\u001b[0m \u001b[32m━━━━━━━━━━━━━━━━━━━━\u001b[0m\u001b[37m\u001b[0m \u001b[1m0s\u001b[0m 760us/step - accuracy: 0.9347 - loss: 0.2022 - val_accuracy: 0.9080 - val_loss: 0.2292\n"
     ]
    }
   ],
   "source": [
    "history = model.fit(x_train, y_train, batch_size = 64, epochs= 10,validation_data = (x_test,y_test))"
   ]
  },
  {
   "cell_type": "code",
   "execution_count": 15,
   "id": "1b00a7827a9d20bf",
   "metadata": {
    "ExecuteTime": {
     "end_time": "2024-05-31T13:20:11.984275Z",
     "start_time": "2024-05-31T13:20:11.971437Z"
    }
   },
   "outputs": [
    {
     "name": "stdout",
     "output_type": "stream",
     "text": [
      "Search space summary\n",
      "Default search space size: 5\n",
      "num_layers (Int)\n",
      "{'default': None, 'conditions': [], 'min_value': 2, 'max_value': 25, 'step': 1, 'sampling': 'linear'}\n",
      "units0 (Int)\n",
      "{'default': None, 'conditions': [], 'min_value': 32, 'max_value': 512, 'step': 32, 'sampling': 'linear'}\n",
      "initializer (Choice)\n",
      "{'default': 'uniform', 'conditions': [], 'values': ['uniform', 'normal'], 'ordered': False}\n",
      "activation (Choice)\n",
      "{'default': 'relu', 'conditions': [], 'values': ['relu', 'sigmoid', 'tanh'], 'ordered': False}\n",
      "units1 (Int)\n",
      "{'default': None, 'conditions': [], 'min_value': 32, 'max_value': 512, 'step': 32, 'sampling': 'linear'}\n"
     ]
    }
   ],
   "source": [
    "def build_model(hp):\n",
    "    model = keras.Sequential()\n",
    "    for i in range(hp.Int('num_layers', 2, 25)):\n",
    "        model.add(layers.Dense(units = hp.Int('units' + str(i), min_value=32, max_value=512, step=32),\n",
    "                               kernel_initializer= hp.Choice('initializer', ['uniform', 'normal']),\n",
    "                               activation= hp.Choice('activation', ['relu', 'sigmoid', 'tanh'])))\n",
    "    model.add(layers.Dense(6, kernel_initializer= hp.Choice('initializer', ['uniform', 'normal']), activation='softmax'))\n",
    "    model.add(\n",
    "            Dropout(0.2))\n",
    "    model.compile(\n",
    "        optimizer = 'adam',\n",
    "        loss='sparse_categorical_crossentropy',\n",
    "        metrics=['accuracy'])\n",
    "    return model\n",
    "\n",
    "\n",
    "tuner = RandomSearch(\n",
    "    build_model,\n",
    "    objective='val_accuracy',\n",
    "    max_trials= 5,\n",
    "    executions_per_trial=3,\n",
    "    directory='project', project_name = 'Human_activity_recognition')\n",
    "\n",
    "tuner.search_space_summary()"
   ]
  },
  {
   "cell_type": "code",
   "execution_count": 16,
   "id": "65760e68-af98-40c4-ba57-5cbd000f65e3",
   "metadata": {},
   "outputs": [
    {
     "name": "stdout",
     "output_type": "stream",
     "text": [
      "Trial 5 Complete [00h 00m 32s]\n",
      "val_accuracy: 0.7094219923019409\n",
      "\n",
      "Best val_accuracy So Far: 0.7094219923019409\n",
      "Total elapsed time: 00h 03m 04s\n"
     ]
    }
   ],
   "source": [
    "tuner.search(x_train, y_train,\n",
    "             epochs= 10,\n",
    "             validation_data=(x_test, y_test))"
   ]
  },
  {
   "cell_type": "code",
   "execution_count": 18,
   "id": "8c5aa1c761369015",
   "metadata": {
    "ExecuteTime": {
     "end_time": "2024-05-31T13:24:27.485258Z",
     "start_time": "2024-05-31T13:24:22.195643Z"
    }
   },
   "outputs": [
    {
     "data": {
      "text/html": [
       "<pre style=\"white-space:pre;overflow-x:auto;line-height:normal;font-family:Menlo,'DejaVu Sans Mono',consolas,'Courier New',monospace\"><span style=\"font-weight: bold\">Model: \"sequential\"</span>\n",
       "</pre>\n"
      ],
      "text/plain": [
       "\u001b[1mModel: \"sequential\"\u001b[0m\n"
      ]
     },
     "metadata": {},
     "output_type": "display_data"
    },
    {
     "data": {
      "text/html": [
       "<pre style=\"white-space:pre;overflow-x:auto;line-height:normal;font-family:Menlo,'DejaVu Sans Mono',consolas,'Courier New',monospace\">┏━━━━━━━━━━━━━━━━━━━━━━━━━━━━━━━━━┳━━━━━━━━━━━━━━━━━━━━━━━━┳━━━━━━━━━━━━━━━┓\n",
       "┃<span style=\"font-weight: bold\"> Layer (type)                    </span>┃<span style=\"font-weight: bold\"> Output Shape           </span>┃<span style=\"font-weight: bold\">       Param # </span>┃\n",
       "┡━━━━━━━━━━━━━━━━━━━━━━━━━━━━━━━━━╇━━━━━━━━━━━━━━━━━━━━━━━━╇━━━━━━━━━━━━━━━┩\n",
       "│ dense (<span style=\"color: #0087ff; text-decoration-color: #0087ff\">Dense</span>)                   │ (<span style=\"color: #00d7ff; text-decoration-color: #00d7ff\">None</span>, <span style=\"color: #00af00; text-decoration-color: #00af00\">64</span>)             │        <span style=\"color: #00af00; text-decoration-color: #00af00\">35,968</span> │\n",
       "├─────────────────────────────────┼────────────────────────┼───────────────┤\n",
       "│ dropout (<span style=\"color: #0087ff; text-decoration-color: #0087ff\">Dropout</span>)               │ (<span style=\"color: #00d7ff; text-decoration-color: #00d7ff\">None</span>, <span style=\"color: #00af00; text-decoration-color: #00af00\">64</span>)             │             <span style=\"color: #00af00; text-decoration-color: #00af00\">0</span> │\n",
       "├─────────────────────────────────┼────────────────────────┼───────────────┤\n",
       "│ dense_1 (<span style=\"color: #0087ff; text-decoration-color: #0087ff\">Dense</span>)                 │ (<span style=\"color: #00d7ff; text-decoration-color: #00d7ff\">None</span>, <span style=\"color: #00af00; text-decoration-color: #00af00\">6</span>)              │           <span style=\"color: #00af00; text-decoration-color: #00af00\">390</span> │\n",
       "└─────────────────────────────────┴────────────────────────┴───────────────┘\n",
       "</pre>\n"
      ],
      "text/plain": [
       "┏━━━━━━━━━━━━━━━━━━━━━━━━━━━━━━━━━┳━━━━━━━━━━━━━━━━━━━━━━━━┳━━━━━━━━━━━━━━━┓\n",
       "┃\u001b[1m \u001b[0m\u001b[1mLayer (type)                   \u001b[0m\u001b[1m \u001b[0m┃\u001b[1m \u001b[0m\u001b[1mOutput Shape          \u001b[0m\u001b[1m \u001b[0m┃\u001b[1m \u001b[0m\u001b[1m      Param #\u001b[0m\u001b[1m \u001b[0m┃\n",
       "┡━━━━━━━━━━━━━━━━━━━━━━━━━━━━━━━━━╇━━━━━━━━━━━━━━━━━━━━━━━━╇━━━━━━━━━━━━━━━┩\n",
       "│ dense (\u001b[38;5;33mDense\u001b[0m)                   │ (\u001b[38;5;45mNone\u001b[0m, \u001b[38;5;34m64\u001b[0m)             │        \u001b[38;5;34m35,968\u001b[0m │\n",
       "├─────────────────────────────────┼────────────────────────┼───────────────┤\n",
       "│ dropout (\u001b[38;5;33mDropout\u001b[0m)               │ (\u001b[38;5;45mNone\u001b[0m, \u001b[38;5;34m64\u001b[0m)             │             \u001b[38;5;34m0\u001b[0m │\n",
       "├─────────────────────────────────┼────────────────────────┼───────────────┤\n",
       "│ dense_1 (\u001b[38;5;33mDense\u001b[0m)                 │ (\u001b[38;5;45mNone\u001b[0m, \u001b[38;5;34m6\u001b[0m)              │           \u001b[38;5;34m390\u001b[0m │\n",
       "└─────────────────────────────────┴────────────────────────┴───────────────┘\n"
      ]
     },
     "metadata": {},
     "output_type": "display_data"
    },
    {
     "data": {
      "text/html": [
       "<pre style=\"white-space:pre;overflow-x:auto;line-height:normal;font-family:Menlo,'DejaVu Sans Mono',consolas,'Courier New',monospace\"><span style=\"font-weight: bold\"> Total params: </span><span style=\"color: #00af00; text-decoration-color: #00af00\">109,076</span> (426.08 KB)\n",
       "</pre>\n"
      ],
      "text/plain": [
       "\u001b[1m Total params: \u001b[0m\u001b[38;5;34m109,076\u001b[0m (426.08 KB)\n"
      ]
     },
     "metadata": {},
     "output_type": "display_data"
    },
    {
     "data": {
      "text/html": [
       "<pre style=\"white-space:pre;overflow-x:auto;line-height:normal;font-family:Menlo,'DejaVu Sans Mono',consolas,'Courier New',monospace\"><span style=\"font-weight: bold\"> Trainable params: </span><span style=\"color: #00af00; text-decoration-color: #00af00\">36,358</span> (142.02 KB)\n",
       "</pre>\n"
      ],
      "text/plain": [
       "\u001b[1m Trainable params: \u001b[0m\u001b[38;5;34m36,358\u001b[0m (142.02 KB)\n"
      ]
     },
     "metadata": {},
     "output_type": "display_data"
    },
    {
     "data": {
      "text/html": [
       "<pre style=\"white-space:pre;overflow-x:auto;line-height:normal;font-family:Menlo,'DejaVu Sans Mono',consolas,'Courier New',monospace\"><span style=\"font-weight: bold\"> Non-trainable params: </span><span style=\"color: #00af00; text-decoration-color: #00af00\">0</span> (0.00 B)\n",
       "</pre>\n"
      ],
      "text/plain": [
       "\u001b[1m Non-trainable params: \u001b[0m\u001b[38;5;34m0\u001b[0m (0.00 B)\n"
      ]
     },
     "metadata": {},
     "output_type": "display_data"
    },
    {
     "data": {
      "text/html": [
       "<pre style=\"white-space:pre;overflow-x:auto;line-height:normal;font-family:Menlo,'DejaVu Sans Mono',consolas,'Courier New',monospace\"><span style=\"font-weight: bold\"> Optimizer params: </span><span style=\"color: #00af00; text-decoration-color: #00af00\">72,718</span> (284.06 KB)\n",
       "</pre>\n"
      ],
      "text/plain": [
       "\u001b[1m Optimizer params: \u001b[0m\u001b[38;5;34m72,718\u001b[0m (284.06 KB)\n"
      ]
     },
     "metadata": {},
     "output_type": "display_data"
    },
    {
     "name": "stdout",
     "output_type": "stream",
     "text": [
      "Epoch 1/200\n",
      "\u001b[1m230/230\u001b[0m \u001b[32m━━━━━━━━━━━━━━━━━━━━\u001b[0m\u001b[37m\u001b[0m \u001b[1m0s\u001b[0m 930us/step - accuracy: 0.9317 - loss: 0.1891 - val_accuracy: 0.9345 - val_loss: 0.1875\n",
      "Epoch 2/200\n",
      "\u001b[1m230/230\u001b[0m \u001b[32m━━━━━━━━━━━━━━━━━━━━\u001b[0m\u001b[37m\u001b[0m \u001b[1m0s\u001b[0m 687us/step - accuracy: 0.9457 - loss: 0.1658 - val_accuracy: 0.9172 - val_loss: 0.2019\n",
      "Epoch 3/200\n",
      "\u001b[1m230/230\u001b[0m \u001b[32m━━━━━━━━━━━━━━━━━━━━\u001b[0m\u001b[37m\u001b[0m \u001b[1m0s\u001b[0m 675us/step - accuracy: 0.9453 - loss: 0.1540 - val_accuracy: 0.9420 - val_loss: 0.1579\n",
      "Epoch 4/200\n",
      "\u001b[1m230/230\u001b[0m \u001b[32m━━━━━━━━━━━━━━━━━━━━\u001b[0m\u001b[37m\u001b[0m \u001b[1m0s\u001b[0m 672us/step - accuracy: 0.9517 - loss: 0.1309 - val_accuracy: 0.9304 - val_loss: 0.1705\n",
      "Epoch 5/200\n",
      "\u001b[1m230/230\u001b[0m \u001b[32m━━━━━━━━━━━━━━━━━━━━\u001b[0m\u001b[37m\u001b[0m \u001b[1m0s\u001b[0m 653us/step - accuracy: 0.9580 - loss: 0.1216 - val_accuracy: 0.9274 - val_loss: 0.1717\n",
      "Epoch 6/200\n",
      "\u001b[1m230/230\u001b[0m \u001b[32m━━━━━━━━━━━━━━━━━━━━\u001b[0m\u001b[37m\u001b[0m \u001b[1m0s\u001b[0m 699us/step - accuracy: 0.9572 - loss: 0.1184 - val_accuracy: 0.9348 - val_loss: 0.1639\n",
      "Epoch 7/200\n",
      "\u001b[1m230/230\u001b[0m \u001b[32m━━━━━━━━━━━━━━━━━━━━\u001b[0m\u001b[37m\u001b[0m \u001b[1m0s\u001b[0m 684us/step - accuracy: 0.9644 - loss: 0.1020 - val_accuracy: 0.9430 - val_loss: 0.1495\n",
      "Epoch 8/200\n",
      "\u001b[1m230/230\u001b[0m \u001b[32m━━━━━━━━━━━━━━━━━━━━\u001b[0m\u001b[37m\u001b[0m \u001b[1m0s\u001b[0m 709us/step - accuracy: 0.9665 - loss: 0.0956 - val_accuracy: 0.9450 - val_loss: 0.1389\n",
      "Epoch 9/200\n",
      "\u001b[1m230/230\u001b[0m \u001b[32m━━━━━━━━━━━━━━━━━━━━\u001b[0m\u001b[37m\u001b[0m \u001b[1m0s\u001b[0m 725us/step - accuracy: 0.9645 - loss: 0.0970 - val_accuracy: 0.9345 - val_loss: 0.1647\n",
      "Epoch 10/200\n",
      "\u001b[1m230/230\u001b[0m \u001b[32m━━━━━━━━━━━━━━━━━━━━\u001b[0m\u001b[37m\u001b[0m \u001b[1m0s\u001b[0m 741us/step - accuracy: 0.9692 - loss: 0.0847 - val_accuracy: 0.9433 - val_loss: 0.1476\n",
      "Epoch 11/200\n",
      "\u001b[1m230/230\u001b[0m \u001b[32m━━━━━━━━━━━━━━━━━━━━\u001b[0m\u001b[37m\u001b[0m \u001b[1m0s\u001b[0m 745us/step - accuracy: 0.9659 - loss: 0.0897 - val_accuracy: 0.9420 - val_loss: 0.1460\n",
      "Epoch 12/200\n",
      "\u001b[1m230/230\u001b[0m \u001b[32m━━━━━━━━━━━━━━━━━━━━\u001b[0m\u001b[37m\u001b[0m \u001b[1m0s\u001b[0m 710us/step - accuracy: 0.9687 - loss: 0.0849 - val_accuracy: 0.9491 - val_loss: 0.1418\n",
      "Epoch 13/200\n",
      "\u001b[1m230/230\u001b[0m \u001b[32m━━━━━━━━━━━━━━━━━━━━\u001b[0m\u001b[37m\u001b[0m \u001b[1m0s\u001b[0m 775us/step - accuracy: 0.9707 - loss: 0.0795 - val_accuracy: 0.9348 - val_loss: 0.1656\n",
      "Epoch 14/200\n",
      "\u001b[1m230/230\u001b[0m \u001b[32m━━━━━━━━━━━━━━━━━━━━\u001b[0m\u001b[37m\u001b[0m \u001b[1m0s\u001b[0m 729us/step - accuracy: 0.9720 - loss: 0.0807 - val_accuracy: 0.9501 - val_loss: 0.1326\n",
      "Epoch 15/200\n",
      "\u001b[1m230/230\u001b[0m \u001b[32m━━━━━━━━━━━━━━━━━━━━\u001b[0m\u001b[37m\u001b[0m \u001b[1m0s\u001b[0m 724us/step - accuracy: 0.9748 - loss: 0.0729 - val_accuracy: 0.9464 - val_loss: 0.1420\n",
      "Epoch 16/200\n",
      "\u001b[1m230/230\u001b[0m \u001b[32m━━━━━━━━━━━━━━━━━━━━\u001b[0m\u001b[37m\u001b[0m \u001b[1m0s\u001b[0m 713us/step - accuracy: 0.9745 - loss: 0.0693 - val_accuracy: 0.9508 - val_loss: 0.1299\n",
      "Epoch 17/200\n",
      "\u001b[1m230/230\u001b[0m \u001b[32m━━━━━━━━━━━━━━━━━━━━\u001b[0m\u001b[37m\u001b[0m \u001b[1m0s\u001b[0m 700us/step - accuracy: 0.9770 - loss: 0.0655 - val_accuracy: 0.9444 - val_loss: 0.1506\n",
      "Epoch 18/200\n",
      "\u001b[1m230/230\u001b[0m \u001b[32m━━━━━━━━━━━━━━━━━━━━\u001b[0m\u001b[37m\u001b[0m \u001b[1m0s\u001b[0m 689us/step - accuracy: 0.9746 - loss: 0.0734 - val_accuracy: 0.9467 - val_loss: 0.1413\n",
      "Epoch 19/200\n",
      "\u001b[1m230/230\u001b[0m \u001b[32m━━━━━━━━━━━━━━━━━━━━\u001b[0m\u001b[37m\u001b[0m \u001b[1m0s\u001b[0m 727us/step - accuracy: 0.9773 - loss: 0.0671 - val_accuracy: 0.9474 - val_loss: 0.1416\n",
      "Epoch 20/200\n",
      "\u001b[1m230/230\u001b[0m \u001b[32m━━━━━━━━━━━━━━━━━━━━\u001b[0m\u001b[37m\u001b[0m \u001b[1m0s\u001b[0m 692us/step - accuracy: 0.9772 - loss: 0.0598 - val_accuracy: 0.9440 - val_loss: 0.1488\n",
      "Epoch 21/200\n",
      "\u001b[1m230/230\u001b[0m \u001b[32m━━━━━━━━━━━━━━━━━━━━\u001b[0m\u001b[37m\u001b[0m \u001b[1m0s\u001b[0m 691us/step - accuracy: 0.9804 - loss: 0.0573 - val_accuracy: 0.9494 - val_loss: 0.1414\n",
      "Epoch 22/200\n",
      "\u001b[1m230/230\u001b[0m \u001b[32m━━━━━━━━━━━━━━━━━━━━\u001b[0m\u001b[37m\u001b[0m \u001b[1m0s\u001b[0m 709us/step - accuracy: 0.9780 - loss: 0.0591 - val_accuracy: 0.9460 - val_loss: 0.1518\n",
      "Epoch 23/200\n",
      "\u001b[1m230/230\u001b[0m \u001b[32m━━━━━━━━━━━━━━━━━━━━\u001b[0m\u001b[37m\u001b[0m \u001b[1m0s\u001b[0m 714us/step - accuracy: 0.9785 - loss: 0.0583 - val_accuracy: 0.9562 - val_loss: 0.1249\n",
      "Epoch 24/200\n",
      "\u001b[1m230/230\u001b[0m \u001b[32m━━━━━━━━━━━━━━━━━━━━\u001b[0m\u001b[37m\u001b[0m \u001b[1m0s\u001b[0m 728us/step - accuracy: 0.9784 - loss: 0.0576 - val_accuracy: 0.9484 - val_loss: 0.1469\n",
      "Epoch 25/200\n",
      "\u001b[1m230/230\u001b[0m \u001b[32m━━━━━━━━━━━━━━━━━━━━\u001b[0m\u001b[37m\u001b[0m \u001b[1m0s\u001b[0m 700us/step - accuracy: 0.9837 - loss: 0.0489 - val_accuracy: 0.9501 - val_loss: 0.1340\n",
      "Epoch 26/200\n",
      "\u001b[1m230/230\u001b[0m \u001b[32m━━━━━━━━━━━━━━━━━━━━\u001b[0m\u001b[37m\u001b[0m \u001b[1m0s\u001b[0m 719us/step - accuracy: 0.9806 - loss: 0.0536 - val_accuracy: 0.9474 - val_loss: 0.1455\n",
      "Epoch 27/200\n",
      "\u001b[1m230/230\u001b[0m \u001b[32m━━━━━━━━━━━━━━━━━━━━\u001b[0m\u001b[37m\u001b[0m \u001b[1m0s\u001b[0m 746us/step - accuracy: 0.9797 - loss: 0.0507 - val_accuracy: 0.9508 - val_loss: 0.1277\n",
      "Epoch 28/200\n",
      "\u001b[1m230/230\u001b[0m \u001b[32m━━━━━━━━━━━━━━━━━━━━\u001b[0m\u001b[37m\u001b[0m \u001b[1m0s\u001b[0m 690us/step - accuracy: 0.9765 - loss: 0.0590 - val_accuracy: 0.9491 - val_loss: 0.1539\n",
      "Epoch 29/200\n",
      "\u001b[1m230/230\u001b[0m \u001b[32m━━━━━━━━━━━━━━━━━━━━\u001b[0m\u001b[37m\u001b[0m \u001b[1m0s\u001b[0m 698us/step - accuracy: 0.9794 - loss: 0.0540 - val_accuracy: 0.9494 - val_loss: 0.1493\n"
     ]
    }
   ],
   "source": [
    "\n",
    "\n",
    "model.summary()\n",
    "import tensorflow as tf\n",
    "from tensorflow import keras\n",
    "\n",
    "Callback = tf.keras.callbacks.EarlyStopping(monitor='accuracy', patience=3)\n",
    "mo_fitt = model.fit(x_train,y_train, epochs=200, validation_data=(x_test,y_test), callbacks=Callback)\n",
    "\n"
   ]
  },
  {
   "cell_type": "markdown",
   "id": "d456f5117340f50f",
   "metadata": {},
   "source": [
    "https://www.kaggle.com/code/fahadmehfoooz/human-activity-recognition-with-neural-networks"
   ]
  },
  {
   "cell_type": "code",
   "execution_count": null,
   "id": "24b39665f5181143",
   "metadata": {},
   "outputs": [],
   "source": []
  }
 ],
 "metadata": {
  "kernelspec": {
   "display_name": "Python 3 (ipykernel)",
   "language": "python",
   "name": "python3"
  },
  "language_info": {
   "codemirror_mode": {
    "name": "ipython",
    "version": 3
   },
   "file_extension": ".py",
   "mimetype": "text/x-python",
   "name": "python",
   "nbconvert_exporter": "python",
   "pygments_lexer": "ipython3",
   "version": "3.11.9"
  }
 },
 "nbformat": 4,
 "nbformat_minor": 5
}
