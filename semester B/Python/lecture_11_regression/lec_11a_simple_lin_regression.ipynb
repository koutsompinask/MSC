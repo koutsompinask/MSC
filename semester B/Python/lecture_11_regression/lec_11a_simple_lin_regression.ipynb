{
 "cells": [
  {
   "cell_type": "markdown",
   "metadata": {
    "id": "nkDGAFIy_UYW"
   },
   "source": "# Lecture 11a.  Intro to Simple, Univariate Linear Regression."
  },
  {
   "cell_type": "markdown",
   "metadata": {},
   "source": [
    "## Install necessary libraries with activated virtual environment.\n",
    "\n",
    "* Install from Windows Command Line, not from here!\n",
    "\n",
    "\n",
    "```\n",
    "pip install statsmodels pingouin scikit-learn openpyxl\n",
    "pip install pingouin\n",
    "pip install scikit-learn\n",
    "pip install openpyxl\n",
    "```"
   ]
  },
  {
   "cell_type": "code",
   "metadata": {
    "ExecuteTime": {
     "end_time": "2025-05-13T14:17:59.053444Z",
     "start_time": "2025-05-13T14:17:59.047044Z"
    }
   },
   "source": [
    "pwd"
   ],
   "outputs": [
    {
     "data": {
      "text/plain": [
       "'/home/tharg/venv_projects/uoa_py_course/lectures_07_12_pandas_plots_scikit/lecture_11_regression_train_test_split'"
      ]
     },
     "execution_count": 7,
     "metadata": {},
     "output_type": "execute_result"
    }
   ],
   "execution_count": 7
  },
  {
   "cell_type": "code",
   "metadata": {
    "id": "DD5w4VKL9HuW",
    "ExecuteTime": {
     "end_time": "2025-05-13T14:17:59.288297Z",
     "start_time": "2025-05-13T14:17:59.285781Z"
    }
   },
   "source": [
    "# First install with activated virtual env.\n",
    "import pandas as pd\n",
    "import seaborn as sns\n",
    "\n",
    "# statsmodels library\n",
    "import statsmodels.api as sm"
   ],
   "outputs": [],
   "execution_count": 8
  },
  {
   "cell_type": "code",
   "metadata": {
    "id": "LiYKMIdt85yT",
    "ExecuteTime": {
     "end_time": "2025-05-13T14:17:59.498551Z",
     "start_time": "2025-05-13T14:17:59.485364Z"
    }
   },
   "source": [
    "# Make sure the file is the same folder as your notebook pwd\n",
    "df = pd.read_csv(\"temp_to_coffee.csv\")\n",
    "df.head(3)"
   ],
   "outputs": [
    {
     "data": {
      "text/plain": [
       "    X    Y\n",
       "0  20  396\n",
       "1  22  297\n",
       "2  23  397"
      ],
      "text/html": [
       "<div>\n",
       "<style scoped>\n",
       "    .dataframe tbody tr th:only-of-type {\n",
       "        vertical-align: middle;\n",
       "    }\n",
       "\n",
       "    .dataframe tbody tr th {\n",
       "        vertical-align: top;\n",
       "    }\n",
       "\n",
       "    .dataframe thead th {\n",
       "        text-align: right;\n",
       "    }\n",
       "</style>\n",
       "<table border=\"1\" class=\"dataframe\">\n",
       "  <thead>\n",
       "    <tr style=\"text-align: right;\">\n",
       "      <th></th>\n",
       "      <th>X</th>\n",
       "      <th>Y</th>\n",
       "    </tr>\n",
       "  </thead>\n",
       "  <tbody>\n",
       "    <tr>\n",
       "      <th>0</th>\n",
       "      <td>20</td>\n",
       "      <td>396</td>\n",
       "    </tr>\n",
       "    <tr>\n",
       "      <th>1</th>\n",
       "      <td>22</td>\n",
       "      <td>297</td>\n",
       "    </tr>\n",
       "    <tr>\n",
       "      <th>2</th>\n",
       "      <td>23</td>\n",
       "      <td>397</td>\n",
       "    </tr>\n",
       "  </tbody>\n",
       "</table>\n",
       "</div>"
      ]
     },
     "execution_count": 9,
     "metadata": {},
     "output_type": "execute_result"
    }
   ],
   "execution_count": 9
  },
  {
   "cell_type": "code",
   "metadata": {
    "colab": {
     "base_uri": "https://localhost:8080/"
    },
    "id": "Cm6QetqX1ST4",
    "outputId": "3bde4ec4-4586-451d-c025-101bc1200a28",
    "ExecuteTime": {
     "end_time": "2025-05-13T14:17:59.675846Z",
     "start_time": "2025-05-13T14:17:59.672943Z"
    }
   },
   "source": [
    "type(df)"
   ],
   "outputs": [
    {
     "data": {
      "text/plain": [
       "pandas.core.frame.DataFrame"
      ]
     },
     "execution_count": 10,
     "metadata": {},
     "output_type": "execute_result"
    }
   ],
   "execution_count": 10
  },
  {
   "cell_type": "code",
   "metadata": {
    "colab": {
     "base_uri": "https://localhost:8080/"
    },
    "id": "xALIW_tF1M4I",
    "outputId": "b03a5faf-4976-466d-b6e8-ad136a6bf6d1",
    "ExecuteTime": {
     "end_time": "2025-05-13T14:18:00.299508Z",
     "start_time": "2025-05-13T14:18:00.295169Z"
    }
   },
   "source": [
    "df.columns"
   ],
   "outputs": [
    {
     "data": {
      "text/plain": [
       "Index(['X', 'Y'], dtype='object')"
      ]
     },
     "execution_count": 11,
     "metadata": {},
     "output_type": "execute_result"
    }
   ],
   "execution_count": 11
  },
  {
   "cell_type": "code",
   "metadata": {
    "colab": {
     "base_uri": "https://localhost:8080/"
    },
    "id": "-Yr0rY001OYI",
    "outputId": "b508cb71-3d6d-4639-a16d-527a57a63df2",
    "ExecuteTime": {
     "end_time": "2025-05-13T14:18:00.506994Z",
     "start_time": "2025-05-13T14:18:00.501267Z"
    }
   },
   "source": [
    "df.dtypes"
   ],
   "outputs": [
    {
     "data": {
      "text/plain": [
       "X    int64\n",
       "Y    int64\n",
       "dtype: object"
      ]
     },
     "execution_count": 12,
     "metadata": {},
     "output_type": "execute_result"
    }
   ],
   "execution_count": 12
  },
  {
   "cell_type": "code",
   "metadata": {
    "colab": {
     "base_uri": "https://localhost:8080/"
    },
    "id": "VWXKgSCLQ2st",
    "outputId": "887d4f76-162a-4d1b-c4f3-66d87128a245",
    "ExecuteTime": {
     "end_time": "2025-05-13T14:18:00.677702Z",
     "start_time": "2025-05-13T14:18:00.672266Z"
    }
   },
   "source": [
    "df[\"X\"]"
   ],
   "outputs": [
    {
     "data": {
      "text/plain": [
       "0     20\n",
       "1     22\n",
       "2     23\n",
       "3     18\n",
       "4     19\n",
       "5     24\n",
       "6     25\n",
       "7     20\n",
       "8     22\n",
       "9     18\n",
       "10    16\n",
       "11    16\n",
       "12    17\n",
       "13    20\n",
       "14    21\n",
       "15    19\n",
       "16    15\n",
       "17    15\n",
       "18    18\n",
       "19    20\n",
       "Name: X, dtype: int64"
      ]
     },
     "execution_count": 13,
     "metadata": {},
     "output_type": "execute_result"
    }
   ],
   "execution_count": 13
  },
  {
   "cell_type": "code",
   "metadata": {
    "id": "1lE8pMMj-icF",
    "ExecuteTime": {
     "end_time": "2025-05-13T14:18:00.876088Z",
     "start_time": "2025-05-13T14:18:00.873581Z"
    }
   },
   "source": [
    "# Convention for readablity purposes!\n",
    "# to assign as input to linear regression libraries' functions.\n",
    "X = df[\"X\"]  \n",
    "y = df[\"Y\"]"
   ],
   "outputs": [],
   "execution_count": 14
  },
  {
   "cell_type": "code",
   "metadata": {
    "ExecuteTime": {
     "end_time": "2025-05-13T14:18:04.107431Z",
     "start_time": "2025-05-13T14:18:04.103791Z"
    }
   },
   "source": [
    "type(X)"
   ],
   "outputs": [
    {
     "data": {
      "text/plain": [
       "pandas.core.series.Series"
      ]
     },
     "execution_count": 15,
     "metadata": {},
     "output_type": "execute_result"
    }
   ],
   "execution_count": 15
  },
  {
   "cell_type": "code",
   "metadata": {
    "id": "KimNH3Kq9blF",
    "ExecuteTime": {
     "end_time": "2025-05-13T14:18:04.300640Z",
     "start_time": "2025-05-13T14:18:04.295931Z"
    }
   },
   "source": [
    "# Statsmodels library requires a constant term to be added to the X variable.\n",
    "# This is the intercept of the regression line.\n",
    "\n",
    "X = sm.add_constant(X)"
   ],
   "outputs": [],
   "execution_count": 16
  },
  {
   "cell_type": "code",
   "metadata": {
    "colab": {
     "base_uri": "https://localhost:8080/",
     "height": 677
    },
    "id": "Z0eyjsyUQtjG",
    "outputId": "9c37e471-e50b-4336-dfe8-b2846225caf0",
    "ExecuteTime": {
     "end_time": "2025-05-13T14:18:04.507911Z",
     "start_time": "2025-05-13T14:18:04.503727Z"
    }
   },
   "source": [
    "X.head()"
   ],
   "outputs": [
    {
     "data": {
      "text/plain": [
       "   const   X\n",
       "0    1.0  20\n",
       "1    1.0  22\n",
       "2    1.0  23\n",
       "3    1.0  18\n",
       "4    1.0  19"
      ],
      "text/html": [
       "<div>\n",
       "<style scoped>\n",
       "    .dataframe tbody tr th:only-of-type {\n",
       "        vertical-align: middle;\n",
       "    }\n",
       "\n",
       "    .dataframe tbody tr th {\n",
       "        vertical-align: top;\n",
       "    }\n",
       "\n",
       "    .dataframe thead th {\n",
       "        text-align: right;\n",
       "    }\n",
       "</style>\n",
       "<table border=\"1\" class=\"dataframe\">\n",
       "  <thead>\n",
       "    <tr style=\"text-align: right;\">\n",
       "      <th></th>\n",
       "      <th>const</th>\n",
       "      <th>X</th>\n",
       "    </tr>\n",
       "  </thead>\n",
       "  <tbody>\n",
       "    <tr>\n",
       "      <th>0</th>\n",
       "      <td>1.0</td>\n",
       "      <td>20</td>\n",
       "    </tr>\n",
       "    <tr>\n",
       "      <th>1</th>\n",
       "      <td>1.0</td>\n",
       "      <td>22</td>\n",
       "    </tr>\n",
       "    <tr>\n",
       "      <th>2</th>\n",
       "      <td>1.0</td>\n",
       "      <td>23</td>\n",
       "    </tr>\n",
       "    <tr>\n",
       "      <th>3</th>\n",
       "      <td>1.0</td>\n",
       "      <td>18</td>\n",
       "    </tr>\n",
       "    <tr>\n",
       "      <th>4</th>\n",
       "      <td>1.0</td>\n",
       "      <td>19</td>\n",
       "    </tr>\n",
       "  </tbody>\n",
       "</table>\n",
       "</div>"
      ]
     },
     "execution_count": 17,
     "metadata": {},
     "output_type": "execute_result"
    }
   ],
   "execution_count": 17
  },
  {
   "cell_type": "code",
   "metadata": {
    "colab": {
     "base_uri": "https://localhost:8080/"
    },
    "id": "QMKjeYzwRbYv",
    "outputId": "eb6f9502-6035-4a9c-ede1-70125a8380a7",
    "ExecuteTime": {
     "end_time": "2025-05-13T14:18:04.700711Z",
     "start_time": "2025-05-13T14:18:04.696748Z"
    }
   },
   "source": [
    "type(X)"
   ],
   "outputs": [
    {
     "data": {
      "text/plain": [
       "pandas.core.frame.DataFrame"
      ]
     },
     "execution_count": 18,
     "metadata": {},
     "output_type": "execute_result"
    }
   ],
   "execution_count": 18
  },
  {
   "metadata": {},
   "cell_type": "markdown",
   "source": "## Create an Ordinary Least Squares (OLS) model"
  },
  {
   "cell_type": "code",
   "metadata": {
    "colab": {
     "base_uri": "https://localhost:8080/"
    },
    "id": "Nay8bQii_th1",
    "outputId": "0ba5bc97-a658-4659-f026-6097d2996127",
    "ExecuteTime": {
     "end_time": "2025-05-13T14:18:04.892067Z",
     "start_time": "2025-05-13T14:18:04.889318Z"
    }
   },
   "source": [
    "model = sm.OLS(y, X)"
   ],
   "outputs": [],
   "execution_count": 19
  },
  {
   "cell_type": "code",
   "metadata": {
    "colab": {
     "base_uri": "https://localhost:8080/"
    },
    "id": "Nay8bQii_th1",
    "outputId": "0ba5bc97-a658-4659-f026-6097d2996127",
    "ExecuteTime": {
     "end_time": "2025-05-13T14:18:05.074429Z",
     "start_time": "2025-05-13T14:18:05.066104Z"
    }
   },
   "source": [
    "results = model.fit()"
   ],
   "outputs": [],
   "execution_count": 20
  },
  {
   "cell_type": "code",
   "metadata": {
    "ExecuteTime": {
     "end_time": "2025-05-13T14:18:05.318051Z",
     "start_time": "2025-05-13T14:18:05.288334Z"
    }
   },
   "source": [
    "results.summary()"
   ],
   "outputs": [
    {
     "data": {
      "text/plain": [
       "<class 'statsmodels.iolib.summary.Summary'>\n",
       "\"\"\"\n",
       "                            OLS Regression Results                            \n",
       "==============================================================================\n",
       "Dep. Variable:                      Y   R-squared:                       0.307\n",
       "Model:                            OLS   Adj. R-squared:                  0.268\n",
       "Method:                 Least Squares   F-statistic:                     7.963\n",
       "Date:                Tue, 13 May 2025   Prob (F-statistic):             0.0113\n",
       "Time:                        17:18:05   Log-Likelihood:                -112.85\n",
       "No. Observations:                  20   AIC:                             229.7\n",
       "Df Residuals:                      18   BIC:                             231.7\n",
       "Df Model:                           1                                         \n",
       "Covariance Type:            nonrobust                                         \n",
       "==============================================================================\n",
       "                 coef    std err          t      P>|t|      [0.025      0.975]\n",
       "------------------------------------------------------------------------------\n",
       "const        713.8571    112.629      6.338      0.000     477.232     950.483\n",
       "X            -16.2143      5.746     -2.822      0.011     -28.286      -4.142\n",
       "==============================================================================\n",
       "Omnibus:                        2.330   Durbin-Watson:                   2.184\n",
       "Prob(Omnibus):                  0.312   Jarque-Bera (JB):                0.783\n",
       "Skew:                          -0.163   Prob(JB):                        0.676\n",
       "Kurtosis:                       3.913   Cond. No.                         138.\n",
       "==============================================================================\n",
       "\n",
       "Notes:\n",
       "[1] Standard Errors assume that the covariance matrix of the errors is correctly specified.\n",
       "\"\"\""
      ],
      "text/html": [
       "<table class=\"simpletable\">\n",
       "<caption>OLS Regression Results</caption>\n",
       "<tr>\n",
       "  <th>Dep. Variable:</th>            <td>Y</td>        <th>  R-squared:         </th> <td>   0.307</td>\n",
       "</tr>\n",
       "<tr>\n",
       "  <th>Model:</th>                   <td>OLS</td>       <th>  Adj. R-squared:    </th> <td>   0.268</td>\n",
       "</tr>\n",
       "<tr>\n",
       "  <th>Method:</th>             <td>Least Squares</td>  <th>  F-statistic:       </th> <td>   7.963</td>\n",
       "</tr>\n",
       "<tr>\n",
       "  <th>Date:</th>             <td>Tue, 13 May 2025</td> <th>  Prob (F-statistic):</th>  <td>0.0113</td> \n",
       "</tr>\n",
       "<tr>\n",
       "  <th>Time:</th>                 <td>17:18:05</td>     <th>  Log-Likelihood:    </th> <td> -112.85</td>\n",
       "</tr>\n",
       "<tr>\n",
       "  <th>No. Observations:</th>      <td>    20</td>      <th>  AIC:               </th> <td>   229.7</td>\n",
       "</tr>\n",
       "<tr>\n",
       "  <th>Df Residuals:</th>          <td>    18</td>      <th>  BIC:               </th> <td>   231.7</td>\n",
       "</tr>\n",
       "<tr>\n",
       "  <th>Df Model:</th>              <td>     1</td>      <th>                     </th>     <td> </td>   \n",
       "</tr>\n",
       "<tr>\n",
       "  <th>Covariance Type:</th>      <td>nonrobust</td>    <th>                     </th>     <td> </td>   \n",
       "</tr>\n",
       "</table>\n",
       "<table class=\"simpletable\">\n",
       "<tr>\n",
       "    <td></td>       <th>coef</th>     <th>std err</th>      <th>t</th>      <th>P>|t|</th>  <th>[0.025</th>    <th>0.975]</th>  \n",
       "</tr>\n",
       "<tr>\n",
       "  <th>const</th> <td>  713.8571</td> <td>  112.629</td> <td>    6.338</td> <td> 0.000</td> <td>  477.232</td> <td>  950.483</td>\n",
       "</tr>\n",
       "<tr>\n",
       "  <th>X</th>     <td>  -16.2143</td> <td>    5.746</td> <td>   -2.822</td> <td> 0.011</td> <td>  -28.286</td> <td>   -4.142</td>\n",
       "</tr>\n",
       "</table>\n",
       "<table class=\"simpletable\">\n",
       "<tr>\n",
       "  <th>Omnibus:</th>       <td> 2.330</td> <th>  Durbin-Watson:     </th> <td>   2.184</td>\n",
       "</tr>\n",
       "<tr>\n",
       "  <th>Prob(Omnibus):</th> <td> 0.312</td> <th>  Jarque-Bera (JB):  </th> <td>   0.783</td>\n",
       "</tr>\n",
       "<tr>\n",
       "  <th>Skew:</th>          <td>-0.163</td> <th>  Prob(JB):          </th> <td>   0.676</td>\n",
       "</tr>\n",
       "<tr>\n",
       "  <th>Kurtosis:</th>      <td> 3.913</td> <th>  Cond. No.          </th> <td>    138.</td>\n",
       "</tr>\n",
       "</table><br/><br/>Notes:<br/>[1] Standard Errors assume that the covariance matrix of the errors is correctly specified."
      ],
      "text/latex": "\\begin{center}\n\\begin{tabular}{lclc}\n\\toprule\n\\textbf{Dep. Variable:}    &        Y         & \\textbf{  R-squared:         } &     0.307   \\\\\n\\textbf{Model:}            &       OLS        & \\textbf{  Adj. R-squared:    } &     0.268   \\\\\n\\textbf{Method:}           &  Least Squares   & \\textbf{  F-statistic:       } &     7.963   \\\\\n\\textbf{Date:}             & Tue, 13 May 2025 & \\textbf{  Prob (F-statistic):} &   0.0113    \\\\\n\\textbf{Time:}             &     17:18:05     & \\textbf{  Log-Likelihood:    } &   -112.85   \\\\\n\\textbf{No. Observations:} &          20      & \\textbf{  AIC:               } &     229.7   \\\\\n\\textbf{Df Residuals:}     &          18      & \\textbf{  BIC:               } &     231.7   \\\\\n\\textbf{Df Model:}         &           1      & \\textbf{                     } &             \\\\\n\\textbf{Covariance Type:}  &    nonrobust     & \\textbf{                     } &             \\\\\n\\bottomrule\n\\end{tabular}\n\\begin{tabular}{lcccccc}\n               & \\textbf{coef} & \\textbf{std err} & \\textbf{t} & \\textbf{P$> |$t$|$} & \\textbf{[0.025} & \\textbf{0.975]}  \\\\\n\\midrule\n\\textbf{const} &     713.8571  &      112.629     &     6.338  &         0.000        &      477.232    &      950.483     \\\\\n\\textbf{X}     &     -16.2143  &        5.746     &    -2.822  &         0.011        &      -28.286    &       -4.142     \\\\\n\\bottomrule\n\\end{tabular}\n\\begin{tabular}{lclc}\n\\textbf{Omnibus:}       &  2.330 & \\textbf{  Durbin-Watson:     } &    2.184  \\\\\n\\textbf{Prob(Omnibus):} &  0.312 & \\textbf{  Jarque-Bera (JB):  } &    0.783  \\\\\n\\textbf{Skew:}          & -0.163 & \\textbf{  Prob(JB):          } &    0.676  \\\\\n\\textbf{Kurtosis:}      &  3.913 & \\textbf{  Cond. No.          } &     138.  \\\\\n\\bottomrule\n\\end{tabular}\n%\\caption{OLS Regression Results}\n\\end{center}\n\nNotes: \\newline\n [1] Standard Errors assume that the covariance matrix of the errors is correctly specified."
     },
     "execution_count": 21,
     "metadata": {},
     "output_type": "execute_result"
    }
   ],
   "execution_count": 21
  },
  {
   "cell_type": "code",
   "metadata": {
    "ExecuteTime": {
     "end_time": "2025-05-13T14:23:33.484154Z",
     "start_time": "2025-05-13T14:23:33.471882Z"
    }
   },
   "source": [
    "# get symmary in online\n",
    "sm.OLS(y, X).fit().summary()"
   ],
   "outputs": [
    {
     "data": {
      "text/plain": [
       "<class 'statsmodels.iolib.summary.Summary'>\n",
       "\"\"\"\n",
       "                            OLS Regression Results                            \n",
       "==============================================================================\n",
       "Dep. Variable:                      Y   R-squared:                       0.307\n",
       "Model:                            OLS   Adj. R-squared:                  0.268\n",
       "Method:                 Least Squares   F-statistic:                     7.963\n",
       "Date:                Tue, 13 May 2025   Prob (F-statistic):             0.0113\n",
       "Time:                        17:23:33   Log-Likelihood:                -112.85\n",
       "No. Observations:                  20   AIC:                             229.7\n",
       "Df Residuals:                      18   BIC:                             231.7\n",
       "Df Model:                           1                                         \n",
       "Covariance Type:            nonrobust                                         \n",
       "==============================================================================\n",
       "                 coef    std err          t      P>|t|      [0.025      0.975]\n",
       "------------------------------------------------------------------------------\n",
       "const        713.8571    112.629      6.338      0.000     477.232     950.483\n",
       "X            -16.2143      5.746     -2.822      0.011     -28.286      -4.142\n",
       "==============================================================================\n",
       "Omnibus:                        2.330   Durbin-Watson:                   2.184\n",
       "Prob(Omnibus):                  0.312   Jarque-Bera (JB):                0.783\n",
       "Skew:                          -0.163   Prob(JB):                        0.676\n",
       "Kurtosis:                       3.913   Cond. No.                         138.\n",
       "==============================================================================\n",
       "\n",
       "Notes:\n",
       "[1] Standard Errors assume that the covariance matrix of the errors is correctly specified.\n",
       "\"\"\""
      ],
      "text/html": [
       "<table class=\"simpletable\">\n",
       "<caption>OLS Regression Results</caption>\n",
       "<tr>\n",
       "  <th>Dep. Variable:</th>            <td>Y</td>        <th>  R-squared:         </th> <td>   0.307</td>\n",
       "</tr>\n",
       "<tr>\n",
       "  <th>Model:</th>                   <td>OLS</td>       <th>  Adj. R-squared:    </th> <td>   0.268</td>\n",
       "</tr>\n",
       "<tr>\n",
       "  <th>Method:</th>             <td>Least Squares</td>  <th>  F-statistic:       </th> <td>   7.963</td>\n",
       "</tr>\n",
       "<tr>\n",
       "  <th>Date:</th>             <td>Tue, 13 May 2025</td> <th>  Prob (F-statistic):</th>  <td>0.0113</td> \n",
       "</tr>\n",
       "<tr>\n",
       "  <th>Time:</th>                 <td>17:23:33</td>     <th>  Log-Likelihood:    </th> <td> -112.85</td>\n",
       "</tr>\n",
       "<tr>\n",
       "  <th>No. Observations:</th>      <td>    20</td>      <th>  AIC:               </th> <td>   229.7</td>\n",
       "</tr>\n",
       "<tr>\n",
       "  <th>Df Residuals:</th>          <td>    18</td>      <th>  BIC:               </th> <td>   231.7</td>\n",
       "</tr>\n",
       "<tr>\n",
       "  <th>Df Model:</th>              <td>     1</td>      <th>                     </th>     <td> </td>   \n",
       "</tr>\n",
       "<tr>\n",
       "  <th>Covariance Type:</th>      <td>nonrobust</td>    <th>                     </th>     <td> </td>   \n",
       "</tr>\n",
       "</table>\n",
       "<table class=\"simpletable\">\n",
       "<tr>\n",
       "    <td></td>       <th>coef</th>     <th>std err</th>      <th>t</th>      <th>P>|t|</th>  <th>[0.025</th>    <th>0.975]</th>  \n",
       "</tr>\n",
       "<tr>\n",
       "  <th>const</th> <td>  713.8571</td> <td>  112.629</td> <td>    6.338</td> <td> 0.000</td> <td>  477.232</td> <td>  950.483</td>\n",
       "</tr>\n",
       "<tr>\n",
       "  <th>X</th>     <td>  -16.2143</td> <td>    5.746</td> <td>   -2.822</td> <td> 0.011</td> <td>  -28.286</td> <td>   -4.142</td>\n",
       "</tr>\n",
       "</table>\n",
       "<table class=\"simpletable\">\n",
       "<tr>\n",
       "  <th>Omnibus:</th>       <td> 2.330</td> <th>  Durbin-Watson:     </th> <td>   2.184</td>\n",
       "</tr>\n",
       "<tr>\n",
       "  <th>Prob(Omnibus):</th> <td> 0.312</td> <th>  Jarque-Bera (JB):  </th> <td>   0.783</td>\n",
       "</tr>\n",
       "<tr>\n",
       "  <th>Skew:</th>          <td>-0.163</td> <th>  Prob(JB):          </th> <td>   0.676</td>\n",
       "</tr>\n",
       "<tr>\n",
       "  <th>Kurtosis:</th>      <td> 3.913</td> <th>  Cond. No.          </th> <td>    138.</td>\n",
       "</tr>\n",
       "</table><br/><br/>Notes:<br/>[1] Standard Errors assume that the covariance matrix of the errors is correctly specified."
      ],
      "text/latex": "\\begin{center}\n\\begin{tabular}{lclc}\n\\toprule\n\\textbf{Dep. Variable:}    &        Y         & \\textbf{  R-squared:         } &     0.307   \\\\\n\\textbf{Model:}            &       OLS        & \\textbf{  Adj. R-squared:    } &     0.268   \\\\\n\\textbf{Method:}           &  Least Squares   & \\textbf{  F-statistic:       } &     7.963   \\\\\n\\textbf{Date:}             & Tue, 13 May 2025 & \\textbf{  Prob (F-statistic):} &   0.0113    \\\\\n\\textbf{Time:}             &     17:23:33     & \\textbf{  Log-Likelihood:    } &   -112.85   \\\\\n\\textbf{No. Observations:} &          20      & \\textbf{  AIC:               } &     229.7   \\\\\n\\textbf{Df Residuals:}     &          18      & \\textbf{  BIC:               } &     231.7   \\\\\n\\textbf{Df Model:}         &           1      & \\textbf{                     } &             \\\\\n\\textbf{Covariance Type:}  &    nonrobust     & \\textbf{                     } &             \\\\\n\\bottomrule\n\\end{tabular}\n\\begin{tabular}{lcccccc}\n               & \\textbf{coef} & \\textbf{std err} & \\textbf{t} & \\textbf{P$> |$t$|$} & \\textbf{[0.025} & \\textbf{0.975]}  \\\\\n\\midrule\n\\textbf{const} &     713.8571  &      112.629     &     6.338  &         0.000        &      477.232    &      950.483     \\\\\n\\textbf{X}     &     -16.2143  &        5.746     &    -2.822  &         0.011        &      -28.286    &       -4.142     \\\\\n\\bottomrule\n\\end{tabular}\n\\begin{tabular}{lclc}\n\\textbf{Omnibus:}       &  2.330 & \\textbf{  Durbin-Watson:     } &    2.184  \\\\\n\\textbf{Prob(Omnibus):} &  0.312 & \\textbf{  Jarque-Bera (JB):  } &    0.783  \\\\\n\\textbf{Skew:}          & -0.163 & \\textbf{  Prob(JB):          } &    0.676  \\\\\n\\textbf{Kurtosis:}      &  3.913 & \\textbf{  Cond. No.          } &     138.  \\\\\n\\bottomrule\n\\end{tabular}\n%\\caption{OLS Regression Results}\n\\end{center}\n\nNotes: \\newline\n [1] Standard Errors assume that the covariance matrix of the errors is correctly specified."
     },
     "execution_count": 26,
     "metadata": {},
     "output_type": "execute_result"
    }
   ],
   "execution_count": 26
  },
  {
   "cell_type": "code",
   "metadata": {
    "colab": {
     "base_uri": "https://localhost:8080/"
    },
    "id": "Nay8bQii_th1",
    "outputId": "0ba5bc97-a658-4659-f026-6097d2996127",
    "ExecuteTime": {
     "end_time": "2025-05-13T14:23:48.157283Z",
     "start_time": "2025-05-13T14:23:48.144920Z"
    }
   },
   "source": [
    "# print the summary of the results in different format\n",
    "print(results.summary())"
   ],
   "outputs": [
    {
     "name": "stdout",
     "output_type": "stream",
     "text": [
      "                            OLS Regression Results                            \n",
      "==============================================================================\n",
      "Dep. Variable:                      Y   R-squared:                       0.307\n",
      "Model:                            OLS   Adj. R-squared:                  0.268\n",
      "Method:                 Least Squares   F-statistic:                     7.963\n",
      "Date:                Tue, 13 May 2025   Prob (F-statistic):             0.0113\n",
      "Time:                        17:23:48   Log-Likelihood:                -112.85\n",
      "No. Observations:                  20   AIC:                             229.7\n",
      "Df Residuals:                      18   BIC:                             231.7\n",
      "Df Model:                           1                                         \n",
      "Covariance Type:            nonrobust                                         \n",
      "==============================================================================\n",
      "                 coef    std err          t      P>|t|      [0.025      0.975]\n",
      "------------------------------------------------------------------------------\n",
      "const        713.8571    112.629      6.338      0.000     477.232     950.483\n",
      "X            -16.2143      5.746     -2.822      0.011     -28.286      -4.142\n",
      "==============================================================================\n",
      "Omnibus:                        2.330   Durbin-Watson:                   2.184\n",
      "Prob(Omnibus):                  0.312   Jarque-Bera (JB):                0.783\n",
      "Skew:                          -0.163   Prob(JB):                        0.676\n",
      "Kurtosis:                       3.913   Cond. No.                         138.\n",
      "==============================================================================\n",
      "\n",
      "Notes:\n",
      "[1] Standard Errors assume that the covariance matrix of the errors is correctly specified.\n"
     ]
    }
   ],
   "execution_count": 27
  },
  {
   "metadata": {},
   "cell_type": "markdown",
   "source": "### Simple plot with seaborn"
  },
  {
   "metadata": {
    "ExecuteTime": {
     "end_time": "2025-05-13T14:24:49.585634Z",
     "start_time": "2025-05-13T14:24:49.582335Z"
    }
   },
   "cell_type": "code",
   "source": [
    "# rename takes a dictionary as an input argument.\n",
    "df = df.rename(columns={\"X\": \"temperature\", \"Y\": \"quantity\"})"
   ],
   "outputs": [],
   "execution_count": 31
  },
  {
   "cell_type": "code",
   "metadata": {
    "colab": {
     "base_uri": "https://localhost:8080/",
     "height": 383
    },
    "id": "ePyefzEx-0De",
    "outputId": "353f6522-f972-45dc-ae44-8de9f53535d2",
    "ExecuteTime": {
     "end_time": "2025-05-13T14:24:58.905688Z",
     "start_time": "2025-05-13T14:24:58.667396Z"
    }
   },
   "source": [
    "g = sns.lmplot(\n",
    "    data=df,\n",
    "    x=\"temperature\",\n",
    "    y=\"quantity\",\n",
    "    height=5\n",
    ")"
   ],
   "outputs": [
    {
     "data": {
      "text/plain": [
       "<Figure size 500x500 with 1 Axes>"
      ],
      "image/png": "[encoded data removed]"
     },
     "metadata": {},
     "output_type": "display_data"
    }
   ],
   "execution_count": 32
  },
  {
   "cell_type": "code",
   "metadata": {
    "colab": {
     "base_uri": "https://localhost:8080/",
     "height": 279
    },
    "id": "4xml0PHW_AUm",
    "outputId": "83e34ae0-d1e9-4e02-f007-2178de09feff",
    "ExecuteTime": {
     "end_time": "2025-05-13T14:25:13.157179Z",
     "start_time": "2025-05-13T14:25:13.045353Z"
    }
   },
   "source": [
    "g = sns.scatterplot(\n",
    "    data=df,\n",
    "    x=\"temperature\",\n",
    "    y=\"quantity\",\n",
    ")"
   ],
   "outputs": [
    {
     "data": {
      "text/plain": [
       "<Figure size 640x480 with 1 Axes>"
      ],
      "image/png": "[encoded data removed]"
     },
     "metadata": {},
     "output_type": "display_data"
    }
   ],
   "execution_count": 33
  },
  {
   "cell_type": "code",
   "execution_count": null,
   "metadata": {},
   "outputs": [],
   "source": []
  }
 ],
 "metadata": {
  "colab": {
   "collapsed_sections": [],
   "name": "data_frame_intro.ipynb",
   "provenance": []
  },
  "kernelspec": {
   "display_name": "Python 3 (ipykernel)",
   "language": "python",
   "name": "python3"
  },
  "language_info": {
   "codemirror_mode": {
    "name": "ipython",
    "version": 3
   },
   "file_extension": ".py",
   "mimetype": "text/x-python",
   "name": "python",
   "nbconvert_exporter": "python",
   "pygments_lexer": "ipython3",
   "version": "3.11.9"
  }
 },
 "nbformat": 4,
 "nbformat_minor": 4
}
