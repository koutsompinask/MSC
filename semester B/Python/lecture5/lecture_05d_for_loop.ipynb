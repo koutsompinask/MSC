{
 "cells": [
  {
   "cell_type": "markdown",
   "id": "c6d14d45-ed7b-4eb6-9082-ba58b1b43867",
   "metadata": {},
   "source": [
    "# Lecture 05d: Control Flow Structures: loops, conditions. The `for` loop.\n",
    "\n",
    "[Intro to `for` loop statements](https://docs.python.org/3/tutorial/controlflow.html#for-statements)\n",
    "\n",
    "\n",
    "[More reading](https://docs.python.org/3/reference/compound_stmts.html)\n",
    "\n",
    "\n",
    "Basic Control Flow statements (control structures): while, if, for, try.   \n",
    "Used to: make decisions and direct the order of program execution.   \n",
    "Loops could be defined as conditional iterations. Loops are iterations that are bounded by some specified conditions.\n",
    "\n",
    "\n",
    "**Topics**:   \n",
    "\n",
    "a) Syntax notation:  \n",
    "    \n",
    "* indented blocks.  \n",
    "    \n",
    "* `:` sign at end of statement line.  \n",
    "\n",
    "b) Conditions: Use for all kind of boolean operations such as comparisons, membership tests.   \n",
    "\n",
    "c) Within structures [\"inner\" statements](https://docs.python.org/3/tutorial/controlflow.html#break-and-continue-statements-and-else-clauses-on-loops): `break`, `continue`.   \n",
    "\n",
    "d) The `else`, `elif` \"*clauses*\".  \n",
    "\n",
    "e) The [`pass` statements.](https://docs.python.org/3/tutorial/controlflow.html#pass-statements)\n",
    "\n",
    "f) Nested control flow statements: `nested loops`, `nested conditions`.  \n",
    "\n",
    "\n",
    "More reading about \n",
    "\n",
    "**Most common control flow errors are logical errors. Be mindful:**  \n",
    "\n",
    "        a) Desciptive control flow assignment.  \n",
    "        b) Controling logically for all the possible cases when dealing with multiple conditions.  \n",
    "        c) Position of statements.\n",
    "\n",
    "THE MOST IMPORTANT ISSUE TO REMEMBER: **position and order of statements in structures.**\n",
    "\n",
    "Advanced reading:   \n",
    "[`match` statements.](https://docs.python.org/3/tutorial/controlflow.html#match-statements)   \n",
    "[`exception handling`]()\n",
    "\n",
    "Extra concept in this lecture: **Pseudocoding**:  \n",
    "Always has been a necessary prerequisite skill for optimal coding.  \n",
    "Even more important skill in the era of AI coding assistants.\n",
    "\n",
    "---"
   ]
  },
  {
   "cell_type": "markdown",
   "id": "complicated-rabbit",
   "metadata": {},
   "source": [
    "## `for` loops\n",
    "\n",
    "Reminder:  \n",
    "The range function paremeters: range(start, stop, step)\n",
    "\n",
    "Be careful and use:  \n",
    "* ```range()``` to iterate N times.    \n",
    "* ```for``` to iterate over all objects, all items of a sequence.  \n",
    "\n",
    "\n",
    "To iterate:  \n",
    ">  don't use reserved names,  \n",
    "> use intuitive, descriptive names."
   ]
  },
  {
   "cell_type": "code",
   "execution_count": null,
   "id": "a7787ee7-e19c-4cf3-9a1f-85a86f1eb558",
   "metadata": {},
   "outputs": [],
   "source": [
    "# consice help in interactive python notebooks.\n",
    "range?"
   ]
  },
  {
   "cell_type": "code",
   "execution_count": null,
   "id": "parliamentary-syria",
   "metadata": {},
   "outputs": [],
   "source": [
    "user_name = input('Enter your name:\\n\\n')\n",
    "\n",
    "# range start from 0, stop at 4, default step=1\n",
    "for i in range(4):\n",
    "    print(user_name)"
   ]
  },
  {
   "cell_type": "code",
   "execution_count": null,
   "id": "pleasant-scientist",
   "metadata": {},
   "outputs": [],
   "source": [
    "# range start from 0, stop at 4, default step=2\n",
    "for i in range(0, 4, 2):\n",
    "    print(user_name)"
   ]
  },
  {
   "cell_type": "markdown",
   "id": "cd07482b-ffa2-4f2e-ad5c-004ca8462101",
   "metadata": {},
   "source": [
    "#### Use the word \"repetitions\" instead of \"i\""
   ]
  },
  {
   "cell_type": "code",
   "execution_count": null,
   "id": "5ad18b89-04c8-4caf-81c2-b3c6f3ba1b31",
   "metadata": {},
   "outputs": [],
   "source": [
    "user_name = input('Enter your name: ')\n",
    "\n",
    "# start from 0, stop at 4, default step=1\n",
    "for repetitions in range(4):\n",
    "    print(f'{user_name}')"
   ]
  },
  {
   "cell_type": "markdown",
   "id": "cb1cb27a-7c3f-45be-8c64-a6c062a8c62d",
   "metadata": {},
   "source": [
    "#### Assign `for` loop repetitions to a descriptive name"
   ]
  },
  {
   "cell_type": "code",
   "execution_count": null,
   "id": "7f00883d-034f-4249-bc0f-47be0fe9c428",
   "metadata": {},
   "outputs": [],
   "source": [
    "example_string = 'carefull with spaces'\n",
    "\n",
    "for letter in example_string:  # use letter instead of i\n",
    "    print(letter)"
   ]
  },
  {
   "cell_type": "code",
   "execution_count": null,
   "id": "closed-scenario",
   "metadata": {},
   "outputs": [],
   "source": [
    "# Assign `for` loop repetitions to a descriptive name\n",
    "example_list = ['a' , 4, 'john', 'jill']\n",
    "for item in example_list:\n",
    "    print(item * 2)"
   ]
  },
  {
   "cell_type": "code",
   "execution_count": null,
   "id": "ambient-wages",
   "metadata": {},
   "outputs": [],
   "source": [
    "# Find even or odd numbers\n",
    "for num in range(2, 10):\n",
    "    if num % 2 == 0:\n",
    "        print(\"Found an even number\", num)\n",
    "    else:\n",
    "        print(\"Found an odd number\", num)"
   ]
  },
  {
   "cell_type": "markdown",
   "id": "thrown-ukraine",
   "metadata": {},
   "source": [
    "### Continue statement   \n",
    "[continue](https://docs.python.org/3/tutorial/controlflow.html#break-and-continue-statements-and-else-clauses-on-loops)\n",
    "\n",
    "Continue with the next cycle of the nearest enclosing loop."
   ]
  },
  {
   "cell_type": "code",
   "execution_count": null,
   "id": "breathing-excess",
   "metadata": {},
   "outputs": [],
   "source": [
    "# Find even or odd numbers\n",
    "# Check the difference wth the script above\n",
    "for num in range(2, 10):  # 2\n",
    "    if num % 2 == 0:   # True\n",
    "        print(\"Found an even number\", num)\n",
    "        # continue passes control to the beginning of the loop that it belongs to.\n",
    "        continue  # the nearest enclosing loop is the if:\n",
    "    print(\"Found an odd number\", num)"
   ]
  },
  {
   "cell_type": "code",
   "execution_count": null,
   "id": "every-assessment",
   "metadata": {},
   "outputs": [],
   "source": [
    "# Find even or odd numbers\n",
    "# if continue is in the wrong block:\n",
    "# This is a total ABSOLUTE Mess\n",
    "\n",
    "for num in range(2, 10):  # 2\n",
    "    if num % 2 == 0:   # True\n",
    "        print(\"Found an even number\", num)\n",
    "        # continue passes control to the beginning of the loop that it belongs to.\n",
    "    continue  # the nearest enclosing loop is the for:\n",
    "    # when the flow ot the script comes to continue, it passes control to the for and iteration continues.\n",
    "    # the print and odd is never executed, and the loop finishes always ignoring it\n",
    "    print(\"Found an odd number\", num)"
   ]
  },
  {
   "cell_type": "code",
   "execution_count": null,
   "id": "saved-debut",
   "metadata": {},
   "outputs": [],
   "source": [
    "# Find even or odd numbers. WRONG.\n",
    "# Without continue, the loop is a mess.\n",
    "for num in range(2, 10):\n",
    "    if num % 2 == 0:\n",
    "        print(\"Found an even number\", num)\n",
    "        # continue  # commented \"continue\" to see difference\n",
    "        # without continue the inner (nested) loop finishes,\n",
    "        # then goes to the next statement of the outer loop\n",
    "        # then executes the last print everytime.\n",
    "        # then goes to beggining to iterate over the next number.\n",
    "    print(\"Found an odd number\", num)"
   ]
  },
  {
   "cell_type": "markdown",
   "id": "5bf62fb2-2c9c-4f72-9dc0-5514a8a7c258",
   "metadata": {
    "tags": [],
    "toc-hr-collapsed": true
   },
   "source": [
    "## Assignment, Practice Exercise\n",
    "\n",
    "**Create a guessing game. Will be graded with 10 points.**  \n",
    "**Goal: Show pseudo coding and test learning so far.**   \n",
    "\n",
    "\n",
    "\n",
    "Create a random integer number from 1 to 100. (Hint: try with a range from 1 to 20 first)  \n",
    "Ask user to guess the random number that was created.  \n",
    "Store the number of users' tries in a counter.  \n",
    "\n",
    "If user guess < number: inform users that their guess is lower than the number and ask user again.  \n",
    "If user guess > number: inform users that their guess is higher than the number and ask user again.   \n",
    "If user guess is equal to the number, inform user about the number of tries it took and then congratulate user.   \n",
    "\n",
    "Important:   \n",
    "Try to make different versions using AI assistants.  \n",
    "If you have more than one solutions, include your pseudocoding variations in the solutions file."
   ]
  },
  {
   "cell_type": "code",
   "execution_count": null,
   "id": "1e8bae26-af21-480f-85ff-de60e25f2206",
   "metadata": {},
   "outputs": [],
   "source": []
  }
 ],
 "metadata": {
  "kernelspec": {
   "display_name": "Python 3 (ipykernel)",
   "language": "python",
   "name": "python3"
  },
  "language_info": {
   "codemirror_mode": {
    "name": "ipython",
    "version": 3
   },
   "file_extension": ".py",
   "mimetype": "text/x-python",
   "name": "python",
   "nbconvert_exporter": "python",
   "pygments_lexer": "ipython3",
   "version": "3.11.8"
  }
 },
 "nbformat": 4,
 "nbformat_minor": 5
}
