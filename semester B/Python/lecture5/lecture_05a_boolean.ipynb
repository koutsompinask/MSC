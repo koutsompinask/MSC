{
 "cells": [
  {
   "cell_type": "markdown",
   "id": "missing-preference",
   "metadata": {},
   "source": [
    "# Lecture 5a: Boolean operations, value comparisons.\n",
    "\n",
    "**Truth Testing Expressions, value comparisons, return `boolean` values: `True` or `False`.**\n",
    "\n",
    "Expressions in python mean a statement that has a value. Examples: `x = 5`, `y = 2`, `x + y`.\n",
    "\n",
    "`Boolean` means: binary, \"δυαδικές\".\n",
    "\n",
    "Do not confuse with Truth or Dare game.\n",
    "\n",
    "In Python, `True` and `False` are two constant objects.\n",
    "\n",
    "**New Words**:\n",
    "* `Expressions`,\n",
    "* `Boolean`,\n",
    "* `Value Comparisons`,\n",
    "* `Identity Comparisons`,\n",
    "* `Membership test Operations`,\n",
    "* `Boolean Operations`.\n",
    "\n",
    "---\n",
    "\n",
    "#### Learning Goals:\n",
    "\n",
    "[Truth Value Testing](https://docs.python.org/3/library/stdtypes.html#truth-value-testing)\n",
    "> Example: if password is correct then open the door.\n",
    "\n",
    "[Basic Comparisons](https://docs.python.org/3/library/stdtypes.html#comparisons)\n",
    "> There are **eight** comparison operations in Python: `<, <=, >, >=, ==, !=, is, is not`\n",
    "> They all have the same priority (which is higher than that of the Boolean operations).\n",
    "\n",
    "[Comparisons in general](https://docs.python.org/3/reference/expressions.html?#comparisons)\n",
    "\n",
    "\n",
    "[Value Comparisons](https://docs.python.org/3/reference/expressions.html?#value-comparisons)\n",
    "\n",
    "> The operators `<, >, ==, >=, <=, !=` compare the values of two objects.\n",
    "\n",
    "> The objects do not need to have the same type.\n",
    "\n",
    "\n",
    "[Membership test Operations](https://docs.python.org/3/reference/expressions.html?#membership-test-operations)\n",
    "\n",
    "[Identity Comparisons](https://docs.python.org/3/reference/expressions.html?#is-not)\n",
    "\n",
    "\n",
    "[Boolean Operations](https://docs.python.org/3/library/stdtypes.html#boolean-operations-and-or-not)\n",
    "\n",
    "`Boolean` operations are the `and`, `or`, and `not` operations.\n",
    "They use `Boolean` operators return a `Boolean` value.\n",
    "\n",
    "\n",
    "[bool() function](https://docs.python.org/3/library/functions.html#bool)\n",
    "\n",
    "**[Important reading: The difference between operators `==` and `is`. Read all the replies.](https://stackoverflow.com/questions/132988/is-there-a-difference-between-and-is/1085656#1085656)**\n",
    "\n",
    "Then ask an AI assistant more about it.\n",
    "\n",
    "\n",
    "\n",
    "## 1. True in Python.\n",
    "In python, **True** is the default state of things.\n",
    "Some exceptions are shown at the end of lecture (parental advisory content)."
   ]
  },
  {
   "cell_type": "code",
   "execution_count": 1,
   "id": "expired-genesis",
   "metadata": {
    "ExecuteTime": {
     "end_time": "2025-03-27T14:15:07.272418Z",
     "start_time": "2025-03-27T14:15:07.266525Z"
    }
   },
   "outputs": [],
   "source": [
    "# Just some names and their values.\n",
    "x = 9\n",
    "w = 4\n",
    "y = 2\n",
    "antonis = 10\n",
    "z = \"last but not least\""
   ]
  },
  {
   "cell_type": "code",
   "execution_count": 2,
   "id": "olive-dance",
   "metadata": {
    "ExecuteTime": {
     "end_time": "2025-03-27T14:15:07.322157Z",
     "start_time": "2025-03-27T14:15:07.316102Z"
    }
   },
   "outputs": [
    {
     "data": {
      "text/plain": [
       "9"
      ]
     },
     "execution_count": 2,
     "metadata": {},
     "output_type": "execute_result"
    }
   ],
   "source": [
    "x"
   ]
  },
  {
   "cell_type": "code",
   "execution_count": 3,
   "id": "casual-elizabeth",
   "metadata": {
    "ExecuteTime": {
     "end_time": "2025-03-27T14:15:07.411677Z",
     "start_time": "2025-03-27T14:15:07.408475Z"
    }
   },
   "outputs": [
    {
     "data": {
      "text/plain": [
       "False"
      ]
     },
     "execution_count": 3,
     "metadata": {},
     "output_type": "execute_result"
    }
   ],
   "source": [
    "not x  # True is the default state of things."
   ]
  },
  {
   "cell_type": "code",
   "execution_count": 4,
   "id": "valued-conservation",
   "metadata": {
    "ExecuteTime": {
     "end_time": "2025-03-27T14:15:07.462981Z",
     "start_time": "2025-03-27T14:15:07.459519Z"
    }
   },
   "outputs": [
    {
     "data": {
      "text/plain": [
       "True"
      ]
     },
     "execution_count": 4,
     "metadata": {},
     "output_type": "execute_result"
    }
   ],
   "source": [
    "# bool is the function that works behind the scenes to test the truth.\n",
    "bool(x)"
   ]
  },
  {
   "cell_type": "code",
   "execution_count": 5,
   "id": "b2beb685-6ca4-4236-b823-b135aab44566",
   "metadata": {
    "ExecuteTime": {
     "end_time": "2025-03-27T14:15:07.522070Z",
     "start_time": "2025-03-27T14:15:07.517738Z"
    }
   },
   "outputs": [
    {
     "data": {
      "text/plain": [
       "False"
      ]
     },
     "execution_count": 5,
     "metadata": {},
     "output_type": "execute_result"
    }
   ],
   "source": [
    "not x"
   ]
  },
  {
   "cell_type": "code",
   "execution_count": 6,
   "id": "4732f7a0-fe37-43a2-9bdc-a096aeffe8da",
   "metadata": {
    "ExecuteTime": {
     "end_time": "2025-03-27T14:15:07.570144Z",
     "start_time": "2025-03-27T14:15:07.567925Z"
    }
   },
   "outputs": [
    {
     "data": {
      "text/plain": [
       "False"
      ]
     },
     "execution_count": 6,
     "metadata": {},
     "output_type": "execute_result"
    }
   ],
   "source": [
    "bool(not x)"
   ]
  },
  {
   "cell_type": "markdown",
   "id": "50a119012d1e439",
   "metadata": {},
   "source": [
    "## 2. Six **Value** Comparison operators: `<, <=, >, >=, ==, !=`"
   ]
  },
  {
   "cell_type": "code",
   "execution_count": 7,
   "id": "average-inclusion",
   "metadata": {
    "ExecuteTime": {
     "end_time": "2025-03-27T14:15:07.620442Z",
     "start_time": "2025-03-27T14:15:07.618255Z"
    }
   },
   "outputs": [
    {
     "data": {
      "text/plain": [
       "True"
      ]
     },
     "execution_count": 7,
     "metadata": {},
     "output_type": "execute_result"
    }
   ],
   "source": [
    "9 > 2"
   ]
  },
  {
   "cell_type": "code",
   "execution_count": 8,
   "id": "joined-vector",
   "metadata": {
    "ExecuteTime": {
     "end_time": "2025-03-27T14:15:07.670117Z",
     "start_time": "2025-03-27T14:15:07.666391Z"
    }
   },
   "outputs": [
    {
     "data": {
      "text/plain": [
       "True"
      ]
     },
     "execution_count": 8,
     "metadata": {},
     "output_type": "execute_result"
    }
   ],
   "source": [
    "x >= y  # True"
   ]
  },
  {
   "cell_type": "code",
   "execution_count": 9,
   "id": "operational-rolling",
   "metadata": {
    "ExecuteTime": {
     "end_time": "2025-03-27T14:15:07.723075Z",
     "start_time": "2025-03-27T14:15:07.720066Z"
    }
   },
   "outputs": [
    {
     "data": {
      "text/plain": [
       "True"
      ]
     },
     "execution_count": 9,
     "metadata": {},
     "output_type": "execute_result"
    }
   ],
   "source": [
    "x != y  # True"
   ]
  },
  {
   "cell_type": "code",
   "execution_count": 10,
   "id": "b020b849a40ec593",
   "metadata": {
    "ExecuteTime": {
     "end_time": "2025-03-27T14:15:07.775253Z",
     "start_time": "2025-03-27T14:15:07.771820Z"
    }
   },
   "outputs": [
    {
     "data": {
      "text/plain": [
       "False"
      ]
     },
     "execution_count": 10,
     "metadata": {},
     "output_type": "execute_result"
    }
   ],
   "source": [
    "x == y"
   ]
  },
  {
   "cell_type": "markdown",
   "id": "stuffed-simple",
   "metadata": {},
   "source": [
    "## 3. Identity comparisons operators: `is not`, `is`, `not`"
   ]
  },
  {
   "cell_type": "code",
   "execution_count": 11,
   "id": "greek-print",
   "metadata": {
    "ExecuteTime": {
     "end_time": "2025-03-27T14:15:07.827362Z",
     "start_time": "2025-03-27T14:15:07.823707Z"
    }
   },
   "outputs": [
    {
     "data": {
      "text/plain": [
       "True"
      ]
     },
     "execution_count": 11,
     "metadata": {},
     "output_type": "execute_result"
    }
   ],
   "source": [
    "x is not y  # True"
   ]
  },
  {
   "cell_type": "code",
   "execution_count": 12,
   "id": "korean-actress",
   "metadata": {
    "ExecuteTime": {
     "end_time": "2025-03-27T14:15:07.879036Z",
     "start_time": "2025-03-27T14:15:07.876031Z"
    }
   },
   "outputs": [],
   "source": [
    "x = antonis"
   ]
  },
  {
   "cell_type": "code",
   "execution_count": 13,
   "id": "6ced0cab-e1b3-46e8-8a69-e67d848e1e4d",
   "metadata": {
    "ExecuteTime": {
     "end_time": "2025-03-27T14:15:07.938309Z",
     "start_time": "2025-03-27T14:15:07.933773Z"
    }
   },
   "outputs": [
    {
     "data": {
      "text/plain": [
       "True"
      ]
     },
     "execution_count": 13,
     "metadata": {},
     "output_type": "execute_result"
    }
   ],
   "source": [
    "x == antonis"
   ]
  },
  {
   "cell_type": "code",
   "execution_count": 14,
   "id": "b13a334d-be71-43e4-8109-8c1665e203f0",
   "metadata": {
    "ExecuteTime": {
     "end_time": "2025-03-27T14:15:07.997858Z",
     "start_time": "2025-03-27T14:15:07.992857Z"
    }
   },
   "outputs": [
    {
     "data": {
      "text/plain": [
       "True"
      ]
     },
     "execution_count": 14,
     "metadata": {},
     "output_type": "execute_result"
    }
   ],
   "source": [
    "x is antonis"
   ]
  },
  {
   "cell_type": "code",
   "execution_count": 15,
   "id": "0795a8fe-9173-48ce-a5cb-51c2f4a392bf",
   "metadata": {
    "ExecuteTime": {
     "end_time": "2025-03-27T14:15:08.059201Z",
     "start_time": "2025-03-27T14:15:08.054372Z"
    }
   },
   "outputs": [
    {
     "name": "stderr",
     "output_type": "stream",
     "text": [
      "<>:1: SyntaxWarning: \"is\" with a literal. Did you mean \"==\"?\n",
      "<>:1: SyntaxWarning: \"is\" with a literal. Did you mean \"==\"?\n",
      "/tmp/ipykernel_44735/53923558.py:1: SyntaxWarning: \"is\" with a literal. Did you mean \"==\"?\n",
      "  y is 2\n"
     ]
    },
    {
     "data": {
      "text/plain": [
       "True"
      ]
     },
     "execution_count": 15,
     "metadata": {},
     "output_type": "execute_result"
    }
   ],
   "source": [
    "y is 2"
   ]
  },
  {
   "cell_type": "code",
   "execution_count": 16,
   "id": "540b0dbb-c2f9-4190-a742-2346a3a04826",
   "metadata": {
    "ExecuteTime": {
     "end_time": "2025-03-27T14:15:08.114066Z",
     "start_time": "2025-03-27T14:15:08.110503Z"
    }
   },
   "outputs": [
    {
     "data": {
      "text/plain": [
       "True"
      ]
     },
     "execution_count": 16,
     "metadata": {},
     "output_type": "execute_result"
    }
   ],
   "source": [
    "y == 2"
   ]
  },
  {
   "cell_type": "code",
   "execution_count": 17,
   "id": "protecting-updating",
   "metadata": {
    "ExecuteTime": {
     "end_time": "2025-03-27T14:15:08.167613Z",
     "start_time": "2025-03-27T14:15:08.163963Z"
    }
   },
   "outputs": [
    {
     "data": {
      "text/plain": [
       "False"
      ]
     },
     "execution_count": 17,
     "metadata": {},
     "output_type": "execute_result"
    }
   ],
   "source": [
    "x == y  # False"
   ]
  },
  {
   "cell_type": "code",
   "execution_count": 18,
   "id": "accepting-chuck",
   "metadata": {
    "ExecuteTime": {
     "end_time": "2025-03-27T14:15:08.224073Z",
     "start_time": "2025-03-27T14:15:08.219980Z"
    }
   },
   "outputs": [
    {
     "data": {
      "text/plain": [
       "False"
      ]
     },
     "execution_count": 18,
     "metadata": {},
     "output_type": "execute_result"
    }
   ],
   "source": [
    "x is y  #False"
   ]
  },
  {
   "cell_type": "markdown",
   "id": "through-cedar",
   "metadata": {},
   "source": [
    "`not` has a lower priority than non-Boolean operators, so not a == b is interpreted as not (a == b),"
   ]
  },
  {
   "cell_type": "code",
   "execution_count": 19,
   "id": "passing-reference",
   "metadata": {
    "ExecuteTime": {
     "end_time": "2025-03-27T14:15:08.278949Z",
     "start_time": "2025-03-27T14:15:08.275788Z"
    }
   },
   "outputs": [
    {
     "data": {
      "text/plain": [
       "True"
      ]
     },
     "execution_count": 19,
     "metadata": {},
     "output_type": "execute_result"
    }
   ],
   "source": [
    "bool(x)"
   ]
  },
  {
   "cell_type": "code",
   "execution_count": 20,
   "id": "bulgarian-ready",
   "metadata": {
    "ExecuteTime": {
     "end_time": "2025-03-27T14:15:08.336444Z",
     "start_time": "2025-03-27T14:15:08.331728Z"
    }
   },
   "outputs": [
    {
     "data": {
      "text/plain": [
       "False"
      ]
     },
     "execution_count": 20,
     "metadata": {},
     "output_type": "execute_result"
    }
   ],
   "source": [
    "not x"
   ]
  },
  {
   "cell_type": "code",
   "execution_count": 21,
   "id": "eleven-value",
   "metadata": {
    "ExecuteTime": {
     "end_time": "2025-03-27T14:15:08.390919Z",
     "start_time": "2025-03-27T14:15:08.387133Z"
    }
   },
   "outputs": [
    {
     "data": {
      "text/plain": [
       "True"
      ]
     },
     "execution_count": 21,
     "metadata": {},
     "output_type": "execute_result"
    }
   ],
   "source": [
    "not (x == y)  # True"
   ]
  },
  {
   "cell_type": "code",
   "execution_count": 22,
   "id": "anticipated-oxygen",
   "metadata": {
    "ExecuteTime": {
     "end_time": "2025-03-27T14:15:08.453280Z",
     "start_time": "2025-03-27T14:15:08.448117Z"
    }
   },
   "outputs": [
    {
     "data": {
      "text/plain": [
       "True"
      ]
     },
     "execution_count": 22,
     "metadata": {},
     "output_type": "execute_result"
    }
   ],
   "source": [
    "not x is y  # True because if means: not(x is y)"
   ]
  },
  {
   "cell_type": "code",
   "execution_count": 23,
   "id": "organized-campbell",
   "metadata": {
    "ExecuteTime": {
     "end_time": "2025-03-27T14:15:08.508346Z",
     "start_time": "2025-03-27T14:15:08.503553Z"
    }
   },
   "outputs": [
    {
     "data": {
      "text/plain": [
       "True"
      ]
     },
     "execution_count": 23,
     "metadata": {},
     "output_type": "execute_result"
    }
   ],
   "source": [
    "not(x is y)  # same as above"
   ]
  },
  {
   "cell_type": "code",
   "execution_count": 24,
   "id": "applicable-prior",
   "metadata": {
    "ExecuteTime": {
     "end_time": "2025-03-27T14:15:08.562725Z",
     "start_time": "2025-03-27T14:15:08.559109Z"
    }
   },
   "outputs": [
    {
     "data": {
      "text/plain": [
       "True"
      ]
     },
     "execution_count": 24,
     "metadata": {},
     "output_type": "execute_result"
    }
   ],
   "source": [
    "2 < 4 < 9 < 15"
   ]
  },
  {
   "cell_type": "code",
   "execution_count": 25,
   "id": "wrong-constitution",
   "metadata": {
    "ExecuteTime": {
     "end_time": "2025-03-27T14:15:08.617732Z",
     "start_time": "2025-03-27T14:15:08.614071Z"
    }
   },
   "outputs": [
    {
     "data": {
      "text/plain": [
       "True"
      ]
     },
     "execution_count": 25,
     "metadata": {},
     "output_type": "execute_result"
    }
   ],
   "source": [
    "y < w < x  #True. Chained comparison (y < w and w < x)"
   ]
  },
  {
   "cell_type": "markdown",
   "id": "prescription-principal",
   "metadata": {},
   "source": [
    "#### Compare Apples with oranges! Yes you can, but ...\n",
    "\n",
    "Don't compare `str` with `int`.\n",
    "\n",
    "Value Comparisons for other types.\n",
    "\n",
    "**Strings are compared based NOT by their length but by their lexicographical order.**\n",
    "\n",
    "Lexicographical order is similar to the order used in dictionaries, where strings are compared character by character based on their Unicode values."
   ]
  },
  {
   "cell_type": "code",
   "execution_count": 26,
   "id": "central-passion",
   "metadata": {
    "ExecuteTime": {
     "end_time": "2025-03-27T14:15:08.669948Z",
     "start_time": "2025-03-27T14:15:08.666377Z"
    }
   },
   "outputs": [
    {
     "data": {
      "text/plain": [
       "True"
      ]
     },
     "execution_count": 26,
     "metadata": {},
     "output_type": "execute_result"
    }
   ],
   "source": [
    "# 'a' comes before 'b' in lexicographical order\n",
    "'ahelloooooooooo' < 'bhello' # True"
   ]
  },
  {
   "cell_type": "code",
   "execution_count": 27,
   "id": "e6126fe6e85ef93f",
   "metadata": {
    "ExecuteTime": {
     "end_time": "2025-03-27T14:15:08.728942Z",
     "start_time": "2025-03-27T14:15:08.726588Z"
    }
   },
   "outputs": [
    {
     "data": {
      "text/plain": [
       "True"
      ]
     },
     "execution_count": 27,
     "metadata": {},
     "output_type": "execute_result"
    }
   ],
   "source": [
    "\"applebee\" < \"applec\"  # True"
   ]
  },
  {
   "cell_type": "code",
   "execution_count": 28,
   "id": "quantitative-nashville",
   "metadata": {
    "ExecuteTime": {
     "end_time": "2025-03-27T14:15:08.783088Z",
     "start_time": "2025-03-27T14:15:08.780411Z"
    }
   },
   "outputs": [
    {
     "data": {
      "text/plain": [
       "True"
      ]
     },
     "execution_count": 28,
     "metadata": {},
     "output_type": "execute_result"
    }
   ],
   "source": [
    "[1, 2] < [1, 2, 3, 4] # True"
   ]
  },
  {
   "cell_type": "code",
   "execution_count": 29,
   "id": "ea38d2f008052afc",
   "metadata": {
    "ExecuteTime": {
     "end_time": "2025-03-27T14:15:08.834272Z",
     "start_time": "2025-03-27T14:15:08.831431Z"
    }
   },
   "outputs": [
    {
     "data": {
      "text/plain": [
       "True"
      ]
     },
     "execution_count": 29,
     "metadata": {},
     "output_type": "execute_result"
    }
   ],
   "source": [
    "# uppercase 'A' has a lower Unicode value than lowercase 'a'\n",
    "\"Apple\" < \"apple\"  # True"
   ]
  },
  {
   "cell_type": "code",
   "execution_count": 30,
   "id": "honey-lying",
   "metadata": {
    "ExecuteTime": {
     "end_time": "2025-03-27T14:15:08.887911Z",
     "start_time": "2025-03-27T14:15:08.884508Z"
    }
   },
   "outputs": [
    {
     "data": {
      "text/plain": [
       "False"
      ]
     },
     "execution_count": 30,
     "metadata": {},
     "output_type": "execute_result"
    }
   ],
   "source": [
    "apple = \"apple\"\n",
    "ora = \"orange\"\n",
    "apple == \"orange\""
   ]
  },
  {
   "cell_type": "code",
   "execution_count": 31,
   "id": "moral-victory",
   "metadata": {
    "ExecuteTime": {
     "end_time": "2025-03-27T14:15:08.939744Z",
     "start_time": "2025-03-27T14:15:08.936252Z"
    }
   },
   "outputs": [
    {
     "data": {
      "text/plain": [
       "False"
      ]
     },
     "execution_count": 31,
     "metadata": {},
     "output_type": "execute_result"
    }
   ],
   "source": [
    "apple == \"orange\""
   ]
  },
  {
   "cell_type": "code",
   "execution_count": 32,
   "id": "functioning-emerald",
   "metadata": {
    "ExecuteTime": {
     "end_time": "2025-03-27T14:15:08.991577Z",
     "start_time": "2025-03-27T14:15:08.988230Z"
    }
   },
   "outputs": [
    {
     "data": {
      "text/plain": [
       "True"
      ]
     },
     "execution_count": 32,
     "metadata": {},
     "output_type": "execute_result"
    }
   ],
   "source": [
    "# I told you we can compare apples with oranges!\n",
    "apple < ora"
   ]
  },
  {
   "cell_type": "code",
   "execution_count": 33,
   "id": "logical-faith",
   "metadata": {
    "ExecuteTime": {
     "end_time": "2025-03-27T14:15:09.044338Z",
     "start_time": "2025-03-27T14:15:09.040170Z"
    }
   },
   "outputs": [
    {
     "data": {
      "text/plain": [
       "True"
      ]
     },
     "execution_count": 33,
     "metadata": {},
     "output_type": "execute_result"
    }
   ],
   "source": [
    "apple < 'orange'"
   ]
  },
  {
   "cell_type": "code",
   "execution_count": 34,
   "id": "planned-payroll",
   "metadata": {
    "ExecuteTime": {
     "end_time": "2025-03-27T14:15:09.092551Z",
     "start_time": "2025-03-27T14:15:09.089986Z"
    }
   },
   "outputs": [],
   "source": [
    "# Uncomment line below for comparison TypeError. Cannot compare 'int' with 'str'.\n",
    "# 'hello' > 2  # TypeError"
   ]
  },
  {
   "cell_type": "markdown",
   "id": "corporate-african",
   "metadata": {},
   "source": [
    "## 4. Membership test operations: `in`, `not in`"
   ]
  },
  {
   "cell_type": "code",
   "execution_count": 35,
   "id": "separated-croatia",
   "metadata": {
    "ExecuteTime": {
     "end_time": "2025-03-27T14:15:09.143844Z",
     "start_time": "2025-03-27T14:15:09.139515Z"
    }
   },
   "outputs": [
    {
     "data": {
      "text/plain": [
       "['John', 1, 2, 3]"
      ]
     },
     "execution_count": 35,
     "metadata": {},
     "output_type": "execute_result"
    }
   ],
   "source": [
    "# dont use list for different types!\n",
    "my_list = [\"John\", 1, 2, 3]  # don't use lists for different types!\n",
    "my_list  # BTW, please don't use lists for different types!"
   ]
  },
  {
   "cell_type": "code",
   "execution_count": 36,
   "id": "scientific-freedom",
   "metadata": {
    "ExecuteTime": {
     "end_time": "2025-03-27T14:15:09.196778Z",
     "start_time": "2025-03-27T14:15:09.193331Z"
    }
   },
   "outputs": [
    {
     "data": {
      "text/plain": [
       "True"
      ]
     },
     "execution_count": 36,
     "metadata": {},
     "output_type": "execute_result"
    }
   ],
   "source": [
    "\"John\" in my_list  # True"
   ]
  },
  {
   "cell_type": "code",
   "execution_count": 37,
   "id": "bearing-range",
   "metadata": {
    "ExecuteTime": {
     "end_time": "2025-03-27T14:15:09.248041Z",
     "start_time": "2025-03-27T14:15:09.245402Z"
    }
   },
   "outputs": [
    {
     "data": {
      "text/plain": [
       "True"
      ]
     },
     "execution_count": 37,
     "metadata": {},
     "output_type": "execute_result"
    }
   ],
   "source": [
    "1 in my_list  # True"
   ]
  },
  {
   "cell_type": "code",
   "execution_count": 38,
   "id": "classified-madagascar",
   "metadata": {
    "ExecuteTime": {
     "end_time": "2025-03-27T14:15:09.295691Z",
     "start_time": "2025-03-27T14:15:09.291801Z"
    }
   },
   "outputs": [
    {
     "data": {
      "text/plain": [
       "False"
      ]
     },
     "execution_count": 38,
     "metadata": {},
     "output_type": "execute_result"
    }
   ],
   "source": [
    "4 in my_list  # False"
   ]
  },
  {
   "cell_type": "code",
   "execution_count": 39,
   "id": "dress-gibraltar",
   "metadata": {
    "ExecuteTime": {
     "end_time": "2025-03-27T14:15:09.352278Z",
     "start_time": "2025-03-27T14:15:09.348154Z"
    }
   },
   "outputs": [
    {
     "data": {
      "text/plain": [
       "True"
      ]
     },
     "execution_count": 39,
     "metadata": {},
     "output_type": "execute_result"
    }
   ],
   "source": [
    "4 not in my_list  # True"
   ]
  },
  {
   "cell_type": "code",
   "execution_count": 40,
   "id": "color-overall",
   "metadata": {
    "ExecuteTime": {
     "end_time": "2025-03-27T14:15:09.401247Z",
     "start_time": "2025-03-27T14:15:09.398453Z"
    }
   },
   "outputs": [
    {
     "data": {
      "text/plain": [
       "True"
      ]
     },
     "execution_count": 40,
     "metadata": {},
     "output_type": "execute_result"
    }
   ],
   "source": [
    "not (4 in my_list) # True."
   ]
  },
  {
   "cell_type": "markdown",
   "id": "filled-romance",
   "metadata": {},
   "source": [
    "## 5. Boolean Logical Operations: Logical `or`, `and`, `not`\n",
    "\n",
    "Number of students that completed Economics and Political Science?\n",
    "\n",
    "#### My favorite error: Using \"and\" when I should be using \"or\"."
   ]
  },
  {
   "cell_type": "code",
   "execution_count": 61,
   "id": "hungry-robinson",
   "metadata": {
    "ExecuteTime": {
     "end_time": "2025-03-27T14:16:06.940830Z",
     "start_time": "2025-03-27T14:16:06.937204Z"
    }
   },
   "outputs": [
    {
     "data": {
      "text/plain": [
       "False"
      ]
     },
     "execution_count": 61,
     "metadata": {},
     "output_type": "execute_result"
    }
   ],
   "source": [
    "#bool() function, test true or False\n",
    "bool(0.0)  # False"
   ]
  },
  {
   "cell_type": "code",
   "execution_count": 62,
   "id": "drawn-procurement",
   "metadata": {
    "ExecuteTime": {
     "end_time": "2025-03-27T14:16:07.210998Z",
     "start_time": "2025-03-27T14:16:07.207296Z"
    }
   },
   "outputs": [
    {
     "data": {
      "text/plain": [
       "False"
      ]
     },
     "execution_count": 62,
     "metadata": {},
     "output_type": "execute_result"
    }
   ],
   "source": [
    "bool(\"\")  # False"
   ]
  },
  {
   "cell_type": "code",
   "execution_count": 63,
   "id": "choice-alberta",
   "metadata": {
    "ExecuteTime": {
     "end_time": "2025-03-27T14:16:07.400894Z",
     "start_time": "2025-03-27T14:16:07.397183Z"
    }
   },
   "outputs": [
    {
     "data": {
      "text/plain": [
       "False"
      ]
     },
     "execution_count": 63,
     "metadata": {},
     "output_type": "execute_result"
    }
   ],
   "source": [
    "bool({})  # False"
   ]
  },
  {
   "cell_type": "code",
   "execution_count": 64,
   "id": "imported-relaxation",
   "metadata": {
    "ExecuteTime": {
     "end_time": "2025-03-27T14:16:07.623906Z",
     "start_time": "2025-03-27T14:16:07.618116Z"
    }
   },
   "outputs": [
    {
     "data": {
      "text/plain": [
       "True"
      ]
     },
     "execution_count": 64,
     "metadata": {},
     "output_type": "execute_result"
    }
   ],
   "source": [
    "bool(x)  # True"
   ]
  },
  {
   "cell_type": "code",
   "execution_count": 65,
   "id": "purple-absorption",
   "metadata": {
    "ExecuteTime": {
     "end_time": "2025-03-27T14:16:07.827658Z",
     "start_time": "2025-03-27T14:16:07.823673Z"
    }
   },
   "outputs": [
    {
     "data": {
      "text/plain": [
       "False"
      ]
     },
     "execution_count": 65,
     "metadata": {},
     "output_type": "execute_result"
    }
   ],
   "source": [
    "bool(False)"
   ]
  },
  {
   "cell_type": "code",
   "execution_count": 66,
   "id": "eleven-beverage",
   "metadata": {
    "ExecuteTime": {
     "end_time": "2025-03-27T14:16:08.507909Z",
     "start_time": "2025-03-27T14:16:08.504177Z"
    }
   },
   "outputs": [
    {
     "data": {
      "text/plain": [
       "False"
      ]
     },
     "execution_count": 66,
     "metadata": {},
     "output_type": "execute_result"
    }
   ],
   "source": [
    "True and False  # False, because both can not be True => False"
   ]
  },
  {
   "cell_type": "code",
   "execution_count": 67,
   "id": "interim-support",
   "metadata": {
    "ExecuteTime": {
     "end_time": "2025-03-27T14:16:09.357799Z",
     "start_time": "2025-03-27T14:16:09.354037Z"
    }
   },
   "outputs": [
    {
     "data": {
      "text/plain": [
       "True"
      ]
     },
     "execution_count": 67,
     "metadata": {},
     "output_type": "execute_result"
    }
   ],
   "source": [
    "True or False  # True"
   ]
  },
  {
   "cell_type": "markdown",
   "id": "94dae156812bd45f",
   "metadata": {},
   "source": [
    "#### Objects defined as `False` by default\n",
    "\n",
    "* constants defined to be false: `None` and `False`.\n",
    "\n",
    "* zero of any numeric type: 0, 0.0, 0j, Decimal(0), Fraction(0, 1)\n",
    "\n",
    "* empty sequences and collections: '', (), [], {}, set(), range(0)"
   ]
  },
  {
   "cell_type": "markdown",
   "id": "quarterly-material",
   "metadata": {},
   "source": [
    "## 6. Extra reading, if you want to get brain damage and become a zombie.\n",
    "\n",
    "But, necessary if you want to become an expert in Python.\n",
    "\n",
    "Boolean operations, [Short-circuit evaluations](https://docs.python.org/3/library/stdtypes.html?highlight=short%20circuit%20evaluation#boolean-operations-and-or-not).  \n",
    "**Evaluation stops if False**.  \n",
    "So, in logical and tests, if True => last evaluated value is returned."
   ]
  },
  {
   "cell_type": "code",
   "execution_count": 68,
   "id": "8710be62-c78d-48bc-b065-223757d49287",
   "metadata": {
    "ExecuteTime": {
     "end_time": "2025-03-27T14:16:11.356711Z",
     "start_time": "2025-03-27T14:16:11.352761Z"
    }
   },
   "outputs": [],
   "source": [
    "x = 9\n",
    "y = 2\n",
    "z = \"last but not least\""
   ]
  },
  {
   "cell_type": "code",
   "execution_count": 69,
   "id": "a1aa3fb6-7978-4336-bb28-c25fb67b9099",
   "metadata": {
    "ExecuteTime": {
     "end_time": "2025-03-27T14:16:13.262292Z",
     "start_time": "2025-03-27T14:16:13.258287Z"
    }
   },
   "outputs": [
    {
     "data": {
      "text/plain": [
       "9"
      ]
     },
     "execution_count": 69,
     "metadata": {},
     "output_type": "execute_result"
    }
   ],
   "source": [
    "x"
   ]
  },
  {
   "cell_type": "code",
   "execution_count": 70,
   "id": "yellow-contribution",
   "metadata": {
    "ExecuteTime": {
     "end_time": "2025-03-27T14:16:14.310195Z",
     "start_time": "2025-03-27T14:16:14.306575Z"
    }
   },
   "outputs": [
    {
     "data": {
      "text/plain": [
       "9"
      ]
     },
     "execution_count": 70,
     "metadata": {},
     "output_type": "execute_result"
    }
   ],
   "source": [
    "x or y # x is True, return value of x. The first value."
   ]
  },
  {
   "cell_type": "code",
   "execution_count": 71,
   "id": "35fc0a1d-69a4-4422-9266-dcbdf7129ebb",
   "metadata": {
    "ExecuteTime": {
     "end_time": "2025-03-27T14:16:14.736887Z",
     "start_time": "2025-03-27T14:16:14.733751Z"
    },
    "tags": []
   },
   "outputs": [
    {
     "data": {
      "text/plain": [
       "2"
      ]
     },
     "execution_count": 71,
     "metadata": {},
     "output_type": "execute_result"
    }
   ],
   "source": [
    "y or x"
   ]
  },
  {
   "cell_type": "code",
   "execution_count": 72,
   "id": "b8ecfa72-c2dd-409a-be1f-f5f768d9283f",
   "metadata": {
    "ExecuteTime": {
     "end_time": "2025-03-27T14:16:14.961367Z",
     "start_time": "2025-03-27T14:16:14.957201Z"
    }
   },
   "outputs": [
    {
     "data": {
      "text/plain": [
       "2"
      ]
     },
     "execution_count": 72,
     "metadata": {},
     "output_type": "execute_result"
    }
   ],
   "source": [
    "y"
   ]
  },
  {
   "cell_type": "code",
   "execution_count": 73,
   "id": "separated-vacuum",
   "metadata": {
    "ExecuteTime": {
     "end_time": "2025-03-27T14:16:15.152620Z",
     "start_time": "2025-03-27T14:16:15.149575Z"
    }
   },
   "outputs": [
    {
     "data": {
      "text/plain": [
       "2"
      ]
     },
     "execution_count": 73,
     "metadata": {},
     "output_type": "execute_result"
    }
   ],
   "source": [
    "0 or y # 0 is False, return value of y. The second value."
   ]
  },
  {
   "cell_type": "code",
   "execution_count": 74,
   "id": "radio-jacksonville",
   "metadata": {
    "ExecuteTime": {
     "end_time": "2025-03-27T14:16:15.994911Z",
     "start_time": "2025-03-27T14:16:15.991077Z"
    }
   },
   "outputs": [
    {
     "data": {
      "text/plain": [
       "0"
      ]
     },
     "execution_count": 74,
     "metadata": {},
     "output_type": "execute_result"
    }
   ],
   "source": [
    "0 and y # because zero is False and the union is False, return 0. y is not evaluated."
   ]
  },
  {
   "cell_type": "code",
   "execution_count": 75,
   "id": "fa381108-fa99-456d-b44c-bb87a7a5ef63",
   "metadata": {
    "ExecuteTime": {
     "end_time": "2025-03-27T14:16:16.231478Z",
     "start_time": "2025-03-27T14:16:16.226031Z"
    }
   },
   "outputs": [
    {
     "data": {
      "text/plain": [
       "'last but not least'"
      ]
     },
     "execution_count": 75,
     "metadata": {},
     "output_type": "execute_result"
    }
   ],
   "source": [
    "z"
   ]
  },
  {
   "cell_type": "code",
   "execution_count": 76,
   "id": "f7e7932f-9db0-43ec-9ab4-5d76e3b11d08",
   "metadata": {
    "ExecuteTime": {
     "end_time": "2025-03-27T14:16:16.399921Z",
     "start_time": "2025-03-27T14:16:16.395872Z"
    }
   },
   "outputs": [
    {
     "data": {
      "text/plain": [
       "2"
      ]
     },
     "execution_count": 76,
     "metadata": {},
     "output_type": "execute_result"
    }
   ],
   "source": [
    "x and y  #  if True => last evaluated value is returned."
   ]
  },
  {
   "cell_type": "code",
   "execution_count": 77,
   "id": "solved-delaware",
   "metadata": {
    "ExecuteTime": {
     "end_time": "2025-03-27T14:16:17.074777Z",
     "start_time": "2025-03-27T14:16:17.070939Z"
    }
   },
   "outputs": [
    {
     "data": {
      "text/plain": [
       "'last but not least'"
      ]
     },
     "execution_count": 77,
     "metadata": {},
     "output_type": "execute_result"
    }
   ],
   "source": [
    "x and y and z # if True => last evaluated value is returned."
   ]
  },
  {
   "cell_type": "code",
   "execution_count": 78,
   "id": "e1a8340a-8866-41a7-8583-5eb12df5e97a",
   "metadata": {
    "ExecuteTime": {
     "end_time": "2025-03-27T14:16:17.295372Z",
     "start_time": "2025-03-27T14:16:17.291585Z"
    }
   },
   "outputs": [
    {
     "data": {
      "text/plain": [
       "False"
      ]
     },
     "execution_count": 78,
     "metadata": {},
     "output_type": "execute_result"
    }
   ],
   "source": [
    "(False and x)"
   ]
  },
  {
   "cell_type": "code",
   "execution_count": 79,
   "id": "aerial-prescription",
   "metadata": {
    "ExecuteTime": {
     "end_time": "2025-03-27T14:16:17.464353Z",
     "start_time": "2025-03-27T14:16:17.460709Z"
    }
   },
   "outputs": [
    {
     "data": {
      "text/plain": [
       "2"
      ]
     },
     "execution_count": 79,
     "metadata": {},
     "output_type": "execute_result"
    }
   ],
   "source": [
    "(False and x) or y #? remember parentheses, left to right "
   ]
  },
  {
   "cell_type": "code",
   "execution_count": 80,
   "id": "tight-wheel",
   "metadata": {
    "ExecuteTime": {
     "end_time": "2025-03-27T14:16:18.151281Z",
     "start_time": "2025-03-27T14:16:18.147625Z"
    }
   },
   "outputs": [
    {
     "data": {
      "text/plain": [
       "False"
      ]
     },
     "execution_count": 80,
     "metadata": {},
     "output_type": "execute_result"
    }
   ],
   "source": [
    "False and (x or y) #? remember parentheses,left to right"
   ]
  },
  {
   "cell_type": "code",
   "execution_count": null,
   "id": "011a40f9-e4c6-4eca-a73e-c8e005a5b64f",
   "metadata": {
    "ExecuteTime": {
     "end_time": "2025-03-27T14:16:18.343804Z",
     "start_time": "2025-03-27T14:16:18.341979Z"
    }
   },
   "outputs": [],
   "source": []
  }
 ],
 "metadata": {
  "kernelspec": {
   "display_name": "Python 3 (ipykernel)",
   "language": "python",
   "name": "python3"
  },
  "language_info": {
   "codemirror_mode": {
    "name": "ipython",
    "version": 3
   },
   "file_extension": ".py",
   "mimetype": "text/x-python",
   "name": "python",
   "nbconvert_exporter": "python",
   "pygments_lexer": "ipython3",
   "version": "3.12.9"
  }
 },
 "nbformat": 4,
 "nbformat_minor": 5
}
