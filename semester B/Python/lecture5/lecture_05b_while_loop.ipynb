{
 "cells": [
  {
   "cell_type": "markdown",
   "id": "c6d14d45-ed7b-4eb6-9082-ba58b1b43867",
   "metadata": {},
   "source": [
    "# Todo for 2025: Split to three notebooks.\n",
    "\n",
    "# Lecture 05b: Control Flow Structures: loops, conditions. The `while` loop.\n",
    "\n",
    "[Intro to `while` loop statements.](https://docs.python.org/3/tutorial/introduction.html#first-steps-towards-programming)\n",
    "\n",
    "\n",
    "[More reading](https://docs.python.org/3/reference/compound_stmts.html)\n",
    "\n",
    "\n",
    "Basic Control Flow statements (control structures): while, if, for, try.   \n",
    "Used to: make decisions and direct the order of program execution.   \n",
    "Loops could be defined as conditional iterations. Loops are iterations that are bounded by some specified conditions.\n",
    "\n",
    "\n",
    "**Topics**:   \n",
    "\n",
    "a) Syntax notation:  \n",
    "    \n",
    "* indented blocks.  \n",
    "    \n",
    "* `:` sign at end of statement line.  \n",
    "\n",
    "b) Conditions: Use for all kind of boolean operations such as comparisons, membership tests.   \n",
    "\n",
    "c) Within structures [\"inner\" statements](https://docs.python.org/3/tutorial/controlflow.html#break-and-continue-statements-and-else-clauses-on-loops): `break`, `continue`.   \n",
    "\n",
    "d) The [`pass` statements.](https://docs.python.org/3/tutorial/controlflow.html#pass-statements)\n",
    "\n",
    "r) Nested control flow statements: `nested loops`, `nested conditions`.\n",
    "\n",
    "\n",
    "More reading about \n",
    "\n",
    "**Most common control flow errors are logical errors. Be mindful:**  \n",
    "\n",
    "        a) Desciptive control flow assignment.  \n",
    "        b) Controling logically for all the possible cases when dealing with multiple conditions.  \n",
    "        c) Position of statements.\n",
    "\n",
    "THE MOST IMPORTANT ISSUE TO REMEMBER: **position and order of statements in structures.**\n",
    "\n",
    "Advanced reading:   \n",
    "[`match` statements.](https://docs.python.org/3/tutorial/controlflow.html#match-statements)   \n",
    "[`exception handling`]()\n",
    "\n",
    "Extra concept in this lecture: **Pseudocoding**:  \n",
    "Always has been a necessary prerequisite skill for optimal coding.  \n",
    "Even more important skill in the era of AI coding assistants.\n",
    "\n",
    "---"
   ]
  },
  {
   "cell_type": "markdown",
   "id": "2d72c565-b810-41c7-9988-c78e838879f1",
   "metadata": {},
   "source": [
    "## `while` loops.\n",
    "\n",
    "`while`: Repeat execution (loop) **as long as** an expression is true.  \n",
    "\n",
    "`break`: terminates enclosing loop, control value keeps current value.  \n",
    "`continue`: continue enclosing loop => go to start of loop.  \n",
    "`pass`: do nothing.   \n",
    "Stop infinite loops with \"Interrupt kernel\" in notebook, or \"Ctrl + c\" in python.   "
   ]
  },
  {
   "cell_type": "markdown",
   "id": "841996c2-1908-4c14-ad4d-6c204663b9f5",
   "metadata": {},
   "source": [
    "#### Example with print inside the loop, but in *wrong* position .  \n",
    "In the example below, the print statement does not print the final values.  \n",
    "It prints the values before the operations in each iteration of the loop."
   ]
  },
  {
   "cell_type": "code",
   "id": "entitled-prototype",
   "metadata": {
    "tags": [],
    "ExecuteTime": {
     "end_time": "2025-03-27T14:20:43.501459Z",
     "start_time": "2025-03-27T14:20:43.497524Z"
    }
   },
   "source": [
    "# Fibonacci series: the sum of two elements defines the next.\n",
    "a = 0\n",
    "b = 1\n",
    "\n",
    "while a < 20:\n",
    "    print(a, b)   # Print before the operations.\n",
    "    a = b  # a becomes 1\n",
    "    b = a + b  # becomes 2 \n",
    "    #a, b = b, a + b\n",
    "    # break  # Uncomment to break the loop after the first iteration."
   ],
   "outputs": [
    {
     "name": "stdout",
     "output_type": "stream",
     "text": [
      "0 1\n",
      "1 2\n",
      "2 4\n",
      "4 8\n",
      "8 16\n",
      "16 32\n"
     ]
    }
   ],
   "execution_count": 1
  },
  {
   "cell_type": "code",
   "id": "played-directive",
   "metadata": {
    "ExecuteTime": {
     "end_time": "2025-03-27T14:20:43.551540Z",
     "start_time": "2025-03-27T14:20:43.547682Z"
    }
   },
   "source": [
    "# The final value of a.\n",
    "a"
   ],
   "outputs": [
    {
     "data": {
      "text/plain": [
       "32"
      ]
     },
     "execution_count": 2,
     "metadata": {},
     "output_type": "execute_result"
    }
   ],
   "execution_count": 2
  },
  {
   "cell_type": "code",
   "id": "08633910-bdca-4e9c-91a8-5a42fda5ffaf",
   "metadata": {
    "ExecuteTime": {
     "end_time": "2025-03-27T14:20:43.614315Z",
     "start_time": "2025-03-27T14:20:43.611702Z"
    }
   },
   "source": [
    "# The final value of b.\n",
    "b"
   ],
   "outputs": [
    {
     "data": {
      "text/plain": [
       "64"
      ]
     },
     "execution_count": 3,
     "metadata": {},
     "output_type": "execute_result"
    }
   ],
   "execution_count": 3
  },
  {
   "cell_type": "markdown",
   "id": "f1e80904-a854-4a8b-8351-7998f98f4771",
   "metadata": {},
   "source": [
    "#### Example with print inside the loop, but in the *correct* position.  \n",
    "In the example below, the print statement prints the final values.  \n",
    "It also prints the value of a and of b after each iteration of the loop."
   ]
  },
  {
   "cell_type": "code",
   "id": "disabled-council",
   "metadata": {
    "ExecuteTime": {
     "end_time": "2025-03-27T14:20:43.662950Z",
     "start_time": "2025-03-27T14:20:43.660278Z"
    }
   },
   "source": [
    "a = 0\n",
    "b = 1\n",
    "\n",
    "while a < 20:\n",
    "    a = b  # a becomes 1\n",
    "    b = a + b  # becomes 2 \n",
    "    print(a, b)   # Print after the operation\n",
    "    #a, b = b, a + b\n",
    "    # break  # Uncomment to break the loop"
   ],
   "outputs": [
    {
     "name": "stdout",
     "output_type": "stream",
     "text": [
      "1 2\n",
      "2 4\n",
      "4 8\n",
      "8 16\n",
      "16 32\n",
      "32 64\n"
     ]
    }
   ],
   "execution_count": 4
  },
  {
   "cell_type": "markdown",
   "id": "c8b9984a-60b1-4de2-b558-274e58591eab",
   "metadata": {},
   "source": [
    "#### Example with print outside of the loop, in an incorrect position.  \n",
    "In the example below, the print statement prints the final values.  \n",
    "It prints the value of a and of b only once, outside of the loop."
   ]
  },
  {
   "cell_type": "code",
   "id": "similar-product",
   "metadata": {
    "ExecuteTime": {
     "end_time": "2025-03-27T14:20:43.714768Z",
     "start_time": "2025-03-27T14:20:43.711881Z"
    }
   },
   "source": [
    "b = 1\n",
    "a = 0\n",
    "\n",
    "while a < 20:\n",
    "    a = b  # a becomes 1\n",
    "    b = a + b  # becomes 2 \n",
    "\n",
    "print(a, b)"
   ],
   "outputs": [
    {
     "name": "stdout",
     "output_type": "stream",
     "text": [
      "32 64\n"
     ]
    }
   ],
   "execution_count": 5
  },
  {
   "cell_type": "markdown",
   "id": "78968d9f-f629-4fe4-ac41-d23c93df9d7d",
   "metadata": {},
   "source": [
    "#### Example of infinite while loop.\n",
    "Stop using jupyter GUI square button: -> \"interrupt the kernel\".  \n",
    "Or use Tab Menu: Kernel -> Interrupt kernel.  \n",
    "Stop with \"Ctrl + c\".  \n",
    "\n",
    "If you uncomment the code below and run it, you will enter an infinite loop until all your RAM is utilised. Then your PC will crash."
   ]
  },
  {
   "cell_type": "code",
   "id": "certain-suffering",
   "metadata": {
    "tags": [],
    "ExecuteTime": {
     "end_time": "2025-03-27T14:20:43.770540Z",
     "start_time": "2025-03-27T14:20:43.767570Z"
    }
   },
   "source": [
    "a = 1\n",
    "\n",
    "# while a < 2:\n",
    "#     print(a)"
   ],
   "outputs": [],
   "execution_count": 6
  },
  {
   "cell_type": "markdown",
   "id": "629c46c5-8b71-40b8-b314-45250ccd8355",
   "metadata": {},
   "source": [
    "#### Example of print position inside and outside of a loop. "
   ]
  },
  {
   "cell_type": "code",
   "id": "possible-slovenia",
   "metadata": {
    "ExecuteTime": {
     "end_time": "2025-03-27T14:20:43.821992Z",
     "start_time": "2025-03-27T14:20:43.817400Z"
    }
   },
   "source": [
    "a = 1\n",
    "\n",
    "while a <= 4:\n",
    "    print(\"In the loop, before the operation: \", a)\n",
    "    #break\n",
    "    \n",
    "    a = a + 1   #a += 1\n",
    "    \n",
    "    print(\"Still in the loop, after the operation:\", a)\n",
    "    #break\n",
    "\n",
    "print()\n",
    "print(\"This is out of the loop: \", a)"
   ],
   "outputs": [
    {
     "name": "stdout",
     "output_type": "stream",
     "text": [
      "In the loop, before the operation:  1\n",
      "Still in the loop, after the operation: 2\n",
      "In the loop, before the operation:  2\n",
      "Still in the loop, after the operation: 3\n",
      "In the loop, before the operation:  3\n",
      "Still in the loop, after the operation: 4\n",
      "In the loop, before the operation:  4\n",
      "Still in the loop, after the operation: 5\n",
      "\n",
      "This is out of the loop:  5\n"
     ]
    }
   ],
   "execution_count": 7
  },
  {
   "cell_type": "markdown",
   "id": "de18c6a0-5aac-4e32-b49b-29cbbc4e98e9",
   "metadata": {},
   "source": [
    "#### Trivial example of a nested loop.   \n",
    "In this case, the nested loop finishes before the outer loop.    \n",
    "The outer loop continues its operations until its condition is met.  \n",
    "If you \"comment out\" the `break` statement in the nested loop, the nested loop will become infinite because there is no operation in it to increase the value of a."
   ]
  },
  {
   "cell_type": "code",
   "id": "respective-reporter",
   "metadata": {
    "ExecuteTime": {
     "end_time": "2025-03-27T14:20:43.880106Z",
     "start_time": "2025-03-27T14:20:43.875799Z"
    }
   },
   "source": [
    "a = 1\n",
    "\n",
    "while a <= 9:\n",
    "    print(a, \": in outer loop. Before the addition operation.\")\n",
    "    a += 1 # notation same as: a = a + 1\n",
    "    # print(a) # Position returns different results !\n",
    "    while a <= 3:\n",
    "        print(a, \": in Nested loop. After the addition operation.\")\n",
    "        break # Comment to have infinite loop. Stop with \"Ctrl + c\"\n",
    "        \n",
    "\n",
    "print(f\"Out of loop {a}\")"
   ],
   "outputs": [
    {
     "name": "stdout",
     "output_type": "stream",
     "text": [
      "1 : in outer loop. Before the addition operation.\n",
      "2 : in Nested loop. After the addition operation.\n",
      "2 : in outer loop. Before the addition operation.\n",
      "3 : in Nested loop. After the addition operation.\n",
      "3 : in outer loop. Before the addition operation.\n",
      "4 : in outer loop. Before the addition operation.\n",
      "5 : in outer loop. Before the addition operation.\n",
      "6 : in outer loop. Before the addition operation.\n",
      "7 : in outer loop. Before the addition operation.\n",
      "8 : in outer loop. Before the addition operation.\n",
      "9 : in outer loop. Before the addition operation.\n",
      "Out of loop 10\n"
     ]
    }
   ],
   "execution_count": 8
  },
  {
   "cell_type": "markdown",
   "id": "1c918e9d-1e1c-45af-99ea-83452c48fb36",
   "metadata": {},
   "source": [
    "#### Boring example of a nested loop.   \n",
    "In this case, the nested loop finishes after the outer loop.    \n",
    "The nested loop continues its operations until its condition is met.  \n"
   ]
  },
  {
   "cell_type": "code",
   "id": "loose-artwork",
   "metadata": {
    "ExecuteTime": {
     "end_time": "2025-03-27T14:20:43.938198Z",
     "start_time": "2025-03-27T14:20:43.933112Z"
    }
   },
   "source": [
    "a = 1\n",
    "\n",
    "while a <= 10:\n",
    "    print(a, \": in outer loop. Before the addition operation.\")\n",
    "    a += 1  # notation same as: a = a + 1\n",
    "    # print(a) # Position returns different results !\n",
    "    while a <= 50:\n",
    "        print(a, \": in nested loop. Before the multiplication operation.\")\n",
    "        a *= 2  # notation same as: a = a * 2\n",
    "        print(a, \": in Nested loop. After the multiplication operation.\")\n",
    "        \n",
    "\n",
    "print(f\"Out of loop {a}\")"
   ],
   "outputs": [
    {
     "name": "stdout",
     "output_type": "stream",
     "text": [
      "1 : in outer loop. Before the addition operation.\n",
      "2 : in nested loop. Before the multiplication operation.\n",
      "4 : in Nested loop. After the multiplication operation.\n",
      "4 : in nested loop. Before the multiplication operation.\n",
      "8 : in Nested loop. After the multiplication operation.\n",
      "8 : in nested loop. Before the multiplication operation.\n",
      "16 : in Nested loop. After the multiplication operation.\n",
      "16 : in nested loop. Before the multiplication operation.\n",
      "32 : in Nested loop. After the multiplication operation.\n",
      "32 : in nested loop. Before the multiplication operation.\n",
      "64 : in Nested loop. After the multiplication operation.\n",
      "Out of loop 64\n"
     ]
    }
   ],
   "execution_count": 9
  },
  {
   "cell_type": "markdown",
   "id": "fae7405b-34e6-476a-bffb-047f00ebf6ba",
   "metadata": {},
   "source": [
    "#### `pass` statement example"
   ]
  },
  {
   "cell_type": "code",
   "id": "c716bd03-0863-40b0-88f8-e56e65bac063",
   "metadata": {
    "ExecuteTime": {
     "end_time": "2025-03-27T14:20:43.992692Z",
     "start_time": "2025-03-27T14:20:43.988078Z"
    }
   },
   "source": [
    "a, b = 0, 1\n",
    "\n",
    "while a < 20:\n",
    "    a, b = b, a + b\n",
    "    print(a, end=' ')\n",
    "    if a == 5:\n",
    "        print(\"five\",  end=' ')\n",
    "        pass  # Placeholder for future code"
   ],
   "outputs": [
    {
     "name": "stdout",
     "output_type": "stream",
     "text": [
      "1 1 2 3 5 five 8 13 21 "
     ]
    }
   ],
   "execution_count": 10
  },
  {
   "cell_type": "markdown",
   "id": "aec4233f-fb26-4b5f-9ecb-75af5440784f",
   "metadata": {},
   "source": [
    "#### Password example with infinite `while` loop until correct input."
   ]
  },
  {
   "cell_type": "code",
   "id": "f5c620af-dc23-4d2a-b3ae-09e4ce9b6720",
   "metadata": {
    "ExecuteTime": {
     "end_time": "2025-03-27T14:20:54.966952Z",
     "start_time": "2025-03-27T14:20:44.044975Z"
    }
   },
   "source": [
    "correct_pwd= \"date\"\n",
    "\n",
    "user_pwd = input(\"Enter password: \")\n",
    "\n",
    "while correct_pwd != user_pwd:\n",
    "    user_pwd = input(\"Enter correct password: \")\n",
    "\n",
    "print(\"Succesfully logged in.\")"
   ],
   "outputs": [
    {
     "ename": "KeyboardInterrupt",
     "evalue": "Interrupted by user",
     "output_type": "error",
     "traceback": [
      "\u001B[0;31m---------------------------------------------------------------------------\u001B[0m",
      "\u001B[0;31mKeyboardInterrupt\u001B[0m                         Traceback (most recent call last)",
      "Cell \u001B[0;32mIn[11], line 6\u001B[0m\n\u001B[1;32m      3\u001B[0m user_pwd \u001B[38;5;241m=\u001B[39m \u001B[38;5;28minput\u001B[39m(\u001B[38;5;124m\"\u001B[39m\u001B[38;5;124mEnter password: \u001B[39m\u001B[38;5;124m\"\u001B[39m)\n\u001B[1;32m      5\u001B[0m \u001B[38;5;28;01mwhile\u001B[39;00m correct_pwd \u001B[38;5;241m!=\u001B[39m user_pwd:\n\u001B[0;32m----> 6\u001B[0m     user_pwd \u001B[38;5;241m=\u001B[39m \u001B[38;5;28;43minput\u001B[39;49m\u001B[43m(\u001B[49m\u001B[38;5;124;43m\"\u001B[39;49m\u001B[38;5;124;43mEnter correct password: \u001B[39;49m\u001B[38;5;124;43m\"\u001B[39;49m\u001B[43m)\u001B[49m\n\u001B[1;32m      8\u001B[0m \u001B[38;5;28mprint\u001B[39m(\u001B[38;5;124m\"\u001B[39m\u001B[38;5;124mSuccesfully logged in.\u001B[39m\u001B[38;5;124m\"\u001B[39m)\n",
      "File \u001B[0;32m~/venv_projects/uoa_py_course/course_venv/lib/python3.11/site-packages/ipykernel/kernelbase.py:1282\u001B[0m, in \u001B[0;36mKernel.raw_input\u001B[0;34m(self, prompt)\u001B[0m\n\u001B[1;32m   1280\u001B[0m     msg \u001B[38;5;241m=\u001B[39m \u001B[38;5;124m\"\u001B[39m\u001B[38;5;124mraw_input was called, but this frontend does not support input requests.\u001B[39m\u001B[38;5;124m\"\u001B[39m\n\u001B[1;32m   1281\u001B[0m     \u001B[38;5;28;01mraise\u001B[39;00m StdinNotImplementedError(msg)\n\u001B[0;32m-> 1282\u001B[0m \u001B[38;5;28;01mreturn\u001B[39;00m \u001B[38;5;28;43mself\u001B[39;49m\u001B[38;5;241;43m.\u001B[39;49m\u001B[43m_input_request\u001B[49m\u001B[43m(\u001B[49m\n\u001B[1;32m   1283\u001B[0m \u001B[43m    \u001B[49m\u001B[38;5;28;43mstr\u001B[39;49m\u001B[43m(\u001B[49m\u001B[43mprompt\u001B[49m\u001B[43m)\u001B[49m\u001B[43m,\u001B[49m\n\u001B[1;32m   1284\u001B[0m \u001B[43m    \u001B[49m\u001B[38;5;28;43mself\u001B[39;49m\u001B[38;5;241;43m.\u001B[39;49m\u001B[43m_parent_ident\u001B[49m\u001B[43m[\u001B[49m\u001B[38;5;124;43m\"\u001B[39;49m\u001B[38;5;124;43mshell\u001B[39;49m\u001B[38;5;124;43m\"\u001B[39;49m\u001B[43m]\u001B[49m\u001B[43m,\u001B[49m\n\u001B[1;32m   1285\u001B[0m \u001B[43m    \u001B[49m\u001B[38;5;28;43mself\u001B[39;49m\u001B[38;5;241;43m.\u001B[39;49m\u001B[43mget_parent\u001B[49m\u001B[43m(\u001B[49m\u001B[38;5;124;43m\"\u001B[39;49m\u001B[38;5;124;43mshell\u001B[39;49m\u001B[38;5;124;43m\"\u001B[39;49m\u001B[43m)\u001B[49m\u001B[43m,\u001B[49m\n\u001B[1;32m   1286\u001B[0m \u001B[43m    \u001B[49m\u001B[43mpassword\u001B[49m\u001B[38;5;241;43m=\u001B[39;49m\u001B[38;5;28;43;01mFalse\u001B[39;49;00m\u001B[43m,\u001B[49m\n\u001B[1;32m   1287\u001B[0m \u001B[43m\u001B[49m\u001B[43m)\u001B[49m\n",
      "File \u001B[0;32m~/venv_projects/uoa_py_course/course_venv/lib/python3.11/site-packages/ipykernel/kernelbase.py:1325\u001B[0m, in \u001B[0;36mKernel._input_request\u001B[0;34m(self, prompt, ident, parent, password)\u001B[0m\n\u001B[1;32m   1322\u001B[0m \u001B[38;5;28;01mexcept\u001B[39;00m \u001B[38;5;167;01mKeyboardInterrupt\u001B[39;00m:\n\u001B[1;32m   1323\u001B[0m     \u001B[38;5;66;03m# re-raise KeyboardInterrupt, to truncate traceback\u001B[39;00m\n\u001B[1;32m   1324\u001B[0m     msg \u001B[38;5;241m=\u001B[39m \u001B[38;5;124m\"\u001B[39m\u001B[38;5;124mInterrupted by user\u001B[39m\u001B[38;5;124m\"\u001B[39m\n\u001B[0;32m-> 1325\u001B[0m     \u001B[38;5;28;01mraise\u001B[39;00m \u001B[38;5;167;01mKeyboardInterrupt\u001B[39;00m(msg) \u001B[38;5;28;01mfrom\u001B[39;00m \u001B[38;5;28;01mNone\u001B[39;00m\n\u001B[1;32m   1326\u001B[0m \u001B[38;5;28;01mexcept\u001B[39;00m \u001B[38;5;167;01mException\u001B[39;00m:\n\u001B[1;32m   1327\u001B[0m     \u001B[38;5;28mself\u001B[39m\u001B[38;5;241m.\u001B[39mlog\u001B[38;5;241m.\u001B[39mwarning(\u001B[38;5;124m\"\u001B[39m\u001B[38;5;124mInvalid Message:\u001B[39m\u001B[38;5;124m\"\u001B[39m, exc_info\u001B[38;5;241m=\u001B[39m\u001B[38;5;28;01mTrue\u001B[39;00m)\n",
      "\u001B[0;31mKeyboardInterrupt\u001B[0m: Interrupted by user"
     ]
    }
   ],
   "execution_count": 11
  },
  {
   "cell_type": "code",
   "execution_count": null,
   "id": "6d7dcc36-33a2-4f2f-b597-77e53962402a",
   "metadata": {},
   "outputs": [],
   "source": [
    "# What will be the value of this variable after we run the script above?\n",
    "# Think, then uncomment the line below and run this cell.\n",
    "# user_pwd"
   ]
  }
 ],
 "metadata": {
  "kernelspec": {
   "display_name": "Python 3 (ipykernel)",
   "language": "python",
   "name": "python3"
  },
  "language_info": {
   "codemirror_mode": {
    "name": "ipython",
    "version": 3
   },
   "file_extension": ".py",
   "mimetype": "text/x-python",
   "name": "python",
   "nbconvert_exporter": "python",
   "pygments_lexer": "ipython3",
   "version": "3.11.8"
  }
 },
 "nbformat": 4,
 "nbformat_minor": 5
}
