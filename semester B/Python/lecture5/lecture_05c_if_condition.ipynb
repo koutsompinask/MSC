{
 "cells": [
  {
   "cell_type": "markdown",
   "id": "c6d14d45-ed7b-4eb6-9082-ba58b1b43867",
   "metadata": {},
   "source": [
    "# Lecture 05c: Control Flow Structures: loops, conditions. The `if` statement.\n",
    "\n",
    "\n",
    "[Intro to `if` statements](https://docs.python.org/3/tutorial/controlflow.html#if-statements)\n",
    "\n",
    "\n",
    "\n",
    "[More reading](https://docs.python.org/3/reference/compound_stmts.html)\n",
    "\n",
    "\n",
    "Basic Control Flow statements (control structures): while, if, for, try.   \n",
    "Used to: make decisions and direct the order of program execution.   \n",
    "Loops could be defined as conditional iterations. Loops are iterations that are bounded by some specified conditions.\n",
    "\n",
    "\n",
    "**Topics**:   \n",
    "\n",
    "a) Syntax notation:  \n",
    "    \n",
    "* indented blocks.  \n",
    "    \n",
    "* `:` sign at end of statement line.  \n",
    "\n",
    "b) Conditions: Use for all kind of boolean operations such as comparisons, membership tests.   \n",
    "\n",
    "c) Within structures [\"inner\" statements](https://docs.python.org/3/tutorial/controlflow.html#break-and-continue-statements-and-else-clauses-on-loops): `break`, `continue`.   \n",
    "\n",
    "d) The `else`, `elif` \"*clauses*\".  \n",
    "\n",
    "e) The [`pass` statements.](https://docs.python.org/3/tutorial/controlflow.html#pass-statements)\n",
    "\n",
    "f) Nested control flow statements: `nested loops`, `nested conditions`.  \n",
    "\n",
    "\n",
    "More reading about \n",
    "\n",
    "**Most common control flow errors are logical errors. Be mindful:**  \n",
    "\n",
    "        a) Desciptive control flow assignment.  \n",
    "        b) Controling logically for all the possible cases when dealing with multiple conditions.  \n",
    "        c) Position of statements.\n",
    "\n",
    "THE MOST IMPORTANT ISSUE TO REMEMBER: **position and order of statements in structures.**\n",
    "\n",
    "Advanced reading:   \n",
    "[`match` statements.](https://docs.python.org/3/tutorial/controlflow.html#match-statements)   \n",
    "[`exception handling`]()\n",
    "\n",
    "Extra concept in this lecture: **Pseudocoding**:  \n",
    "Always has been a necessary prerequisite skill for optimal coding.  \n",
    "Even more important skill in the era of AI coding assistants.\n",
    "\n",
    "---\n"
   ]
  },
  {
   "cell_type": "markdown",
   "id": "disturbed-tsunami",
   "metadata": {},
   "source": [
    "## `if` conditional statements\n",
    "There can be zero or more `elif` parts, and the `else` part is optional.   \n",
    "The keyword `elif` is short for ‘else if’, and is useful to avoid excessive indentation."
   ]
  },
  {
   "cell_type": "code",
   "execution_count": null,
   "id": "lined-ranch",
   "metadata": {},
   "outputs": [],
   "source": [
    "my_shopping_list = ['apples', 'coffee', 'pasta', 'juice', 'chocolate', 'yoghourt']\n",
    "num_of_items = len(my_shopping_list)\n",
    "num_of_items"
   ]
  },
  {
   "cell_type": "markdown",
   "id": "b2a50fb7-5cea-4e8c-bbaa-8395eb940776",
   "metadata": {},
   "source": [
    "### Single condition.\n",
    "Comment or comment out the `num_of_missing_items` to see the difference."
   ]
  },
  {
   "cell_type": "code",
   "execution_count": null,
   "id": "closing-morning",
   "metadata": {},
   "outputs": [],
   "source": [
    "# num_of_missing_items = 2\n",
    "num_of_missing_items = 5\n",
    "\n",
    "# If, else syntax, multiple statements, single condition.\n",
    "if num_of_missing_items > 3:\n",
    "    print(f\"Go to Supermarket. It is worth the extra time for items = {num_of_missing_items}\")\n",
    "else:\n",
    "    print(f\"Go to Minimarket for {num_of_missing_items} missing items.\")  # 1st else statment"
   ]
  },
  {
   "cell_type": "markdown",
   "id": "2ebe22c5-8889-444c-8aa4-91c77a0270a7",
   "metadata": {},
   "source": [
    "### Multiple Conditions"
   ]
  },
  {
   "cell_type": "code",
   "execution_count": null,
   "id": "f90c82c1-cf52-4372-aed9-5cbd9eb36284",
   "metadata": {},
   "outputs": [],
   "source": [
    "## Multiple Conditions\n",
    "a = 10\n",
    "\n",
    "guess = int(input('Guess number: '))  # convert to int\n",
    "\n",
    "\n",
    "if guess == a:\n",
    "    print('Got it.')\n",
    "elif guess == a - 1 or guess == a + 1:\n",
    "    print('Missed by 1.')\n",
    "elif (a - 5) == guess or guess == (a + 5):\n",
    "    print('Missed by 5.')\n",
    "#elif guess > a - 5 and guess < a + 5:  # guess > 5 and guess < 15\n",
    "elif 5 < guess < 15:  # This has the same result as the line of code above.\n",
    "    print('Missed by less than 5.')\n",
    "else:  # use `else` always in last statement\n",
    "    print('Missed by more than 5.')"
   ]
  },
  {
   "cell_type": "markdown",
   "id": "90d7b4ca-1156-4afb-acbf-a4c362bb5b63",
   "metadata": {},
   "source": [
    "### Examples of nested conditions.\n",
    "In these examples the nested conditions are \"evaluated\" only if the outer condition is met."
   ]
  },
  {
   "cell_type": "code",
   "execution_count": null,
   "id": "responsible-roots",
   "metadata": {},
   "outputs": [],
   "source": [
    "# Nested conditions execution\n",
    "my_shopping_list = ['apples', 'coffee', 'pasta', 'juice']\n",
    "\n",
    "my_shopping_list.append('bananas')\n",
    "\n",
    "my_shopping_list"
   ]
  },
  {
   "cell_type": "code",
   "execution_count": null,
   "id": "heard-brick",
   "metadata": {},
   "outputs": [],
   "source": [
    "# if bananas not in list, will do nothing\n",
    "if 'bananas' in my_shopping_list:\n",
    "    print('Dont forget the bananas')\n",
    "    # nested condition evaluated only if outer condition is True\n",
    "    if 'apples' in my_shopping_list: \n",
    "        print('Dont forget the apples too.')\n",
    "    else:\n",
    "        print(f\"Buy {my_shopping_list}\")        "
   ]
  },
  {
   "cell_type": "code",
   "execution_count": null,
   "id": "cb77e187-9fc5-4afd-8489-afb6b1fb01f0",
   "metadata": {},
   "outputs": [],
   "source": [
    "my_shopping_list = ['coffee', 'pasta', 'juice']"
   ]
  },
  {
   "cell_type": "code",
   "execution_count": null,
   "id": "c11577c6-3f63-4001-9064-8c8a6df03ab1",
   "metadata": {},
   "outputs": [],
   "source": [
    "if 'bananas' in my_shopping_list:\n",
    "    print('Dont forget the bananas')\n",
    "elif \"bananas\" not in my_shopping_list:\n",
    "    my_shopping_list.append('bananas')\n",
    "    print('Dont forget the bananas')\n",
    "    # nested condition evaluated only if outer condition is True\n",
    "    if 'apples' in my_shopping_list: \n",
    "        print('Dont forget the apples too')\n",
    "    else:\n",
    "        print(f\"Buy {my_shopping_list}\")"
   ]
  },
  {
   "cell_type": "markdown",
   "id": "909f8428-7e0f-4681-adfe-728fb5a26cde",
   "metadata": {},
   "source": [
    "### Pseudo coding: Best Practice to make scripts and functions\n",
    "\n",
    "Set a pwd value.  \n",
    "Ask user for pwd.  \n",
    "Count number of tries.  \n",
    "If pwd is not correct ask again for three times.  \n",
    "If number of wrong tries is 3 stop execution.  \n",
    "If correct pwd is entered, print a success message and show number of tries."
   ]
  },
  {
   "cell_type": "markdown",
   "id": "8cbf09d2-8513-4b78-9845-861215599580",
   "metadata": {},
   "source": [
    "### Combine `while` and `if` (a pwd example script)."
   ]
  },
  {
   "cell_type": "code",
   "execution_count": null,
   "id": "d81f9eb1-e70c-4481-aa79-5d040c8e4f43",
   "metadata": {},
   "outputs": [],
   "source": [
    "pwd = \"date\"\n",
    "enter_pwd = input(\"Enter password: \")\n",
    "number_of_tries = 1\n",
    "\n",
    "# loop 3 times only, as long as user does not enter the correct pwd.\n",
    "while pwd != enter_pwd:\n",
    "    enter_pwd = input(\"Enter correct password: \")\n",
    "    number_of_tries += 1\n",
    "\n",
    "    if number_of_tries == 3 and pwd != enter_pwd:\n",
    "        print(\"Your account is locked.\")\n",
    "        break\n",
    "    \n",
    "if pwd == enter_pwd:\n",
    "    print(f\"Succesfully logged in after {number_of_tries} tries.\")"
   ]
  },
  {
   "cell_type": "markdown",
   "id": "3e572d21-4a48-44bb-b986-b9740ab35b1c",
   "metadata": {},
   "source": [
    "#### The same enter password example. Different coding by GitHub AI copilot.  \n",
    "The prompt was the pseudocoding lines above."
   ]
  },
  {
   "cell_type": "code",
   "execution_count": null,
   "id": "c8a778cd-7276-4917-833e-f6bbaf729bce",
   "metadata": {},
   "outputs": [],
   "source": [
    "# Set a password value\n",
    "password = \"secret\"\n",
    "\n",
    "# Initialize a counter for the number of tries\n",
    "tries = 0\n",
    "\n",
    "# Loop until the user enters the correct password or has tried 3 times\n",
    "while tries < 3:\n",
    "    # Ask the user for the password\n",
    "    user_password = input(\"Enter the password: \")\n",
    "\n",
    "    # Check if the entered password is correct\n",
    "    if user_password == password:\n",
    "        print(\"Success! You entered the correct password.\")\n",
    "        print(\"Number of tries:\", tries + 1)\n",
    "        break\n",
    "    else:\n",
    "        print(\"Incorrect password.\")\n",
    "        tries += 1\n",
    "\n",
    "# If the user failed to enter the correct password after 3 tries, stop execution\n",
    "if tries == 3:\n",
    "    print(\"You have entered the wrong password 3 times. Execution stopped.\")"
   ]
  },
  {
   "cell_type": "markdown",
   "id": "37a61e77-1f4a-4705-8c68-b91a04e009ed",
   "metadata": {},
   "source": [
    "#### The same enter password example. Different coding by GitHub AI copilot.  \n",
    "The prompt was: rewrite the code with fewer lines of code."
   ]
  },
  {
   "cell_type": "code",
   "execution_count": null,
   "id": "0b9fcd50-4939-4832-98c5-8b7c65f98b61",
   "metadata": {},
   "outputs": [],
   "source": [
    "password = \"secret\"\n",
    "\n",
    "for tries in range(3):\n",
    "    if input(\"Enter the password: \") == password:\n",
    "        print(f\"Success! You entered the correct password in {tries + 1} tries.\")\n",
    "        break\n",
    "else:\n",
    "    print(\"You have entered the wrong password 3 times. Execution stopped.\")"
   ]
  },
  {
   "cell_type": "markdown",
   "id": "a3bc7989-22a1-4754-bb63-99fcecb0f962",
   "metadata": {},
   "source": [
    "### Another pwd example  \n",
    "Similar as above but instead of breaking the script after 3 wrong tries:  \n",
    "Endless loop until correct password.  \n",
    "Give a hint and ask user to try again after 3 wrong tries.    \n",
    "Use three counters:    \n",
    "\n",
    "    a) number of tries is reset to zero after 3 tries.  \n",
    "    b) number of warnings. We warn the user once, after three tries.  \n",
    "    c) the total number of tries."
   ]
  },
  {
   "cell_type": "code",
   "execution_count": 2,
   "id": "a835a754-3bf2-4440-9e0a-a2c9df9e960e",
   "metadata": {},
   "outputs": [
    {
     "name": "stdin",
     "output_type": "stream",
     "text": [
      "Enter password:  srfgsfg\n",
      "Enter correct password:  sdfgsdfg\n",
      "Enter correct password:  sdfgs\n"
     ]
    },
    {
     "name": "stdout",
     "output_type": "stream",
     "text": [
      "You tried 3 times. Are you Ok? The pwd is written some lines above.\n"
     ]
    },
    {
     "name": "stdin",
     "output_type": "stream",
     "text": [
      "Enter correct password:  fsdgsdf\n",
      "Enter correct password:  sdfgsfd\n",
      "Enter correct password:  sdfgs\n"
     ]
    },
    {
     "name": "stdout",
     "output_type": "stream",
     "text": [
      "You tried 6 times. Are you Ok? The pwd is written some lines above.\n"
     ]
    },
    {
     "name": "stdin",
     "output_type": "stream",
     "text": [
      "Enter correct password:  date\n"
     ]
    },
    {
     "name": "stdout",
     "output_type": "stream",
     "text": [
      "Succesfully logged in after 7 tries. You got 2 warnings.\n"
     ]
    }
   ],
   "source": [
    "pwd = \"date\"\n",
    "enter_pwd = input(\"Enter password: \")\n",
    "number_of_tries = 1  # This is after the input() for a reason.\n",
    "number_of_warnings = 0  # Counters are helfpuf and bug-friendly!\n",
    "total_tries = 0\n",
    "\n",
    "# endless loop until correct pwd\n",
    "while pwd != enter_pwd:\n",
    "    enter_pwd = input(\"Enter correct password: \")\n",
    "    number_of_tries += 1\n",
    "    if number_of_tries == 3:\n",
    "        number_of_warnings += 1\n",
    "        total_tries = number_of_tries*number_of_warnings\n",
    "        print(f\"You tried {total_tries} times. Are you Ok? The pwd is written some lines above.\")\n",
    "        number_of_tries = 0    \n",
    "\n",
    "\n",
    "print(f\"Succesfully logged in after {total_tries+number_of_tries} tries. You got {number_of_warnings} warnings.\")"
   ]
  }
 ],
 "metadata": {
  "kernelspec": {
   "display_name": "Python 3 (ipykernel)",
   "language": "python",
   "name": "python3"
  },
  "language_info": {
   "codemirror_mode": {
    "name": "ipython",
    "version": 3
   },
   "file_extension": ".py",
   "mimetype": "text/x-python",
   "name": "python",
   "nbconvert_exporter": "python",
   "pygments_lexer": "ipython3",
   "version": "3.11.8"
  }
 },
 "nbformat": 4,
 "nbformat_minor": 5
}
