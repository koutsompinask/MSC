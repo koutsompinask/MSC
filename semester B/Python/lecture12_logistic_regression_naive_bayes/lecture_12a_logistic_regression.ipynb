{
 "cells": [
  {
   "cell_type": "markdown",
   "id": "9a146950-b957-4bbe-8572-9e760db71ab7",
   "metadata": {},
   "source": [
    "# Lecture 12a, Logistic Regression\n",
    "\n",
    "## Available libraries and differences   \n",
    "- [Scikit learn function and parameters](https://scikit-learn.org/stable/modules/generated/sklearn.linear_model.LogisticRegression.html)  \n",
    "\n",
    "- [Scikit learn user guide](https://scikit-learn.org/stable/modules/linear_model.html#logistic-regression)   \n",
    "\n",
    "- [Statsmodels](https://www.statsmodels.org/devel/discretemod.html)   \n",
    "\n",
    "- [Pingouin docs](https://pingouin-stats.org/build/html/generated/pingouin.logistic_regression.html)   \n",
    "\n",
    "- [Pingouin source code](https://pingouin-stats.org/build/html/_modules/pingouin/regression.html#logistic_regression), Check docstring, difference with scikit learn.\n",
    "\n",
    "  > Notes\n",
    "    .. caution:: This function is a wrapper around the\n",
    "    :py:class:`sklearn.linear_model.LogisticRegression` class.\n",
    "    However, Pingouin internally disables the L2 regularization and changes the\n",
    "        default solver to 'newton-cg' to obtain results that are similar to R and\n",
    "        statsmodels\n",
    "\n",
    "- Other: TensorFlow, PyTorch.\n",
    "\n",
    "[Different use of statsmodels and scikit-learn: stats or predictions](https://stats.stackexchange.com/a/48578)    \n",
    "[Stats VS Machine Learning: complementarity and differences](https://stats.stackexchange.com/questions/6/the-two-cultures-statistics-vs-machine-learning)\n",
    "\n",
    "## Three Datasets: wikipedia, program effectiveness, iris flowers,\n",
    "Loaded from python libraries.\n",
    "\n",
    "[Program_Effectiveness Data Source and Info](https://www.statsmodels.org/devel/datasets/generated/spector.html)   \n",
    "\n",
    "[Program_Effectiveness Original Source and Info](https://pages.stern.nyu.edu/~wgreene/Text/econometricanalysis.htm)  \n",
    "\n",
    "**Remember**:   \n",
    "Logistic Regression is a \"supervised learning\" model.\n",
    "We know the labels. We have a \"y\" target variable. \n",
    "\n",
    "\n",
    "Goal of the algo: Classify instances (observations) in different use-cases:\n",
    "* binary\n",
    "* multi-class\n",
    "* one VS rest\n",
    "\n",
    "Classes can be:  \n",
    "* unordered: all classes of equal \"quantity\"(?).\n",
    "* ordered: some classes have \"more\" of what defines a class. Useful in socio-economic studies: Post Office code.   \n",
    "\n",
    "Important notes:   \n",
    "Sigmoid functions property: Non constant \"returns\".   \n",
    "Slope: The slope of the sigmoid function is not constant and depends on the value of the input.\n",
    "\n",
    "How much does a factor affect the result?\n",
    "What will the result be?\n",
    "What is the probability of the result?"
   ]
  },
  {
   "cell_type": "code",
   "id": "a260a08c-b3ca-4339-a232-b00c55f3bc64",
   "metadata": {
    "ExecuteTime": {
     "end_time": "2025-05-20T13:29:21.200676Z",
     "start_time": "2025-05-20T13:29:21.195126Z"
    }
   },
   "source": [
    "pwd  "
   ],
   "outputs": [
    {
     "data": {
      "text/plain": [
       "'/home/tharg/venv_projects/uoa_py_course/lectures_07_12_pandas_plots_scikit/lecture_12_logistic_regression_naive_bayes_svm'"
      ]
     },
     "execution_count": 1,
     "metadata": {},
     "output_type": "execute_result"
    }
   ],
   "execution_count": 1
  },
  {
   "cell_type": "markdown",
   "id": "bf1b6413-db3f-4add-86fe-ec4906024a28",
   "metadata": {},
   "source": [
    "# A. Import the necessary modules.   \n",
    "You may add libraries here as you go on with your work. But, all imports should be at the first code cell."
   ]
  },
  {
   "cell_type": "code",
   "id": "883d265f-6382-4423-a500-ed6737120a43",
   "metadata": {
    "ExecuteTime": {
     "end_time": "2025-05-20T13:29:22.240592Z",
     "start_time": "2025-05-20T13:29:21.328363Z"
    }
   },
   "source": [
    "# data management libraries\n",
    "import pandas as pd\n",
    "import numpy as np\n",
    "\n",
    "# scikit learn\n",
    "from sklearn.linear_model import LogisticRegression\n",
    "# metrics libraries\n",
    "from sklearn import metrics\n",
    "from sklearn.datasets import load_iris\n",
    "\n",
    "# import pingouin stats library\n",
    "import pingouin as pg\n",
    "\n",
    "# import statsmodels stats library\n",
    "import statsmodels.api as sm\n",
    "\n",
    "# https://scikit-learn.org/stable/auto_examples/miscellaneous/plot_pipeline_display.html?highlight=grid%20search#displaying-a-grid-search-over-a-pipeline-with-a-classifier\n",
    "\n",
    "from sklearn.pipeline import Pipeline\n",
    "from sklearn.model_selection import GridSearchCV"
   ],
   "outputs": [],
   "execution_count": 2
  },
  {
   "cell_type": "markdown",
   "id": "5ec850b0-263e-47bc-ac89-c259463884dd",
   "metadata": {},
   "source": [
    "# B. Inspect the data and understand its features.   \n",
    "See which are the variables, what is their type, what are the values that the variables take.  \n",
    "At this step, you should think about possible relations that you ought to examine.   \n",
    "Which do you think might be more important?"
   ]
  },
  {
   "cell_type": "markdown",
   "id": "6d499e53-607f-4612-a957-33f3a6558e0c",
   "metadata": {},
   "source": [
    "## The wikipedia example"
   ]
  },
  {
   "cell_type": "code",
   "id": "ac35974f-dea4-45e2-bc81-eb106358ec3b",
   "metadata": {
    "ExecuteTime": {
     "end_time": "2025-05-20T13:29:22.255390Z",
     "start_time": "2025-05-20T13:29:22.252499Z"
    }
   },
   "source": [
    "# First, let's create the dataframe\n",
    "Hours = [0.50, 0.75, 1.00, 1.25, 1.50, 1.75, 1.75, 2.00, 2.25, 2.50,\n",
    "         2.75, 3.00, 3.25, 3.50, 4.00, 4.25, 4.50, 4.75, 5.00, 5.50]\n",
    "Pass = [0, 0, 0, 0, 0, 0, 1, 0, 1, 0, 1, 0, 1, 0, 1, 1, 1, 1, 1, 1]\n",
    "df = pd.DataFrame({'HoursStudy': Hours, 'PassExam': Pass})"
   ],
   "outputs": [],
   "execution_count": 3
  },
  {
   "cell_type": "code",
   "id": "9b08825b-a47b-4792-8fa7-3f7b509c7c45",
   "metadata": {
    "ExecuteTime": {
     "end_time": "2025-05-20T13:29:22.333214Z",
     "start_time": "2025-05-20T13:29:22.327899Z"
    }
   },
   "source": [
    "df.sample(4)"
   ],
   "outputs": [
    {
     "data": {
      "text/plain": [
       "    HoursStudy  PassExam\n",
       "4         1.50         0\n",
       "17        4.75         1\n",
       "1         0.75         0\n",
       "19        5.50         1"
      ],
      "text/html": [
       "<div>\n",
       "<style scoped>\n",
       "    .dataframe tbody tr th:only-of-type {\n",
       "        vertical-align: middle;\n",
       "    }\n",
       "\n",
       "    .dataframe tbody tr th {\n",
       "        vertical-align: top;\n",
       "    }\n",
       "\n",
       "    .dataframe thead th {\n",
       "        text-align: right;\n",
       "    }\n",
       "</style>\n",
       "<table border=\"1\" class=\"dataframe\">\n",
       "  <thead>\n",
       "    <tr style=\"text-align: right;\">\n",
       "      <th></th>\n",
       "      <th>HoursStudy</th>\n",
       "      <th>PassExam</th>\n",
       "    </tr>\n",
       "  </thead>\n",
       "  <tbody>\n",
       "    <tr>\n",
       "      <th>4</th>\n",
       "      <td>1.50</td>\n",
       "      <td>0</td>\n",
       "    </tr>\n",
       "    <tr>\n",
       "      <th>17</th>\n",
       "      <td>4.75</td>\n",
       "      <td>1</td>\n",
       "    </tr>\n",
       "    <tr>\n",
       "      <th>1</th>\n",
       "      <td>0.75</td>\n",
       "      <td>0</td>\n",
       "    </tr>\n",
       "    <tr>\n",
       "      <th>19</th>\n",
       "      <td>5.50</td>\n",
       "      <td>1</td>\n",
       "    </tr>\n",
       "  </tbody>\n",
       "</table>\n",
       "</div>"
      ]
     },
     "execution_count": 4,
     "metadata": {},
     "output_type": "execute_result"
    }
   ],
   "execution_count": 4
  },
  {
   "cell_type": "code",
   "id": "a3cc6051-f411-43c1-b853-1fc063f3a66a",
   "metadata": {
    "ExecuteTime": {
     "end_time": "2025-05-20T13:29:22.561175Z",
     "start_time": "2025-05-20T13:29:22.559173Z"
    }
   },
   "source": [
    "# X is the independent variable\n",
    "X = df['HoursStudy']"
   ],
   "outputs": [],
   "execution_count": 5
  },
  {
   "cell_type": "code",
   "id": "a0497352-0779-42f6-b177-8b1d8561a6d5",
   "metadata": {
    "ExecuteTime": {
     "end_time": "2025-05-20T13:29:22.620425Z",
     "start_time": "2025-05-20T13:29:22.616984Z"
    }
   },
   "source": [
    "X.sample(2)"
   ],
   "outputs": [
    {
     "data": {
      "text/plain": [
       "2     1.0\n",
       "18    5.0\n",
       "Name: HoursStudy, dtype: float64"
      ]
     },
     "execution_count": 6,
     "metadata": {},
     "output_type": "execute_result"
    }
   ],
   "execution_count": 6
  },
  {
   "cell_type": "code",
   "id": "ac6a5b6d-23d1-4e6a-89eb-f0ae3cffe9c0",
   "metadata": {
    "ExecuteTime": {
     "end_time": "2025-05-20T13:29:22.705332Z",
     "start_time": "2025-05-20T13:29:22.703446Z"
    }
   },
   "source": [
    "# y is the dependent variable\n",
    "y = df['PassExam']"
   ],
   "outputs": [],
   "execution_count": 7
  },
  {
   "metadata": {},
   "cell_type": "markdown",
   "source": "## Using logistic regression as a linear regression (example using Pingouin)",
   "id": "4904e763983e5337"
  },
  {
   "cell_type": "code",
   "id": "3996d60b-911a-40ed-a338-55583a3a0e47",
   "metadata": {
    "ExecuteTime": {
     "end_time": "2025-05-20T13:29:22.825938Z",
     "start_time": "2025-05-20T13:29:22.817902Z"
    }
   },
   "source": [
    "lr = pg.logistic_regression(X, y, penalty=\"l2\").round(3)\n",
    "lr"
   ],
   "outputs": [
    {
     "data": {
      "text/plain": [
       "        names   coef     se      z   pval  CI[2.5%]  CI[97.5%]\n",
       "0   Intercept -3.139  1.438 -2.183  0.029    -5.958     -0.320\n",
       "1  HoursStudy  1.148  0.498  2.308  0.021     0.173      2.124"
      ],
      "text/html": [
       "<div>\n",
       "<style scoped>\n",
       "    .dataframe tbody tr th:only-of-type {\n",
       "        vertical-align: middle;\n",
       "    }\n",
       "\n",
       "    .dataframe tbody tr th {\n",
       "        vertical-align: top;\n",
       "    }\n",
       "\n",
       "    .dataframe thead th {\n",
       "        text-align: right;\n",
       "    }\n",
       "</style>\n",
       "<table border=\"1\" class=\"dataframe\">\n",
       "  <thead>\n",
       "    <tr style=\"text-align: right;\">\n",
       "      <th></th>\n",
       "      <th>names</th>\n",
       "      <th>coef</th>\n",
       "      <th>se</th>\n",
       "      <th>z</th>\n",
       "      <th>pval</th>\n",
       "      <th>CI[2.5%]</th>\n",
       "      <th>CI[97.5%]</th>\n",
       "    </tr>\n",
       "  </thead>\n",
       "  <tbody>\n",
       "    <tr>\n",
       "      <th>0</th>\n",
       "      <td>Intercept</td>\n",
       "      <td>-3.139</td>\n",
       "      <td>1.438</td>\n",
       "      <td>-2.183</td>\n",
       "      <td>0.029</td>\n",
       "      <td>-5.958</td>\n",
       "      <td>-0.320</td>\n",
       "    </tr>\n",
       "    <tr>\n",
       "      <th>1</th>\n",
       "      <td>HoursStudy</td>\n",
       "      <td>1.148</td>\n",
       "      <td>0.498</td>\n",
       "      <td>2.308</td>\n",
       "      <td>0.021</td>\n",
       "      <td>0.173</td>\n",
       "      <td>2.124</td>\n",
       "    </tr>\n",
       "  </tbody>\n",
       "</table>\n",
       "</div>"
      ]
     },
     "execution_count": 8,
     "metadata": {},
     "output_type": "execute_result"
    }
   ],
   "execution_count": 8
  },
  {
   "cell_type": "code",
   "id": "8b399fc1-1c6c-486d-a942-9872fad89b19",
   "metadata": {
    "ExecuteTime": {
     "end_time": "2025-05-20T13:29:22.924167Z",
     "start_time": "2025-05-20T13:29:22.919188Z"
    }
   },
   "source": [
    "pg.logistic_regression(X.to_numpy(), y.to_numpy(), coef_only=True, penalty=\"l2\")"
   ],
   "outputs": [
    {
     "data": {
      "text/plain": [
       "array([-3.13904399,  1.14843327])"
      ]
     },
     "execution_count": 9,
     "metadata": {},
     "output_type": "execute_result"
    }
   ],
   "execution_count": 9
  },
  {
   "cell_type": "markdown",
   "id": "9ebc5244-8656-499e-aa5a-daceef698956",
   "metadata": {},
   "source": [
    "## The program effectiveness data"
   ]
  },
  {
   "cell_type": "code",
   "id": "db95cd52-e2c0-4779-aef2-f3976ea5c625",
   "metadata": {
    "ExecuteTime": {
     "end_time": "2025-05-20T13:29:23.000852Z",
     "start_time": "2025-05-20T13:29:22.996932Z"
    }
   },
   "source": [
    "spector_data = sm.datasets.spector.load()"
   ],
   "outputs": [],
   "execution_count": 10
  },
  {
   "cell_type": "code",
   "id": "35c2fb95-b581-4aac-b166-8bdcbf0075a5",
   "metadata": {
    "ExecuteTime": {
     "end_time": "2025-05-20T13:29:23.104357Z",
     "start_time": "2025-05-20T13:29:23.101157Z"
    }
   },
   "source": [
    "spector_data"
   ],
   "outputs": [
    {
     "data": {
      "text/plain": [
       "<class 'statsmodels.datasets.utils.Dataset'>"
      ]
     },
     "execution_count": 11,
     "metadata": {},
     "output_type": "execute_result"
    }
   ],
   "execution_count": 11
  },
  {
   "cell_type": "code",
   "id": "0afe8680-8277-4e9e-8979-77abcabbef94",
   "metadata": {
    "ExecuteTime": {
     "end_time": "2025-05-20T13:29:23.184739Z",
     "start_time": "2025-05-20T13:29:23.179080Z"
    }
   },
   "source": [
    "spector_data.endog"
   ],
   "outputs": [
    {
     "data": {
      "text/plain": [
       "0     0.0\n",
       "1     0.0\n",
       "2     0.0\n",
       "3     0.0\n",
       "4     1.0\n",
       "5     0.0\n",
       "6     0.0\n",
       "7     0.0\n",
       "8     0.0\n",
       "9     1.0\n",
       "10    0.0\n",
       "11    0.0\n",
       "12    0.0\n",
       "13    1.0\n",
       "14    0.0\n",
       "15    0.0\n",
       "16    0.0\n",
       "17    0.0\n",
       "18    0.0\n",
       "19    1.0\n",
       "20    0.0\n",
       "21    1.0\n",
       "22    0.0\n",
       "23    0.0\n",
       "24    1.0\n",
       "25    1.0\n",
       "26    1.0\n",
       "27    0.0\n",
       "28    1.0\n",
       "29    1.0\n",
       "30    0.0\n",
       "31    1.0\n",
       "Name: GRADE, dtype: float64"
      ]
     },
     "execution_count": 12,
     "metadata": {},
     "output_type": "execute_result"
    }
   ],
   "execution_count": 12
  },
  {
   "cell_type": "code",
   "id": "3b9f4328-481d-42c8-92a5-b07673530b85",
   "metadata": {
    "ExecuteTime": {
     "end_time": "2025-05-20T13:29:23.281422Z",
     "start_time": "2025-05-20T13:29:23.278719Z"
    }
   },
   "source": [
    "spector_data.exog = sm.add_constant(spector_data.exog, prepend=False)"
   ],
   "outputs": [],
   "execution_count": 13
  },
  {
   "cell_type": "code",
   "id": "3fbfe265-8b83-4768-bdd0-db00580a21e4",
   "metadata": {
    "ExecuteTime": {
     "end_time": "2025-05-20T13:29:23.371994Z",
     "start_time": "2025-05-20T13:29:23.363845Z"
    }
   },
   "source": [
    "spector_data.exog"
   ],
   "outputs": [
    {
     "data": {
      "text/plain": [
       "     GPA  TUCE  PSI  const\n",
       "0   2.66  20.0  0.0    1.0\n",
       "1   2.89  22.0  0.0    1.0\n",
       "2   3.28  24.0  0.0    1.0\n",
       "3   2.92  12.0  0.0    1.0\n",
       "4   4.00  21.0  0.0    1.0\n",
       "5   2.86  17.0  0.0    1.0\n",
       "6   2.76  17.0  0.0    1.0\n",
       "7   2.87  21.0  0.0    1.0\n",
       "8   3.03  25.0  0.0    1.0\n",
       "9   3.92  29.0  0.0    1.0\n",
       "10  2.63  20.0  0.0    1.0\n",
       "11  3.32  23.0  0.0    1.0\n",
       "12  3.57  23.0  0.0    1.0\n",
       "13  3.26  25.0  0.0    1.0\n",
       "14  3.53  26.0  0.0    1.0\n",
       "15  2.74  19.0  0.0    1.0\n",
       "16  2.75  25.0  0.0    1.0\n",
       "17  2.83  19.0  0.0    1.0\n",
       "18  3.12  23.0  1.0    1.0\n",
       "19  3.16  25.0  1.0    1.0\n",
       "20  2.06  22.0  1.0    1.0\n",
       "21  3.62  28.0  1.0    1.0\n",
       "22  2.89  14.0  1.0    1.0\n",
       "23  3.51  26.0  1.0    1.0\n",
       "24  3.54  24.0  1.0    1.0\n",
       "25  2.83  27.0  1.0    1.0\n",
       "26  3.39  17.0  1.0    1.0\n",
       "27  2.67  24.0  1.0    1.0\n",
       "28  3.65  21.0  1.0    1.0\n",
       "29  4.00  23.0  1.0    1.0\n",
       "30  3.10  21.0  1.0    1.0\n",
       "31  2.39  19.0  1.0    1.0"
      ],
      "text/html": [
       "<div>\n",
       "<style scoped>\n",
       "    .dataframe tbody tr th:only-of-type {\n",
       "        vertical-align: middle;\n",
       "    }\n",
       "\n",
       "    .dataframe tbody tr th {\n",
       "        vertical-align: top;\n",
       "    }\n",
       "\n",
       "    .dataframe thead th {\n",
       "        text-align: right;\n",
       "    }\n",
       "</style>\n",
       "<table border=\"1\" class=\"dataframe\">\n",
       "  <thead>\n",
       "    <tr style=\"text-align: right;\">\n",
       "      <th></th>\n",
       "      <th>GPA</th>\n",
       "      <th>TUCE</th>\n",
       "      <th>PSI</th>\n",
       "      <th>const</th>\n",
       "    </tr>\n",
       "  </thead>\n",
       "  <tbody>\n",
       "    <tr>\n",
       "      <th>0</th>\n",
       "      <td>2.66</td>\n",
       "      <td>20.0</td>\n",
       "      <td>0.0</td>\n",
       "      <td>1.0</td>\n",
       "    </tr>\n",
       "    <tr>\n",
       "      <th>1</th>\n",
       "      <td>2.89</td>\n",
       "      <td>22.0</td>\n",
       "      <td>0.0</td>\n",
       "      <td>1.0</td>\n",
       "    </tr>\n",
       "    <tr>\n",
       "      <th>2</th>\n",
       "      <td>3.28</td>\n",
       "      <td>24.0</td>\n",
       "      <td>0.0</td>\n",
       "      <td>1.0</td>\n",
       "    </tr>\n",
       "    <tr>\n",
       "      <th>3</th>\n",
       "      <td>2.92</td>\n",
       "      <td>12.0</td>\n",
       "      <td>0.0</td>\n",
       "      <td>1.0</td>\n",
       "    </tr>\n",
       "    <tr>\n",
       "      <th>4</th>\n",
       "      <td>4.00</td>\n",
       "      <td>21.0</td>\n",
       "      <td>0.0</td>\n",
       "      <td>1.0</td>\n",
       "    </tr>\n",
       "    <tr>\n",
       "      <th>5</th>\n",
       "      <td>2.86</td>\n",
       "      <td>17.0</td>\n",
       "      <td>0.0</td>\n",
       "      <td>1.0</td>\n",
       "    </tr>\n",
       "    <tr>\n",
       "      <th>6</th>\n",
       "      <td>2.76</td>\n",
       "      <td>17.0</td>\n",
       "      <td>0.0</td>\n",
       "      <td>1.0</td>\n",
       "    </tr>\n",
       "    <tr>\n",
       "      <th>7</th>\n",
       "      <td>2.87</td>\n",
       "      <td>21.0</td>\n",
       "      <td>0.0</td>\n",
       "      <td>1.0</td>\n",
       "    </tr>\n",
       "    <tr>\n",
       "      <th>8</th>\n",
       "      <td>3.03</td>\n",
       "      <td>25.0</td>\n",
       "      <td>0.0</td>\n",
       "      <td>1.0</td>\n",
       "    </tr>\n",
       "    <tr>\n",
       "      <th>9</th>\n",
       "      <td>3.92</td>\n",
       "      <td>29.0</td>\n",
       "      <td>0.0</td>\n",
       "      <td>1.0</td>\n",
       "    </tr>\n",
       "    <tr>\n",
       "      <th>10</th>\n",
       "      <td>2.63</td>\n",
       "      <td>20.0</td>\n",
       "      <td>0.0</td>\n",
       "      <td>1.0</td>\n",
       "    </tr>\n",
       "    <tr>\n",
       "      <th>11</th>\n",
       "      <td>3.32</td>\n",
       "      <td>23.0</td>\n",
       "      <td>0.0</td>\n",
       "      <td>1.0</td>\n",
       "    </tr>\n",
       "    <tr>\n",
       "      <th>12</th>\n",
       "      <td>3.57</td>\n",
       "      <td>23.0</td>\n",
       "      <td>0.0</td>\n",
       "      <td>1.0</td>\n",
       "    </tr>\n",
       "    <tr>\n",
       "      <th>13</th>\n",
       "      <td>3.26</td>\n",
       "      <td>25.0</td>\n",
       "      <td>0.0</td>\n",
       "      <td>1.0</td>\n",
       "    </tr>\n",
       "    <tr>\n",
       "      <th>14</th>\n",
       "      <td>3.53</td>\n",
       "      <td>26.0</td>\n",
       "      <td>0.0</td>\n",
       "      <td>1.0</td>\n",
       "    </tr>\n",
       "    <tr>\n",
       "      <th>15</th>\n",
       "      <td>2.74</td>\n",
       "      <td>19.0</td>\n",
       "      <td>0.0</td>\n",
       "      <td>1.0</td>\n",
       "    </tr>\n",
       "    <tr>\n",
       "      <th>16</th>\n",
       "      <td>2.75</td>\n",
       "      <td>25.0</td>\n",
       "      <td>0.0</td>\n",
       "      <td>1.0</td>\n",
       "    </tr>\n",
       "    <tr>\n",
       "      <th>17</th>\n",
       "      <td>2.83</td>\n",
       "      <td>19.0</td>\n",
       "      <td>0.0</td>\n",
       "      <td>1.0</td>\n",
       "    </tr>\n",
       "    <tr>\n",
       "      <th>18</th>\n",
       "      <td>3.12</td>\n",
       "      <td>23.0</td>\n",
       "      <td>1.0</td>\n",
       "      <td>1.0</td>\n",
       "    </tr>\n",
       "    <tr>\n",
       "      <th>19</th>\n",
       "      <td>3.16</td>\n",
       "      <td>25.0</td>\n",
       "      <td>1.0</td>\n",
       "      <td>1.0</td>\n",
       "    </tr>\n",
       "    <tr>\n",
       "      <th>20</th>\n",
       "      <td>2.06</td>\n",
       "      <td>22.0</td>\n",
       "      <td>1.0</td>\n",
       "      <td>1.0</td>\n",
       "    </tr>\n",
       "    <tr>\n",
       "      <th>21</th>\n",
       "      <td>3.62</td>\n",
       "      <td>28.0</td>\n",
       "      <td>1.0</td>\n",
       "      <td>1.0</td>\n",
       "    </tr>\n",
       "    <tr>\n",
       "      <th>22</th>\n",
       "      <td>2.89</td>\n",
       "      <td>14.0</td>\n",
       "      <td>1.0</td>\n",
       "      <td>1.0</td>\n",
       "    </tr>\n",
       "    <tr>\n",
       "      <th>23</th>\n",
       "      <td>3.51</td>\n",
       "      <td>26.0</td>\n",
       "      <td>1.0</td>\n",
       "      <td>1.0</td>\n",
       "    </tr>\n",
       "    <tr>\n",
       "      <th>24</th>\n",
       "      <td>3.54</td>\n",
       "      <td>24.0</td>\n",
       "      <td>1.0</td>\n",
       "      <td>1.0</td>\n",
       "    </tr>\n",
       "    <tr>\n",
       "      <th>25</th>\n",
       "      <td>2.83</td>\n",
       "      <td>27.0</td>\n",
       "      <td>1.0</td>\n",
       "      <td>1.0</td>\n",
       "    </tr>\n",
       "    <tr>\n",
       "      <th>26</th>\n",
       "      <td>3.39</td>\n",
       "      <td>17.0</td>\n",
       "      <td>1.0</td>\n",
       "      <td>1.0</td>\n",
       "    </tr>\n",
       "    <tr>\n",
       "      <th>27</th>\n",
       "      <td>2.67</td>\n",
       "      <td>24.0</td>\n",
       "      <td>1.0</td>\n",
       "      <td>1.0</td>\n",
       "    </tr>\n",
       "    <tr>\n",
       "      <th>28</th>\n",
       "      <td>3.65</td>\n",
       "      <td>21.0</td>\n",
       "      <td>1.0</td>\n",
       "      <td>1.0</td>\n",
       "    </tr>\n",
       "    <tr>\n",
       "      <th>29</th>\n",
       "      <td>4.00</td>\n",
       "      <td>23.0</td>\n",
       "      <td>1.0</td>\n",
       "      <td>1.0</td>\n",
       "    </tr>\n",
       "    <tr>\n",
       "      <th>30</th>\n",
       "      <td>3.10</td>\n",
       "      <td>21.0</td>\n",
       "      <td>1.0</td>\n",
       "      <td>1.0</td>\n",
       "    </tr>\n",
       "    <tr>\n",
       "      <th>31</th>\n",
       "      <td>2.39</td>\n",
       "      <td>19.0</td>\n",
       "      <td>1.0</td>\n",
       "      <td>1.0</td>\n",
       "    </tr>\n",
       "  </tbody>\n",
       "</table>\n",
       "</div>"
      ]
     },
     "execution_count": 14,
     "metadata": {},
     "output_type": "execute_result"
    }
   ],
   "execution_count": 14
  },
  {
   "cell_type": "code",
   "id": "c86e8fb1-82d3-47a0-8667-b98ecc82cf8a",
   "metadata": {
    "ExecuteTime": {
     "end_time": "2025-05-20T13:29:23.466866Z",
     "start_time": "2025-05-20T13:29:23.464037Z"
    }
   },
   "source": [
    "spector_data"
   ],
   "outputs": [
    {
     "data": {
      "text/plain": [
       "<class 'statsmodels.datasets.utils.Dataset'>"
      ]
     },
     "execution_count": 15,
     "metadata": {},
     "output_type": "execute_result"
    }
   ],
   "execution_count": 15
  },
  {
   "cell_type": "code",
   "id": "6b7b4f8d-9ecf-4966-b2cf-ed615971ee09",
   "metadata": {
    "ExecuteTime": {
     "end_time": "2025-05-20T13:29:23.588063Z",
     "start_time": "2025-05-20T13:29:23.584589Z"
    }
   },
   "source": [
    "type(spector_data)"
   ],
   "outputs": [
    {
     "data": {
      "text/plain": [
       "statsmodels.datasets.utils.Dataset"
      ]
     },
     "execution_count": 16,
     "metadata": {},
     "output_type": "execute_result"
    }
   ],
   "execution_count": 16
  },
  {
   "cell_type": "code",
   "id": "58a909be-deee-4b85-b0eb-cf2f7757cfaf",
   "metadata": {
    "ExecuteTime": {
     "end_time": "2025-05-20T13:29:23.669566Z",
     "start_time": "2025-05-20T13:29:23.666340Z"
    }
   },
   "source": [
    "print(spector_data.exog.head())"
   ],
   "outputs": [
    {
     "name": "stdout",
     "output_type": "stream",
     "text": [
      "    GPA  TUCE  PSI  const\n",
      "0  2.66  20.0  0.0    1.0\n",
      "1  2.89  22.0  0.0    1.0\n",
      "2  3.28  24.0  0.0    1.0\n",
      "3  2.92  12.0  0.0    1.0\n",
      "4  4.00  21.0  0.0    1.0\n"
     ]
    }
   ],
   "execution_count": 17
  },
  {
   "cell_type": "code",
   "id": "3c89c825-34a6-4e11-8cea-c6729084fead",
   "metadata": {
    "ExecuteTime": {
     "end_time": "2025-05-20T13:29:23.723346Z",
     "start_time": "2025-05-20T13:29:23.720847Z"
    }
   },
   "source": [
    "print(spector_data.endog.head())"
   ],
   "outputs": [
    {
     "name": "stdout",
     "output_type": "stream",
     "text": [
      "0    0.0\n",
      "1    0.0\n",
      "2    0.0\n",
      "3    0.0\n",
      "4    1.0\n",
      "Name: GRADE, dtype: float64\n"
     ]
    }
   ],
   "execution_count": 18
  },
  {
   "cell_type": "code",
   "id": "3dbbee47-485e-4733-b894-41c9f055ce72",
   "metadata": {
    "ExecuteTime": {
     "end_time": "2025-05-20T13:29:23.777958Z",
     "start_time": "2025-05-20T13:29:23.776006Z"
    }
   },
   "source": [
    "X = pd.DataFrame(spector_data.exog)"
   ],
   "outputs": [],
   "execution_count": 19
  },
  {
   "cell_type": "code",
   "id": "52aa8fae-54dc-40be-b7b2-1b7d3c31eeef",
   "metadata": {
    "ExecuteTime": {
     "end_time": "2025-05-20T13:29:23.830666Z",
     "start_time": "2025-05-20T13:29:23.826388Z"
    }
   },
   "source": [
    "y = pd.DataFrame(spector_data.endog)\n",
    "y.sample(10)"
   ],
   "outputs": [
    {
     "data": {
      "text/plain": [
       "    GRADE\n",
       "25    1.0\n",
       "9     1.0\n",
       "5     0.0\n",
       "28    1.0\n",
       "2     0.0\n",
       "16    0.0\n",
       "24    1.0\n",
       "17    0.0\n",
       "22    0.0\n",
       "0     0.0"
      ],
      "text/html": [
       "<div>\n",
       "<style scoped>\n",
       "    .dataframe tbody tr th:only-of-type {\n",
       "        vertical-align: middle;\n",
       "    }\n",
       "\n",
       "    .dataframe tbody tr th {\n",
       "        vertical-align: top;\n",
       "    }\n",
       "\n",
       "    .dataframe thead th {\n",
       "        text-align: right;\n",
       "    }\n",
       "</style>\n",
       "<table border=\"1\" class=\"dataframe\">\n",
       "  <thead>\n",
       "    <tr style=\"text-align: right;\">\n",
       "      <th></th>\n",
       "      <th>GRADE</th>\n",
       "    </tr>\n",
       "  </thead>\n",
       "  <tbody>\n",
       "    <tr>\n",
       "      <th>25</th>\n",
       "      <td>1.0</td>\n",
       "    </tr>\n",
       "    <tr>\n",
       "      <th>9</th>\n",
       "      <td>1.0</td>\n",
       "    </tr>\n",
       "    <tr>\n",
       "      <th>5</th>\n",
       "      <td>0.0</td>\n",
       "    </tr>\n",
       "    <tr>\n",
       "      <th>28</th>\n",
       "      <td>1.0</td>\n",
       "    </tr>\n",
       "    <tr>\n",
       "      <th>2</th>\n",
       "      <td>0.0</td>\n",
       "    </tr>\n",
       "    <tr>\n",
       "      <th>16</th>\n",
       "      <td>0.0</td>\n",
       "    </tr>\n",
       "    <tr>\n",
       "      <th>24</th>\n",
       "      <td>1.0</td>\n",
       "    </tr>\n",
       "    <tr>\n",
       "      <th>17</th>\n",
       "      <td>0.0</td>\n",
       "    </tr>\n",
       "    <tr>\n",
       "      <th>22</th>\n",
       "      <td>0.0</td>\n",
       "    </tr>\n",
       "    <tr>\n",
       "      <th>0</th>\n",
       "      <td>0.0</td>\n",
       "    </tr>\n",
       "  </tbody>\n",
       "</table>\n",
       "</div>"
      ]
     },
     "execution_count": 20,
     "metadata": {},
     "output_type": "execute_result"
    }
   ],
   "execution_count": 20
  },
  {
   "metadata": {},
   "cell_type": "markdown",
   "source": "## Using logistic regression as a linear regression (example using Statsmodels)",
   "id": "59fbeb35c538a9ce"
  },
  {
   "cell_type": "code",
   "id": "1e3912de-d91e-4b05-81b9-72dcf484867a",
   "metadata": {
    "ExecuteTime": {
     "end_time": "2025-05-20T13:29:23.905208Z",
     "start_time": "2025-05-20T13:29:23.902738Z"
    }
   },
   "source": [
    "logit_mod = sm.Logit(spector_data.endog, spector_data.exog)"
   ],
   "outputs": [],
   "execution_count": 21
  },
  {
   "cell_type": "code",
   "id": "2db59dd3-5a6d-406e-af3b-e2eca23a6d53",
   "metadata": {
    "ExecuteTime": {
     "end_time": "2025-05-20T13:29:23.970256Z",
     "start_time": "2025-05-20T13:29:23.968050Z"
    }
   },
   "source": [
    "logit_mod = sm.Logit(y, X)"
   ],
   "outputs": [],
   "execution_count": 22
  },
  {
   "cell_type": "code",
   "id": "19f05f78-0091-4058-a14a-110ba5adb8f2",
   "metadata": {
    "ExecuteTime": {
     "end_time": "2025-05-20T13:29:24.038271Z",
     "start_time": "2025-05-20T13:29:24.034215Z"
    }
   },
   "source": [
    "logit_res = logit_mod.fit(disp=0)\n",
    "print(\"Parameters:\\n\",logit_res.params)"
   ],
   "outputs": [
    {
     "name": "stdout",
     "output_type": "stream",
     "text": [
      "Parameters:\n",
      " GPA       2.826113\n",
      "TUCE      0.095158\n",
      "PSI       2.378688\n",
      "const   -13.021347\n",
      "dtype: float64\n"
     ]
    }
   ],
   "execution_count": 23
  },
  {
   "cell_type": "code",
   "id": "7f5e00f4-5aec-41c8-ad5f-6566f19a8db8",
   "metadata": {
    "ExecuteTime": {
     "end_time": "2025-05-20T13:29:24.108552Z",
     "start_time": "2025-05-20T13:29:24.098173Z"
    }
   },
   "source": [
    "logit_res.summary()"
   ],
   "outputs": [
    {
     "data": {
      "text/plain": [
       "<class 'statsmodels.iolib.summary.Summary'>\n",
       "\"\"\"\n",
       "                           Logit Regression Results                           \n",
       "==============================================================================\n",
       "Dep. Variable:                  GRADE   No. Observations:                   32\n",
       "Model:                          Logit   Df Residuals:                       28\n",
       "Method:                           MLE   Df Model:                            3\n",
       "Date:                Tue, 20 May 2025   Pseudo R-squ.:                  0.3740\n",
       "Time:                        16:29:24   Log-Likelihood:                -12.890\n",
       "converged:                       True   LL-Null:                       -20.592\n",
       "Covariance Type:            nonrobust   LLR p-value:                  0.001502\n",
       "==============================================================================\n",
       "                 coef    std err          z      P>|z|      [0.025      0.975]\n",
       "------------------------------------------------------------------------------\n",
       "GPA            2.8261      1.263      2.238      0.025       0.351       5.301\n",
       "TUCE           0.0952      0.142      0.672      0.501      -0.182       0.373\n",
       "PSI            2.3787      1.065      2.234      0.025       0.292       4.465\n",
       "const        -13.0213      4.931     -2.641      0.008     -22.687      -3.356\n",
       "==============================================================================\n",
       "\"\"\""
      ],
      "text/html": [
       "<table class=\"simpletable\">\n",
       "<caption>Logit Regression Results</caption>\n",
       "<tr>\n",
       "  <th>Dep. Variable:</th>         <td>GRADE</td>      <th>  No. Observations:  </th>  <td>    32</td> \n",
       "</tr>\n",
       "<tr>\n",
       "  <th>Model:</th>                 <td>Logit</td>      <th>  Df Residuals:      </th>  <td>    28</td> \n",
       "</tr>\n",
       "<tr>\n",
       "  <th>Method:</th>                 <td>MLE</td>       <th>  Df Model:          </th>  <td>     3</td> \n",
       "</tr>\n",
       "<tr>\n",
       "  <th>Date:</th>            <td>Tue, 20 May 2025</td> <th>  Pseudo R-squ.:     </th>  <td>0.3740</td> \n",
       "</tr>\n",
       "<tr>\n",
       "  <th>Time:</th>                <td>16:29:24</td>     <th>  Log-Likelihood:    </th> <td> -12.890</td>\n",
       "</tr>\n",
       "<tr>\n",
       "  <th>converged:</th>             <td>True</td>       <th>  LL-Null:           </th> <td> -20.592</td>\n",
       "</tr>\n",
       "<tr>\n",
       "  <th>Covariance Type:</th>     <td>nonrobust</td>    <th>  LLR p-value:       </th> <td>0.001502</td>\n",
       "</tr>\n",
       "</table>\n",
       "<table class=\"simpletable\">\n",
       "<tr>\n",
       "    <td></td>       <th>coef</th>     <th>std err</th>      <th>z</th>      <th>P>|z|</th>  <th>[0.025</th>    <th>0.975]</th>  \n",
       "</tr>\n",
       "<tr>\n",
       "  <th>GPA</th>   <td>    2.8261</td> <td>    1.263</td> <td>    2.238</td> <td> 0.025</td> <td>    0.351</td> <td>    5.301</td>\n",
       "</tr>\n",
       "<tr>\n",
       "  <th>TUCE</th>  <td>    0.0952</td> <td>    0.142</td> <td>    0.672</td> <td> 0.501</td> <td>   -0.182</td> <td>    0.373</td>\n",
       "</tr>\n",
       "<tr>\n",
       "  <th>PSI</th>   <td>    2.3787</td> <td>    1.065</td> <td>    2.234</td> <td> 0.025</td> <td>    0.292</td> <td>    4.465</td>\n",
       "</tr>\n",
       "<tr>\n",
       "  <th>const</th> <td>  -13.0213</td> <td>    4.931</td> <td>   -2.641</td> <td> 0.008</td> <td>  -22.687</td> <td>   -3.356</td>\n",
       "</tr>\n",
       "</table>"
      ],
      "text/latex": "\\begin{center}\n\\begin{tabular}{lclc}\n\\toprule\n\\textbf{Dep. Variable:}   &      GRADE       & \\textbf{  No. Observations:  } &       32    \\\\\n\\textbf{Model:}           &      Logit       & \\textbf{  Df Residuals:      } &       28    \\\\\n\\textbf{Method:}          &       MLE        & \\textbf{  Df Model:          } &        3    \\\\\n\\textbf{Date:}            & Tue, 20 May 2025 & \\textbf{  Pseudo R-squ.:     } &   0.3740    \\\\\n\\textbf{Time:}            &     16:29:24     & \\textbf{  Log-Likelihood:    } &   -12.890   \\\\\n\\textbf{converged:}       &       True       & \\textbf{  LL-Null:           } &   -20.592   \\\\\n\\textbf{Covariance Type:} &    nonrobust     & \\textbf{  LLR p-value:       } &  0.001502   \\\\\n\\bottomrule\n\\end{tabular}\n\\begin{tabular}{lcccccc}\n               & \\textbf{coef} & \\textbf{std err} & \\textbf{z} & \\textbf{P$> |$z$|$} & \\textbf{[0.025} & \\textbf{0.975]}  \\\\\n\\midrule\n\\textbf{GPA}   &       2.8261  &        1.263     &     2.238  &         0.025        &        0.351    &        5.301     \\\\\n\\textbf{TUCE}  &       0.0952  &        0.142     &     0.672  &         0.501        &       -0.182    &        0.373     \\\\\n\\textbf{PSI}   &       2.3787  &        1.065     &     2.234  &         0.025        &        0.292    &        4.465     \\\\\n\\textbf{const} &     -13.0213  &        4.931     &    -2.641  &         0.008        &      -22.687    &       -3.356     \\\\\n\\bottomrule\n\\end{tabular}\n%\\caption{Logit Regression Results}\n\\end{center}"
     },
     "execution_count": 24,
     "metadata": {},
     "output_type": "execute_result"
    }
   ],
   "execution_count": 24
  },
  {
   "cell_type": "code",
   "id": "b1f6af0d-65a6-4844-a6a5-31c523f4b574",
   "metadata": {
    "ExecuteTime": {
     "end_time": "2025-05-20T13:29:24.212452Z",
     "start_time": "2025-05-20T13:29:24.209369Z"
    }
   },
   "source": [
    "A = np.identity(len(logit_res.params))\n",
    "A = A[1:,:]"
   ],
   "outputs": [],
   "execution_count": 25
  },
  {
   "cell_type": "code",
   "id": "848427e1-a222-4c77-8708-0ce68ca6096e",
   "metadata": {
    "ExecuteTime": {
     "end_time": "2025-05-20T13:29:24.272885Z",
     "start_time": "2025-05-20T13:29:24.269283Z"
    }
   },
   "source": [
    "logit_res.f_test(A)"
   ],
   "outputs": [
    {
     "data": {
      "text/plain": [
       "<class 'statsmodels.stats.contrast.ContrastResults'>\n",
       "<F test: F=2.8850001268853, p=0.05331525256957256, df_denom=28, df_num=3>"
      ]
     },
     "execution_count": 26,
     "metadata": {},
     "output_type": "execute_result"
    }
   ],
   "execution_count": 26
  },
  {
   "cell_type": "code",
   "id": "26ce399f-ce81-40ab-97b2-817b2ae51a4c",
   "metadata": {
    "ExecuteTime": {
     "end_time": "2025-05-20T13:29:24.335469Z",
     "start_time": "2025-05-20T13:29:24.331391Z"
    }
   },
   "source": [
    "margeff = logit_res.get_margeff()\n",
    "print(margeff.summary())"
   ],
   "outputs": [
    {
     "name": "stdout",
     "output_type": "stream",
     "text": [
      "        Logit Marginal Effects       \n",
      "=====================================\n",
      "Dep. Variable:                  GRADE\n",
      "Method:                          dydx\n",
      "At:                           overall\n",
      "==============================================================================\n",
      "                dy/dx    std err          z      P>|z|      [0.025      0.975]\n",
      "------------------------------------------------------------------------------\n",
      "GPA            0.3626      0.109      3.313      0.001       0.148       0.577\n",
      "TUCE           0.0122      0.018      0.686      0.493      -0.023       0.047\n",
      "PSI            0.3052      0.092      3.304      0.001       0.124       0.486\n",
      "==============================================================================\n"
     ]
    }
   ],
   "execution_count": 27
  },
  {
   "cell_type": "code",
   "id": "b91b6780-28bb-42f3-86aa-f623f1342526",
   "metadata": {
    "ExecuteTime": {
     "end_time": "2025-05-20T13:29:24.394842Z",
     "start_time": "2025-05-20T13:29:24.389699Z"
    }
   },
   "source": [
    "print(logit_res.summary())"
   ],
   "outputs": [
    {
     "name": "stdout",
     "output_type": "stream",
     "text": [
      "                           Logit Regression Results                           \n",
      "==============================================================================\n",
      "Dep. Variable:                  GRADE   No. Observations:                   32\n",
      "Model:                          Logit   Df Residuals:                       28\n",
      "Method:                           MLE   Df Model:                            3\n",
      "Date:                Tue, 20 May 2025   Pseudo R-squ.:                  0.3740\n",
      "Time:                        16:29:24   Log-Likelihood:                -12.890\n",
      "converged:                       True   LL-Null:                       -20.592\n",
      "Covariance Type:            nonrobust   LLR p-value:                  0.001502\n",
      "==============================================================================\n",
      "                 coef    std err          z      P>|z|      [0.025      0.975]\n",
      "------------------------------------------------------------------------------\n",
      "GPA            2.8261      1.263      2.238      0.025       0.351       5.301\n",
      "TUCE           0.0952      0.142      0.672      0.501      -0.182       0.373\n",
      "PSI            2.3787      1.065      2.234      0.025       0.292       4.465\n",
      "const        -13.0213      4.931     -2.641      0.008     -22.687      -3.356\n",
      "==============================================================================\n"
     ]
    }
   ],
   "execution_count": 28
  },
  {
   "cell_type": "code",
   "id": "f9cff3bc-a7ef-4bba-8593-c2e7b4f4a34a",
   "metadata": {
    "ExecuteTime": {
     "end_time": "2025-05-20T13:29:24.457256Z",
     "start_time": "2025-05-20T13:29:24.450204Z"
    }
   },
   "source": [
    "print(logit_res.summary2())"
   ],
   "outputs": [
    {
     "name": "stdout",
     "output_type": "stream",
     "text": [
      "                         Results: Logit\n",
      "================================================================\n",
      "Model:              Logit            Method:           MLE      \n",
      "Dependent Variable: GRADE            Pseudo R-squared: 0.374    \n",
      "Date:               2025-05-20 16:29 AIC:              33.7793  \n",
      "No. Observations:   32               BIC:              39.6422  \n",
      "Df Model:           3                Log-Likelihood:   -12.890  \n",
      "Df Residuals:       28               LL-Null:          -20.592  \n",
      "Converged:          1.0000           LLR p-value:      0.0015019\n",
      "No. Iterations:     7.0000           Scale:            1.0000   \n",
      "-----------------------------------------------------------------\n",
      "            Coef.    Std.Err.     z     P>|z|    [0.025    0.975]\n",
      "-----------------------------------------------------------------\n",
      "GPA          2.8261    1.2629   2.2377  0.0252    0.3508   5.3014\n",
      "TUCE         0.0952    0.1416   0.6722  0.5014   -0.1823   0.3726\n",
      "PSI          2.3787    1.0646   2.2344  0.0255    0.2922   4.4652\n",
      "const      -13.0213    4.9313  -2.6405  0.0083  -22.6866  -3.3561\n",
      "================================================================\n",
      "\n"
     ]
    }
   ],
   "execution_count": 29
  },
  {
   "cell_type": "markdown",
   "id": "1c41bcab-7981-4156-9b6b-6ac0475d0348",
   "metadata": {},
   "source": [
    "## Iris from scikit-learn"
   ]
  },
  {
   "cell_type": "code",
   "id": "0238b8f0-d062-4ef1-b615-ab834d884818",
   "metadata": {
    "ExecuteTime": {
     "end_time": "2025-05-20T13:29:24.517188Z",
     "start_time": "2025-05-20T13:29:24.512189Z"
    }
   },
   "source": [
    "dataset = load_iris()"
   ],
   "outputs": [],
   "execution_count": 30
  },
  {
   "cell_type": "code",
   "id": "1dceee3a-8fcb-4ae6-98b2-5a3b9e99a223",
   "metadata": {
    "ExecuteTime": {
     "end_time": "2025-05-20T13:29:24.572586Z",
     "start_time": "2025-05-20T13:29:24.569404Z"
    }
   },
   "source": [
    "dataset.feature_names"
   ],
   "outputs": [
    {
     "data": {
      "text/plain": [
       "['sepal length (cm)',\n",
       " 'sepal width (cm)',\n",
       " 'petal length (cm)',\n",
       " 'petal width (cm)']"
      ]
     },
     "execution_count": 31,
     "metadata": {},
     "output_type": "execute_result"
    }
   ],
   "execution_count": 31
  },
  {
   "cell_type": "code",
   "id": "e450cf4c-eab5-4e22-a298-80693098684b",
   "metadata": {
    "ExecuteTime": {
     "end_time": "2025-05-20T13:29:24.636309Z",
     "start_time": "2025-05-20T13:29:24.632888Z"
    }
   },
   "source": [
    "dataset.target"
   ],
   "outputs": [
    {
     "data": {
      "text/plain": [
       "array([0, 0, 0, 0, 0, 0, 0, 0, 0, 0, 0, 0, 0, 0, 0, 0, 0, 0, 0, 0, 0, 0,\n",
       "       0, 0, 0, 0, 0, 0, 0, 0, 0, 0, 0, 0, 0, 0, 0, 0, 0, 0, 0, 0, 0, 0,\n",
       "       0, 0, 0, 0, 0, 0, 1, 1, 1, 1, 1, 1, 1, 1, 1, 1, 1, 1, 1, 1, 1, 1,\n",
       "       1, 1, 1, 1, 1, 1, 1, 1, 1, 1, 1, 1, 1, 1, 1, 1, 1, 1, 1, 1, 1, 1,\n",
       "       1, 1, 1, 1, 1, 1, 1, 1, 1, 1, 1, 1, 2, 2, 2, 2, 2, 2, 2, 2, 2, 2,\n",
       "       2, 2, 2, 2, 2, 2, 2, 2, 2, 2, 2, 2, 2, 2, 2, 2, 2, 2, 2, 2, 2, 2,\n",
       "       2, 2, 2, 2, 2, 2, 2, 2, 2, 2, 2, 2, 2, 2, 2, 2, 2, 2])"
      ]
     },
     "execution_count": 32,
     "metadata": {},
     "output_type": "execute_result"
    }
   ],
   "execution_count": 32
  },
  {
   "cell_type": "code",
   "id": "a84aa808-af08-435f-bed3-9d0eb8272cb5",
   "metadata": {
    "ExecuteTime": {
     "end_time": "2025-05-20T13:29:24.699741Z",
     "start_time": "2025-05-20T13:29:24.695036Z"
    }
   },
   "source": [
    "dataset.data"
   ],
   "outputs": [
    {
     "data": {
      "text/plain": [
       "array([[5.1, 3.5, 1.4, 0.2],\n",
       "       [4.9, 3. , 1.4, 0.2],\n",
       "       [4.7, 3.2, 1.3, 0.2],\n",
       "       [4.6, 3.1, 1.5, 0.2],\n",
       "       [5. , 3.6, 1.4, 0.2],\n",
       "       [5.4, 3.9, 1.7, 0.4],\n",
       "       [4.6, 3.4, 1.4, 0.3],\n",
       "       [5. , 3.4, 1.5, 0.2],\n",
       "       [4.4, 2.9, 1.4, 0.2],\n",
       "       [4.9, 3.1, 1.5, 0.1],\n",
       "       [5.4, 3.7, 1.5, 0.2],\n",
       "       [4.8, 3.4, 1.6, 0.2],\n",
       "       [4.8, 3. , 1.4, 0.1],\n",
       "       [4.3, 3. , 1.1, 0.1],\n",
       "       [5.8, 4. , 1.2, 0.2],\n",
       "       [5.7, 4.4, 1.5, 0.4],\n",
       "       [5.4, 3.9, 1.3, 0.4],\n",
       "       [5.1, 3.5, 1.4, 0.3],\n",
       "       [5.7, 3.8, 1.7, 0.3],\n",
       "       [5.1, 3.8, 1.5, 0.3],\n",
       "       [5.4, 3.4, 1.7, 0.2],\n",
       "       [5.1, 3.7, 1.5, 0.4],\n",
       "       [4.6, 3.6, 1. , 0.2],\n",
       "       [5.1, 3.3, 1.7, 0.5],\n",
       "       [4.8, 3.4, 1.9, 0.2],\n",
       "       [5. , 3. , 1.6, 0.2],\n",
       "       [5. , 3.4, 1.6, 0.4],\n",
       "       [5.2, 3.5, 1.5, 0.2],\n",
       "       [5.2, 3.4, 1.4, 0.2],\n",
       "       [4.7, 3.2, 1.6, 0.2],\n",
       "       [4.8, 3.1, 1.6, 0.2],\n",
       "       [5.4, 3.4, 1.5, 0.4],\n",
       "       [5.2, 4.1, 1.5, 0.1],\n",
       "       [5.5, 4.2, 1.4, 0.2],\n",
       "       [4.9, 3.1, 1.5, 0.2],\n",
       "       [5. , 3.2, 1.2, 0.2],\n",
       "       [5.5, 3.5, 1.3, 0.2],\n",
       "       [4.9, 3.6, 1.4, 0.1],\n",
       "       [4.4, 3. , 1.3, 0.2],\n",
       "       [5.1, 3.4, 1.5, 0.2],\n",
       "       [5. , 3.5, 1.3, 0.3],\n",
       "       [4.5, 2.3, 1.3, 0.3],\n",
       "       [4.4, 3.2, 1.3, 0.2],\n",
       "       [5. , 3.5, 1.6, 0.6],\n",
       "       [5.1, 3.8, 1.9, 0.4],\n",
       "       [4.8, 3. , 1.4, 0.3],\n",
       "       [5.1, 3.8, 1.6, 0.2],\n",
       "       [4.6, 3.2, 1.4, 0.2],\n",
       "       [5.3, 3.7, 1.5, 0.2],\n",
       "       [5. , 3.3, 1.4, 0.2],\n",
       "       [7. , 3.2, 4.7, 1.4],\n",
       "       [6.4, 3.2, 4.5, 1.5],\n",
       "       [6.9, 3.1, 4.9, 1.5],\n",
       "       [5.5, 2.3, 4. , 1.3],\n",
       "       [6.5, 2.8, 4.6, 1.5],\n",
       "       [5.7, 2.8, 4.5, 1.3],\n",
       "       [6.3, 3.3, 4.7, 1.6],\n",
       "       [4.9, 2.4, 3.3, 1. ],\n",
       "       [6.6, 2.9, 4.6, 1.3],\n",
       "       [5.2, 2.7, 3.9, 1.4],\n",
       "       [5. , 2. , 3.5, 1. ],\n",
       "       [5.9, 3. , 4.2, 1.5],\n",
       "       [6. , 2.2, 4. , 1. ],\n",
       "       [6.1, 2.9, 4.7, 1.4],\n",
       "       [5.6, 2.9, 3.6, 1.3],\n",
       "       [6.7, 3.1, 4.4, 1.4],\n",
       "       [5.6, 3. , 4.5, 1.5],\n",
       "       [5.8, 2.7, 4.1, 1. ],\n",
       "       [6.2, 2.2, 4.5, 1.5],\n",
       "       [5.6, 2.5, 3.9, 1.1],\n",
       "       [5.9, 3.2, 4.8, 1.8],\n",
       "       [6.1, 2.8, 4. , 1.3],\n",
       "       [6.3, 2.5, 4.9, 1.5],\n",
       "       [6.1, 2.8, 4.7, 1.2],\n",
       "       [6.4, 2.9, 4.3, 1.3],\n",
       "       [6.6, 3. , 4.4, 1.4],\n",
       "       [6.8, 2.8, 4.8, 1.4],\n",
       "       [6.7, 3. , 5. , 1.7],\n",
       "       [6. , 2.9, 4.5, 1.5],\n",
       "       [5.7, 2.6, 3.5, 1. ],\n",
       "       [5.5, 2.4, 3.8, 1.1],\n",
       "       [5.5, 2.4, 3.7, 1. ],\n",
       "       [5.8, 2.7, 3.9, 1.2],\n",
       "       [6. , 2.7, 5.1, 1.6],\n",
       "       [5.4, 3. , 4.5, 1.5],\n",
       "       [6. , 3.4, 4.5, 1.6],\n",
       "       [6.7, 3.1, 4.7, 1.5],\n",
       "       [6.3, 2.3, 4.4, 1.3],\n",
       "       [5.6, 3. , 4.1, 1.3],\n",
       "       [5.5, 2.5, 4. , 1.3],\n",
       "       [5.5, 2.6, 4.4, 1.2],\n",
       "       [6.1, 3. , 4.6, 1.4],\n",
       "       [5.8, 2.6, 4. , 1.2],\n",
       "       [5. , 2.3, 3.3, 1. ],\n",
       "       [5.6, 2.7, 4.2, 1.3],\n",
       "       [5.7, 3. , 4.2, 1.2],\n",
       "       [5.7, 2.9, 4.2, 1.3],\n",
       "       [6.2, 2.9, 4.3, 1.3],\n",
       "       [5.1, 2.5, 3. , 1.1],\n",
       "       [5.7, 2.8, 4.1, 1.3],\n",
       "       [6.3, 3.3, 6. , 2.5],\n",
       "       [5.8, 2.7, 5.1, 1.9],\n",
       "       [7.1, 3. , 5.9, 2.1],\n",
       "       [6.3, 2.9, 5.6, 1.8],\n",
       "       [6.5, 3. , 5.8, 2.2],\n",
       "       [7.6, 3. , 6.6, 2.1],\n",
       "       [4.9, 2.5, 4.5, 1.7],\n",
       "       [7.3, 2.9, 6.3, 1.8],\n",
       "       [6.7, 2.5, 5.8, 1.8],\n",
       "       [7.2, 3.6, 6.1, 2.5],\n",
       "       [6.5, 3.2, 5.1, 2. ],\n",
       "       [6.4, 2.7, 5.3, 1.9],\n",
       "       [6.8, 3. , 5.5, 2.1],\n",
       "       [5.7, 2.5, 5. , 2. ],\n",
       "       [5.8, 2.8, 5.1, 2.4],\n",
       "       [6.4, 3.2, 5.3, 2.3],\n",
       "       [6.5, 3. , 5.5, 1.8],\n",
       "       [7.7, 3.8, 6.7, 2.2],\n",
       "       [7.7, 2.6, 6.9, 2.3],\n",
       "       [6. , 2.2, 5. , 1.5],\n",
       "       [6.9, 3.2, 5.7, 2.3],\n",
       "       [5.6, 2.8, 4.9, 2. ],\n",
       "       [7.7, 2.8, 6.7, 2. ],\n",
       "       [6.3, 2.7, 4.9, 1.8],\n",
       "       [6.7, 3.3, 5.7, 2.1],\n",
       "       [7.2, 3.2, 6. , 1.8],\n",
       "       [6.2, 2.8, 4.8, 1.8],\n",
       "       [6.1, 3. , 4.9, 1.8],\n",
       "       [6.4, 2.8, 5.6, 2.1],\n",
       "       [7.2, 3. , 5.8, 1.6],\n",
       "       [7.4, 2.8, 6.1, 1.9],\n",
       "       [7.9, 3.8, 6.4, 2. ],\n",
       "       [6.4, 2.8, 5.6, 2.2],\n",
       "       [6.3, 2.8, 5.1, 1.5],\n",
       "       [6.1, 2.6, 5.6, 1.4],\n",
       "       [7.7, 3. , 6.1, 2.3],\n",
       "       [6.3, 3.4, 5.6, 2.4],\n",
       "       [6.4, 3.1, 5.5, 1.8],\n",
       "       [6. , 3. , 4.8, 1.8],\n",
       "       [6.9, 3.1, 5.4, 2.1],\n",
       "       [6.7, 3.1, 5.6, 2.4],\n",
       "       [6.9, 3.1, 5.1, 2.3],\n",
       "       [5.8, 2.7, 5.1, 1.9],\n",
       "       [6.8, 3.2, 5.9, 2.3],\n",
       "       [6.7, 3.3, 5.7, 2.5],\n",
       "       [6.7, 3. , 5.2, 2.3],\n",
       "       [6.3, 2.5, 5. , 1.9],\n",
       "       [6.5, 3. , 5.2, 2. ],\n",
       "       [6.2, 3.4, 5.4, 2.3],\n",
       "       [5.9, 3. , 5.1, 1.8]])"
      ]
     },
     "execution_count": 33,
     "metadata": {},
     "output_type": "execute_result"
    }
   ],
   "execution_count": 33
  },
  {
   "cell_type": "code",
   "id": "e58df0f0-42db-4a7a-b9bf-ab47cfa4d082",
   "metadata": {
    "ExecuteTime": {
     "end_time": "2025-05-20T13:29:24.786444Z",
     "start_time": "2025-05-20T13:29:24.783892Z"
    }
   },
   "source": [
    "X, y = load_iris(return_X_y=True)"
   ],
   "outputs": [],
   "execution_count": 34
  },
  {
   "cell_type": "markdown",
   "id": "d214570f-b8b7-457c-9ce9-e9f78271e891",
   "metadata": {},
   "source": [
    "### Always holdout data for testing in real life.\n",
    "### in these lecture notes I performed no split of the datasets only to focus on other issues.   "
   ]
  },
  {
   "cell_type": "code",
   "id": "40c63c31-7c60-442e-afa7-ebd4984f5560",
   "metadata": {
    "scrolled": true,
    "ExecuteTime": {
     "end_time": "2025-05-20T13:29:24.866391Z",
     "start_time": "2025-05-20T13:29:24.845741Z"
    }
   },
   "source": [
    "LogisticRegression?"
   ],
   "outputs": [],
   "execution_count": 35
  },
  {
   "cell_type": "code",
   "id": "a7e02ad4-cd49-4967-ba45-a0e54d7b8800",
   "metadata": {
    "ExecuteTime": {
     "end_time": "2025-05-20T13:29:25.000382Z",
     "start_time": "2025-05-20T13:29:24.987984Z"
    }
   },
   "source": [
    "clf = LogisticRegression(max_iter=400).fit(X, y)"
   ],
   "outputs": [],
   "execution_count": 36
  },
  {
   "cell_type": "code",
   "id": "5a50f064-2e4d-4f1d-899b-4869b201bc77",
   "metadata": {
    "ExecuteTime": {
     "end_time": "2025-05-20T13:29:25.052156Z",
     "start_time": "2025-05-20T13:29:25.049263Z"
    }
   },
   "source": [
    "clf.predict(X[:, :])"
   ],
   "outputs": [
    {
     "data": {
      "text/plain": [
       "array([0, 0, 0, 0, 0, 0, 0, 0, 0, 0, 0, 0, 0, 0, 0, 0, 0, 0, 0, 0, 0, 0,\n",
       "       0, 0, 0, 0, 0, 0, 0, 0, 0, 0, 0, 0, 0, 0, 0, 0, 0, 0, 0, 0, 0, 0,\n",
       "       0, 0, 0, 0, 0, 0, 1, 1, 1, 1, 1, 1, 1, 1, 1, 1, 1, 1, 1, 1, 1, 1,\n",
       "       1, 1, 1, 1, 2, 1, 1, 1, 1, 1, 1, 2, 1, 1, 1, 1, 1, 2, 1, 1, 1, 1,\n",
       "       1, 1, 1, 1, 1, 1, 1, 1, 1, 1, 1, 1, 2, 2, 2, 2, 2, 2, 1, 2, 2, 2,\n",
       "       2, 2, 2, 2, 2, 2, 2, 2, 2, 2, 2, 2, 2, 2, 2, 2, 2, 2, 2, 2, 2, 2,\n",
       "       2, 2, 2, 2, 2, 2, 2, 2, 2, 2, 2, 2, 2, 2, 2, 2, 2, 2])"
      ]
     },
     "execution_count": 37,
     "metadata": {},
     "output_type": "execute_result"
    }
   ],
   "execution_count": 37
  },
  {
   "cell_type": "code",
   "id": "1f65777c-79b7-4071-9b55-7709fbd7e191",
   "metadata": {
    "ExecuteTime": {
     "end_time": "2025-05-20T13:29:25.113131Z",
     "start_time": "2025-05-20T13:29:25.111130Z"
    }
   },
   "source": [
    "np.set_printoptions(suppress=True)"
   ],
   "outputs": [],
   "execution_count": 38
  },
  {
   "cell_type": "code",
   "id": "c5e17a6c-6621-43ca-8882-5b029b0ddd1a",
   "metadata": {
    "ExecuteTime": {
     "end_time": "2025-05-20T13:29:25.169911Z",
     "start_time": "2025-05-20T13:29:25.165507Z"
    }
   },
   "source": [
    "clf.predict_proba(X)"
   ],
   "outputs": [
    {
     "data": {
      "text/plain": [
       "array([[0.98155631, 0.01844368, 0.00000001],\n",
       "       [0.97132739, 0.02867258, 0.00000003],\n",
       "       [0.98526968, 0.01473031, 0.00000001],\n",
       "       [0.97607553, 0.02392443, 0.00000004],\n",
       "       [0.98521363, 0.01478635, 0.00000001],\n",
       "       [0.97014304, 0.02985689, 0.00000007],\n",
       "       [0.98676691, 0.01323307, 0.00000002],\n",
       "       [0.97612741, 0.02387256, 0.00000003],\n",
       "       [0.97964714, 0.02035283, 0.00000003],\n",
       "       [0.96876852, 0.03123145, 0.00000003],\n",
       "       [0.97617918, 0.0238208 , 0.00000002],\n",
       "       [0.9752059 , 0.02479405, 0.00000004],\n",
       "       [0.97423594, 0.02576404, 0.00000002],\n",
       "       [0.99187865, 0.00812135, 0.        ],\n",
       "       [0.9879641 , 0.0120359 , 0.        ],\n",
       "       [0.98659131, 0.01340868, 0.00000001],\n",
       "       [0.98792278, 0.01207721, 0.00000001],\n",
       "       [0.98130199, 0.01869799, 0.00000002],\n",
       "       [0.95598656, 0.04401337, 0.00000007],\n",
       "       [0.98394996, 0.01605002, 0.00000002],\n",
       "       [0.94610128, 0.05389863, 0.00000009],\n",
       "       [0.98153374, 0.01846623, 0.00000003],\n",
       "       [0.99595572, 0.00404427, 0.        ],\n",
       "       [0.95178337, 0.0482164 , 0.00000024],\n",
       "       [0.9516439 , 0.04835589, 0.00000021],\n",
       "       [0.95097208, 0.04902783, 0.00000009],\n",
       "       [0.96929487, 0.03070504, 0.00000009],\n",
       "       [0.9746081 , 0.02539188, 0.00000003],\n",
       "       [0.97701547, 0.02298451, 0.00000002],\n",
       "       [0.97098686, 0.02901308, 0.00000006],\n",
       "       [0.96393942, 0.03606051, 0.00000007],\n",
       "       [0.96439323, 0.03560671, 0.00000006],\n",
       "       [0.98827211, 0.01172788, 0.00000001],\n",
       "       [0.98892134, 0.01107866, 0.00000001],\n",
       "       [0.96834355, 0.0316564 , 0.00000004],\n",
       "       [0.98441638, 0.01558361, 0.00000001],\n",
       "       [0.97856874, 0.02143125, 0.00000001],\n",
       "       [0.9867328 , 0.01326719, 0.00000001],\n",
       "       [0.98570608, 0.01429391, 0.00000002],\n",
       "       [0.97378515, 0.02621482, 0.00000003],\n",
       "       [0.98644397, 0.01355602, 0.00000001],\n",
       "       [0.96166874, 0.03833119, 0.00000007],\n",
       "       [0.98891483, 0.01108516, 0.00000001],\n",
       "       [0.97215787, 0.027842  , 0.00000014],\n",
       "       [0.96002286, 0.03997691, 0.00000022],\n",
       "       [0.97352609, 0.02647387, 0.00000004],\n",
       "       [0.9801403 , 0.01985967, 0.00000003],\n",
       "       [0.98317946, 0.01682052, 0.00000002],\n",
       "       [0.97831231, 0.02168768, 0.00000002],\n",
       "       [0.97839393, 0.02160605, 0.00000002],\n",
       "       [0.00212359, 0.87407819, 0.12379822],\n",
       "       [0.00581427, 0.85981231, 0.13437342],\n",
       "       [0.00105987, 0.72525793, 0.27368221],\n",
       "       [0.01543153, 0.93964232, 0.04492615],\n",
       "       [0.00237587, 0.81527699, 0.18234714],\n",
       "       [0.00699746, 0.86006552, 0.13293702],\n",
       "       [0.00377087, 0.71662283, 0.2796063 ],\n",
       "       [0.1479972 , 0.8489463 , 0.00305651],\n",
       "       [0.00277652, 0.89669226, 0.10053122],\n",
       "       [0.04152028, 0.91183771, 0.04664201],\n",
       "       [0.05592129, 0.93760263, 0.00647608],\n",
       "       [0.0151753 , 0.89884805, 0.08597666],\n",
       "       [0.00909833, 0.97656642, 0.01433525],\n",
       "       [0.00305281, 0.77926874, 0.21767846],\n",
       "       [0.07441596, 0.91513279, 0.01045126],\n",
       "       [0.00527489, 0.92641289, 0.06831223],\n",
       "       [0.00872745, 0.77461592, 0.21665663],\n",
       "       [0.01646473, 0.96516591, 0.01836936],\n",
       "       [0.00181135, 0.80099624, 0.19719241],\n",
       "       [0.02398511, 0.95941064, 0.01660425],\n",
       "       [0.00230811, 0.44016173, 0.55753016],\n",
       "       [0.01681404, 0.95680135, 0.02638461],\n",
       "       [0.00071596, 0.59626649, 0.40301755],\n",
       "       [0.00304552, 0.85988459, 0.13706989],\n",
       "       [0.00707077, 0.94298297, 0.04994625],\n",
       "       [0.00507051, 0.92015665, 0.07477284],\n",
       "       [0.00111942, 0.80162872, 0.19725186],\n",
       "       [0.00057847, 0.48129715, 0.51812438],\n",
       "       [0.00548614, 0.81309504, 0.18141882],\n",
       "       [0.0616561 , 0.93496409, 0.00337981],\n",
       "       [0.02917199, 0.95720898, 0.01361902],\n",
       "       [0.03718691, 0.95527727, 0.00753582],\n",
       "       [0.02517635, 0.95648404, 0.01833961],\n",
       "       [0.00045021, 0.34963497, 0.64991483],\n",
       "       [0.01024942, 0.75078545, 0.23896512],\n",
       "       [0.00998985, 0.78875438, 0.20125577],\n",
       "       [0.00226244, 0.80529023, 0.19244733],\n",
       "       [0.00276378, 0.91317182, 0.0840644 ],\n",
       "       [0.02708093, 0.92849077, 0.0444283 ],\n",
       "       [0.01992924, 0.93804488, 0.04202588],\n",
       "       [0.00873899, 0.89781907, 0.09344194],\n",
       "       [0.00464876, 0.8282742 , 0.16707704],\n",
       "       [0.01758242, 0.95700709, 0.02541049],\n",
       "       [0.12185081, 0.87509808, 0.0030511 ],\n",
       "       [0.0144845 , 0.92042754, 0.06508796],\n",
       "       [0.02001004, 0.93806817, 0.04192179],\n",
       "       [0.01711489, 0.92540309, 0.05748202],\n",
       "       [0.00849614, 0.93513901, 0.05636485],\n",
       "       [0.24355615, 0.75515201, 0.00129184],\n",
       "       [0.01917167, 0.93602145, 0.04480688],\n",
       "       [0.0000009 , 0.00391511, 0.99608399],\n",
       "       [0.00024314, 0.16250271, 0.83725414],\n",
       "       [0.00000248, 0.02559259, 0.97440493],\n",
       "       [0.00003128, 0.0816796 , 0.91828912],\n",
       "       [0.00000374, 0.01744695, 0.98254931],\n",
       "       [0.00000006, 0.00464343, 0.99535651],\n",
       "       [0.00578669, 0.51340727, 0.48080604],\n",
       "       [0.00000062, 0.02135875, 0.97864062],\n",
       "       [0.00000524, 0.05328474, 0.94671002],\n",
       "       [0.00000065, 0.00574967, 0.99424967],\n",
       "       [0.000302  , 0.21055263, 0.78914536],\n",
       "       [0.00007279, 0.13730751, 0.8626197 ],\n",
       "       [0.00002126, 0.06529715, 0.93468159],\n",
       "       [0.00022956, 0.14516128, 0.85460916],\n",
       "       [0.00006903, 0.04349228, 0.95643869],\n",
       "       [0.00005158, 0.05405426, 0.94589415],\n",
       "       [0.00005567, 0.1229304 , 0.87701392],\n",
       "       [0.00000008, 0.00356624, 0.99643367],\n",
       "       [0.        , 0.00100107, 0.99899892],\n",
       "       [0.00039037, 0.45178362, 0.54782601],\n",
       "       [0.0000056 , 0.02386557, 0.97612883],\n",
       "       [0.00061421, 0.19037146, 0.80901433],\n",
       "       [0.00000003, 0.00465871, 0.99534126],\n",
       "       [0.00058553, 0.39306306, 0.60635141],\n",
       "       [0.00001284, 0.03862669, 0.96136047],\n",
       "       [0.00000486, 0.05153045, 0.94846469],\n",
       "       [0.00107238, 0.45647594, 0.54245168],\n",
       "       [0.00102345, 0.38536012, 0.61361643],\n",
       "       [0.00001066, 0.03633929, 0.96365005],\n",
       "       [0.00001691, 0.1420745 , 0.85790859],\n",
       "       [0.00000106, 0.02921944, 0.9707795 ],\n",
       "       [0.0000007 , 0.01744977, 0.98254952],\n",
       "       [0.00000789, 0.02726308, 0.97272903],\n",
       "       [0.00052954, 0.47556317, 0.52390729],\n",
       "       [0.00006288, 0.18852658, 0.81141054],\n",
       "       [0.00000039, 0.01175875, 0.98824086],\n",
       "       [0.00001162, 0.01733402, 0.98265435],\n",
       "       [0.00006776, 0.11950872, 0.88042352],\n",
       "       [0.0016216 , 0.44036439, 0.55801401],\n",
       "       [0.00003965, 0.09354291, 0.90641744],\n",
       "       [0.0000063 , 0.02029973, 0.97969397],\n",
       "       [0.00009945, 0.12072613, 0.87917442],\n",
       "       [0.00024314, 0.16250271, 0.83725414],\n",
       "       [0.00000205, 0.01259405, 0.9874039 ],\n",
       "       [0.00000381, 0.01211188, 0.98788432],\n",
       "       [0.00005584, 0.0801491 , 0.91979506],\n",
       "       [0.00022707, 0.25188101, 0.74789192],\n",
       "       [0.00013834, 0.15716862, 0.84269304],\n",
       "       [0.00004565, 0.03844053, 0.96151382],\n",
       "       [0.00047631, 0.23484773, 0.76467596]])"
      ]
     },
     "execution_count": 39,
     "metadata": {},
     "output_type": "execute_result"
    }
   ],
   "execution_count": 39
  },
  {
   "cell_type": "code",
   "id": "07333b23-3b11-4cac-b7e7-91c172bdbd44",
   "metadata": {
    "ExecuteTime": {
     "end_time": "2025-05-20T13:29:25.252345Z",
     "start_time": "2025-05-20T13:29:25.249124Z"
    }
   },
   "source": [
    "clf.score(X, y)"
   ],
   "outputs": [
    {
     "data": {
      "text/plain": [
       "0.9733333333333334"
      ]
     },
     "execution_count": 40,
     "metadata": {},
     "output_type": "execute_result"
    }
   ],
   "execution_count": 40
  },
  {
   "cell_type": "code",
   "id": "a5a7eddb-583b-4f26-a265-76afc73bc1cd",
   "metadata": {
    "ExecuteTime": {
     "end_time": "2025-05-20T13:29:25.333723Z",
     "start_time": "2025-05-20T13:29:25.331471Z"
    }
   },
   "source": [
    "clf.n_features_in_?"
   ],
   "outputs": [],
   "execution_count": 41
  },
  {
   "cell_type": "code",
   "id": "15aa7eed-74fe-4247-ba9f-83c8c953b277",
   "metadata": {
    "ExecuteTime": {
     "end_time": "2025-05-20T13:29:25.396628Z",
     "start_time": "2025-05-20T13:29:25.392985Z"
    }
   },
   "source": [
    "clf.score?"
   ],
   "outputs": [],
   "execution_count": 42
  },
  {
   "cell_type": "code",
   "id": "c36fc396-4bf2-400e-8447-e618bc462b8d",
   "metadata": {
    "ExecuteTime": {
     "end_time": "2025-05-20T13:29:25.456902Z",
     "start_time": "2025-05-20T13:29:25.454169Z"
    }
   },
   "source": [
    "# link to liblinear libary, go to datasets, phising dataset\n",
    "# LogisticRegression?\n",
    "\n",
    "clf.classes_"
   ],
   "outputs": [
    {
     "data": {
      "text/plain": [
       "array([0, 1, 2])"
      ]
     },
     "execution_count": 43,
     "metadata": {},
     "output_type": "execute_result"
    }
   ],
   "execution_count": 43
  },
  {
   "cell_type": "code",
   "id": "34053a62-a5b0-43f9-b68c-416401b170c5",
   "metadata": {
    "ExecuteTime": {
     "end_time": "2025-05-20T13:29:25.525651Z",
     "start_time": "2025-05-20T13:29:25.521747Z"
    }
   },
   "source": [
    "clf.coef_"
   ],
   "outputs": [
    {
     "data": {
      "text/plain": [
       "array([[-0.42456599,  0.96664261, -2.51554625, -1.08216927],\n",
       "       [ 0.53541119, -0.32073935, -0.20740629, -0.94263206],\n",
       "       [-0.1108452 , -0.64590325,  2.72295254,  2.02480133]])"
      ]
     },
     "execution_count": 44,
     "metadata": {},
     "output_type": "execute_result"
    }
   ],
   "execution_count": 44
  },
  {
   "cell_type": "code",
   "id": "2e8909f4-a1f0-4b64-83f3-0739dbc44835",
   "metadata": {
    "ExecuteTime": {
     "end_time": "2025-05-20T13:29:25.628111Z",
     "start_time": "2025-05-20T13:29:25.625498Z"
    }
   },
   "source": [
    "clf.intercept_"
   ],
   "outputs": [
    {
     "data": {
      "text/plain": [
       "array([  9.85494228,   2.23117432, -12.0861166 ])"
      ]
     },
     "execution_count": 45,
     "metadata": {},
     "output_type": "execute_result"
    }
   ],
   "execution_count": 45
  },
  {
   "cell_type": "code",
   "id": "4de311ae-d4c5-4252-b329-5ba3d54aef53",
   "metadata": {
    "ExecuteTime": {
     "end_time": "2025-05-20T13:29:25.747981Z",
     "start_time": "2025-05-20T13:29:25.745384Z"
    }
   },
   "source": [
    "len(clf.predict_proba(X))"
   ],
   "outputs": [
    {
     "data": {
      "text/plain": [
       "150"
      ]
     },
     "execution_count": 46,
     "metadata": {},
     "output_type": "execute_result"
    }
   ],
   "execution_count": 46
  },
  {
   "cell_type": "code",
   "id": "7ff922cf-f05f-4be0-985e-e8c9f38d5700",
   "metadata": {
    "ExecuteTime": {
     "end_time": "2025-05-20T13:29:25.815411Z",
     "start_time": "2025-05-20T13:29:25.810630Z"
    }
   },
   "source": [
    "clf.predict_proba(X)"
   ],
   "outputs": [
    {
     "data": {
      "text/plain": [
       "array([[0.98155631, 0.01844368, 0.00000001],\n",
       "       [0.97132739, 0.02867258, 0.00000003],\n",
       "       [0.98526968, 0.01473031, 0.00000001],\n",
       "       [0.97607553, 0.02392443, 0.00000004],\n",
       "       [0.98521363, 0.01478635, 0.00000001],\n",
       "       [0.97014304, 0.02985689, 0.00000007],\n",
       "       [0.98676691, 0.01323307, 0.00000002],\n",
       "       [0.97612741, 0.02387256, 0.00000003],\n",
       "       [0.97964714, 0.02035283, 0.00000003],\n",
       "       [0.96876852, 0.03123145, 0.00000003],\n",
       "       [0.97617918, 0.0238208 , 0.00000002],\n",
       "       [0.9752059 , 0.02479405, 0.00000004],\n",
       "       [0.97423594, 0.02576404, 0.00000002],\n",
       "       [0.99187865, 0.00812135, 0.        ],\n",
       "       [0.9879641 , 0.0120359 , 0.        ],\n",
       "       [0.98659131, 0.01340868, 0.00000001],\n",
       "       [0.98792278, 0.01207721, 0.00000001],\n",
       "       [0.98130199, 0.01869799, 0.00000002],\n",
       "       [0.95598656, 0.04401337, 0.00000007],\n",
       "       [0.98394996, 0.01605002, 0.00000002],\n",
       "       [0.94610128, 0.05389863, 0.00000009],\n",
       "       [0.98153374, 0.01846623, 0.00000003],\n",
       "       [0.99595572, 0.00404427, 0.        ],\n",
       "       [0.95178337, 0.0482164 , 0.00000024],\n",
       "       [0.9516439 , 0.04835589, 0.00000021],\n",
       "       [0.95097208, 0.04902783, 0.00000009],\n",
       "       [0.96929487, 0.03070504, 0.00000009],\n",
       "       [0.9746081 , 0.02539188, 0.00000003],\n",
       "       [0.97701547, 0.02298451, 0.00000002],\n",
       "       [0.97098686, 0.02901308, 0.00000006],\n",
       "       [0.96393942, 0.03606051, 0.00000007],\n",
       "       [0.96439323, 0.03560671, 0.00000006],\n",
       "       [0.98827211, 0.01172788, 0.00000001],\n",
       "       [0.98892134, 0.01107866, 0.00000001],\n",
       "       [0.96834355, 0.0316564 , 0.00000004],\n",
       "       [0.98441638, 0.01558361, 0.00000001],\n",
       "       [0.97856874, 0.02143125, 0.00000001],\n",
       "       [0.9867328 , 0.01326719, 0.00000001],\n",
       "       [0.98570608, 0.01429391, 0.00000002],\n",
       "       [0.97378515, 0.02621482, 0.00000003],\n",
       "       [0.98644397, 0.01355602, 0.00000001],\n",
       "       [0.96166874, 0.03833119, 0.00000007],\n",
       "       [0.98891483, 0.01108516, 0.00000001],\n",
       "       [0.97215787, 0.027842  , 0.00000014],\n",
       "       [0.96002286, 0.03997691, 0.00000022],\n",
       "       [0.97352609, 0.02647387, 0.00000004],\n",
       "       [0.9801403 , 0.01985967, 0.00000003],\n",
       "       [0.98317946, 0.01682052, 0.00000002],\n",
       "       [0.97831231, 0.02168768, 0.00000002],\n",
       "       [0.97839393, 0.02160605, 0.00000002],\n",
       "       [0.00212359, 0.87407819, 0.12379822],\n",
       "       [0.00581427, 0.85981231, 0.13437342],\n",
       "       [0.00105987, 0.72525793, 0.27368221],\n",
       "       [0.01543153, 0.93964232, 0.04492615],\n",
       "       [0.00237587, 0.81527699, 0.18234714],\n",
       "       [0.00699746, 0.86006552, 0.13293702],\n",
       "       [0.00377087, 0.71662283, 0.2796063 ],\n",
       "       [0.1479972 , 0.8489463 , 0.00305651],\n",
       "       [0.00277652, 0.89669226, 0.10053122],\n",
       "       [0.04152028, 0.91183771, 0.04664201],\n",
       "       [0.05592129, 0.93760263, 0.00647608],\n",
       "       [0.0151753 , 0.89884805, 0.08597666],\n",
       "       [0.00909833, 0.97656642, 0.01433525],\n",
       "       [0.00305281, 0.77926874, 0.21767846],\n",
       "       [0.07441596, 0.91513279, 0.01045126],\n",
       "       [0.00527489, 0.92641289, 0.06831223],\n",
       "       [0.00872745, 0.77461592, 0.21665663],\n",
       "       [0.01646473, 0.96516591, 0.01836936],\n",
       "       [0.00181135, 0.80099624, 0.19719241],\n",
       "       [0.02398511, 0.95941064, 0.01660425],\n",
       "       [0.00230811, 0.44016173, 0.55753016],\n",
       "       [0.01681404, 0.95680135, 0.02638461],\n",
       "       [0.00071596, 0.59626649, 0.40301755],\n",
       "       [0.00304552, 0.85988459, 0.13706989],\n",
       "       [0.00707077, 0.94298297, 0.04994625],\n",
       "       [0.00507051, 0.92015665, 0.07477284],\n",
       "       [0.00111942, 0.80162872, 0.19725186],\n",
       "       [0.00057847, 0.48129715, 0.51812438],\n",
       "       [0.00548614, 0.81309504, 0.18141882],\n",
       "       [0.0616561 , 0.93496409, 0.00337981],\n",
       "       [0.02917199, 0.95720898, 0.01361902],\n",
       "       [0.03718691, 0.95527727, 0.00753582],\n",
       "       [0.02517635, 0.95648404, 0.01833961],\n",
       "       [0.00045021, 0.34963497, 0.64991483],\n",
       "       [0.01024942, 0.75078545, 0.23896512],\n",
       "       [0.00998985, 0.78875438, 0.20125577],\n",
       "       [0.00226244, 0.80529023, 0.19244733],\n",
       "       [0.00276378, 0.91317182, 0.0840644 ],\n",
       "       [0.02708093, 0.92849077, 0.0444283 ],\n",
       "       [0.01992924, 0.93804488, 0.04202588],\n",
       "       [0.00873899, 0.89781907, 0.09344194],\n",
       "       [0.00464876, 0.8282742 , 0.16707704],\n",
       "       [0.01758242, 0.95700709, 0.02541049],\n",
       "       [0.12185081, 0.87509808, 0.0030511 ],\n",
       "       [0.0144845 , 0.92042754, 0.06508796],\n",
       "       [0.02001004, 0.93806817, 0.04192179],\n",
       "       [0.01711489, 0.92540309, 0.05748202],\n",
       "       [0.00849614, 0.93513901, 0.05636485],\n",
       "       [0.24355615, 0.75515201, 0.00129184],\n",
       "       [0.01917167, 0.93602145, 0.04480688],\n",
       "       [0.0000009 , 0.00391511, 0.99608399],\n",
       "       [0.00024314, 0.16250271, 0.83725414],\n",
       "       [0.00000248, 0.02559259, 0.97440493],\n",
       "       [0.00003128, 0.0816796 , 0.91828912],\n",
       "       [0.00000374, 0.01744695, 0.98254931],\n",
       "       [0.00000006, 0.00464343, 0.99535651],\n",
       "       [0.00578669, 0.51340727, 0.48080604],\n",
       "       [0.00000062, 0.02135875, 0.97864062],\n",
       "       [0.00000524, 0.05328474, 0.94671002],\n",
       "       [0.00000065, 0.00574967, 0.99424967],\n",
       "       [0.000302  , 0.21055263, 0.78914536],\n",
       "       [0.00007279, 0.13730751, 0.8626197 ],\n",
       "       [0.00002126, 0.06529715, 0.93468159],\n",
       "       [0.00022956, 0.14516128, 0.85460916],\n",
       "       [0.00006903, 0.04349228, 0.95643869],\n",
       "       [0.00005158, 0.05405426, 0.94589415],\n",
       "       [0.00005567, 0.1229304 , 0.87701392],\n",
       "       [0.00000008, 0.00356624, 0.99643367],\n",
       "       [0.        , 0.00100107, 0.99899892],\n",
       "       [0.00039037, 0.45178362, 0.54782601],\n",
       "       [0.0000056 , 0.02386557, 0.97612883],\n",
       "       [0.00061421, 0.19037146, 0.80901433],\n",
       "       [0.00000003, 0.00465871, 0.99534126],\n",
       "       [0.00058553, 0.39306306, 0.60635141],\n",
       "       [0.00001284, 0.03862669, 0.96136047],\n",
       "       [0.00000486, 0.05153045, 0.94846469],\n",
       "       [0.00107238, 0.45647594, 0.54245168],\n",
       "       [0.00102345, 0.38536012, 0.61361643],\n",
       "       [0.00001066, 0.03633929, 0.96365005],\n",
       "       [0.00001691, 0.1420745 , 0.85790859],\n",
       "       [0.00000106, 0.02921944, 0.9707795 ],\n",
       "       [0.0000007 , 0.01744977, 0.98254952],\n",
       "       [0.00000789, 0.02726308, 0.97272903],\n",
       "       [0.00052954, 0.47556317, 0.52390729],\n",
       "       [0.00006288, 0.18852658, 0.81141054],\n",
       "       [0.00000039, 0.01175875, 0.98824086],\n",
       "       [0.00001162, 0.01733402, 0.98265435],\n",
       "       [0.00006776, 0.11950872, 0.88042352],\n",
       "       [0.0016216 , 0.44036439, 0.55801401],\n",
       "       [0.00003965, 0.09354291, 0.90641744],\n",
       "       [0.0000063 , 0.02029973, 0.97969397],\n",
       "       [0.00009945, 0.12072613, 0.87917442],\n",
       "       [0.00024314, 0.16250271, 0.83725414],\n",
       "       [0.00000205, 0.01259405, 0.9874039 ],\n",
       "       [0.00000381, 0.01211188, 0.98788432],\n",
       "       [0.00005584, 0.0801491 , 0.91979506],\n",
       "       [0.00022707, 0.25188101, 0.74789192],\n",
       "       [0.00013834, 0.15716862, 0.84269304],\n",
       "       [0.00004565, 0.03844053, 0.96151382],\n",
       "       [0.00047631, 0.23484773, 0.76467596]])"
      ]
     },
     "execution_count": 47,
     "metadata": {},
     "output_type": "execute_result"
    }
   ],
   "execution_count": 47
  },
  {
   "cell_type": "code",
   "id": "8c97486f-6e32-4ea0-a5d4-da2f4a2538e5",
   "metadata": {
    "ExecuteTime": {
     "end_time": "2025-05-20T13:29:25.906873Z",
     "start_time": "2025-05-20T13:29:25.904031Z"
    }
   },
   "source": [
    "clf.score(X, y)"
   ],
   "outputs": [
    {
     "data": {
      "text/plain": [
       "0.9733333333333334"
      ]
     },
     "execution_count": 48,
     "metadata": {},
     "output_type": "execute_result"
    }
   ],
   "execution_count": 48
  },
  {
   "cell_type": "code",
   "id": "39cb6f2a-fb0c-4066-bae1-ba1d511df5a9",
   "metadata": {
    "ExecuteTime": {
     "end_time": "2025-05-20T13:29:25.989403Z",
     "start_time": "2025-05-20T13:29:25.986990Z"
    }
   },
   "source": [
    "y_pred_default = clf.predict(X)\n",
    "y_pred_default"
   ],
   "outputs": [
    {
     "data": {
      "text/plain": [
       "array([0, 0, 0, 0, 0, 0, 0, 0, 0, 0, 0, 0, 0, 0, 0, 0, 0, 0, 0, 0, 0, 0,\n",
       "       0, 0, 0, 0, 0, 0, 0, 0, 0, 0, 0, 0, 0, 0, 0, 0, 0, 0, 0, 0, 0, 0,\n",
       "       0, 0, 0, 0, 0, 0, 1, 1, 1, 1, 1, 1, 1, 1, 1, 1, 1, 1, 1, 1, 1, 1,\n",
       "       1, 1, 1, 1, 2, 1, 1, 1, 1, 1, 1, 2, 1, 1, 1, 1, 1, 2, 1, 1, 1, 1,\n",
       "       1, 1, 1, 1, 1, 1, 1, 1, 1, 1, 1, 1, 2, 2, 2, 2, 2, 2, 1, 2, 2, 2,\n",
       "       2, 2, 2, 2, 2, 2, 2, 2, 2, 2, 2, 2, 2, 2, 2, 2, 2, 2, 2, 2, 2, 2,\n",
       "       2, 2, 2, 2, 2, 2, 2, 2, 2, 2, 2, 2, 2, 2, 2, 2, 2, 2])"
      ]
     },
     "execution_count": 49,
     "metadata": {},
     "output_type": "execute_result"
    }
   ],
   "execution_count": 49
  },
  {
   "cell_type": "code",
   "id": "eeb07a16-5c63-4339-bc97-e9e9d224285d",
   "metadata": {
    "ExecuteTime": {
     "end_time": "2025-05-20T13:29:26.066410Z",
     "start_time": "2025-05-20T13:29:26.062969Z"
    }
   },
   "source": [
    "clf.score(X, y_pred_default)"
   ],
   "outputs": [
    {
     "data": {
      "text/plain": [
       "1.0"
      ]
     },
     "execution_count": 50,
     "metadata": {},
     "output_type": "execute_result"
    }
   ],
   "execution_count": 50
  },
  {
   "cell_type": "code",
   "id": "e04cbb97-90e1-49c0-aeac-20988e2344c5",
   "metadata": {
    "ExecuteTime": {
     "end_time": "2025-05-20T13:29:26.138323Z",
     "start_time": "2025-05-20T13:29:26.133631Z"
    }
   },
   "source": [
    "y_pred_tuned = (clf.predict_proba(X)[:,1] >= 0.3).astype(int)\n",
    "y_pred_tuned"
   ],
   "outputs": [
    {
     "data": {
      "text/plain": [
       "array([0, 0, 0, 0, 0, 0, 0, 0, 0, 0, 0, 0, 0, 0, 0, 0, 0, 0, 0, 0, 0, 0,\n",
       "       0, 0, 0, 0, 0, 0, 0, 0, 0, 0, 0, 0, 0, 0, 0, 0, 0, 0, 0, 0, 0, 0,\n",
       "       0, 0, 0, 0, 0, 0, 1, 1, 1, 1, 1, 1, 1, 1, 1, 1, 1, 1, 1, 1, 1, 1,\n",
       "       1, 1, 1, 1, 1, 1, 1, 1, 1, 1, 1, 1, 1, 1, 1, 1, 1, 1, 1, 1, 1, 1,\n",
       "       1, 1, 1, 1, 1, 1, 1, 1, 1, 1, 1, 1, 0, 0, 0, 0, 0, 0, 1, 0, 0, 0,\n",
       "       0, 0, 0, 0, 0, 0, 0, 0, 0, 1, 0, 0, 0, 1, 0, 0, 1, 1, 0, 0, 0, 0,\n",
       "       0, 1, 0, 0, 0, 0, 1, 0, 0, 0, 0, 0, 0, 0, 0, 0, 0, 0])"
      ]
     },
     "execution_count": 51,
     "metadata": {},
     "output_type": "execute_result"
    }
   ],
   "execution_count": 51
  },
  {
   "cell_type": "code",
   "id": "3e4b3ac8-147e-4d00-8c94-83afcb5f8786",
   "metadata": {
    "ExecuteTime": {
     "end_time": "2025-05-20T13:29:26.205935Z",
     "start_time": "2025-05-20T13:29:26.201306Z"
    }
   },
   "source": [
    "clf.score(X, y_pred_tuned)"
   ],
   "outputs": [
    {
     "data": {
      "text/plain": [
       "0.6533333333333333"
      ]
     },
     "execution_count": 52,
     "metadata": {},
     "output_type": "execute_result"
    }
   ],
   "execution_count": 52
  },
  {
   "cell_type": "code",
   "id": "3bc364c3-f855-45f2-9ed7-b8173baac8b1",
   "metadata": {
    "ExecuteTime": {
     "end_time": "2025-05-20T13:29:26.276789Z",
     "start_time": "2025-05-20T13:29:26.268973Z"
    }
   },
   "source": [
    "# Predict confidence scores for samples.\n",
    "# where > 0 means this class would be predicted.\n",
    "clf.decision_function(X)"
   ],
   "outputs": [
    {
     "data": {
      "text/plain": [
       "array([[  7.33470626,   3.36028842, -10.69499468],\n",
       "       [  6.93629815,   3.41357586, -10.34987401],\n",
       "       [  7.4660945 ,   3.26308638, -10.72918088],\n",
       "       [  6.90877759,   3.20013794, -10.10891552],\n",
       "       [  7.47382712,   3.27467337, -10.74850048],\n",
       "       [  6.62289578,   3.14186774,  -9.76476351],\n",
       "       [  7.34210807,   3.03039356, -10.37250162],\n",
       "       [  7.02894397,   3.31808061, -10.34702458],\n",
       "       [  7.05191689,   3.1779442 , -10.22986109],\n",
       "       [  6.88962472,   3.4550245 , -10.34464922],\n",
       "       [  7.14911036,   3.43602328, -10.58513364],\n",
       "       [  6.86230254,   3.19025774, -10.05256029],\n",
       "       [  7.08697168,   3.45429795, -10.54126963],\n",
       "       [  8.05391855,   3.24881424, -11.30273279],\n",
       "       [  8.02394062,   3.61618783, -11.64012845],\n",
       "       [  7.48195653,   3.18360267, -10.66555921],\n",
       "       [  7.62911428,   3.22483025, -10.85394453],\n",
       "       [  7.22648933,   3.26602521, -10.49251455],\n",
       "       [  6.50707865,   3.42882823,  -9.93590688],\n",
       "       [  7.26492749,   3.14906278, -10.41399027],\n",
       "       [  6.35600833,   3.49076383,  -9.84677215],\n",
       "       [  7.0600463 ,   3.08687351, -10.14691981],\n",
       "       [  8.64987201,   3.14347141, -11.79334342],\n",
       "       [  6.06206308,   3.07942479,  -9.14148787],\n",
       "       [  6.10763867,   3.12803586,  -9.23567453],\n",
       "       [  6.3907323 ,   3.42563572,  -9.81636803],\n",
       "       [  6.56095549,   3.10881357,  -9.66976906],\n",
       "       [  7.04069504,   3.39308891, -10.43378394],\n",
       "       [  7.1955854 ,   3.44590347, -10.64148887],\n",
       "       [  6.71143062,   3.20086449,  -9.91229512],\n",
       "       [  6.57230976,   3.28647955,  -9.85878931],\n",
       "       [  6.64268372,   3.34371867,  -9.98640239],\n",
       "       [  7.72889753,   3.2949085 , -11.02380603],\n",
       "       [  7.84152969,   3.34993535, -11.19146504],\n",
       "       [  6.78140779,   3.3607613 , -10.14216908],\n",
       "       [  7.59027933,   3.44445036, -11.03472969],\n",
       "       [  7.41643449,   3.59519352, -11.01162801],\n",
       "       [  7.62450064,   3.31539545, -10.9398961 ],\n",
       "       [  7.40013577,   3.16661089, -10.56674667],\n",
       "       [  6.98648737,   3.37162173, -10.3581091 ],\n",
       "       [  7.52050056,   3.23322472, -10.75372528],\n",
       "       [  6.57281242,   3.35040636,  -9.92321878],\n",
       "       [  7.59346429,   3.10246302, -10.69592732],\n",
       "       [  6.4411859 ,   2.88821322,  -9.32939912],\n",
       "       [  6.15049206,   2.97183706,  -9.12232912],\n",
       "       [  6.87053782,   3.26577154, -10.13630936],\n",
       "       [  7.12158979,   3.22258536, -10.34417515],\n",
       "       [  7.25699647,   3.18880463, -10.4458011 ],\n",
       "       [  7.19156696,   3.38248216, -10.57404912],\n",
       "       [  7.18383434,   3.37089517, -10.55472951],\n",
       "       [ -3.36186766,   2.65819227,   0.70367539],\n",
       "       [ -2.71223574,   2.28416361,   0.42807213],\n",
       "       [ -4.0274015 ,   2.50098062,   1.52642087],\n",
       "       [ -1.72589772,   2.38318851,  -0.6572908 ],\n",
       "       [ -3.39290401,   2.44525984,   0.94764417],\n",
       "       [ -2.58526274,   2.22619793,   0.35906481],\n",
       "       [ -3.18444106,   2.06280409,   1.12163697],\n",
       "       [  0.71103929,   2.45784188,  -3.16888118],\n",
       "       [ -3.12226249,   2.65525344,   0.46700906],\n",
       "       [ -1.06853318,   2.02074684,  -0.95221366],\n",
       "       [ -0.2211836 ,   2.59819749,  -2.37701389],\n",
       "       [ -1.93861739,   2.14282777,  -0.20421038],\n",
       "       [ -1.71019419,   2.96575766,  -1.25556347],\n",
       "       [ -3.26975105,   2.27254401,   0.99720704],\n",
       "       [ -0.18215025,   2.32724853,  -2.14509828],\n",
       "       [ -2.57649825,   2.59186473,  -0.01536649],\n",
       "       [ -2.56591147,   1.91998253,   0.64592894],\n",
       "       [ -1.39351431,   2.67756512,  -1.2840508 ],\n",
       "       [ -3.59396515,   2.49782073,   1.09614442],\n",
       "       [ -1.10703732,   2.5818488 ,  -1.47481149],\n",
       "       [ -3.5792674 ,   1.67144651,   1.90782089],\n",
       "       [ -1.49731601,   2.54406555,  -1.04674954],\n",
       "       [ -4.35264747,   2.37217752,   1.98046994],\n",
       "       [ -3.14998146,   2.49314435,   0.6568371 ],\n",
       "       [ -2.28268542,   2.61039308,  -0.32770767],\n",
       "       [ -2.63070591,   2.57039755,   0.06030836],\n",
       "       [ -3.91516613,   2.65866515,   1.25650098],\n",
       "       [ -4.50714104,   2.21670528,   2.29043576],\n",
       "       [ -2.83240213,   2.16622094,   0.66618119],\n",
       "       [  0.06160577,   2.7805417 ,  -2.84214748],\n",
       "       [ -0.90969035,   2.58112225,  -1.6714319 ],\n",
       "       [ -0.5499188 ,   2.69612608,  -2.14620728],\n",
       "       [ -1.10683892,   2.53051996,  -1.42368104],\n",
       "       [ -4.64327533,   2.01166183,   2.63161349],\n",
       "       [ -2.48099827,   1.81290029,   0.66809798],\n",
       "       [ -2.45729775,   1.91158806,   0.54570969],\n",
       "       [ -3.43937905,   2.43537964,   1.00399941],\n",
       "       [ -3.07176901,   2.72855495,   0.34321406],\n",
       "       [ -1.34325912,   2.19147146,  -0.84821234],\n",
       "       [ -1.5325692 ,   2.31904064,  -0.78647145],\n",
       "       [ -2.33390651,   2.2982674 ,   0.03563911],\n",
       "       [ -2.92153216,   2.2612107 ,   0.66032146],\n",
       "       [ -1.4550578 ,   2.54185327,  -1.08679546],\n",
       "       [  0.57191843,   2.54345694,  -3.11537537],\n",
       "       [ -1.88480652,   2.26695263,  -0.38214611],\n",
       "       [ -1.52905341,   2.31853515,  -0.78948174],\n",
       "       [ -1.7339346 ,   2.25634588,  -0.52241128],\n",
       "       [ -2.19777222,   2.50331085,  -0.30553863],\n",
       "       [  1.3692373 ,   2.50080887,  -3.87004617],\n",
       "       [ -1.57904424,   2.30916045,  -0.73011621],\n",
       "       [ -7.42860353,   0.94480707,   6.48379646],\n",
       "       [ -4.88301291,   1.62178998,   3.26122293],\n",
       "       [ -7.37382677,   1.86715128,   5.50667549],\n",
       "       [ -6.05152358,   1.81590777,   4.23561582],\n",
       "       [ -6.97574948,   1.47238199,   5.50336749],\n",
       "       [ -9.34699214,   1.98967247,   7.35731967],\n",
       "       [ -2.96847044,   1.51703797,   1.45143247],\n",
       "       [ -8.23697195,   2.20613455,   6.03083739],\n",
       "       [ -7.11111627,   2.11688672,   4.99422955],\n",
       "       [ -7.77227476,   1.3097147 ,   6.46256006],\n",
       "       [ -4.80510473,   1.74194493,   3.0631598 ],\n",
       "       [ -5.64086175,   1.90155544,   3.73930632],\n",
       "       [ -6.24023847,   1.78949044,   4.45074804],\n",
       "       [ -4.89054714,   1.55887416,   3.33167298],\n",
       "       [ -5.32743329,   1.11840002,   4.20903327],\n",
       "       [ -5.59040816,   1.36413294,   4.22627523],\n",
       "       [ -5.78821789,   1.9116567 ,   3.8765612 ],\n",
       "       [ -8.97590621,   1.67161827,   7.30428793],\n",
       "       [-10.74720351,   1.92076103,   8.82644248],\n",
       "       [ -4.76682508,   2.28703535,   2.47978973],\n",
       "       [ -6.80890966,   1.54887601,   5.26003364],\n",
       "       [ -4.30654313,   1.42985186,   2.87669127],\n",
       "       [ -9.72611496,   2.18088404,   7.54523092],\n",
       "       [ -4.48396973,   2.02524004,   2.45872969],\n",
       "       [ -6.41089834,   1.59824625,   4.81265209],\n",
       "       [ -7.14985869,   2.11859351,   5.03126518],\n",
       "       [ -4.09329424,   1.96036561,   2.13292863],\n",
       "       [ -4.10906375,   1.82193599,   2.28712776],\n",
       "       [ -6.51529522,   1.6187332 ,   4.89656202],\n",
       "       [ -6.62364411,   2.41274905,   4.21089505],\n",
       "       [ -7.98120048,   2.23896766,   5.74223283],\n",
       "       [ -8.08972167,   2.02944881,   6.06027287],\n",
       "       [ -6.62351215,   1.52447   ,   5.09904215],\n",
       "       [ -4.56576394,   2.23447446,   2.33128947],\n",
       "       [ -5.82373546,   2.18210016,   3.6416353 ],\n",
       "       [ -8.34810947,   1.95839032,   6.38971915],\n",
       "       [ -6.21750384,   1.08995886,   5.12754499],\n",
       "       [ -5.64909703,   1.82604164,   3.82305539],\n",
       "       [ -3.81505252,   1.7891355 ,   2.02591702],\n",
       "       [ -5.93447619,   1.83169825,   4.10277794],\n",
       "       [ -6.67732302,   1.40034514,   5.27697789],\n",
       "       [ -5.39624617,   1.70539372,   3.69085244],\n",
       "       [ -4.88301291,   1.62178998,   3.26122293],\n",
       "       [ -7.26956231,   1.45385364,   5.81570867],\n",
       "       [ -6.84376605,   1.22119343,   5.62257262],\n",
       "       [ -5.65955185,   1.60964479,   4.04990706],\n",
       "       [ -5.0370698 ,   1.97438407,   3.06268573],\n",
       "       [ -5.24998787,   1.78535217,   3.4646357 ],\n",
       "       [ -5.56372107,   1.1721622 ,   4.39155887],\n",
       "       [ -4.5272598 ,   1.6733725 ,   2.8538873 ]])"
      ]
     },
     "execution_count": 53,
     "metadata": {},
     "output_type": "execute_result"
    }
   ],
   "execution_count": 53
  },
  {
   "cell_type": "code",
   "id": "81125653-ff56-4622-aa1f-dda9e6e32369",
   "metadata": {
    "ExecuteTime": {
     "end_time": "2025-05-20T13:29:26.373638Z",
     "start_time": "2025-05-20T13:29:26.371945Z"
    }
   },
   "source": [
    "# clf?"
   ],
   "outputs": [],
   "execution_count": 54
  },
  {
   "cell_type": "code",
   "id": "d175845b-bab4-4be1-9027-0c0ba576ea6c",
   "metadata": {
    "ExecuteTime": {
     "end_time": "2025-05-20T13:29:26.452823Z",
     "start_time": "2025-05-20T13:29:26.450316Z"
    }
   },
   "source": [
    "clf.get_params([X])"
   ],
   "outputs": [
    {
     "data": {
      "text/plain": [
       "{'C': 1.0,\n",
       " 'class_weight': None,\n",
       " 'dual': False,\n",
       " 'fit_intercept': True,\n",
       " 'intercept_scaling': 1,\n",
       " 'l1_ratio': None,\n",
       " 'max_iter': 400,\n",
       " 'multi_class': 'auto',\n",
       " 'n_jobs': None,\n",
       " 'penalty': 'l2',\n",
       " 'random_state': None,\n",
       " 'solver': 'lbfgs',\n",
       " 'tol': 0.0001,\n",
       " 'verbose': 0,\n",
       " 'warm_start': False}"
      ]
     },
     "execution_count": 55,
     "metadata": {},
     "output_type": "execute_result"
    }
   ],
   "execution_count": 55
  },
  {
   "cell_type": "code",
   "id": "60f537c2-1b35-4772-a035-f20f5e630c28",
   "metadata": {
    "ExecuteTime": {
     "end_time": "2025-05-20T13:29:26.523888Z",
     "start_time": "2025-05-20T13:29:26.521348Z"
    }
   },
   "source": [
    "clf.n_iter_"
   ],
   "outputs": [
    {
     "data": {
      "text/plain": [
       "array([109], dtype=int32)"
      ]
     },
     "execution_count": 56,
     "metadata": {},
     "output_type": "execute_result"
    }
   ],
   "execution_count": 56
  },
  {
   "cell_type": "code",
   "id": "fa261307-d534-4457-8cbe-7ef69c118840",
   "metadata": {
    "ExecuteTime": {
     "end_time": "2025-05-20T13:29:26.579142Z",
     "start_time": "2025-05-20T13:29:26.577523Z"
    }
   },
   "source": [
    "# clf.predict_log_proba(X)"
   ],
   "outputs": [],
   "execution_count": 57
  },
  {
   "cell_type": "code",
   "id": "cddbe0c3-7931-4f26-880f-a72bafe5b276",
   "metadata": {
    "ExecuteTime": {
     "end_time": "2025-05-20T13:29:26.643649Z",
     "start_time": "2025-05-20T13:29:26.639742Z"
    }
   },
   "source": [
    "clf.predict_proba?"
   ],
   "outputs": [],
   "execution_count": 58
  },
  {
   "cell_type": "code",
   "id": "d93f73c4-38e0-4312-883d-355324e11c84",
   "metadata": {
    "ExecuteTime": {
     "end_time": "2025-05-20T13:29:26.700346Z",
     "start_time": "2025-05-20T13:29:26.696316Z"
    }
   },
   "source": [
    "# len(clf.predict_proba(X))\n",
    "clf.predict_proba(X)"
   ],
   "outputs": [
    {
     "data": {
      "text/plain": [
       "array([[0.98155631, 0.01844368, 0.00000001],\n",
       "       [0.97132739, 0.02867258, 0.00000003],\n",
       "       [0.98526968, 0.01473031, 0.00000001],\n",
       "       [0.97607553, 0.02392443, 0.00000004],\n",
       "       [0.98521363, 0.01478635, 0.00000001],\n",
       "       [0.97014304, 0.02985689, 0.00000007],\n",
       "       [0.98676691, 0.01323307, 0.00000002],\n",
       "       [0.97612741, 0.02387256, 0.00000003],\n",
       "       [0.97964714, 0.02035283, 0.00000003],\n",
       "       [0.96876852, 0.03123145, 0.00000003],\n",
       "       [0.97617918, 0.0238208 , 0.00000002],\n",
       "       [0.9752059 , 0.02479405, 0.00000004],\n",
       "       [0.97423594, 0.02576404, 0.00000002],\n",
       "       [0.99187865, 0.00812135, 0.        ],\n",
       "       [0.9879641 , 0.0120359 , 0.        ],\n",
       "       [0.98659131, 0.01340868, 0.00000001],\n",
       "       [0.98792278, 0.01207721, 0.00000001],\n",
       "       [0.98130199, 0.01869799, 0.00000002],\n",
       "       [0.95598656, 0.04401337, 0.00000007],\n",
       "       [0.98394996, 0.01605002, 0.00000002],\n",
       "       [0.94610128, 0.05389863, 0.00000009],\n",
       "       [0.98153374, 0.01846623, 0.00000003],\n",
       "       [0.99595572, 0.00404427, 0.        ],\n",
       "       [0.95178337, 0.0482164 , 0.00000024],\n",
       "       [0.9516439 , 0.04835589, 0.00000021],\n",
       "       [0.95097208, 0.04902783, 0.00000009],\n",
       "       [0.96929487, 0.03070504, 0.00000009],\n",
       "       [0.9746081 , 0.02539188, 0.00000003],\n",
       "       [0.97701547, 0.02298451, 0.00000002],\n",
       "       [0.97098686, 0.02901308, 0.00000006],\n",
       "       [0.96393942, 0.03606051, 0.00000007],\n",
       "       [0.96439323, 0.03560671, 0.00000006],\n",
       "       [0.98827211, 0.01172788, 0.00000001],\n",
       "       [0.98892134, 0.01107866, 0.00000001],\n",
       "       [0.96834355, 0.0316564 , 0.00000004],\n",
       "       [0.98441638, 0.01558361, 0.00000001],\n",
       "       [0.97856874, 0.02143125, 0.00000001],\n",
       "       [0.9867328 , 0.01326719, 0.00000001],\n",
       "       [0.98570608, 0.01429391, 0.00000002],\n",
       "       [0.97378515, 0.02621482, 0.00000003],\n",
       "       [0.98644397, 0.01355602, 0.00000001],\n",
       "       [0.96166874, 0.03833119, 0.00000007],\n",
       "       [0.98891483, 0.01108516, 0.00000001],\n",
       "       [0.97215787, 0.027842  , 0.00000014],\n",
       "       [0.96002286, 0.03997691, 0.00000022],\n",
       "       [0.97352609, 0.02647387, 0.00000004],\n",
       "       [0.9801403 , 0.01985967, 0.00000003],\n",
       "       [0.98317946, 0.01682052, 0.00000002],\n",
       "       [0.97831231, 0.02168768, 0.00000002],\n",
       "       [0.97839393, 0.02160605, 0.00000002],\n",
       "       [0.00212359, 0.87407819, 0.12379822],\n",
       "       [0.00581427, 0.85981231, 0.13437342],\n",
       "       [0.00105987, 0.72525793, 0.27368221],\n",
       "       [0.01543153, 0.93964232, 0.04492615],\n",
       "       [0.00237587, 0.81527699, 0.18234714],\n",
       "       [0.00699746, 0.86006552, 0.13293702],\n",
       "       [0.00377087, 0.71662283, 0.2796063 ],\n",
       "       [0.1479972 , 0.8489463 , 0.00305651],\n",
       "       [0.00277652, 0.89669226, 0.10053122],\n",
       "       [0.04152028, 0.91183771, 0.04664201],\n",
       "       [0.05592129, 0.93760263, 0.00647608],\n",
       "       [0.0151753 , 0.89884805, 0.08597666],\n",
       "       [0.00909833, 0.97656642, 0.01433525],\n",
       "       [0.00305281, 0.77926874, 0.21767846],\n",
       "       [0.07441596, 0.91513279, 0.01045126],\n",
       "       [0.00527489, 0.92641289, 0.06831223],\n",
       "       [0.00872745, 0.77461592, 0.21665663],\n",
       "       [0.01646473, 0.96516591, 0.01836936],\n",
       "       [0.00181135, 0.80099624, 0.19719241],\n",
       "       [0.02398511, 0.95941064, 0.01660425],\n",
       "       [0.00230811, 0.44016173, 0.55753016],\n",
       "       [0.01681404, 0.95680135, 0.02638461],\n",
       "       [0.00071596, 0.59626649, 0.40301755],\n",
       "       [0.00304552, 0.85988459, 0.13706989],\n",
       "       [0.00707077, 0.94298297, 0.04994625],\n",
       "       [0.00507051, 0.92015665, 0.07477284],\n",
       "       [0.00111942, 0.80162872, 0.19725186],\n",
       "       [0.00057847, 0.48129715, 0.51812438],\n",
       "       [0.00548614, 0.81309504, 0.18141882],\n",
       "       [0.0616561 , 0.93496409, 0.00337981],\n",
       "       [0.02917199, 0.95720898, 0.01361902],\n",
       "       [0.03718691, 0.95527727, 0.00753582],\n",
       "       [0.02517635, 0.95648404, 0.01833961],\n",
       "       [0.00045021, 0.34963497, 0.64991483],\n",
       "       [0.01024942, 0.75078545, 0.23896512],\n",
       "       [0.00998985, 0.78875438, 0.20125577],\n",
       "       [0.00226244, 0.80529023, 0.19244733],\n",
       "       [0.00276378, 0.91317182, 0.0840644 ],\n",
       "       [0.02708093, 0.92849077, 0.0444283 ],\n",
       "       [0.01992924, 0.93804488, 0.04202588],\n",
       "       [0.00873899, 0.89781907, 0.09344194],\n",
       "       [0.00464876, 0.8282742 , 0.16707704],\n",
       "       [0.01758242, 0.95700709, 0.02541049],\n",
       "       [0.12185081, 0.87509808, 0.0030511 ],\n",
       "       [0.0144845 , 0.92042754, 0.06508796],\n",
       "       [0.02001004, 0.93806817, 0.04192179],\n",
       "       [0.01711489, 0.92540309, 0.05748202],\n",
       "       [0.00849614, 0.93513901, 0.05636485],\n",
       "       [0.24355615, 0.75515201, 0.00129184],\n",
       "       [0.01917167, 0.93602145, 0.04480688],\n",
       "       [0.0000009 , 0.00391511, 0.99608399],\n",
       "       [0.00024314, 0.16250271, 0.83725414],\n",
       "       [0.00000248, 0.02559259, 0.97440493],\n",
       "       [0.00003128, 0.0816796 , 0.91828912],\n",
       "       [0.00000374, 0.01744695, 0.98254931],\n",
       "       [0.00000006, 0.00464343, 0.99535651],\n",
       "       [0.00578669, 0.51340727, 0.48080604],\n",
       "       [0.00000062, 0.02135875, 0.97864062],\n",
       "       [0.00000524, 0.05328474, 0.94671002],\n",
       "       [0.00000065, 0.00574967, 0.99424967],\n",
       "       [0.000302  , 0.21055263, 0.78914536],\n",
       "       [0.00007279, 0.13730751, 0.8626197 ],\n",
       "       [0.00002126, 0.06529715, 0.93468159],\n",
       "       [0.00022956, 0.14516128, 0.85460916],\n",
       "       [0.00006903, 0.04349228, 0.95643869],\n",
       "       [0.00005158, 0.05405426, 0.94589415],\n",
       "       [0.00005567, 0.1229304 , 0.87701392],\n",
       "       [0.00000008, 0.00356624, 0.99643367],\n",
       "       [0.        , 0.00100107, 0.99899892],\n",
       "       [0.00039037, 0.45178362, 0.54782601],\n",
       "       [0.0000056 , 0.02386557, 0.97612883],\n",
       "       [0.00061421, 0.19037146, 0.80901433],\n",
       "       [0.00000003, 0.00465871, 0.99534126],\n",
       "       [0.00058553, 0.39306306, 0.60635141],\n",
       "       [0.00001284, 0.03862669, 0.96136047],\n",
       "       [0.00000486, 0.05153045, 0.94846469],\n",
       "       [0.00107238, 0.45647594, 0.54245168],\n",
       "       [0.00102345, 0.38536012, 0.61361643],\n",
       "       [0.00001066, 0.03633929, 0.96365005],\n",
       "       [0.00001691, 0.1420745 , 0.85790859],\n",
       "       [0.00000106, 0.02921944, 0.9707795 ],\n",
       "       [0.0000007 , 0.01744977, 0.98254952],\n",
       "       [0.00000789, 0.02726308, 0.97272903],\n",
       "       [0.00052954, 0.47556317, 0.52390729],\n",
       "       [0.00006288, 0.18852658, 0.81141054],\n",
       "       [0.00000039, 0.01175875, 0.98824086],\n",
       "       [0.00001162, 0.01733402, 0.98265435],\n",
       "       [0.00006776, 0.11950872, 0.88042352],\n",
       "       [0.0016216 , 0.44036439, 0.55801401],\n",
       "       [0.00003965, 0.09354291, 0.90641744],\n",
       "       [0.0000063 , 0.02029973, 0.97969397],\n",
       "       [0.00009945, 0.12072613, 0.87917442],\n",
       "       [0.00024314, 0.16250271, 0.83725414],\n",
       "       [0.00000205, 0.01259405, 0.9874039 ],\n",
       "       [0.00000381, 0.01211188, 0.98788432],\n",
       "       [0.00005584, 0.0801491 , 0.91979506],\n",
       "       [0.00022707, 0.25188101, 0.74789192],\n",
       "       [0.00013834, 0.15716862, 0.84269304],\n",
       "       [0.00004565, 0.03844053, 0.96151382],\n",
       "       [0.00047631, 0.23484773, 0.76467596]])"
      ]
     },
     "execution_count": 59,
     "metadata": {},
     "output_type": "execute_result"
    }
   ],
   "execution_count": 59
  },
  {
   "cell_type": "code",
   "id": "d31ab561-95f9-4c45-98a1-3a14ab370bfd",
   "metadata": {
    "ExecuteTime": {
     "end_time": "2025-05-20T13:29:26.797940Z",
     "start_time": "2025-05-20T13:29:26.795066Z"
    }
   },
   "source": [
    "clf.predict_proba(X)[:,1]"
   ],
   "outputs": [
    {
     "data": {
      "text/plain": [
       "array([0.01844368, 0.02867258, 0.01473031, 0.02392443, 0.01478635,\n",
       "       0.02985689, 0.01323307, 0.02387256, 0.02035283, 0.03123145,\n",
       "       0.0238208 , 0.02479405, 0.02576404, 0.00812135, 0.0120359 ,\n",
       "       0.01340868, 0.01207721, 0.01869799, 0.04401337, 0.01605002,\n",
       "       0.05389863, 0.01846623, 0.00404427, 0.0482164 , 0.04835589,\n",
       "       0.04902783, 0.03070504, 0.02539188, 0.02298451, 0.02901308,\n",
       "       0.03606051, 0.03560671, 0.01172788, 0.01107866, 0.0316564 ,\n",
       "       0.01558361, 0.02143125, 0.01326719, 0.01429391, 0.02621482,\n",
       "       0.01355602, 0.03833119, 0.01108516, 0.027842  , 0.03997691,\n",
       "       0.02647387, 0.01985967, 0.01682052, 0.02168768, 0.02160605,\n",
       "       0.87407819, 0.85981231, 0.72525793, 0.93964232, 0.81527699,\n",
       "       0.86006552, 0.71662283, 0.8489463 , 0.89669226, 0.91183771,\n",
       "       0.93760263, 0.89884805, 0.97656642, 0.77926874, 0.91513279,\n",
       "       0.92641289, 0.77461592, 0.96516591, 0.80099624, 0.95941064,\n",
       "       0.44016173, 0.95680135, 0.59626649, 0.85988459, 0.94298297,\n",
       "       0.92015665, 0.80162872, 0.48129715, 0.81309504, 0.93496409,\n",
       "       0.95720898, 0.95527727, 0.95648404, 0.34963497, 0.75078545,\n",
       "       0.78875438, 0.80529023, 0.91317182, 0.92849077, 0.93804488,\n",
       "       0.89781907, 0.8282742 , 0.95700709, 0.87509808, 0.92042754,\n",
       "       0.93806817, 0.92540309, 0.93513901, 0.75515201, 0.93602145,\n",
       "       0.00391511, 0.16250271, 0.02559259, 0.0816796 , 0.01744695,\n",
       "       0.00464343, 0.51340727, 0.02135875, 0.05328474, 0.00574967,\n",
       "       0.21055263, 0.13730751, 0.06529715, 0.14516128, 0.04349228,\n",
       "       0.05405426, 0.1229304 , 0.00356624, 0.00100107, 0.45178362,\n",
       "       0.02386557, 0.19037146, 0.00465871, 0.39306306, 0.03862669,\n",
       "       0.05153045, 0.45647594, 0.38536012, 0.03633929, 0.1420745 ,\n",
       "       0.02921944, 0.01744977, 0.02726308, 0.47556317, 0.18852658,\n",
       "       0.01175875, 0.01733402, 0.11950872, 0.44036439, 0.09354291,\n",
       "       0.02029973, 0.12072613, 0.16250271, 0.01259405, 0.01211188,\n",
       "       0.0801491 , 0.25188101, 0.15716862, 0.03844053, 0.23484773])"
      ]
     },
     "execution_count": 60,
     "metadata": {},
     "output_type": "execute_result"
    }
   ],
   "execution_count": 60
  },
  {
   "cell_type": "code",
   "id": "0c7bfc78-50e6-4ddc-bc59-feb96d8c6361",
   "metadata": {
    "ExecuteTime": {
     "end_time": "2025-05-20T13:29:26.879739Z",
     "start_time": "2025-05-20T13:29:26.877023Z"
    }
   },
   "source": [
    "y_pred_tuned = (clf.predict_proba(X)[:,1] >= 0.4).astype(int)\n",
    "y_pred_tuned"
   ],
   "outputs": [
    {
     "data": {
      "text/plain": [
       "array([0, 0, 0, 0, 0, 0, 0, 0, 0, 0, 0, 0, 0, 0, 0, 0, 0, 0, 0, 0, 0, 0,\n",
       "       0, 0, 0, 0, 0, 0, 0, 0, 0, 0, 0, 0, 0, 0, 0, 0, 0, 0, 0, 0, 0, 0,\n",
       "       0, 0, 0, 0, 0, 0, 1, 1, 1, 1, 1, 1, 1, 1, 1, 1, 1, 1, 1, 1, 1, 1,\n",
       "       1, 1, 1, 1, 1, 1, 1, 1, 1, 1, 1, 1, 1, 1, 1, 1, 1, 0, 1, 1, 1, 1,\n",
       "       1, 1, 1, 1, 1, 1, 1, 1, 1, 1, 1, 1, 0, 0, 0, 0, 0, 0, 1, 0, 0, 0,\n",
       "       0, 0, 0, 0, 0, 0, 0, 0, 0, 1, 0, 0, 0, 0, 0, 0, 1, 0, 0, 0, 0, 0,\n",
       "       0, 1, 0, 0, 0, 0, 1, 0, 0, 0, 0, 0, 0, 0, 0, 0, 0, 0])"
      ]
     },
     "execution_count": 61,
     "metadata": {},
     "output_type": "execute_result"
    }
   ],
   "execution_count": 61
  },
  {
   "cell_type": "code",
   "id": "d9cd2357-176a-4080-8600-fb853fe5ad13",
   "metadata": {
    "ExecuteTime": {
     "end_time": "2025-05-20T13:29:26.943469Z",
     "start_time": "2025-05-20T13:29:26.940526Z"
    }
   },
   "source": [
    "y_pred_tuned = (clf.predict_proba(X)[:,1] >= 0.4).astype(bool)\n",
    "y_pred_tuned"
   ],
   "outputs": [
    {
     "data": {
      "text/plain": [
       "array([False, False, False, False, False, False, False, False, False,\n",
       "       False, False, False, False, False, False, False, False, False,\n",
       "       False, False, False, False, False, False, False, False, False,\n",
       "       False, False, False, False, False, False, False, False, False,\n",
       "       False, False, False, False, False, False, False, False, False,\n",
       "       False, False, False, False, False,  True,  True,  True,  True,\n",
       "        True,  True,  True,  True,  True,  True,  True,  True,  True,\n",
       "        True,  True,  True,  True,  True,  True,  True,  True,  True,\n",
       "        True,  True,  True,  True,  True,  True,  True,  True,  True,\n",
       "        True,  True, False,  True,  True,  True,  True,  True,  True,\n",
       "        True,  True,  True,  True,  True,  True,  True,  True,  True,\n",
       "        True, False, False, False, False, False, False,  True, False,\n",
       "       False, False, False, False, False, False, False, False, False,\n",
       "       False, False,  True, False, False, False, False, False, False,\n",
       "        True, False, False, False, False, False, False,  True, False,\n",
       "       False, False, False,  True, False, False, False, False, False,\n",
       "       False, False, False, False, False, False])"
      ]
     },
     "execution_count": 62,
     "metadata": {},
     "output_type": "execute_result"
    }
   ],
   "execution_count": 62
  },
  {
   "cell_type": "code",
   "id": "906060fd-91da-4e82-887e-4a6481b241ab",
   "metadata": {
    "ExecuteTime": {
     "end_time": "2025-05-20T13:29:26.997024Z",
     "start_time": "2025-05-20T13:29:26.995023Z"
    }
   },
   "source": [
    "preds = clf.predict_proba(X)"
   ],
   "outputs": [],
   "execution_count": 63
  },
  {
   "cell_type": "code",
   "id": "86dcd250-d815-4472-9abe-456621511245",
   "metadata": {
    "ExecuteTime": {
     "end_time": "2025-05-20T13:29:27.055313Z",
     "start_time": "2025-05-20T13:29:27.051674Z"
    }
   },
   "source": [
    "preds"
   ],
   "outputs": [
    {
     "data": {
      "text/plain": [
       "array([[0.98155631, 0.01844368, 0.00000001],\n",
       "       [0.97132739, 0.02867258, 0.00000003],\n",
       "       [0.98526968, 0.01473031, 0.00000001],\n",
       "       [0.97607553, 0.02392443, 0.00000004],\n",
       "       [0.98521363, 0.01478635, 0.00000001],\n",
       "       [0.97014304, 0.02985689, 0.00000007],\n",
       "       [0.98676691, 0.01323307, 0.00000002],\n",
       "       [0.97612741, 0.02387256, 0.00000003],\n",
       "       [0.97964714, 0.02035283, 0.00000003],\n",
       "       [0.96876852, 0.03123145, 0.00000003],\n",
       "       [0.97617918, 0.0238208 , 0.00000002],\n",
       "       [0.9752059 , 0.02479405, 0.00000004],\n",
       "       [0.97423594, 0.02576404, 0.00000002],\n",
       "       [0.99187865, 0.00812135, 0.        ],\n",
       "       [0.9879641 , 0.0120359 , 0.        ],\n",
       "       [0.98659131, 0.01340868, 0.00000001],\n",
       "       [0.98792278, 0.01207721, 0.00000001],\n",
       "       [0.98130199, 0.01869799, 0.00000002],\n",
       "       [0.95598656, 0.04401337, 0.00000007],\n",
       "       [0.98394996, 0.01605002, 0.00000002],\n",
       "       [0.94610128, 0.05389863, 0.00000009],\n",
       "       [0.98153374, 0.01846623, 0.00000003],\n",
       "       [0.99595572, 0.00404427, 0.        ],\n",
       "       [0.95178337, 0.0482164 , 0.00000024],\n",
       "       [0.9516439 , 0.04835589, 0.00000021],\n",
       "       [0.95097208, 0.04902783, 0.00000009],\n",
       "       [0.96929487, 0.03070504, 0.00000009],\n",
       "       [0.9746081 , 0.02539188, 0.00000003],\n",
       "       [0.97701547, 0.02298451, 0.00000002],\n",
       "       [0.97098686, 0.02901308, 0.00000006],\n",
       "       [0.96393942, 0.03606051, 0.00000007],\n",
       "       [0.96439323, 0.03560671, 0.00000006],\n",
       "       [0.98827211, 0.01172788, 0.00000001],\n",
       "       [0.98892134, 0.01107866, 0.00000001],\n",
       "       [0.96834355, 0.0316564 , 0.00000004],\n",
       "       [0.98441638, 0.01558361, 0.00000001],\n",
       "       [0.97856874, 0.02143125, 0.00000001],\n",
       "       [0.9867328 , 0.01326719, 0.00000001],\n",
       "       [0.98570608, 0.01429391, 0.00000002],\n",
       "       [0.97378515, 0.02621482, 0.00000003],\n",
       "       [0.98644397, 0.01355602, 0.00000001],\n",
       "       [0.96166874, 0.03833119, 0.00000007],\n",
       "       [0.98891483, 0.01108516, 0.00000001],\n",
       "       [0.97215787, 0.027842  , 0.00000014],\n",
       "       [0.96002286, 0.03997691, 0.00000022],\n",
       "       [0.97352609, 0.02647387, 0.00000004],\n",
       "       [0.9801403 , 0.01985967, 0.00000003],\n",
       "       [0.98317946, 0.01682052, 0.00000002],\n",
       "       [0.97831231, 0.02168768, 0.00000002],\n",
       "       [0.97839393, 0.02160605, 0.00000002],\n",
       "       [0.00212359, 0.87407819, 0.12379822],\n",
       "       [0.00581427, 0.85981231, 0.13437342],\n",
       "       [0.00105987, 0.72525793, 0.27368221],\n",
       "       [0.01543153, 0.93964232, 0.04492615],\n",
       "       [0.00237587, 0.81527699, 0.18234714],\n",
       "       [0.00699746, 0.86006552, 0.13293702],\n",
       "       [0.00377087, 0.71662283, 0.2796063 ],\n",
       "       [0.1479972 , 0.8489463 , 0.00305651],\n",
       "       [0.00277652, 0.89669226, 0.10053122],\n",
       "       [0.04152028, 0.91183771, 0.04664201],\n",
       "       [0.05592129, 0.93760263, 0.00647608],\n",
       "       [0.0151753 , 0.89884805, 0.08597666],\n",
       "       [0.00909833, 0.97656642, 0.01433525],\n",
       "       [0.00305281, 0.77926874, 0.21767846],\n",
       "       [0.07441596, 0.91513279, 0.01045126],\n",
       "       [0.00527489, 0.92641289, 0.06831223],\n",
       "       [0.00872745, 0.77461592, 0.21665663],\n",
       "       [0.01646473, 0.96516591, 0.01836936],\n",
       "       [0.00181135, 0.80099624, 0.19719241],\n",
       "       [0.02398511, 0.95941064, 0.01660425],\n",
       "       [0.00230811, 0.44016173, 0.55753016],\n",
       "       [0.01681404, 0.95680135, 0.02638461],\n",
       "       [0.00071596, 0.59626649, 0.40301755],\n",
       "       [0.00304552, 0.85988459, 0.13706989],\n",
       "       [0.00707077, 0.94298297, 0.04994625],\n",
       "       [0.00507051, 0.92015665, 0.07477284],\n",
       "       [0.00111942, 0.80162872, 0.19725186],\n",
       "       [0.00057847, 0.48129715, 0.51812438],\n",
       "       [0.00548614, 0.81309504, 0.18141882],\n",
       "       [0.0616561 , 0.93496409, 0.00337981],\n",
       "       [0.02917199, 0.95720898, 0.01361902],\n",
       "       [0.03718691, 0.95527727, 0.00753582],\n",
       "       [0.02517635, 0.95648404, 0.01833961],\n",
       "       [0.00045021, 0.34963497, 0.64991483],\n",
       "       [0.01024942, 0.75078545, 0.23896512],\n",
       "       [0.00998985, 0.78875438, 0.20125577],\n",
       "       [0.00226244, 0.80529023, 0.19244733],\n",
       "       [0.00276378, 0.91317182, 0.0840644 ],\n",
       "       [0.02708093, 0.92849077, 0.0444283 ],\n",
       "       [0.01992924, 0.93804488, 0.04202588],\n",
       "       [0.00873899, 0.89781907, 0.09344194],\n",
       "       [0.00464876, 0.8282742 , 0.16707704],\n",
       "       [0.01758242, 0.95700709, 0.02541049],\n",
       "       [0.12185081, 0.87509808, 0.0030511 ],\n",
       "       [0.0144845 , 0.92042754, 0.06508796],\n",
       "       [0.02001004, 0.93806817, 0.04192179],\n",
       "       [0.01711489, 0.92540309, 0.05748202],\n",
       "       [0.00849614, 0.93513901, 0.05636485],\n",
       "       [0.24355615, 0.75515201, 0.00129184],\n",
       "       [0.01917167, 0.93602145, 0.04480688],\n",
       "       [0.0000009 , 0.00391511, 0.99608399],\n",
       "       [0.00024314, 0.16250271, 0.83725414],\n",
       "       [0.00000248, 0.02559259, 0.97440493],\n",
       "       [0.00003128, 0.0816796 , 0.91828912],\n",
       "       [0.00000374, 0.01744695, 0.98254931],\n",
       "       [0.00000006, 0.00464343, 0.99535651],\n",
       "       [0.00578669, 0.51340727, 0.48080604],\n",
       "       [0.00000062, 0.02135875, 0.97864062],\n",
       "       [0.00000524, 0.05328474, 0.94671002],\n",
       "       [0.00000065, 0.00574967, 0.99424967],\n",
       "       [0.000302  , 0.21055263, 0.78914536],\n",
       "       [0.00007279, 0.13730751, 0.8626197 ],\n",
       "       [0.00002126, 0.06529715, 0.93468159],\n",
       "       [0.00022956, 0.14516128, 0.85460916],\n",
       "       [0.00006903, 0.04349228, 0.95643869],\n",
       "       [0.00005158, 0.05405426, 0.94589415],\n",
       "       [0.00005567, 0.1229304 , 0.87701392],\n",
       "       [0.00000008, 0.00356624, 0.99643367],\n",
       "       [0.        , 0.00100107, 0.99899892],\n",
       "       [0.00039037, 0.45178362, 0.54782601],\n",
       "       [0.0000056 , 0.02386557, 0.97612883],\n",
       "       [0.00061421, 0.19037146, 0.80901433],\n",
       "       [0.00000003, 0.00465871, 0.99534126],\n",
       "       [0.00058553, 0.39306306, 0.60635141],\n",
       "       [0.00001284, 0.03862669, 0.96136047],\n",
       "       [0.00000486, 0.05153045, 0.94846469],\n",
       "       [0.00107238, 0.45647594, 0.54245168],\n",
       "       [0.00102345, 0.38536012, 0.61361643],\n",
       "       [0.00001066, 0.03633929, 0.96365005],\n",
       "       [0.00001691, 0.1420745 , 0.85790859],\n",
       "       [0.00000106, 0.02921944, 0.9707795 ],\n",
       "       [0.0000007 , 0.01744977, 0.98254952],\n",
       "       [0.00000789, 0.02726308, 0.97272903],\n",
       "       [0.00052954, 0.47556317, 0.52390729],\n",
       "       [0.00006288, 0.18852658, 0.81141054],\n",
       "       [0.00000039, 0.01175875, 0.98824086],\n",
       "       [0.00001162, 0.01733402, 0.98265435],\n",
       "       [0.00006776, 0.11950872, 0.88042352],\n",
       "       [0.0016216 , 0.44036439, 0.55801401],\n",
       "       [0.00003965, 0.09354291, 0.90641744],\n",
       "       [0.0000063 , 0.02029973, 0.97969397],\n",
       "       [0.00009945, 0.12072613, 0.87917442],\n",
       "       [0.00024314, 0.16250271, 0.83725414],\n",
       "       [0.00000205, 0.01259405, 0.9874039 ],\n",
       "       [0.00000381, 0.01211188, 0.98788432],\n",
       "       [0.00005584, 0.0801491 , 0.91979506],\n",
       "       [0.00022707, 0.25188101, 0.74789192],\n",
       "       [0.00013834, 0.15716862, 0.84269304],\n",
       "       [0.00004565, 0.03844053, 0.96151382],\n",
       "       [0.00047631, 0.23484773, 0.76467596]])"
      ]
     },
     "execution_count": 64,
     "metadata": {},
     "output_type": "execute_result"
    }
   ],
   "execution_count": 64
  },
  {
   "cell_type": "markdown",
   "id": "dbccef1c-86d8-48b7-bc76-5787713e42a0",
   "metadata": {},
   "source": [
    "https://scikit-learn.org/stable/modules/generated/sklearn.model_selection.GridSearchCV.html?highlight=gridsearch#sklearn.model_selection.GridSearchCV"
   ]
  },
  {
   "cell_type": "code",
   "id": "a85edca1-b616-4f7f-8038-4b1060ad3536",
   "metadata": {
    "ExecuteTime": {
     "end_time": "2025-05-20T13:46:28.505427Z",
     "start_time": "2025-05-20T13:46:27.756120Z"
    }
   },
   "source": [
    "\n",
    "pipeline_instance = Pipeline([('classifier' , LogisticRegression())])\n",
    "\n",
    "# Create param grid, 40 combinations of parameters\n",
    "param_grid = [\n",
    "    {'classifier' : [LogisticRegression(max_iter=500)],\n",
    "     'classifier__penalty' : ['l1', 'l2'],\n",
    "    'classifier__C' : np.logspace(-4, 4, 20),\n",
    "    'classifier__solver' : ['liblinear']},\n",
    "    \n",
    "]\n",
    "\n",
    "# Create grid search object\n",
    "clf = GridSearchCV(pipeline_instance, param_grid = param_grid, cv = 5, verbose=True, n_jobs=-1)\n",
    "\n",
    "# Fit on data\n",
    "\n",
    "grid_clf = clf.fit(X, y)"
   ],
   "outputs": [
    {
     "name": "stdout",
     "output_type": "stream",
     "text": [
      "Fitting 5 folds for each of 40 candidates, totalling 200 fits\n"
     ]
    }
   ],
   "execution_count": 77
  },
  {
   "cell_type": "code",
   "id": "6f2ee785-e637-4fc1-85a9-a7ea8ec127cc",
   "metadata": {
    "ExecuteTime": {
     "end_time": "2025-05-20T13:33:25.842506Z",
     "start_time": "2025-05-20T13:33:25.839020Z"
    }
   },
   "source": [
    "grid_clf.score(X, y)"
   ],
   "outputs": [
    {
     "data": {
      "text/plain": [
       "0.98"
      ]
     },
     "execution_count": 74,
     "metadata": {},
     "output_type": "execute_result"
    }
   ],
   "execution_count": 74
  },
  {
   "cell_type": "markdown",
   "id": "faa2a492-d125-4d85-8795-b7a055fb87f7",
   "metadata": {},
   "source": "mhttps://scikit-learn.org/stable/auto_examples/compose/plot_digits_pipe.html#sphx-glr-auto-examples-compose-plot-digits-pipe-py"
  },
  {
   "cell_type": "code",
   "id": "517a0fd7-885b-4d84-b7d0-3975de032764",
   "metadata": {
    "ExecuteTime": {
     "end_time": "2025-05-20T13:45:45.839322Z",
     "start_time": "2025-05-20T13:45:45.834391Z"
    }
   },
   "source": [
    "# The values 9.737937, -2.357894, -38.465492 are the decision scores for a single sample across three classes (e.g., class 0, class 1, and class 2).\n",
    "# The class with the highest score is the predicted class for that sample.\n",
    "grid_clf.decision_function(X)"
   ],
   "outputs": [
    {
     "data": {
      "text/plain": [
       "array([[  9.73793724,  -2.35789446, -38.46549239],\n",
       "       [  7.80928462,  -0.93392793, -35.51128145],\n",
       "       [  8.84085257,  -1.57248307, -36.47427166],\n",
       "       [  7.31275309,  -1.01546741, -34.38619193],\n",
       "       [  9.98318112,  -2.61236528, -38.61948357],\n",
       "       [  9.28189433,  -3.69000404, -37.12945639],\n",
       "       [  8.63250221,  -2.24919731, -35.35366651],\n",
       "       [  8.75091795,  -1.9304923 , -37.0324205 ],\n",
       "       [  6.96195511,  -0.5495036 , -33.48507168],\n",
       "       [  7.87190143,  -0.80471698, -36.40791733],\n",
       "       [ 10.18908282,  -2.84551719, -39.67864907],\n",
       "       [  8.00914255,  -1.75756096, -35.7533398 ],\n",
       "       [  7.96704254,  -0.63654182, -36.28486113],\n",
       "       [  9.08854512,  -0.91708773, -36.6897025 ],\n",
       "       [ 13.25048828,  -4.14938259, -44.28990116],\n",
       "       [ 12.39305495,  -5.39485649, -41.70571944],\n",
       "       [ 11.44621513,  -4.20845804, -39.74948776],\n",
       "       [  9.47983171,  -2.63362165, -37.37987628],\n",
       "       [  9.49545119,  -3.20312387, -38.68515418],\n",
       "       [  9.97552596,  -3.33239736, -38.12295128],\n",
       "       [  8.07014797,  -1.75790098, -36.97055054],\n",
       "       [  9.37182895,  -3.33199481, -36.57130756],\n",
       "       [ 11.7461115 ,  -3.0441836 , -39.99136921],\n",
       "       [  6.64919709,  -2.24397604, -32.31156531],\n",
       "       [  6.38590195,  -1.36872045, -33.78831627],\n",
       "       [  6.82747182,  -0.69635985, -34.5133022 ],\n",
       "       [  7.6936267 ,  -2.35233317, -34.20618044],\n",
       "       [  9.29720465,  -2.24993988, -38.12252098],\n",
       "       [  9.49269336,  -2.10342364, -38.3115012 ],\n",
       "       [  7.21761198,  -1.18364256, -34.50924814],\n",
       "       [  6.9723681 ,  -0.92917175, -34.35525695],\n",
       "       [  8.63609731,  -2.56858236, -36.109334  ],\n",
       "       [ 11.62885907,  -3.63099111, -42.00430277],\n",
       "       [ 12.55846804,  -4.3774383 , -42.97583141],\n",
       "       [  7.6137959 ,  -1.08044417, -35.32230122],\n",
       "       [  9.68297559,  -1.76707333, -38.0653888 ],\n",
       "       [ 10.68040786,  -2.57414364, -40.36864595],\n",
       "       [ 10.14093904,  -2.31497917, -39.39306325],\n",
       "       [  7.8486268 ,  -0.95524683, -34.60610714],\n",
       "       [  8.85126556,  -1.95215122, -37.34445693],\n",
       "       [  9.92056431,  -2.74157623, -37.72284769],\n",
       "       [  5.27172849,   0.68027522, -30.57033416],\n",
       "       [  8.53980976,  -1.50750631, -35.53816237],\n",
       "       [  7.52300712,  -3.17991729, -32.50097584],\n",
       "       [  7.55309964,  -3.08967054, -34.4173038 ],\n",
       "       [  7.45083148,  -1.1879962 , -34.11362891],\n",
       "       [  9.69255129,  -2.92705667, -38.55355955],\n",
       "       [  8.19942477,  -1.42121065, -35.50722739],\n",
       "       [ 10.08873522,  -2.82385827, -39.36661264],\n",
       "       [  8.94640667,  -1.78397606, -37.22140073],\n",
       "       [-10.34514564,  -0.97250543,  -8.35344964],\n",
       "       [-10.1231764 ,  -1.37750611,  -6.70563063],\n",
       "       [-12.13135066,  -0.69121696,  -5.17975381],\n",
       "       [-10.91501613,   1.20597868,  -5.14932565],\n",
       "       [-11.94627492,  -0.16503258,  -4.49854876],\n",
       "       [-11.6917645 ,   0.43007966,  -4.82849738],\n",
       "       [-11.21819845,  -1.64847711,  -4.46399003],\n",
       "       [ -6.60963229,   0.97968951, -11.5850379 ],\n",
       "       [-10.98412478,   0.08863314,  -7.44784503],\n",
       "       [ -9.55071834,  -0.2389042 ,  -5.64671855],\n",
       "       [ -8.97381102,   2.32177654,  -8.72294819],\n",
       "       [ -9.69285679,  -1.10579254,  -6.17841678],\n",
       "       [ -9.984553  ,   2.20099538,  -9.50032852],\n",
       "       [-12.28504853,   0.05081406,  -4.14703892],\n",
       "       [ -6.57679883,  -0.99091267, -10.87755914],\n",
       "       [ -9.36853934,  -1.02023944,  -8.91633626],\n",
       "       [-11.6171402 ,  -0.65197527,  -3.27728396],\n",
       "       [ -8.998371  ,   0.99327803, -10.55138589],\n",
       "       [-13.77978644,   1.4271091 ,  -1.42128163],\n",
       "       [ -9.0661943 ,   1.05390116,  -9.21965737],\n",
       "       [-13.0224716 ,  -1.70755257,   0.07642337],\n",
       "       [ -8.58497309,  -0.30462353,  -9.35168231],\n",
       "       [-14.80698518,   1.09551498,  -0.51136953],\n",
       "       [-12.11442895,   0.87839817,  -5.85224353],\n",
       "       [ -9.56157939,  -0.25688952,  -8.78879569],\n",
       "       [ -9.81447843,  -0.72245079,  -8.13827222],\n",
       "       [-12.46928698,   0.30494486,  -5.21025848],\n",
       "       [-13.7349286 ,  -0.79361026,  -1.26341327],\n",
       "       [-11.56134126,  -0.46248122,  -4.05940207],\n",
       "       [ -6.19782889,   0.51338568, -13.70336889],\n",
       "       [ -8.97105319,   1.22207631,  -9.09660117],\n",
       "       [ -8.17186746,   1.36819   , -10.83722512],\n",
       "       [ -8.43242166,   0.18259665,  -9.69016935],\n",
       "       [-15.75711095,   0.59173208,   1.88831632],\n",
       "       [-11.81783541,  -0.60865743,  -2.6532111 ],\n",
       "       [-10.09148938,  -2.11885709,  -5.30392403],\n",
       "       [-11.24988547,  -0.90712613,  -5.86569663],\n",
       "       [-12.27655609,   1.55116132,  -5.02558573],\n",
       "       [ -8.93660834,  -0.6189749 ,  -8.06854754],\n",
       "       [-10.22383316,   0.6537192 ,  -6.08138088],\n",
       "       [-11.78445695,   1.17177066,  -5.01299324],\n",
       "       [-11.39837685,  -0.35492918,  -5.26807438],\n",
       "       [ -9.31909334,   0.58833989,  -8.5691339 ],\n",
       "       [ -6.85487617,   1.23416033, -11.43104672],\n",
       "       [-10.51446299,   0.33902781,  -6.01545686],\n",
       "       [ -9.11923541,  -0.23529313,  -8.81119224],\n",
       "       [ -9.72293242,  -0.23489058,  -7.25954852],\n",
       "       [ -9.7622746 ,  -0.21357168,  -8.16472283],\n",
       "       [ -4.69821053,  -0.00432576, -13.55454579],\n",
       "       [ -9.52744371,  -0.08837435,  -7.44852875],\n",
       "       [-20.57519079,  -2.44504629,  13.8216569 ],\n",
       "       [-16.73212275,  -0.19213165,   5.76923751],\n",
       "       [-19.23568209,  -0.81663318,   7.72597602],\n",
       "       [-17.98649723,   0.07110898,   5.46642323],\n",
       "       [-19.55479305,  -1.09202035,  10.02880287],\n",
       "       [-22.52150547,  -0.01763327,  10.75084876],\n",
       "       [-14.5637419 ,   0.32883147,   3.40834135],\n",
       "       [-20.77058258,   0.76181429,   6.93111381],\n",
       "       [-20.04963314,   1.34821925,   7.39240364],\n",
       "       [-19.17636811,  -3.33875227,  10.27025402],\n",
       "       [-14.55983763,  -2.00011996,   2.34046053],\n",
       "       [-17.21219752,  -0.06285816,   5.20703461],\n",
       "       [-17.37240411,  -1.27011043,   6.04205394],\n",
       "       [-17.24067865,  -0.02355394,   7.44393744],\n",
       "       [-17.67705891,  -1.84689733,  10.73129044],\n",
       "       [-16.51666222,  -2.5464156 ,   7.21936097],\n",
       "       [-16.89913034,  -0.3779521 ,   3.72131491],\n",
       "       [-20.45561173,  -2.39444377,   8.45121536],\n",
       "       [-25.94297545,   0.90261289,  16.43917853],\n",
       "       [-16.68588264,   2.11849445,   2.47783044],\n",
       "       [-18.179245  ,  -2.1362562 ,   8.27921018],\n",
       "       [-15.7631716 ,  -0.95989774,   5.70288318],\n",
       "       [-23.3953155 ,   0.91830797,  10.94025929],\n",
       "       [-14.8901188 ,  -0.28392606,   1.81342356],\n",
       "       [-17.51813766,  -1.81761372,   6.26602321],\n",
       "       [-18.21091514,  -0.43375651,   3.88004387],\n",
       "       [-14.10379472,  -0.66801038,   1.00442454],\n",
       "       [-14.05403956,  -1.06899743,   1.03941358],\n",
       "       [-19.00605769,  -0.50160177,   8.87726274],\n",
       "       [-17.30372665,   0.41073034,   1.3308512 ],\n",
       "       [-20.19177159,   0.48133091,   6.86070542],\n",
       "       [-18.11546486,  -2.27514774,   3.69088675],\n",
       "       [-19.26416322,  -0.77732896,   9.96287885],\n",
       "       [-14.85237113,   0.52635277,  -0.59943669],\n",
       "       [-18.19154477,   2.04572478,   3.14611449],\n",
       "       [-20.23196793,  -1.23881407,   9.33500533],\n",
       "       [-17.80717299,  -2.96390284,   9.64998181],\n",
       "       [-16.65388646,  -0.63242292,   3.56732372],\n",
       "       [-13.61330696,  -1.17695201,   0.69644217],\n",
       "       [-16.38538482,  -1.69751259,   4.60898206],\n",
       "       [-18.44255702,  -2.22214931,   9.79991893],\n",
       "       [-15.27835529,  -2.63780747,   4.81519075],\n",
       "       [-16.73212275,  -0.19213165,   5.76923751],\n",
       "       [-19.361753  ,  -1.85537027,   9.9012623 ],\n",
       "       [-18.55055978,  -2.92052247,  10.60848765],\n",
       "       [-16.36572218,  -2.18874639,   6.56029907],\n",
       "       [-16.38048749,   0.12221973,   4.48610274],\n",
       "       [-15.7921008 ,  -1.31824698,   3.9275236 ],\n",
       "       [-16.56725466,  -2.92574373,   7.56638644],\n",
       "       [-15.33689517,  -0.76645259,   2.97350213]])"
      ]
     },
     "execution_count": 76,
     "metadata": {},
     "output_type": "execute_result"
    }
   ],
   "execution_count": 76
  },
  {
   "cell_type": "code",
   "id": "f6a53bb4-86c9-47b7-a989-84b1be16bb66",
   "metadata": {
    "ExecuteTime": {
     "end_time": "2025-05-20T13:29:28.302672Z",
     "start_time": "2025-05-20T13:29:28.301408Z"
    }
   },
   "source": [],
   "outputs": [],
   "execution_count": null
  }
 ],
 "metadata": {
  "kernelspec": {
   "display_name": "Python 3 (ipykernel)",
   "language": "python",
   "name": "python3"
  },
  "language_info": {
   "codemirror_mode": {
    "name": "ipython",
    "version": 3
   },
   "file_extension": ".py",
   "mimetype": "text/x-python",
   "name": "python",
   "nbconvert_exporter": "python",
   "pygments_lexer": "ipython3",
   "version": "3.11.12"
  }
 },
 "nbformat": 4,
 "nbformat_minor": 5
}
