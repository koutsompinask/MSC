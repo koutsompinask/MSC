{
 "cells": [
  {
   "cell_type": "markdown",
   "id": "e3a12755af9ada2e",
   "metadata": {},
   "source": [
    "# Demo how functions looks like and how useful they are"
   ]
  },
  {
   "cell_type": "markdown",
   "id": "d8062a786c586800",
   "metadata": {},
   "source": [
    "** Activate venv and install packages**\n",
    "```bash\n",
    "pip install pandas matplotlib openpyxl\n",
    "```"
   ]
  },
  {
   "cell_type": "code",
   "execution_count": 2,
   "id": "60d8c10610104457",
   "metadata": {
    "ExecuteTime": {
     "end_time": "2025-04-03T14:59:24.752076Z",
     "start_time": "2025-04-03T14:59:24.520737Z"
    }
   },
   "outputs": [
    {
     "ename": "ModuleNotFoundError",
     "evalue": "No module named 'pandas'",
     "output_type": "error",
     "traceback": [
      "\u001b[31m---------------------------------------------------------------------------\u001b[39m",
      "\u001b[31mModuleNotFoundError\u001b[39m                       Traceback (most recent call last)",
      "\u001b[36mCell\u001b[39m\u001b[36m \u001b[39m\u001b[32mIn[2]\u001b[39m\u001b[32m, line 1\u001b[39m\n\u001b[32m----> \u001b[39m\u001b[32m1\u001b[39m \u001b[38;5;28;01mimport\u001b[39;00m\u001b[38;5;250m \u001b[39m\u001b[34;01mpandas\u001b[39;00m\u001b[38;5;250m \u001b[39m\u001b[38;5;28;01mas\u001b[39;00m\u001b[38;5;250m \u001b[39m\u001b[34;01mpd\u001b[39;00m  \u001b[38;5;66;03m# Pandas is next lecture material\u001b[39;00m\n",
      "\u001b[31mModuleNotFoundError\u001b[39m: No module named 'pandas'"
     ]
    }
   ],
   "source": [
    "import pandas as pd  # Pandas is next lecture material\n"
   ]
  },
  {
   "cell_type": "code",
   "execution_count": 2,
   "id": "369cfad74190edb0",
   "metadata": {
    "ExecuteTime": {
     "end_time": "2025-04-03T14:59:24.765531Z",
     "start_time": "2025-04-03T14:59:24.761565Z"
    }
   },
   "outputs": [
    {
     "data": {
      "text/plain": [
       "'/home/tharg/venv_projects/uoa_py_course/lectures_01_06_fundamentals_for_data_science/lecture_06_define_functions_modules'"
      ]
     },
     "execution_count": 2,
     "metadata": {},
     "output_type": "execute_result"
    }
   ],
   "source": [
    "pwd"
   ]
  },
  {
   "cell_type": "code",
   "execution_count": 3,
   "id": "139c6e2cb4bf51d9",
   "metadata": {
    "ExecuteTime": {
     "end_time": "2025-04-03T14:59:24.829816Z",
     "start_time": "2025-04-03T14:59:24.828077Z"
    }
   },
   "outputs": [],
   "source": [
    "# if your data file is NOT in the same directory as your notebook, you need to specify the path.\n",
    "# data_dir = \"./../../data/\"\n",
    "# data = pd.read_excel(data_dir + \"grades_factors.xlsx\")"
   ]
  },
  {
   "cell_type": "code",
   "execution_count": 9,
   "id": "6fb17a7fb300d62c",
   "metadata": {
    "ExecuteTime": {
     "end_time": "2025-04-03T14:59:24.948816Z",
     "start_time": "2025-04-03T14:59:24.876811Z"
    }
   },
   "outputs": [
    {
     "ename": "NameError",
     "evalue": "name 'pd' is not defined",
     "output_type": "error",
     "traceback": [
      "\u001b[31m---------------------------------------------------------------------------\u001b[39m",
      "\u001b[31mNameError\u001b[39m                                 Traceback (most recent call last)",
      "\u001b[36mCell\u001b[39m\u001b[36m \u001b[39m\u001b[32mIn[9]\u001b[39m\u001b[32m, line 2\u001b[39m\n\u001b[32m      1\u001b[39m \u001b[38;5;66;03m# if data file is in the same directory as your notebook, you can just use the file name.\u001b[39;00m\n\u001b[32m----> \u001b[39m\u001b[32m2\u001b[39m data = \u001b[43mpd\u001b[49m.read_excel(\u001b[33m\"\u001b[39m\u001b[33mgrades_factors.xlsx\u001b[39m\u001b[33m\"\u001b[39m)\n",
      "\u001b[31mNameError\u001b[39m: name 'pd' is not defined"
     ]
    }
   ],
   "source": [
    "# if data file is in the same directory as your notebook, you can just use the file name.\n",
    "data = pd.read_excel(\"grades_factors.xlsx\")"
   ]
  },
  {
   "cell_type": "code",
   "execution_count": 5,
   "id": "a9acc0d9e5dee819",
   "metadata": {
    "ExecuteTime": {
     "end_time": "2025-04-03T14:59:24.966041Z",
     "start_time": "2025-04-03T14:59:24.962997Z"
    }
   },
   "outputs": [
    {
     "data": {
      "text/plain": [
       "80"
      ]
     },
     "execution_count": 5,
     "metadata": {},
     "output_type": "execute_result"
    }
   ],
   "source": [
    "len(data)"
   ]
  },
  {
   "cell_type": "markdown",
   "id": "502e460dc3519dc3",
   "metadata": {},
   "source": [
    "Academic independent variables considered:\n",
    "ACT scores, high school rank, high school\n",
    "GPA, high school algebra grades, and the score from an\n",
    "algebra pretest.\n",
    "Biographical independent variables considered were:\n",
    "sex, birth order, family size, and high\n",
    "school size."
   ]
  },
  {
   "cell_type": "markdown",
   "id": "4e5b47d9fb67981c",
   "metadata": {},
   "source": [
    "## 1. A simple function to modify column names of the data."
   ]
  },
  {
   "cell_type": "code",
   "execution_count": 6,
   "id": "87a1578e3c5b16bd",
   "metadata": {
    "ExecuteTime": {
     "end_time": "2025-04-03T14:59:25.025214Z",
     "start_time": "2025-04-03T14:59:25.022758Z"
    }
   },
   "outputs": [
    {
     "data": {
      "text/plain": [
       "Index(['Calc HS', 'ACT Math', 'Alg Place', 'Alg2 Grade', 'HS Rank',\n",
       "       'Gender Code', 'Gender', 'Calc'],\n",
       "      dtype='object')"
      ]
     },
     "execution_count": 6,
     "metadata": {},
     "output_type": "execute_result"
    }
   ],
   "source": [
    "data.columns"
   ]
  },
  {
   "cell_type": "code",
   "execution_count": 7,
   "id": "205218cb6b38bdd1",
   "metadata": {
    "ExecuteTime": {
     "end_time": "2025-04-03T14:59:25.075552Z",
     "start_time": "2025-04-03T14:59:25.072371Z"
    }
   },
   "outputs": [
    {
     "data": {
      "text/plain": [
       "'Calc HS'"
      ]
     },
     "execution_count": 7,
     "metadata": {},
     "output_type": "execute_result"
    }
   ],
   "source": [
    "data.columns[0]  # first item of the columns"
   ]
  },
  {
   "cell_type": "code",
   "execution_count": 8,
   "id": "2b98aee5d6c0833b",
   "metadata": {
    "ExecuteTime": {
     "end_time": "2025-04-03T14:59:25.130919Z",
     "start_time": "2025-04-03T14:59:25.127100Z"
    }
   },
   "outputs": [
    {
     "data": {
      "text/plain": [
       "pandas.core.indexes.base.Index"
      ]
     },
     "execution_count": 8,
     "metadata": {},
     "output_type": "execute_result"
    }
   ],
   "source": [
    "type(data.columns)  # data.columns is a pandas Index object, an iterable, works also like a list among others."
   ]
  },
  {
   "cell_type": "code",
   "execution_count": 9,
   "id": "f68e7d7010a72d30",
   "metadata": {
    "ExecuteTime": {
     "end_time": "2025-04-03T14:59:25.187141Z",
     "start_time": "2025-04-03T14:59:25.183736Z"
    }
   },
   "outputs": [
    {
     "data": {
      "text/plain": [
       "['Calc HS',\n",
       " 'ACT Math',\n",
       " 'Alg Place',\n",
       " 'Alg2 Grade',\n",
       " 'HS Rank',\n",
       " 'Gender Code',\n",
       " 'Gender',\n",
       " 'Calc']"
      ]
     },
     "execution_count": 9,
     "metadata": {},
     "output_type": "execute_result"
    }
   ],
   "source": [
    "data.columns.to_list()  # a view of the columns as list"
   ]
  },
  {
   "cell_type": "code",
   "execution_count": 10,
   "id": "4beba0cb3754304f",
   "metadata": {
    "ExecuteTime": {
     "end_time": "2025-04-03T14:59:25.239911Z",
     "start_time": "2025-04-03T14:59:25.236375Z"
    }
   },
   "outputs": [],
   "source": [
    "column_headers = data.columns.to_list()  # assign the column headers to a variable"
   ]
  },
  {
   "cell_type": "code",
   "execution_count": 11,
   "id": "b0be7d8860ee37d",
   "metadata": {
    "ExecuteTime": {
     "end_time": "2025-04-03T14:59:25.290092Z",
     "start_time": "2025-04-03T14:59:25.286663Z"
    }
   },
   "outputs": [
    {
     "data": {
      "text/plain": [
       "list"
      ]
     },
     "execution_count": 11,
     "metadata": {},
     "output_type": "execute_result"
    }
   ],
   "source": [
    "type(column_headers)"
   ]
  },
  {
   "cell_type": "code",
   "execution_count": 12,
   "id": "11afb1e8ea1fdeca",
   "metadata": {
    "ExecuteTime": {
     "end_time": "2025-04-03T14:59:25.344281Z",
     "start_time": "2025-04-03T14:59:25.339830Z"
    }
   },
   "outputs": [
    {
     "data": {
      "text/plain": [
       "['Calc_HS',\n",
       " 'ACT_Math',\n",
       " 'Alg_Place',\n",
       " 'Alg2_Grade',\n",
       " 'HS_Rank',\n",
       " 'Gender_Code',\n",
       " 'Gender',\n",
       " 'Calc']"
      ]
     },
     "execution_count": 12,
     "metadata": {},
     "output_type": "execute_result"
    }
   ],
   "source": [
    "# Replace white spaces inside the column names with underscores\n",
    "column_headers = [header.replace(\" \", \"_\") for header in column_headers]\n",
    "column_headers"
   ]
  },
  {
   "cell_type": "code",
   "execution_count": 13,
   "id": "b0c3a6cdf35393bf",
   "metadata": {
    "ExecuteTime": {
     "end_time": "2025-04-03T14:59:25.405463Z",
     "start_time": "2025-04-03T14:59:25.402057Z"
    }
   },
   "outputs": [
    {
     "data": {
      "text/plain": [
       "['calc_hs',\n",
       " 'act_math',\n",
       " 'alg_place',\n",
       " 'alg2_grade',\n",
       " 'hs_rank',\n",
       " 'gender_code',\n",
       " 'gender',\n",
       " 'calc']"
      ]
     },
     "execution_count": 13,
     "metadata": {},
     "output_type": "execute_result"
    }
   ],
   "source": [
    "# Convert all capital letters to lowercase in the column names\n",
    "column_headers = [header.lower() for header in column_headers]\n",
    "column_headers"
   ]
  },
  {
   "cell_type": "code",
   "execution_count": 14,
   "id": "1ef1102d788a0403",
   "metadata": {
    "ExecuteTime": {
     "end_time": "2025-04-03T14:59:25.452108Z",
     "start_time": "2025-04-03T14:59:25.447850Z"
    }
   },
   "outputs": [],
   "source": [
    "# function definition\n",
    "def fix_headers(headers):\n",
    "    \"\"\"\n",
    "    This function takes a list of headers and returns a list of headers with\n",
    "    white spaces replaced by underscores and all letters converted to lowercase.\n",
    "    Params: headers: list of strings.\n",
    "    Returns: headers: list of strings.\n",
    "    \"\"\"\n",
    "    # Replace white spaces inside the column names with underscores\n",
    "    headers = [header.replace(\" \", \"_\") for header in headers]\n",
    "    # Convert all capital letters to lowercase in the column names\n",
    "    headers = [header.lower() for header in headers]\n",
    "    return headers"
   ]
  },
  {
   "cell_type": "code",
   "execution_count": 15,
   "id": "a63580b17ee59b88",
   "metadata": {
    "ExecuteTime": {
     "end_time": "2025-04-03T14:59:25.501605Z",
     "start_time": "2025-04-03T14:59:25.497849Z"
    }
   },
   "outputs": [
    {
     "data": {
      "text/plain": [
       "Index(['Calc HS', 'ACT Math', 'Alg Place', 'Alg2 Grade', 'HS Rank',\n",
       "       'Gender Code', 'Gender', 'Calc'],\n",
       "      dtype='object')"
      ]
     },
     "execution_count": 15,
     "metadata": {},
     "output_type": "execute_result"
    }
   ],
   "source": [
    "data.columns"
   ]
  },
  {
   "cell_type": "code",
   "execution_count": 16,
   "id": "93644fb20b859650",
   "metadata": {
    "ExecuteTime": {
     "end_time": "2025-04-03T14:59:25.553754Z",
     "start_time": "2025-04-03T14:59:25.550926Z"
    }
   },
   "outputs": [
    {
     "data": {
      "text/plain": [
       "['calc_hs',\n",
       " 'act_math',\n",
       " 'alg_place',\n",
       " 'alg2_grade',\n",
       " 'hs_rank',\n",
       " 'gender_code',\n",
       " 'gender',\n",
       " 'calc']"
      ]
     },
     "execution_count": 16,
     "metadata": {},
     "output_type": "execute_result"
    }
   ],
   "source": [
    "fix_headers(data.columns)"
   ]
  },
  {
   "cell_type": "code",
   "execution_count": 17,
   "id": "9a10def243a4b821",
   "metadata": {
    "ExecuteTime": {
     "end_time": "2025-04-03T14:59:25.606813Z",
     "start_time": "2025-04-03T14:59:25.603905Z"
    }
   },
   "outputs": [
    {
     "data": {
      "text/plain": [
       "Index(['Calc HS', 'ACT Math', 'Alg Place', 'Alg2 Grade', 'HS Rank',\n",
       "       'Gender Code', 'Gender', 'Calc'],\n",
       "      dtype='object')"
      ]
     },
     "execution_count": 17,
     "metadata": {},
     "output_type": "execute_result"
    }
   ],
   "source": [
    "data.columns"
   ]
  },
  {
   "cell_type": "code",
   "execution_count": 18,
   "id": "c361f3dab85a12ef",
   "metadata": {
    "ExecuteTime": {
     "end_time": "2025-04-03T14:59:25.657897Z",
     "start_time": "2025-04-03T14:59:25.654858Z"
    }
   },
   "outputs": [],
   "source": [
    "data.columns = fix_headers(data.columns)  # assign the fixed headers to the data columns"
   ]
  },
  {
   "cell_type": "code",
   "execution_count": 19,
   "id": "1d0d339fcb6f3b1b",
   "metadata": {
    "ExecuteTime": {
     "end_time": "2025-04-03T14:59:25.710727Z",
     "start_time": "2025-04-03T14:59:25.707034Z"
    }
   },
   "outputs": [
    {
     "data": {
      "text/plain": [
       "Index(['calc_hs', 'act_math', 'alg_place', 'alg2_grade', 'hs_rank',\n",
       "       'gender_code', 'gender', 'calc'],\n",
       "      dtype='object')"
      ]
     },
     "execution_count": 19,
     "metadata": {},
     "output_type": "execute_result"
    }
   ],
   "source": [
    "data.columns"
   ]
  },
  {
   "cell_type": "markdown",
   "id": "5ebf81a3af0ee108",
   "metadata": {},
   "source": [
    "## 2. Pandas custom functions to calculate statistics of data features."
   ]
  },
  {
   "cell_type": "code",
   "execution_count": 20,
   "id": "b73a7f4e9b07d946",
   "metadata": {
    "ExecuteTime": {
     "end_time": "2025-04-03T14:59:25.768415Z",
     "start_time": "2025-04-03T14:59:25.764975Z"
    }
   },
   "outputs": [
    {
     "data": {
      "text/plain": [
       "0.25"
      ]
     },
     "execution_count": 20,
     "metadata": {},
     "output_type": "execute_result"
    }
   ],
   "source": [
    "# Get average of a column\n",
    "data[\"calc_hs\"].mean()"
   ]
  },
  {
   "cell_type": "code",
   "execution_count": 21,
   "id": "8857e3d7b7bb5110",
   "metadata": {
    "ExecuteTime": {
     "end_time": "2025-04-03T14:59:25.818251Z",
     "start_time": "2025-04-03T14:59:25.815419Z"
    }
   },
   "outputs": [
    {
     "data": {
      "text/plain": [
       "0.4357446703305951"
      ]
     },
     "execution_count": 21,
     "metadata": {},
     "output_type": "execute_result"
    }
   ],
   "source": [
    "# Get standard deviation of a column\n",
    "data[\"calc_hs\"].std()"
   ]
  },
  {
   "cell_type": "code",
   "execution_count": 22,
   "id": "f7fef6361aa3bdc2",
   "metadata": {
    "ExecuteTime": {
     "end_time": "2025-04-03T14:59:25.886936Z",
     "start_time": "2025-04-03T14:59:25.867353Z"
    }
   },
   "outputs": [
    {
     "data": {
      "text/html": [
       "<div>\n",
       "<style scoped>\n",
       "    .dataframe tbody tr th:only-of-type {\n",
       "        vertical-align: middle;\n",
       "    }\n",
       "\n",
       "    .dataframe tbody tr th {\n",
       "        vertical-align: top;\n",
       "    }\n",
       "\n",
       "    .dataframe thead th {\n",
       "        text-align: right;\n",
       "    }\n",
       "</style>\n",
       "<table border=\"1\" class=\"dataframe\">\n",
       "  <thead>\n",
       "    <tr style=\"text-align: right;\">\n",
       "      <th></th>\n",
       "      <th>calc_hs</th>\n",
       "      <th>act_math</th>\n",
       "      <th>alg_place</th>\n",
       "      <th>alg2_grade</th>\n",
       "      <th>hs_rank</th>\n",
       "      <th>gender_code</th>\n",
       "      <th>calc</th>\n",
       "    </tr>\n",
       "  </thead>\n",
       "  <tbody>\n",
       "    <tr>\n",
       "      <th>count</th>\n",
       "      <td>80.000000</td>\n",
       "      <td>80.000000</td>\n",
       "      <td>80.000000</td>\n",
       "      <td>80.000000</td>\n",
       "      <td>80.000000</td>\n",
       "      <td>80.000000</td>\n",
       "      <td>80.000000</td>\n",
       "    </tr>\n",
       "    <tr>\n",
       "      <th>mean</th>\n",
       "      <td>0.250000</td>\n",
       "      <td>28.250000</td>\n",
       "      <td>19.425000</td>\n",
       "      <td>3.612500</td>\n",
       "      <td>87.675000</td>\n",
       "      <td>0.537500</td>\n",
       "      <td>80.150000</td>\n",
       "    </tr>\n",
       "    <tr>\n",
       "      <th>std</th>\n",
       "      <td>0.435745</td>\n",
       "      <td>3.247199</td>\n",
       "      <td>4.711352</td>\n",
       "      <td>0.556748</td>\n",
       "      <td>12.181928</td>\n",
       "      <td>0.501737</td>\n",
       "      <td>11.436229</td>\n",
       "    </tr>\n",
       "    <tr>\n",
       "      <th>min</th>\n",
       "      <td>0.000000</td>\n",
       "      <td>16.000000</td>\n",
       "      <td>10.000000</td>\n",
       "      <td>2.000000</td>\n",
       "      <td>46.000000</td>\n",
       "      <td>0.000000</td>\n",
       "      <td>49.000000</td>\n",
       "    </tr>\n",
       "    <tr>\n",
       "      <th>25%</th>\n",
       "      <td>0.000000</td>\n",
       "      <td>27.000000</td>\n",
       "      <td>15.750000</td>\n",
       "      <td>3.000000</td>\n",
       "      <td>82.000000</td>\n",
       "      <td>0.000000</td>\n",
       "      <td>72.000000</td>\n",
       "    </tr>\n",
       "    <tr>\n",
       "      <th>50%</th>\n",
       "      <td>0.000000</td>\n",
       "      <td>28.000000</td>\n",
       "      <td>19.000000</td>\n",
       "      <td>4.000000</td>\n",
       "      <td>92.000000</td>\n",
       "      <td>1.000000</td>\n",
       "      <td>80.500000</td>\n",
       "    </tr>\n",
       "    <tr>\n",
       "      <th>75%</th>\n",
       "      <td>0.250000</td>\n",
       "      <td>30.000000</td>\n",
       "      <td>23.000000</td>\n",
       "      <td>4.000000</td>\n",
       "      <td>97.000000</td>\n",
       "      <td>1.000000</td>\n",
       "      <td>89.250000</td>\n",
       "    </tr>\n",
       "    <tr>\n",
       "      <th>max</th>\n",
       "      <td>1.000000</td>\n",
       "      <td>35.000000</td>\n",
       "      <td>30.000000</td>\n",
       "      <td>4.000000</td>\n",
       "      <td>99.000000</td>\n",
       "      <td>1.000000</td>\n",
       "      <td>99.000000</td>\n",
       "    </tr>\n",
       "  </tbody>\n",
       "</table>\n",
       "</div>"
      ],
      "text/plain": [
       "         calc_hs   act_math  alg_place  alg2_grade    hs_rank  gender_code  \\\n",
       "count  80.000000  80.000000  80.000000   80.000000  80.000000    80.000000   \n",
       "mean    0.250000  28.250000  19.425000    3.612500  87.675000     0.537500   \n",
       "std     0.435745   3.247199   4.711352    0.556748  12.181928     0.501737   \n",
       "min     0.000000  16.000000  10.000000    2.000000  46.000000     0.000000   \n",
       "25%     0.000000  27.000000  15.750000    3.000000  82.000000     0.000000   \n",
       "50%     0.000000  28.000000  19.000000    4.000000  92.000000     1.000000   \n",
       "75%     0.250000  30.000000  23.000000    4.000000  97.000000     1.000000   \n",
       "max     1.000000  35.000000  30.000000    4.000000  99.000000     1.000000   \n",
       "\n",
       "            calc  \n",
       "count  80.000000  \n",
       "mean   80.150000  \n",
       "std    11.436229  \n",
       "min    49.000000  \n",
       "25%    72.000000  \n",
       "50%    80.500000  \n",
       "75%    89.250000  \n",
       "max    99.000000  "
      ]
     },
     "execution_count": 22,
     "metadata": {},
     "output_type": "execute_result"
    }
   ],
   "source": [
    "# Get average descriptive stats from all columns.\n",
    "data.describe()"
   ]
  },
  {
   "cell_type": "code",
   "execution_count": 23,
   "id": "ca259cd51fac981b",
   "metadata": {
    "ExecuteTime": {
     "end_time": "2025-04-03T14:59:25.993891Z",
     "start_time": "2025-04-03T14:59:25.986077Z"
    }
   },
   "outputs": [
    {
     "data": {
      "text/html": [
       "<div>\n",
       "<style scoped>\n",
       "    .dataframe tbody tr th:only-of-type {\n",
       "        vertical-align: middle;\n",
       "    }\n",
       "\n",
       "    .dataframe tbody tr th {\n",
       "        vertical-align: top;\n",
       "    }\n",
       "\n",
       "    .dataframe thead th {\n",
       "        text-align: right;\n",
       "    }\n",
       "</style>\n",
       "<table border=\"1\" class=\"dataframe\">\n",
       "  <thead>\n",
       "    <tr style=\"text-align: right;\">\n",
       "      <th></th>\n",
       "      <th>calc_hs</th>\n",
       "      <th>act_math</th>\n",
       "      <th>alg2_grade</th>\n",
       "    </tr>\n",
       "  </thead>\n",
       "  <tbody>\n",
       "    <tr>\n",
       "      <th>count</th>\n",
       "      <td>80.000000</td>\n",
       "      <td>80.000000</td>\n",
       "      <td>80.000000</td>\n",
       "    </tr>\n",
       "    <tr>\n",
       "      <th>mean</th>\n",
       "      <td>0.250000</td>\n",
       "      <td>28.250000</td>\n",
       "      <td>3.612500</td>\n",
       "    </tr>\n",
       "    <tr>\n",
       "      <th>std</th>\n",
       "      <td>0.435745</td>\n",
       "      <td>3.247199</td>\n",
       "      <td>0.556748</td>\n",
       "    </tr>\n",
       "    <tr>\n",
       "      <th>min</th>\n",
       "      <td>0.000000</td>\n",
       "      <td>16.000000</td>\n",
       "      <td>2.000000</td>\n",
       "    </tr>\n",
       "    <tr>\n",
       "      <th>25%</th>\n",
       "      <td>0.000000</td>\n",
       "      <td>27.000000</td>\n",
       "      <td>3.000000</td>\n",
       "    </tr>\n",
       "    <tr>\n",
       "      <th>50%</th>\n",
       "      <td>0.000000</td>\n",
       "      <td>28.000000</td>\n",
       "      <td>4.000000</td>\n",
       "    </tr>\n",
       "    <tr>\n",
       "      <th>75%</th>\n",
       "      <td>0.250000</td>\n",
       "      <td>30.000000</td>\n",
       "      <td>4.000000</td>\n",
       "    </tr>\n",
       "    <tr>\n",
       "      <th>max</th>\n",
       "      <td>1.000000</td>\n",
       "      <td>35.000000</td>\n",
       "      <td>4.000000</td>\n",
       "    </tr>\n",
       "  </tbody>\n",
       "</table>\n",
       "</div>"
      ],
      "text/plain": [
       "         calc_hs   act_math  alg2_grade\n",
       "count  80.000000  80.000000   80.000000\n",
       "mean    0.250000  28.250000    3.612500\n",
       "std     0.435745   3.247199    0.556748\n",
       "min     0.000000  16.000000    2.000000\n",
       "25%     0.000000  27.000000    3.000000\n",
       "50%     0.000000  28.000000    4.000000\n",
       "75%     0.250000  30.000000    4.000000\n",
       "max     1.000000  35.000000    4.000000"
      ]
     },
     "execution_count": 23,
     "metadata": {},
     "output_type": "execute_result"
    }
   ],
   "source": [
    "# Slice the data to get average descriptive stats from some columns.\n",
    "data[[\"calc_hs\", \"act_math\", \"alg2_grade\"]].describe()"
   ]
  },
  {
   "cell_type": "markdown",
   "id": "d661bbd66638ee4b",
   "metadata": {},
   "source": [
    "## 3. Custom function to create a report on the data."
   ]
  },
  {
   "cell_type": "code",
   "execution_count": 37,
   "id": "4e049ab8f1aa93a9",
   "metadata": {
    "ExecuteTime": {
     "end_time": "2025-04-03T15:03:52.173205Z",
     "start_time": "2025-04-03T15:03:52.168625Z"
    }
   },
   "outputs": [],
   "source": [
    "def report_on_data(data, columns=None, save_to_file=False):\n",
    "    \"\"\"\n",
    "    Take an Excel file and selected columns and return a report on the data as Datafrane.\n",
    "    Params:\n",
    "        data: An Excel file.\n",
    "        columns: A list of columns to include in the report. If None, all columns are included.\n",
    "\n",
    "    Returns:\n",
    "        report: A pandas DataFrame with the average descriptive stats of the data.\n",
    "    \"\"\"\n",
    "    data = pd.read_excel(data)\n",
    "    # Get average descriptive stats from all columns.\n",
    "    if columns is not None:\n",
    "        data = data[columns]\n",
    "    # else:\n",
    "    #     data = data\n",
    "\n",
    "    # Fix the column headers\n",
    "    data.columns = fix_headers(data.columns)\n",
    "\n",
    "    # Create report\n",
    "    report = data.describe()\n",
    "\n",
    "    if save_to_file:\n",
    "        report.to_excel(\"report.xlsx\", index=True)\n",
    "        print(\"Report saved to file.\")\n",
    "    return report"
   ]
  },
  {
   "cell_type": "code",
   "execution_count": 38,
   "id": "bb00f654c9c0da87",
   "metadata": {
    "ExecuteTime": {
     "end_time": "2025-04-03T15:03:52.575575Z",
     "start_time": "2025-04-03T15:03:52.546323Z"
    }
   },
   "outputs": [
    {
     "name": "stdout",
     "output_type": "stream",
     "text": [
      "Report saved to file.\n"
     ]
    }
   ],
   "source": [
    "report = report_on_data(\n",
    "    data=\"grades_factors.xlsx\",\n",
    "    columns=['Calc HS', 'ACT Math', 'Alg Place', 'Alg2 Grade'],\n",
    "    save_to_file=True\n",
    ")"
   ]
  },
  {
   "cell_type": "code",
   "execution_count": 39,
   "id": "8c6e746f37c44d78",
   "metadata": {
    "ExecuteTime": {
     "end_time": "2025-04-03T15:03:54.005881Z",
     "start_time": "2025-04-03T15:03:54.000656Z"
    }
   },
   "outputs": [
    {
     "data": {
      "text/html": [
       "<div>\n",
       "<style scoped>\n",
       "    .dataframe tbody tr th:only-of-type {\n",
       "        vertical-align: middle;\n",
       "    }\n",
       "\n",
       "    .dataframe tbody tr th {\n",
       "        vertical-align: top;\n",
       "    }\n",
       "\n",
       "    .dataframe thead th {\n",
       "        text-align: right;\n",
       "    }\n",
       "</style>\n",
       "<table border=\"1\" class=\"dataframe\">\n",
       "  <thead>\n",
       "    <tr style=\"text-align: right;\">\n",
       "      <th></th>\n",
       "      <th>calc_hs</th>\n",
       "      <th>act_math</th>\n",
       "      <th>alg_place</th>\n",
       "      <th>alg2_grade</th>\n",
       "    </tr>\n",
       "  </thead>\n",
       "  <tbody>\n",
       "    <tr>\n",
       "      <th>count</th>\n",
       "      <td>80.000000</td>\n",
       "      <td>80.000000</td>\n",
       "      <td>80.000000</td>\n",
       "      <td>80.000000</td>\n",
       "    </tr>\n",
       "    <tr>\n",
       "      <th>mean</th>\n",
       "      <td>0.250000</td>\n",
       "      <td>28.250000</td>\n",
       "      <td>19.425000</td>\n",
       "      <td>3.612500</td>\n",
       "    </tr>\n",
       "    <tr>\n",
       "      <th>std</th>\n",
       "      <td>0.435745</td>\n",
       "      <td>3.247199</td>\n",
       "      <td>4.711352</td>\n",
       "      <td>0.556748</td>\n",
       "    </tr>\n",
       "    <tr>\n",
       "      <th>min</th>\n",
       "      <td>0.000000</td>\n",
       "      <td>16.000000</td>\n",
       "      <td>10.000000</td>\n",
       "      <td>2.000000</td>\n",
       "    </tr>\n",
       "    <tr>\n",
       "      <th>25%</th>\n",
       "      <td>0.000000</td>\n",
       "      <td>27.000000</td>\n",
       "      <td>15.750000</td>\n",
       "      <td>3.000000</td>\n",
       "    </tr>\n",
       "    <tr>\n",
       "      <th>50%</th>\n",
       "      <td>0.000000</td>\n",
       "      <td>28.000000</td>\n",
       "      <td>19.000000</td>\n",
       "      <td>4.000000</td>\n",
       "    </tr>\n",
       "    <tr>\n",
       "      <th>75%</th>\n",
       "      <td>0.250000</td>\n",
       "      <td>30.000000</td>\n",
       "      <td>23.000000</td>\n",
       "      <td>4.000000</td>\n",
       "    </tr>\n",
       "    <tr>\n",
       "      <th>max</th>\n",
       "      <td>1.000000</td>\n",
       "      <td>35.000000</td>\n",
       "      <td>30.000000</td>\n",
       "      <td>4.000000</td>\n",
       "    </tr>\n",
       "  </tbody>\n",
       "</table>\n",
       "</div>"
      ],
      "text/plain": [
       "         calc_hs   act_math  alg_place  alg2_grade\n",
       "count  80.000000  80.000000  80.000000   80.000000\n",
       "mean    0.250000  28.250000  19.425000    3.612500\n",
       "std     0.435745   3.247199   4.711352    0.556748\n",
       "min     0.000000  16.000000  10.000000    2.000000\n",
       "25%     0.000000  27.000000  15.750000    3.000000\n",
       "50%     0.000000  28.000000  19.000000    4.000000\n",
       "75%     0.250000  30.000000  23.000000    4.000000\n",
       "max     1.000000  35.000000  30.000000    4.000000"
      ]
     },
     "execution_count": 39,
     "metadata": {},
     "output_type": "execute_result"
    }
   ],
   "source": [
    "report"
   ]
  },
  {
   "cell_type": "code",
   "execution_count": 29,
   "id": "3588f31b47ffe08",
   "metadata": {
    "ExecuteTime": {
     "end_time": "2025-04-03T15:00:50.998525Z",
     "start_time": "2025-04-03T15:00:50.994830Z"
    }
   },
   "outputs": [
    {
     "data": {
      "text/plain": [
       "pandas.core.frame.DataFrame"
      ]
     },
     "execution_count": 29,
     "metadata": {},
     "output_type": "execute_result"
    }
   ],
   "source": [
    "type(report)"
   ]
  },
  {
   "cell_type": "code",
   "execution_count": null,
   "id": "526eb752f25f2fae",
   "metadata": {},
   "outputs": [],
   "source": []
  }
 ],
 "metadata": {
  "kernelspec": {
   "display_name": "Python 3",
   "language": "python",
   "name": "python3"
  },
  "language_info": {
   "codemirror_mode": {
    "name": "ipython",
    "version": 3
   },
   "file_extension": ".py",
   "mimetype": "text/x-python",
   "name": "python",
   "nbconvert_exporter": "python",
   "pygments_lexer": "ipython3",
   "version": "3.12.9"
  }
 },
 "nbformat": 4,
 "nbformat_minor": 5
}
